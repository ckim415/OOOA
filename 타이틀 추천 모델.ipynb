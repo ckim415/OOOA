{
 "cells": [
  {
   "cell_type": "markdown",
   "metadata": {
    "id": "oC99qjqGXAOk"
   },
   "source": [
    "### 코렙에서 한글 사용"
   ]
  },
  {
   "cell_type": "code",
   "execution_count": null,
   "metadata": {
    "colab": {
     "base_uri": "https://localhost:8080/"
    },
    "executionInfo": {
     "elapsed": 8715,
     "status": "ok",
     "timestamp": 1621575890859,
     "user": {
      "displayName": "최정근",
      "photoUrl": "",
      "userId": "18207782185135210266"
     },
     "user_tz": -540
    },
    "id": "csF03HviW8ZB",
    "outputId": "a6267f63-1810-4444-b57b-1cb307fb376f"
   },
   "outputs": [],
   "source": [
    "!apt -qq -y install fonts-nanum\n",
    " \n",
    "import matplotlib.pyplot as plt\n",
    "import matplotlib.font_manager as fm\n",
    " \n",
    "fontpath = '/usr/share/fonts/truetype/nanum/NanumBarunGothic.ttf'\n",
    "font = fm.FontProperties(fname=fontpath, size=10)\n",
    "fm._rebuild()\n",
    " \n",
    "# 그래프에 retina display 적용\n",
    "%config InlineBackend.figure_format = 'retina'\n",
    " \n",
    "# Colab 의 한글 폰트 설정\n",
    "plt.rc('font', family='NanumBarunGothic') "
   ]
  },
  {
   "cell_type": "markdown",
   "metadata": {
    "id": "g19tsMWUNpCx"
   },
   "source": [
    "### 구글드라이브 연동"
   ]
  },
  {
   "cell_type": "code",
   "execution_count": 6,
   "metadata": {
    "colab": {
     "base_uri": "https://localhost:8080/"
    },
    "executionInfo": {
     "elapsed": 17387,
     "status": "ok",
     "timestamp": 1621575974402,
     "user": {
      "displayName": "최정근",
      "photoUrl": "",
      "userId": "18207782185135210266"
     },
     "user_tz": -540
    },
    "id": "Ijyjm-4FNqNx",
    "outputId": "13a0412e-076f-4cfa-8a5c-108249304bf5"
   },
   "outputs": [
    {
     "name": "stderr",
     "output_type": "stream",
     "text": [
      "스위치가 틀립니다 - \"Users\".\n"
     ]
    }
   ],
   "source": [
    "# # 구글드라이브 연동\n",
    "# from google.colab import drive\n",
    "# drive.mount('/content/drive', force_remount=True)\n",
    "\n",
    "# 구글 드라이브 파일 확인\n",
    "!dir 'C:/Users/s/Desktop/와디즈 타이틀 평가(성공확률)/'\n",
    "\n",
    "# 반복되는 드라이브 경로 변수화\n",
    "drive_path = '/C:/Users/s/Desktop/와디즈 타이틀 평가(성공확률)/'"
   ]
  },
  {
   "cell_type": "markdown",
   "metadata": {
    "id": "7e-HRHo4fn52"
   },
   "source": [
    "### 사전점검\n"
   ]
  },
  {
   "cell_type": "code",
   "execution_count": null,
   "metadata": {
    "colab": {
     "base_uri": "https://localhost:8080/"
    },
    "executionInfo": {
     "elapsed": 1944,
     "status": "ok",
     "timestamp": 1621575979130,
     "user": {
      "displayName": "최정근",
      "photoUrl": "",
      "userId": "18207782185135210266"
     },
     "user_tz": -540
    },
    "id": "nVdMAvmO6nnB",
    "outputId": "a09d24a7-8221-4e86-9d96-6f3e25c48a9e"
   },
   "outputs": [],
   "source": [
    "import tensorflow as tf\n",
    "from tensorflow import keras\n",
    "tf.__version__, keras.__version__"
   ]
  },
  {
   "cell_type": "code",
   "execution_count": null,
   "metadata": {
    "colab": {
     "base_uri": "https://localhost:8080/"
    },
    "executionInfo": {
     "elapsed": 1,
     "status": "ok",
     "timestamp": 1621563670936,
     "user": {
      "displayName": "최정근",
      "photoUrl": "",
      "userId": "18207782185135210266"
     },
     "user_tz": -540
    },
    "id": "E72xTWbY6nnM",
    "outputId": "8e4d8b0a-02fa-4abf-863c-e39458351ef0"
   },
   "outputs": [],
   "source": [
    "# 분산전략 정의\n",
    "mirrored_strategy = tf.distribute.MirroredStrategy(cross_device_ops=tf.distribute.HierarchicalCopyAllReduce())\n",
    "print('장치의 수:', mirrored_strategy.num_replicas_in_sync)"
   ]
  },
  {
   "cell_type": "code",
   "execution_count": null,
   "metadata": {
    "id": "BwaJ0UBRqxA0"
   },
   "outputs": [],
   "source": [
    "# with mirrored_strategy.scope():\n",
    "#  model = ?"
   ]
  },
  {
   "cell_type": "code",
   "execution_count": null,
   "metadata": {
    "id": "lAb2zieX7Nco"
   },
   "outputs": [],
   "source": [
    "import os\n",
    "import numpy as np\n",
    "import pandas as pd\n",
    "import tensorflow as tf\n",
    "import matplotlib.pyplot as plt\n",
    "from tensorflow import keras\n",
    "\n",
    "from numpy import array\n",
    "from tensorflow.keras.preprocessing.text import Tokenizer\n",
    "from tensorflow.keras.preprocessing.sequence import pad_sequences\n",
    "from tensorflow.keras.models import Sequential\n",
    "from tensorflow.keras.layers import Dense,Activation, Dropout\n",
    "from tensorflow.keras.layers import Embedding, LSTM"
   ]
  },
  {
   "cell_type": "code",
   "execution_count": null,
   "metadata": {
    "id": "gGs8VzPYjymH"
   },
   "outputs": [],
   "source": [
    "import codecs\n",
    "from keras.models import Sequential\n",
    "from keras.layers import Dense, Activation, Dropout\n",
    "from keras.layers import LSTM\n",
    "from keras.optimizers import RMSprop\n",
    "from keras.utils.data_utils import get_file\n",
    "import numpy as np\n",
    "import random, sys\n",
    "from string import punctuation\n",
    "import re"
   ]
  },
  {
   "cell_type": "code",
   "execution_count": null,
   "metadata": {
    "colab": {
     "base_uri": "https://localhost:8080/"
    },
    "executionInfo": {
     "elapsed": 1037,
     "status": "ok",
     "timestamp": 1621575986409,
     "user": {
      "displayName": "최정근",
      "photoUrl": "",
      "userId": "18207782185135210266"
     },
     "user_tz": -540
    },
    "id": "DTMttj6hushi",
    "outputId": "838f9692-deac-46ab-8530-7689ff123b12"
   },
   "outputs": [],
   "source": [
    "df = pd.read_csv(drive_path + 'concat_df.csv')\n",
    "df.info()"
   ]
  },
  {
   "cell_type": "code",
   "execution_count": null,
   "metadata": {
    "id": "DUKXDvcVdrNA"
   },
   "outputs": [],
   "source": [
    "# string으로 type변경\n",
    "# df = df.astype({'title':'string'})\n",
    "# print(df.dtypes)"
   ]
  },
  {
   "cell_type": "code",
   "execution_count": null,
   "metadata": {
    "colab": {
     "base_uri": "https://localhost:8080/",
     "height": 35
    },
    "executionInfo": {
     "elapsed": 264,
     "status": "ok",
     "timestamp": 1621576008818,
     "user": {
      "displayName": "최정근",
      "photoUrl": "",
      "userId": "18207782185135210266"
     },
     "user_tz": -540
    },
    "id": "uivM234GURWf",
    "outputId": "e92db1df-ad2e-4674-a931-cfd6814fb767"
   },
   "outputs": [],
   "source": [
    "punctuation"
   ]
  },
  {
   "cell_type": "code",
   "execution_count": null,
   "metadata": {
    "colab": {
     "base_uri": "https://localhost:8080/"
    },
    "executionInfo": {
     "elapsed": 6084,
     "status": "ok",
     "timestamp": 1621576016562,
     "user": {
      "displayName": "최정근",
      "photoUrl": "",
      "userId": "18207782185135210266"
     },
     "user_tz": -540
    },
    "id": "zdAfZ2rSUVgp",
    "outputId": "4484b7e4-704f-44c3-e71d-712f004ee7ee"
   },
   "outputs": [],
   "source": [
    "!pip install konlpy wordcloud"
   ]
  },
  {
   "cell_type": "code",
   "execution_count": null,
   "metadata": {
    "id": "rayPHZhmSDUI"
   },
   "outputs": [],
   "source": [
    "from konlpy.tag import Kkma, Hannanum, Komoran, Okt"
   ]
  },
  {
   "cell_type": "code",
   "execution_count": null,
   "metadata": {
    "id": "h07Y9DttSExA"
   },
   "outputs": [],
   "source": [
    "kkma = Kkma()\n",
    "han = Hannanum()\n",
    "kor = Komoran()\n",
    "okt = Okt()"
   ]
  },
  {
   "cell_type": "code",
   "execution_count": null,
   "metadata": {
    "id": "cDkqujEAK_4u"
   },
   "outputs": [],
   "source": [
    "#punctutation 제거 패턴\n",
    "pattern1 = re.compile(r'[{}]'.format(re.escape(punctuation)))\n",
    "#숫자 제거 패턴\n",
    "pattern2 = re.compile(r'[0-9]')"
   ]
  },
  {
   "cell_type": "code",
   "execution_count": null,
   "metadata": {
    "id": "PH4KPprNUsLI"
   },
   "outputs": [],
   "source": [
    "# 함수화\n",
    "def cleaning(doc):\n",
    "\n",
    "  sentence = pattern1.sub(' ',\n",
    "             pattern2.sub('',str(doc))).strip()\n",
    "\n",
    "  return sentence"
   ]
  },
  {
   "cell_type": "code",
   "execution_count": null,
   "metadata": {
    "colab": {
     "base_uri": "https://localhost:8080/"
    },
    "executionInfo": {
     "elapsed": 23942,
     "status": "ok",
     "timestamp": 1621576058659,
     "user": {
      "displayName": "최정근",
      "photoUrl": "",
      "userId": "18207782185135210266"
     },
     "user_tz": -540
    },
    "id": "Gg2vLCALMaqN",
    "outputId": "83c3375c-c3b7-4a6d-e459-396405e7eac7"
   },
   "outputs": [],
   "source": [
    "for i in df['title'][0:30]:\n",
    "  print(i)\n",
    "  sentence = pattern1.sub(' ',\n",
    "             pattern2.sub('',i)).strip()\n",
    "  print('kkma :',kkma.nouns(sentence))\n",
    "  print('han :',han.nouns(sentence))\n",
    "  print('okt :',okt.nouns(sentence))\n",
    "  print('komoran :',kor.nouns(sentence))\n",
    "\n",
    "  print('-'*10)"
   ]
  },
  {
   "cell_type": "code",
   "execution_count": null,
   "metadata": {
    "colab": {
     "base_uri": "https://localhost:8080/",
     "height": 475
    },
    "executionInfo": {
     "elapsed": 403,
     "status": "ok",
     "timestamp": 1621575165737,
     "user": {
      "displayName": "최정근",
      "photoUrl": "",
      "userId": "18207782185135210266"
     },
     "user_tz": -540
    },
    "id": "Xhr332NzWLTA",
    "outputId": "7e00a48f-e4fb-489d-d1f5-6b7e4510f108"
   },
   "outputs": [],
   "source": [
    "df['title'] = df['title'].apply(cleaning)\n",
    "df.head()"
   ]
  },
  {
   "cell_type": "code",
   "execution_count": null,
   "metadata": {
    "id": "X3VmW8fExMpE"
   },
   "outputs": [],
   "source": [
    "df.to_csv(drive_path+'df_pre.csv')"
   ]
  },
  {
   "cell_type": "code",
   "execution_count": null,
   "metadata": {
    "colab": {
     "base_uri": "https://localhost:8080/",
     "height": 578
    },
    "executionInfo": {
     "elapsed": 3,
     "status": "ok",
     "timestamp": 1621576117551,
     "user": {
      "displayName": "최정근",
      "photoUrl": "",
      "userId": "18207782185135210266"
     },
     "user_tz": -540
    },
    "id": "TbDNpqpkyMPR",
    "outputId": "987ee346-5516-444f-9a4d-64751d29116c"
   },
   "outputs": [],
   "source": [
    "df_pre = pd.read_csv(drive_path + 'df_pre.csv')\n",
    "df_pre.head()"
   ]
  },
  {
   "cell_type": "code",
   "execution_count": null,
   "metadata": {
    "colab": {
     "base_uri": "https://localhost:8080/"
    },
    "executionInfo": {
     "elapsed": 306,
     "status": "ok",
     "timestamp": 1621576125036,
     "user": {
      "displayName": "최정근",
      "photoUrl": "",
      "userId": "18207782185135210266"
     },
     "user_tz": -540
    },
    "id": "NTC5uIXqj15G",
    "outputId": "6c01d4fd-1d50-40e6-82af-6a81c8d95a43"
   },
   "outputs": [],
   "source": [
    "# fp = codecs.open(\"./BEXX0003.txt\", \"r\", encoding=\"utf-16\")\n",
    "# soup = BeautifulSoup(fp, \"html.parser\")\n",
    "# body = soup.select_one(\"body\")\n",
    "# text = body.getText() + \" \"\n",
    "print('코퍼스의 길이: ', len(df['title']))"
   ]
  },
  {
   "cell_type": "code",
   "execution_count": null,
   "metadata": {
    "id": "KKQeMU7_Pi7G"
   },
   "outputs": [],
   "source": [
    "text =  df['title'].to_string()"
   ]
  },
  {
   "cell_type": "code",
   "execution_count": null,
   "metadata": {
    "colab": {
     "base_uri": "https://localhost:8080/"
    },
    "executionInfo": {
     "elapsed": 264,
     "status": "ok",
     "timestamp": 1621576129136,
     "user": {
      "displayName": "최정근",
      "photoUrl": "",
      "userId": "18207782185135210266"
     },
     "user_tz": -540
    },
    "id": "XljLhSvnXK6i",
    "outputId": "155e7df3-331a-4247-e162-052b89f57f32"
   },
   "outputs": [],
   "source": [
    "type(text)"
   ]
  },
  {
   "cell_type": "code",
   "execution_count": null,
   "metadata": {
    "colab": {
     "base_uri": "https://localhost:8080/"
    },
    "executionInfo": {
     "elapsed": 275,
     "status": "ok",
     "timestamp": 1621576130967,
     "user": {
      "displayName": "최정근",
      "photoUrl": "",
      "userId": "18207782185135210266"
     },
     "user_tz": -540
    },
    "id": "lcQfo5Vkj3zX",
    "outputId": "2440dfc5-9065-42bb-9ab7-10625c211f72"
   },
   "outputs": [],
   "source": [
    "# 문자를 하나하나 읽어 들이고 ID 붙이기\n",
    "chars = sorted(list(set(text)))\n",
    "print('사용되고 있는 문자의 수:', len(chars))\n",
    "char_indices = dict((c, i) for i, c in enumerate(chars)) # 문자 → ID\n",
    "indices_char = dict((i, c) for i, c in enumerate(chars)) # ID → 문자"
   ]
  },
  {
   "cell_type": "code",
   "execution_count": null,
   "metadata": {
    "colab": {
     "base_uri": "https://localhost:8080/",
     "height": 35
    },
    "executionInfo": {
     "elapsed": 626,
     "status": "ok",
     "timestamp": 1621575510012,
     "user": {
      "displayName": "최정근",
      "photoUrl": "",
      "userId": "18207782185135210266"
     },
     "user_tz": -540
    },
    "id": "35TpMfbKVz4O",
    "outputId": "b36ea030-d379-4a84-ae0b-b15ed6ddfdc8"
   },
   "outputs": [],
   "source": [
    "chars[0]"
   ]
  },
  {
   "cell_type": "code",
   "execution_count": null,
   "metadata": {
    "colab": {
     "base_uri": "https://localhost:8080/"
    },
    "executionInfo": {
     "elapsed": 393,
     "status": "ok",
     "timestamp": 1621576134445,
     "user": {
      "displayName": "최정근",
      "photoUrl": "",
      "userId": "18207782185135210266"
     },
     "user_tz": -540
    },
    "id": "W-c_vg-Oj5jW",
    "outputId": "98239e9a-0eeb-483a-fea2-27e05cae265f"
   },
   "outputs": [],
   "source": [
    "# 텍스트를 maxlen개의 문자로 자르고 다음에 오는 문자 등록하기\n",
    "maxlen = 20\n",
    "step = 3\n",
    "sentences = []\n",
    "next_chars = []\n",
    "for i in range(0, len(text) - maxlen, step):\n",
    "    sentences.append(text[i: i + maxlen])\n",
    "    next_chars.append(text[i + maxlen])\n",
    "print('학습할 구문의 수:', len(sentences))\n",
    "print('텍스트를 ID 벡터로 변환합니다...')"
   ]
  },
  {
   "cell_type": "code",
   "execution_count": null,
   "metadata": {
    "id": "BART8yChj70M"
   },
   "outputs": [],
   "source": [
    "X = np.zeros((len(sentences), maxlen, len(chars)), dtype=np.bool)\n",
    "y = np.zeros((len(sentences), len(chars)), dtype=np.bool)\n",
    "for i, sentence in enumerate(sentences):\n",
    "    for t, char in enumerate(sentence):\n",
    "        X[i, t, char_indices[char]] = 1\n",
    "    y[i, char_indices[next_chars[i]]] = 1"
   ]
  },
  {
   "cell_type": "code",
   "execution_count": null,
   "metadata": {
    "colab": {
     "base_uri": "https://localhost:8080/"
    },
    "executionInfo": {
     "elapsed": 7106,
     "status": "ok",
     "timestamp": 1621574173053,
     "user": {
      "displayName": "최정근",
      "photoUrl": "",
      "userId": "18207782185135210266"
     },
     "user_tz": -540
    },
    "id": "RFn3t4Wfj-Yl",
    "outputId": "5c7eda4b-91c9-48a7-deee-416807ee6c42"
   },
   "outputs": [],
   "source": [
    "# 모델 구축하기(LSTM)\n",
    "print('모델을 구축합니다...')\n",
    "model = Sequential([\n",
    "  LSTM(128, input_shape=(maxlen, len(chars)) ),\n",
    "  Dense(len(chars), activation='softmax')                  \n",
    "])\n",
    "model.summary()\n",
    "model.compile(loss='categorical_crossentropy', optimizer=RMSprop(lr=0.01))"
   ]
  },
  {
   "cell_type": "code",
   "execution_count": null,
   "metadata": {
    "id": "qlznbLoJkDNt"
   },
   "outputs": [],
   "source": [
    "# 후보를 배열에서 꺼내기\n",
    "def sample(preds, temperature=1.0):\n",
    "    preds = np.asarray(preds).astype('float64')\n",
    "    preds = np.log(preds) / temperature\n",
    "    exp_preds = np.exp(preds)\n",
    "    preds = exp_preds / np.sum(exp_preds)\n",
    "    probas = np.random.multinomial(1, preds, 1)\n",
    "    return np.argmax(probas)"
   ]
  },
  {
   "cell_type": "code",
   "execution_count": null,
   "metadata": {
    "colab": {
     "base_uri": "https://localhost:8080/"
    },
    "executionInfo": {
     "elapsed": 771,
     "status": "ok",
     "timestamp": 1621488936555,
     "user": {
      "displayName": "최정근",
      "photoUrl": "",
      "userId": "18207782185135210266"
     },
     "user_tz": -540
    },
    "id": "74cBWrmCmtwE",
    "outputId": "eae36f0a-2b06-4b29-f0b2-abe58cca9a2c"
   },
   "outputs": [],
   "source": [
    "# # 데이터프레임 리스트로 변환\n",
    "# df_list = df[\"title\"].tolist()\n",
    "# type(df_list)"
   ]
  },
  {
   "cell_type": "code",
   "execution_count": null,
   "metadata": {
    "colab": {
     "base_uri": "https://localhost:8080/",
     "height": 136
    },
    "executionInfo": {
     "elapsed": 251,
     "status": "error",
     "timestamp": 1621562890023,
     "user": {
      "displayName": "최정근",
      "photoUrl": "",
      "userId": "18207782185135210266"
     },
     "user_tz": -540
    },
    "id": "cNi6Clp1jaVm",
    "outputId": "ade2dd88-b4cd-4b45-f8df-7144af968546"
   },
   "outputs": [],
   "source": [
    "import ast\n",
    "# df['title'] = df['title'].apply(ast.literal_eval).str.decode(\"utf-16\")"
   ]
  },
  {
   "cell_type": "code",
   "execution_count": null,
   "metadata": {
    "colab": {
     "base_uri": "https://localhost:8080/"
    },
    "executionInfo": {
     "elapsed": 240,
     "status": "ok",
     "timestamp": 1621574185402,
     "user": {
      "displayName": "최정근",
      "photoUrl": "",
      "userId": "18207782185135210266"
     },
     "user_tz": -540
    },
    "id": "6ErNrr1sQWNV",
    "outputId": "f1c54b35-d299-43a8-bb65-56cc3251844c"
   },
   "outputs": [],
   "source": [
    "start_index = random.randint(0, len(text) - maxlen - 1)\n",
    "text[start_index: start_index + maxlen]"
   ]
  },
  {
   "cell_type": "code",
   "execution_count": null,
   "metadata": {
    "colab": {
     "base_uri": "https://localhost:8080/",
     "height": 887
    },
    "executionInfo": {
     "elapsed": 152871,
     "status": "error",
     "timestamp": 1621562696564,
     "user": {
      "displayName": "최정근",
      "photoUrl": "",
      "userId": "18207782185135210266"
     },
     "user_tz": -540
    },
    "id": "Yoj31l92kGS-",
    "outputId": "76ee561c-c8ce-40b1-ece9-30099b667041"
   },
   "outputs": [],
   "source": [
    "# 학습시키고 텍스트 생성하기 반복\n",
    "for iteration in range(1, 60):\n",
    "    print()\n",
    "    print('-' * 50)\n",
    "    print('반복 =', iteration)\n",
    "    model.fit(X, y, batch_size=128, epochs=1) # \n",
    "\n",
    "    # 임의의 시작 텍스트 선택하기\n",
    "    start_index = random.randint(0, len(df['title']) - maxlen - 1)\n",
    "\n",
    "    # 다양한 다양성의 문장 생성\n",
    "    for diversity in [0.2, 0.5, 1.0, 1.2]:\n",
    "        print()\n",
    "        print('--- 다양성 = ', diversity)\n",
    "        generated = ''\n",
    "        sentence = text[start_index: start_index + maxlen]\n",
    "        generated += sentence\n",
    "        print('--- 시드 = \"' + sentence + '\"')\n",
    "        sys.stdout.write(generated)\n",
    "\n",
    "        # 시드를 기반으로 텍스트 자동 생성\n",
    "        for i in range(400):\n",
    "            x = np.zeros((1, maxlen, len(chars)))\n",
    "            for t, char in enumerate(sentence):\n",
    "                x[0, t, char_indices[char]] = 1.\n",
    "\n",
    "            # 다음에 올 문자를 예측하기\n",
    "            preds = model.predict(x, verbose=0)[0]\n",
    "            next_index = sample(preds, diversity)\n",
    "            next_char = indices_char[next_index]\n",
    "            \n",
    "            # 출력하기\n",
    "            generated += next_char\n",
    "            sentence = sentence[1:] + next_char\n",
    "            sys.stdout.write(next_char)\n",
    "            sys.stdout.flush()\n",
    "        print()"
   ]
  }
 ],
 "metadata": {
  "accelerator": "GPU",
  "colab": {
   "authorship_tag": "ABX9TyMhLTycvuJiYWjhBTlqiUce",
   "collapsed_sections": [],
   "name": "타이틀 추천 모델.ipynb",
   "provenance": []
  },
  "kernelspec": {
   "display_name": "Python 3",
   "language": "python",
   "name": "python3"
  },
  "language_info": {
   "codemirror_mode": {
    "name": "ipython",
    "version": 3
   },
   "file_extension": ".py",
   "mimetype": "text/x-python",
   "name": "python",
   "nbconvert_exporter": "python",
   "pygments_lexer": "ipython3",
   "version": "3.8.5"
  }
 },
 "nbformat": 4,
 "nbformat_minor": 1
}
