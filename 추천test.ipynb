{
  "nbformat": 4,
  "nbformat_minor": 0,
  "metadata": {
    "colab": {
      "name": "추천test.ipynb",
      "provenance": [],
      "authorship_tag": "ABX9TyNwc2Q5pJ3WQsBCSdaDwGIk",
      "include_colab_link": true
    },
    "kernelspec": {
      "name": "python3",
      "display_name": "Python 3"
    },
    "language_info": {
      "name": "python"
    }
  },
  "cells": [
    {
      "cell_type": "markdown",
      "metadata": {
        "id": "view-in-github",
        "colab_type": "text"
      },
      "source": [
        "<a href=\"https://colab.research.google.com/github/ckim415/OOOA/blob/main/%EC%B6%94%EC%B2%9Ctest.ipynb\" target=\"_parent\"><img src=\"https://colab.research.google.com/assets/colab-badge.svg\" alt=\"Open In Colab\"/></a>"
      ]
    },
    {
      "cell_type": "markdown",
      "metadata": {
        "id": "63DEBT-Wrii_"
      },
      "source": [
        "# flask "
      ]
    },
    {
      "cell_type": "code",
      "metadata": {
        "colab": {
          "base_uri": "https://localhost:8080/"
        },
        "id": "7XhCmN9Yr_hu",
        "outputId": "949cb9f8-f94e-452f-af97-473d664ffcfd"
      },
      "source": [
        "# 구글드라이브 연동\n",
        "from google.colab import drive\n",
        "drive.mount('/gdrive', force_remount=True)\n",
        "\n",
        "# 구글 드라이브 파일 확인\n",
        "!ls '/gdrive/My Drive/프로젝트2'\n",
        "\n",
        "# 반복되는 드라이브 경로 변수화\n",
        "drive_path = '/gdrive/My Drive/프로젝트2/'"
      ],
      "execution_count": 7,
      "outputs": [
        {
          "output_type": "stream",
          "text": [
            "Mounted at /gdrive\n",
            " 6144_link.csv\t\t\t\t kobert.csv\n",
            " archive.zip\t\t\t\t kogpt2.csv\n",
            " base_20000.txt\t\t\t\t kogpt2.csv.txt\n",
            "'추천시스템 by 타이틀.ipynb'\t\t kogpt2_try.ipynb\n",
            " cate.csv\t\t\t\t kogpt2_wadiz.ipynb\n",
            " cate_keyword.csv\t\t\t model\n",
            " concat_df.csv\t\t\t\t __pycache__\n",
            " crawling_final.ipynb\t\t\t reco_df.csv\n",
            " df_added.csv\t\t\t\t recomendation_system_flask.ipynb\n",
            " df_nouns_add.csv\t\t\t static\n",
            " df_pos.csv\t\t\t\t templates\n",
            " df_reco_system.csv\t\t\t text_process.h5\n",
            " edu_link_df\t\t\t\t title.txt\n",
            " game_df.csv\t\t\t\t tokenizer.pickle\n",
            " home.csv\t\t\t\t try_kobert.ipynb\n",
            "'프로젝트 데이터 분석.ipynb'\t\t Untitled0.ipynb\n",
            " 타이틀전처리.ipynb\t\t\t Untitled1.ipynb\n",
            " JPype1-1.2.0-cp37-cp37m-win_amd64.whl\t Untitled2.ipynb\n",
            " JPype1-1.2.0-cp38-cp38-win_amd64.whl\t Untitled3.ipynb\n",
            " JPype1-1.2.0-cp39-cp39-win_amd64.whl\t wadizlauncher.tgz\n"
          ],
          "name": "stdout"
        }
      ]
    },
    {
      "cell_type": "code",
      "metadata": {
        "id": "Zxo9ovxnrwpk"
      },
      "source": [
        "import pandas as pd\n",
        "import numpy as np\n",
        "import re\n",
        "from ast import literal_eval"
      ],
      "execution_count": 4,
      "outputs": []
    },
    {
      "cell_type": "code",
      "metadata": {
        "id": "b6H-bd8R3XQ5"
      },
      "source": [
        "reco_df = pd.read_csv(drive_path + 'reco_df.csv', index_col = 'Unnamed: 0')"
      ],
      "execution_count": null,
      "outputs": []
    },
    {
      "cell_type": "code",
      "metadata": {
        "id": "Cp2e52UQ3a06"
      },
      "source": [
        "def find_title(df, noun, top_n=10):\n",
        "  # df['nouns'] = df['nouns'].apply(literal_eval)\n",
        "  df['in_nouns_literal'] = df['nouns'].apply(lambda x: True if noun in x else False)\n",
        "  df['in_nouns_literal'].value_counts()\n",
        "  title_index = df[df['in_nouns_literal'] == True].index.values\n",
        "  new_df = df.iloc[title_index][['categories','title','funding_amounts','likes']]\n",
        "\n",
        "  new_df = new_df[(new_df['categories']==new_df['categories'].value_counts().index[0]) ]  \n",
        "  \n",
        "  C = new_df['funding_amounts'].mean()\n",
        "  m = new_df['likes'].quantile(0.6)\n",
        "  # return new_df, C, m\n",
        "\n",
        "  def weighted_funding_average(record):\n",
        "    v = record['likes']\n",
        "    R = record['funding_amounts']\n",
        "    return ( (v/(v+m)) * R ) + ((m/(v+m)) * C)\n",
        "\n",
        "  new_df['weighted_funding'] = new_df.apply(weighted_funding_average, axis=1)\n",
        "  # new_df['weighted_funding'] = new_df['weighted_funding'].apply(lambda x: round(x,2))\n",
        "  return new_df.sort_values('weighted_funding', ascending=False)[:top_n]"
      ],
      "execution_count": null,
      "outputs": []
    },
    {
      "cell_type": "code",
      "metadata": {
        "id": "r-DKvDfi3c2E"
      },
      "source": [
        "find_title(reco_df, '린넨', top_n=10)"
      ],
      "execution_count": null,
      "outputs": []
    }
  ]
}