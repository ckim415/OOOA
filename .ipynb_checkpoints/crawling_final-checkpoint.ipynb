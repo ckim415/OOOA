{
 "cells": [
  {
   "cell_type": "code",
   "execution_count": null,
   "metadata": {
    "colab": {
     "base_uri": "https://localhost:8080/"
    },
    "executionInfo": {
     "elapsed": 10900,
     "status": "ok",
     "timestamp": 1619504689275,
     "user": {
      "displayName": "박선하",
      "photoUrl": "",
      "userId": "10217738532917155060"
     },
     "user_tz": -540
    },
    "id": "17_Df_6c_qCX",
    "outputId": "15468e01-7356-4be4-a29d-788b56c07d3e"
   },
   "outputs": [],
   "source": [
    "!pip install Selenium\n",
    "!apt-get update # to update ubuntu to correctly run apt install\n",
    "!apt install chromium-chromedriver\n",
    "!apt-get install -y fonts-nanum*"
   ]
  },
  {
   "cell_type": "code",
   "execution_count": 1,
   "metadata": {
    "executionInfo": {
     "elapsed": 558,
     "status": "ok",
     "timestamp": 1619504844540,
     "user": {
      "displayName": "박선하",
      "photoUrl": "",
      "userId": "10217738532917155060"
     },
     "user_tz": -540
    },
    "id": "RgHUdMI5_Ynw"
   },
   "outputs": [],
   "source": [
    "from selenium import webdriver\n",
    "from bs4 import BeautifulSoup as bs\n",
    "import time\n",
    "import pandas as pd\n",
    "from selenium.webdriver.common.keys import Keys\n",
    "from collections import deque"
   ]
  },
  {
   "cell_type": "code",
   "execution_count": 2,
   "metadata": {
    "colab": {
     "base_uri": "https://localhost:8080/"
    },
    "executionInfo": {
     "elapsed": 1595,
     "status": "ok",
     "timestamp": 1619504848555,
     "user": {
      "displayName": "박선하",
      "photoUrl": "",
      "userId": "10217738532917155060"
     },
     "user_tz": -540
    },
    "id": "-bvCGFi__Yn4",
    "outputId": "9de68840-318b-480b-f16d-e83e77a4208d"
   },
   "outputs": [
    {
     "name": "stderr",
     "output_type": "stream",
     "text": [
      "<ipython-input-2-475e698df5fe>:7: DeprecationWarning: use options instead of chrome_options\n",
      "  webdriver = webdriver.Chrome('chromedriver', chrome_options = chrome_options)\n"
     ]
    }
   ],
   "source": [
    "chrome_options = webdriver.ChromeOptions()\n",
    "chrome_options.add_argument(\"--start-maximized\")\n",
    "# chrome_options.add_argument('--headless') #내부 창을 띄울 수 없으므로 설정\n",
    "chrome_options.add_argument('--no-sandbox')\n",
    "chrome_options.add_argument('--disable-dev-shm-usage') #, chrome_options=chrome_options)\n",
    "\n",
    "webdriver = webdriver.Chrome('chromedriver', chrome_options = chrome_options)"
   ]
  },
  {
   "cell_type": "code",
   "execution_count": 3,
   "metadata": {
    "executionInfo": {
     "elapsed": 9194,
     "status": "ok",
     "timestamp": 1619505335210,
     "user": {
      "displayName": "박선하",
      "photoUrl": "",
      "userId": "10217738532917155060"
     },
     "user_tz": -540
    },
    "id": "e-awr2sf_Yn5",
    "scrolled": true
   },
   "outputs": [],
   "source": [
    "def crawling(category):\n",
    "    \n",
    "    url = 'https://www.wadiz.kr/web/wsub/openfunding/reward?utm_source=rwm_gdn&utm_medium=search&utm_campaign=PC_%EB%A9%94%EC%9D%B4%EC%BB%A4&utm_content=PC_00.%EC%99%80%EB%94%94%EC%A6%88&utm_term=WADIZ&gclid=Cj0KCQjwyZmEBhCpARIsALIzmnJ4L-U5ZdU8R_6y2WpcNpXM6WVwglke6OpUP-fekXUudZSBTXWrlRAaAg0xEALw_wcB'\n",
    "    webdriver.get(url)\n",
    "    \n",
    "    categories_sel = webdriver.find_elements_by_css_selector('#contents > section.reward-category > div')\n",
    "    page_source = webdriver.page_source\n",
    "    soup = bs(webdriver.page_source, 'html.parser')\n",
    "    cate = soup.findAll('span', class_ = 'desc-category')\n",
    "    categories = [cat.text for cat in cate]\n",
    "    \n",
    "    \n",
    "    search = webdriver.find_element_by_css_selector(f'#contents > section.reward-category > div > ul > div > div > li:nth-child({categories.index(category)+1}) > a')\n",
    "    search.click()\n",
    "\n",
    "    #스크롤 다운\n",
    "    last_height = webdriver.execute_script(\"return document.body.scrollHeight\")\n",
    "    body = webdriver.find_element_by_tag_name(\"body\")\n",
    "    while True:\n",
    "        last_height = webdriver.execute_script(\"document.body.scrollHeight\")\n",
    "        scroll_down = 0\n",
    "        while scroll_down < 10:\n",
    "\n",
    "            body.send_keys(Keys.PAGE_DOWN)\n",
    "            time.sleep(0.3)\n",
    "            webdriver.execute_script(\"window.scrollTo(0, document.body.scrollHeight-50);\")\n",
    "\n",
    "            time.sleep(0.3)\n",
    "\n",
    "            scroll_down += 1\n",
    "\n",
    "        new_height = webdriver.execute_script(\"document.body.scrollHeight\")\n",
    "        if new_height == last_height:\n",
    "            break\n",
    "        last_height = new_height  \n",
    "    \n",
    "    \n",
    "    #titles, categories, company_names, percentages, funding_amounts, days_left\n",
    "    titles, categories, company_names, percentages, funding_amounts, days_left = [],[],[],[],[],[]\n",
    "    contents = webdriver.find_elements_by_class_name('ProjectCardList_item__1owJa')\n",
    "    for content in contents:\n",
    "        split = content.text.split('\\n')\n",
    "        if len(split) > 5:\n",
    "            cont = deque(split)\n",
    "            cont.popleft()\n",
    "            title, category, company_name, target, day_left = list(cont)\n",
    "        else:\n",
    "            title, category, company_name, target, day_left = content.text.split('\\n')\n",
    "\n",
    "        titles.append(title)\n",
    "        categories.append(category)\n",
    "        company_names.append(company_name)\n",
    "        percentages.append(target.split('%')[0])\n",
    "        funding_amounts.append(target.split('%')[1])\n",
    "        days_left.append(day_left)\n",
    "\n",
    "    #하나씩 클릭해서 들어가야함 \n",
    "#     page_source = webdriver.page_source\n",
    "#     soup = bs(page_source, 'html.parser')\n",
    "#     contents = soup.findAll('div',class_='ProjectCardList_item__1owJa')\n",
    "\n",
    "    n_supporters, likes = [],[]\n",
    "    durations, target_amounts = [],[]\n",
    "    descriptions = []\n",
    "    \n",
    "    atag = webdriver.find_elements_by_css_selector(\"#main-app > div.MainWrapper_content__GZkTa > div > div.RewardProjectListApp_container__1ZYeD.RewardMainProjectList_listApp__2noRS > div.ProjectCardList_container__3Y14k > div.ProjectCardList_list__1YBa2 > div a\")\n",
    "    list_href = [a.get_attribute('href') for a in atag]\n",
    "\n",
    "    for href in list_href:\n",
    "        url = href\n",
    "        webdriver.get(url)\n",
    "        \n",
    "        page_source = webdriver.page_source\n",
    "        soup = bs(page_source, 'html.parser')\n",
    "\n",
    "        #n_supporters, likes\n",
    "        supporter = soup.find('p',class_ = 'total-supporter').text.split('명')[0]\n",
    "        n_supporters.append(supporter)\n",
    "        like = soup.find('em',class_='cnt-like').text\n",
    "        likes.append(like.strip())\n",
    "\n",
    "        #durations,target_amounts\n",
    "        info = soup.find('p',style='color:#00b2b2;font-size:13px;line-height:20px;margin-bottom:8px;').text.split('\\n')\n",
    "        duration = info[2].split(' ')[-1]\n",
    "        durations.append(duration)\n",
    "        target_amount = info[1].split(' ')[-1]\n",
    "        target_amounts.append(target_amount)\n",
    "\n",
    "        #descriptions\n",
    "        description = soup.select(\"#container > div.reward-body-wrap > div > div.wd-ui-info-wrap > div.wd-ui-sub-campaign-info-container > div > div > section > div.campaign-summary\")[0]\n",
    "        descriptions.append(description.text.strip())\n",
    "        \n",
    "    time.sleep(0.5)\n",
    "    webdriver.back()\n",
    "    \n",
    "    data = {\n",
    "    'title':titles,\n",
    "    'categories':categories,\n",
    "    \"company_names\":company_names,\n",
    "    'percentages':percentages, \n",
    "    'funding_amounts' :funding_amounts, \n",
    "    'days_left' :days_left\n",
    "    }    \n",
    "    df = pd.DataFrame(data)\n",
    "    df['percentages'] = percentages\n",
    "    df['funding_amounts'] = funding_amounts\n",
    "    df['n_supporters'] = n_supporters\n",
    "    df['likes'] = likes\n",
    "    df['descriptions'] = descriptions\n",
    "    df['durations'] = durations\n",
    "    df['target_amounts'] = target_amounts\n",
    "\n",
    "        \n",
    "    return df.to_csv(category+'_df')\n"
   ]
  },
  {
   "cell_type": "code",
   "execution_count": 4,
   "metadata": {},
   "outputs": [
    {
     "ename": "NoSuchElementException",
     "evalue": "Message: no such element: Unable to locate element: {\"method\":\"css selector\",\"selector\":\"div.ProjectCardList_container__3Y14k > div > div:nth-child(2) > div > div > a > div > span\"}\n  (Session info: chrome=89.0.4389.128)\n",
     "output_type": "error",
     "traceback": [
      "\u001b[1;31m---------------------------------------------------------------------------\u001b[0m",
      "\u001b[1;31mNoSuchElementException\u001b[0m                    Traceback (most recent call last)",
      "\u001b[1;32m<ipython-input-4-ab5b8cc0e37e>\u001b[0m in \u001b[0;36m<module>\u001b[1;34m\u001b[0m\n\u001b[1;32m----> 1\u001b[1;33m \u001b[0mcrawling\u001b[0m\u001b[1;33m(\u001b[0m\u001b[1;34m'반려동물'\u001b[0m\u001b[1;33m)\u001b[0m\u001b[1;33m\u001b[0m\u001b[1;33m\u001b[0m\u001b[0m\n\u001b[0m",
      "\u001b[1;32m<ipython-input-3-93164af6ed0c>\u001b[0m in \u001b[0;36mcrawling\u001b[1;34m(category)\u001b[0m\n\u001b[0;32m     65\u001b[0m \u001b[1;33m\u001b[0m\u001b[0m\n\u001b[0;32m     66\u001b[0m     \u001b[1;32mfor\u001b[0m \u001b[0mi\u001b[0m \u001b[1;32min\u001b[0m \u001b[0mrange\u001b[0m\u001b[1;33m(\u001b[0m\u001b[1;36m1\u001b[0m\u001b[1;33m,\u001b[0m\u001b[0mlen\u001b[0m\u001b[1;33m(\u001b[0m\u001b[0mtitles\u001b[0m\u001b[1;33m)\u001b[0m\u001b[1;33m+\u001b[0m\u001b[1;36m1\u001b[0m\u001b[1;33m)\u001b[0m\u001b[1;33m:\u001b[0m \u001b[1;31m#len(contents)\u001b[0m\u001b[1;33m\u001b[0m\u001b[1;33m\u001b[0m\u001b[0m\n\u001b[1;32m---> 67\u001b[1;33m         \u001b[0mbtn\u001b[0m \u001b[1;33m=\u001b[0m \u001b[0mwebdriver\u001b[0m\u001b[1;33m.\u001b[0m\u001b[0mfind_element_by_css_selector\u001b[0m\u001b[1;33m(\u001b[0m\u001b[1;34mf'div.ProjectCardList_container__3Y14k > div > div:nth-child({i}) > div > div > a > div > span'\u001b[0m\u001b[1;33m)\u001b[0m\u001b[1;33m\u001b[0m\u001b[1;33m\u001b[0m\u001b[0m\n\u001b[0m\u001b[0;32m     68\u001b[0m         \u001b[0mtime\u001b[0m\u001b[1;33m.\u001b[0m\u001b[0msleep\u001b[0m\u001b[1;33m(\u001b[0m\u001b[1;36m0.5\u001b[0m\u001b[1;33m)\u001b[0m\u001b[1;33m\u001b[0m\u001b[1;33m\u001b[0m\u001b[0m\n\u001b[0;32m     69\u001b[0m         \u001b[0mbtn\u001b[0m\u001b[1;33m.\u001b[0m\u001b[0mclick\u001b[0m\u001b[1;33m(\u001b[0m\u001b[1;33m)\u001b[0m\u001b[1;33m\u001b[0m\u001b[1;33m\u001b[0m\u001b[0m\n",
      "\u001b[1;32m~\\anaconda3\\lib\\site-packages\\selenium\\webdriver\\remote\\webdriver.py\u001b[0m in \u001b[0;36mfind_element_by_css_selector\u001b[1;34m(self, css_selector)\u001b[0m\n\u001b[0;32m    596\u001b[0m             \u001b[0melement\u001b[0m \u001b[1;33m=\u001b[0m \u001b[0mdriver\u001b[0m\u001b[1;33m.\u001b[0m\u001b[0mfind_element_by_css_selector\u001b[0m\u001b[1;33m(\u001b[0m\u001b[1;34m'#foo'\u001b[0m\u001b[1;33m)\u001b[0m\u001b[1;33m\u001b[0m\u001b[1;33m\u001b[0m\u001b[0m\n\u001b[0;32m    597\u001b[0m         \"\"\"\n\u001b[1;32m--> 598\u001b[1;33m         \u001b[1;32mreturn\u001b[0m \u001b[0mself\u001b[0m\u001b[1;33m.\u001b[0m\u001b[0mfind_element\u001b[0m\u001b[1;33m(\u001b[0m\u001b[0mby\u001b[0m\u001b[1;33m=\u001b[0m\u001b[0mBy\u001b[0m\u001b[1;33m.\u001b[0m\u001b[0mCSS_SELECTOR\u001b[0m\u001b[1;33m,\u001b[0m \u001b[0mvalue\u001b[0m\u001b[1;33m=\u001b[0m\u001b[0mcss_selector\u001b[0m\u001b[1;33m)\u001b[0m\u001b[1;33m\u001b[0m\u001b[1;33m\u001b[0m\u001b[0m\n\u001b[0m\u001b[0;32m    599\u001b[0m \u001b[1;33m\u001b[0m\u001b[0m\n\u001b[0;32m    600\u001b[0m     \u001b[1;32mdef\u001b[0m \u001b[0mfind_elements_by_css_selector\u001b[0m\u001b[1;33m(\u001b[0m\u001b[0mself\u001b[0m\u001b[1;33m,\u001b[0m \u001b[0mcss_selector\u001b[0m\u001b[1;33m)\u001b[0m\u001b[1;33m:\u001b[0m\u001b[1;33m\u001b[0m\u001b[1;33m\u001b[0m\u001b[0m\n",
      "\u001b[1;32m~\\anaconda3\\lib\\site-packages\\selenium\\webdriver\\remote\\webdriver.py\u001b[0m in \u001b[0;36mfind_element\u001b[1;34m(self, by, value)\u001b[0m\n\u001b[0;32m    974\u001b[0m                 \u001b[0mby\u001b[0m \u001b[1;33m=\u001b[0m \u001b[0mBy\u001b[0m\u001b[1;33m.\u001b[0m\u001b[0mCSS_SELECTOR\u001b[0m\u001b[1;33m\u001b[0m\u001b[1;33m\u001b[0m\u001b[0m\n\u001b[0;32m    975\u001b[0m                 \u001b[0mvalue\u001b[0m \u001b[1;33m=\u001b[0m \u001b[1;34m'[name=\"%s\"]'\u001b[0m \u001b[1;33m%\u001b[0m \u001b[0mvalue\u001b[0m\u001b[1;33m\u001b[0m\u001b[1;33m\u001b[0m\u001b[0m\n\u001b[1;32m--> 976\u001b[1;33m         return self.execute(Command.FIND_ELEMENT, {\n\u001b[0m\u001b[0;32m    977\u001b[0m             \u001b[1;34m'using'\u001b[0m\u001b[1;33m:\u001b[0m \u001b[0mby\u001b[0m\u001b[1;33m,\u001b[0m\u001b[1;33m\u001b[0m\u001b[1;33m\u001b[0m\u001b[0m\n\u001b[0;32m    978\u001b[0m             'value': value})['value']\n",
      "\u001b[1;32m~\\anaconda3\\lib\\site-packages\\selenium\\webdriver\\remote\\webdriver.py\u001b[0m in \u001b[0;36mexecute\u001b[1;34m(self, driver_command, params)\u001b[0m\n\u001b[0;32m    319\u001b[0m         \u001b[0mresponse\u001b[0m \u001b[1;33m=\u001b[0m \u001b[0mself\u001b[0m\u001b[1;33m.\u001b[0m\u001b[0mcommand_executor\u001b[0m\u001b[1;33m.\u001b[0m\u001b[0mexecute\u001b[0m\u001b[1;33m(\u001b[0m\u001b[0mdriver_command\u001b[0m\u001b[1;33m,\u001b[0m \u001b[0mparams\u001b[0m\u001b[1;33m)\u001b[0m\u001b[1;33m\u001b[0m\u001b[1;33m\u001b[0m\u001b[0m\n\u001b[0;32m    320\u001b[0m         \u001b[1;32mif\u001b[0m \u001b[0mresponse\u001b[0m\u001b[1;33m:\u001b[0m\u001b[1;33m\u001b[0m\u001b[1;33m\u001b[0m\u001b[0m\n\u001b[1;32m--> 321\u001b[1;33m             \u001b[0mself\u001b[0m\u001b[1;33m.\u001b[0m\u001b[0merror_handler\u001b[0m\u001b[1;33m.\u001b[0m\u001b[0mcheck_response\u001b[0m\u001b[1;33m(\u001b[0m\u001b[0mresponse\u001b[0m\u001b[1;33m)\u001b[0m\u001b[1;33m\u001b[0m\u001b[1;33m\u001b[0m\u001b[0m\n\u001b[0m\u001b[0;32m    322\u001b[0m             response['value'] = self._unwrap_value(\n\u001b[0;32m    323\u001b[0m                 response.get('value', None))\n",
      "\u001b[1;32m~\\anaconda3\\lib\\site-packages\\selenium\\webdriver\\remote\\errorhandler.py\u001b[0m in \u001b[0;36mcheck_response\u001b[1;34m(self, response)\u001b[0m\n\u001b[0;32m    240\u001b[0m                 \u001b[0malert_text\u001b[0m \u001b[1;33m=\u001b[0m \u001b[0mvalue\u001b[0m\u001b[1;33m[\u001b[0m\u001b[1;34m'alert'\u001b[0m\u001b[1;33m]\u001b[0m\u001b[1;33m.\u001b[0m\u001b[0mget\u001b[0m\u001b[1;33m(\u001b[0m\u001b[1;34m'text'\u001b[0m\u001b[1;33m)\u001b[0m\u001b[1;33m\u001b[0m\u001b[1;33m\u001b[0m\u001b[0m\n\u001b[0;32m    241\u001b[0m             \u001b[1;32mraise\u001b[0m \u001b[0mexception_class\u001b[0m\u001b[1;33m(\u001b[0m\u001b[0mmessage\u001b[0m\u001b[1;33m,\u001b[0m \u001b[0mscreen\u001b[0m\u001b[1;33m,\u001b[0m \u001b[0mstacktrace\u001b[0m\u001b[1;33m,\u001b[0m \u001b[0malert_text\u001b[0m\u001b[1;33m)\u001b[0m\u001b[1;33m\u001b[0m\u001b[1;33m\u001b[0m\u001b[0m\n\u001b[1;32m--> 242\u001b[1;33m         \u001b[1;32mraise\u001b[0m \u001b[0mexception_class\u001b[0m\u001b[1;33m(\u001b[0m\u001b[0mmessage\u001b[0m\u001b[1;33m,\u001b[0m \u001b[0mscreen\u001b[0m\u001b[1;33m,\u001b[0m \u001b[0mstacktrace\u001b[0m\u001b[1;33m)\u001b[0m\u001b[1;33m\u001b[0m\u001b[1;33m\u001b[0m\u001b[0m\n\u001b[0m\u001b[0;32m    243\u001b[0m \u001b[1;33m\u001b[0m\u001b[0m\n\u001b[0;32m    244\u001b[0m     \u001b[1;32mdef\u001b[0m \u001b[0m_value_or_default\u001b[0m\u001b[1;33m(\u001b[0m\u001b[0mself\u001b[0m\u001b[1;33m,\u001b[0m \u001b[0mobj\u001b[0m\u001b[1;33m,\u001b[0m \u001b[0mkey\u001b[0m\u001b[1;33m,\u001b[0m \u001b[0mdefault\u001b[0m\u001b[1;33m)\u001b[0m\u001b[1;33m:\u001b[0m\u001b[1;33m\u001b[0m\u001b[1;33m\u001b[0m\u001b[0m\n",
      "\u001b[1;31mNoSuchElementException\u001b[0m: Message: no such element: Unable to locate element: {\"method\":\"css selector\",\"selector\":\"div.ProjectCardList_container__3Y14k > div > div:nth-child(2) > div > div > a > div > span\"}\n  (Session info: chrome=89.0.4389.128)\n"
     ]
    }
   ],
   "source": [
    "crawling('반려동물')"
   ]
  },
  {
   "cell_type": "code",
   "execution_count": null,
   "metadata": {},
   "outputs": [],
   "source": [
    "#선하님 코드 확인\n",
    "url = 'https://www.wadiz.kr/web/wreward/category/292?keyword=&endYn=ALL&order=recommend'\n",
    "webdriver.get(url)\n",
    "\n",
    "#스크롤 다운\n",
    "last_height = webdriver.execute_script(\"return document.body.scrollHeight\")\n",
    "body = webdriver.find_element_by_tag_name(\"body\")\n",
    "while True:\n",
    "    last_height = webdriver.execute_script(\"document.body.scrollHeight\")\n",
    "    scroll_down = 0\n",
    "    while scroll_down < 10:\n",
    "\n",
    "        body.send_keys(Keys.PAGE_DOWN)\n",
    "        time.sleep(0.3)\n",
    "        webdriver.execute_script(\"window.scrollTo(0, document.body.scrollHeight-50);\")\n",
    "\n",
    "        time.sleep(0.3)\n",
    "\n",
    "        scroll_down += 1\n",
    "\n",
    "    new_height = webdriver.execute_script(\"document.body.scrollHeight\")\n",
    "    if new_height == last_height:\n",
    "        break\n",
    "    last_height = new_height  \n",
    "\n",
    "n_supporters, likes = [],[]\n",
    "durations, target_amounts = [],[]\n",
    "descriptions = []\n",
    "\n",
    "atag = webdriver.find_elements_by_css_selector(\"#main-app > div.MainWrapper_content__GZkTa > div > div.RewardProjectListApp_container__1ZYeD.RewardMainProjectList_listApp__2noRS > div.ProjectCardList_container__3Y14k > div.ProjectCardList_list__1YBa2 > div a\")\n",
    "list_href = [a.get_attribute('href') for a in atag]\n",
    "\n",
    "for href in list_href:\n",
    "    url = href\n",
    "    webdriver.get(url)\n",
    "\n",
    "    page_source = webdriver.page_source\n",
    "    soup = bs(page_source, 'html.parser')\n",
    "\n",
    "    #n_supporters, likes\n",
    "    supporter = soup.find('p',class_ = 'total-supporter').text.split('명')[0]\n",
    "    n_supporters.append(supporter)\n",
    "    like = soup.find('em',class_='cnt-like').text\n",
    "    likes.append(like.strip())"
   ]
  },
  {
   "cell_type": "code",
   "execution_count": null,
   "metadata": {
    "id": "QC_EOXKN_Yn6",
    "outputId": "5395ff5e-587b-44a0-a5eb-729b161aeb7c"
   },
   "outputs": [],
   "source": [
    "def timeseries_data(category):\n",
    "        \n",
    "    categories_sel = webdriver.find_elements_by_css_selector('#contents > section.reward-category > div')\n",
    "    page_source = webdriver.page_source\n",
    "    soup = bs(webdriver.page_source, 'html.parser')\n",
    "    cate = soup.findAll('span', class_ = 'desc-category')\n",
    "    categories = [cat.text for cat in cate]\n",
    "    \n",
    "    url = 'https://www.wadiz.kr/web/wsub/openfunding/reward?utm_source=rwm_gdn&utm_medium=search&utm_campaign=PC_%EB%A9%94%EC%9D%B4%EC%BB%A4&utm_content=PC_00.%EC%99%80%EB%94%94%EC%A6%88&utm_term=WADIZ&gclid=Cj0KCQjwyZmEBhCpARIsALIzmnJ4L-U5ZdU8R_6y2WpcNpXM6WVwglke6OpUP-fekXUudZSBTXWrlRAaAg0xEALw_wcB'\n",
    "    webdriver.get(url)\n",
    "    search = webdriver.find_element_by_css_selector(f'#contents > section.reward-category > div > ul > div > div > li:nth-child('{categories.index(category)}') > a')\n",
    "    search.click()\n",
    "\n",
    "    #스크롤 다운\n",
    "    last_height = webdriver.execute_script(\"return document.body.scrollHeight\")\n",
    "    body = webdriver.find_element_by_tag_name(\"body\")\n",
    "    while True:\n",
    "        last_height = webdriver.execute_script(\"document.body.scrollHeight\")\n",
    "        scroll_down = 0\n",
    "        while scroll_down < 10:\n",
    "\n",
    "            body.send_keys(Keys.PAGE_DOWN)\n",
    "            time.sleep(0.3)\n",
    "            webdriver.execute_script(\"window.scrollTo(0, document.body.scrollHeight-50);\")\n",
    "\n",
    "            time.sleep(0.3)\n",
    "\n",
    "            scroll_down += 1\n",
    "\n",
    "        new_height = webdriver.execute_script(\"document.body.scrollHeight\")\n",
    "        if new_height == last_height:\n",
    "            break\n",
    "        last_height = new_height  \n",
    "    \n",
    "    \n",
    "    #하나씩 클릭해서 들어가야함 \n",
    "    page_source = webdriver.page_source\n",
    "    soup = bs(page_source, 'html.parser')\n",
    "    contents = soup.findAll('div',class_='ProjectCardList_item__1owJa')\n",
    "    \n",
    "    for i in range(1,len(titles)+1): #len(contents)\n",
    "        btn = webdriver.find_element_by_css_selector(f'div.ProjectCardList_container__3Y14k > div > div:nth-child({i}) > div > div > a > div > span')\n",
    "        time.sleep(0.5)\n",
    "        btn.click()\n",
    "        \n",
    "        #시계열 데이터\n",
    "        support_page = webdriver.find_element_by_css_selector('#container > div.reward-nav > ul > li:nth-child(6)')\n",
    "        time.sleep(1)\n",
    "        support_page.click()\n",
    "\n",
    "        button = webdriver.find_element_by_css_selector('#reward-static-supports-list-app > div > div > div > div.ListMoreButton_container__1rOIU > button')\n",
    "        while button:\n",
    "            try:\n",
    "                button.click()\n",
    "                time.sleep(2)\n",
    "            except:\n",
    "                break\n",
    "\n",
    "        supports = []\n",
    "        page_source = webdriver.page_source\n",
    "        soup = bs(page_source, 'html.parser')\n",
    "        supports_info = soup.findAll('div', class_ = 'RewardSupporterItem_container__1UTDZ')\n",
    "\n",
    "        for i in supports_info:\n",
    "            supports.append(i.text.split('\\xa0'))\n",
    "        #     데이터 전처리 필요함\n",
    "\n",
    "        webdriver.back()\n",
    "        time.sleep(0.5)\n",
    "        webdriver.back()\n",
    "\n",
    "    \n",
    "    data = supports\n",
    "    df = pd.DataFrame(data)\n",
    "    \n",
    "    return df.to_csv(category+'_tiemseires_df')\n",
    "\n",
    "    \n"
   ]
  },
  {
   "cell_type": "code",
   "execution_count": null,
   "metadata": {},
   "outputs": [],
   "source": []
  },
  {
   "cell_type": "code",
   "execution_count": null,
   "metadata": {},
   "outputs": [],
   "source": []
  }
 ],
 "metadata": {
  "colab": {
   "collapsed_sections": [],
   "name": "crawling_final.ipynb",
   "provenance": []
  },
  "kernelspec": {
   "display_name": "Python 3",
   "language": "python",
   "name": "python3"
  },
  "language_info": {
   "codemirror_mode": {
    "name": "ipython",
    "version": 3
   },
   "file_extension": ".py",
   "mimetype": "text/x-python",
   "name": "python",
   "nbconvert_exporter": "python",
   "pygments_lexer": "ipython3",
   "version": "3.8.3"
  }
 },
 "nbformat": 4,
 "nbformat_minor": 1
}
