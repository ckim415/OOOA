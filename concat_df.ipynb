{
 "cells": [
  {
   "cell_type": "code",
   "execution_count": 8,
   "metadata": {},
   "outputs": [],
   "source": [
    "import pandas as pd\n",
    "import numpy as np"
   ]
  },
  {
   "cell_type": "code",
   "execution_count": 115,
   "metadata": {},
   "outputs": [],
   "source": [
    "beauty = pd.read_csv('beauty.csv', encoding='utf-8', index_col='Unnamed: 0')\n",
    "show_and_culture = pd.read_csv('show_and_culture.csv', encoding='utf-8', index_col='Unnamed: 0')\n",
    "travel = pd.read_csv('travel.csv', encoding='utf-8', index_col='Unnamed: 0')"
   ]
  },
  {
   "cell_type": "code",
   "execution_count": 116,
   "metadata": {},
   "outputs": [],
   "source": [
    "df1 = pd.concat([beauty, show_and_culture, travel], ignore_index=True)\n",
    "df1 = df1.drop('days_left', axis=1)"
   ]
  },
  {
   "cell_type": "code",
   "execution_count": 117,
   "metadata": {},
   "outputs": [],
   "source": [
    "df1 = df1[['categories', 'title','company_names','percentages','funding_amounts','n_supporters','likes','descriptions','durations','target_amounts']]"
   ]
  },
  {
   "cell_type": "code",
   "execution_count": 118,
   "metadata": {},
   "outputs": [],
   "source": [
    "df1 = df1.replace('None', pd.np.nan).dropna()"
   ]
  },
  {
   "cell_type": "code",
   "execution_count": 119,
   "metadata": {},
   "outputs": [],
   "source": [
    "sports = pd.read_csv('sports.csv', encoding='utf-8', index_col='Unnamed: 0')\n",
    "socialcampaign = pd.read_csv('socialcampaign.csv', encoding='utf-8', index_col='Unnamed: 0')\n",
    "food = pd.read_csv('food.csv', encoding='utf-8', index_col='Unnamed: 0')\n",
    "design = pd.read_csv('design.csv', encoding='utf-8', index_col='Unnamed: 0')\n",
    "home = pd.read_csv('home.csv', encoding='utf-8', index_col='Unnamed: 0')\n",
    "donation = pd.read_csv('donation.csv', encoding='utf-8', index_col='Unnamed: 0')\n",
    "publishing = pd.read_csv('publishing.csv', encoding='utf-8', index_col='Unnamed: 0')\n",
    "fashion = pd.read_csv('fashion.csv', encoding='utf-8', index_col='Unnamed: 0')\n",
    "meeting = pd.read_csv('meeting.csv', encoding='utf-8', index_col='Unnamed: 0')\n",
    "pet = pd.read_csv('pet.csv', encoding='utf-8', index_col='Unnamed: 0')\n",
    "tech = pd.read_csv('tech.csv', encoding='utf-8', index_col='Unnamed: 0')"
   ]
  },
  {
   "cell_type": "code",
   "execution_count": 120,
   "metadata": {},
   "outputs": [],
   "source": [
    "df2 = pd.concat([sports, socialcampaign, food, design, home, donation, publishing, fashion, meeting, pet, tech], sort=False)"
   ]
  },
  {
   "cell_type": "code",
   "execution_count": 121,
   "metadata": {},
   "outputs": [],
   "source": [
    "df2 = df2.drop('days_left', axis=1)"
   ]
  },
  {
   "cell_type": "code",
   "execution_count": 122,
   "metadata": {},
   "outputs": [],
   "source": [
    "df2 = df2.drop('0', axis=1)"
   ]
  },
  {
   "cell_type": "code",
   "execution_count": 123,
   "metadata": {},
   "outputs": [],
   "source": [
    "concat_df = pd.concat([df1, df2])"
   ]
  },
  {
   "cell_type": "code",
   "execution_count": 124,
   "metadata": {},
   "outputs": [
    {
     "data": {
      "text/plain": [
       "array(['467%', '1426%', '1003%', ..., '1056%', '976%', '958%'],\n",
       "      dtype=object)"
      ]
     },
     "execution_count": 124,
     "metadata": {},
     "output_type": "execute_result"
    }
   ],
   "source": [
    "concat_df['percentages'].unique()"
   ]
  },
  {
   "cell_type": "code",
   "execution_count": 125,
   "metadata": {},
   "outputs": [],
   "source": [
    "# percentages 형변환\n",
    "concat_df['percentages'] = concat_df['percentages'].str.replace('%','').astype('float64')"
   ]
  },
  {
   "cell_type": "code",
   "execution_count": 126,
   "metadata": {},
   "outputs": [],
   "source": [
    "# funding_amounts 형변환\n",
    "concat_df['funding_amounts'] = concat_df['funding_amounts'].str.replace(',','')\n",
    "concat_df['funding_amounts'] = concat_df['funding_amounts'].str.replace('원','').astype('float64')"
   ]
  },
  {
   "cell_type": "code",
   "execution_count": 127,
   "metadata": {},
   "outputs": [],
   "source": [
    "# target_amount 형변환\n",
    "concat_df['target_amounts'] = concat_df['target_amounts'].str.replace(',','')\n",
    "concat_df['target_amounts'] = concat_df['target_amounts'].str.replace('원','').astype('float64')"
   ]
  },
  {
   "cell_type": "code",
   "execution_count": 128,
   "metadata": {},
   "outputs": [],
   "source": [
    "concat_df['n_supporters'] = concat_df['n_supporters'].str.replace(',','').astype('float64')"
   ]
  },
  {
   "cell_type": "code",
   "execution_count": 129,
   "metadata": {},
   "outputs": [],
   "source": [
    "# likes 형변환\n",
    "concat_df['likes'] = concat_df['likes'].astype('float64')"
   ]
  },
  {
   "cell_type": "code",
   "execution_count": 130,
   "metadata": {},
   "outputs": [
    {
     "name": "stdout",
     "output_type": "stream",
     "text": [
      "<class 'pandas.core.frame.DataFrame'>\n",
      "Int64Index: 19989 entries, 0 to 2123\n",
      "Data columns (total 10 columns):\n",
      "categories         19941 non-null object\n",
      "title              19939 non-null object\n",
      "company_names      19935 non-null object\n",
      "percentages        19941 non-null float64\n",
      "funding_amounts    19941 non-null float64\n",
      "n_supporters       19874 non-null float64\n",
      "likes              19941 non-null float64\n",
      "descriptions       19934 non-null object\n",
      "durations          19941 non-null object\n",
      "target_amounts     19941 non-null float64\n",
      "dtypes: float64(5), object(5)\n",
      "memory usage: 1.7+ MB\n"
     ]
    }
   ],
   "source": [
    "concat_df.info()"
   ]
  },
  {
   "cell_type": "code",
   "execution_count": 131,
   "metadata": {},
   "outputs": [],
   "source": [
    "concat_df['durations'] = concat_df['durations'].str.split('-')"
   ]
  },
  {
   "cell_type": "code",
   "execution_count": 132,
   "metadata": {},
   "outputs": [],
   "source": [
    "concat_df['start'] = concat_df['durations'].str.get(0)\n",
    "concat_df['end'] = concat_df['durations'].str.get(1)"
   ]
  },
  {
   "cell_type": "code",
   "execution_count": 133,
   "metadata": {},
   "outputs": [],
   "source": [
    "concat_df['start'] = pd.to_datetime(concat_df['start'])\n",
    "concat_df['end'] = pd.to_datetime(concat_df['end'])"
   ]
  },
  {
   "cell_type": "code",
   "execution_count": 134,
   "metadata": {},
   "outputs": [],
   "source": [
    "concat_df['time'] = -(concat_df['start'] - concat_df['end'])"
   ]
  },
  {
   "cell_type": "code",
   "execution_count": 135,
   "metadata": {},
   "outputs": [],
   "source": [
    "concat_df['time'] = concat_df['time'].dt.days"
   ]
  },
  {
   "cell_type": "code",
   "execution_count": 136,
   "metadata": {},
   "outputs": [],
   "source": [
    "concat_df = concat_df[['categories', 'title','company_names','target_amounts','funding_amounts','percentages',\n",
    "                       'n_supporters','likes','durations','start','end','time','descriptions']]"
   ]
  },
  {
   "cell_type": "code",
   "execution_count": 137,
   "metadata": {},
   "outputs": [],
   "source": [
    "concat_df.to_csv('concat_df.csv', encoding='utf-8')"
   ]
  },
  {
   "cell_type": "code",
   "execution_count": 138,
   "metadata": {},
   "outputs": [
    {
     "name": "stdout",
     "output_type": "stream",
     "text": [
      "<class 'pandas.core.frame.DataFrame'>\n",
      "Int64Index: 19989 entries, 0 to 2123\n",
      "Data columns (total 13 columns):\n",
      "categories         19941 non-null object\n",
      "title              19939 non-null object\n",
      "company_names      19935 non-null object\n",
      "target_amounts     19941 non-null float64\n",
      "funding_amounts    19941 non-null float64\n",
      "percentages        19941 non-null float64\n",
      "n_supporters       19874 non-null float64\n",
      "likes              19941 non-null float64\n",
      "durations          19941 non-null object\n",
      "start              19941 non-null datetime64[ns]\n",
      "end                19941 non-null datetime64[ns]\n",
      "time               19941 non-null float64\n",
      "descriptions       19934 non-null object\n",
      "dtypes: datetime64[ns](2), float64(6), object(5)\n",
      "memory usage: 2.1+ MB\n"
     ]
    }
   ],
   "source": [
    "concat_df.info()"
   ]
  },
  {
   "cell_type": "code",
   "execution_count": null,
   "metadata": {},
   "outputs": [],
   "source": []
  }
 ],
 "metadata": {
  "kernelspec": {
   "display_name": "Python 3",
   "language": "python",
   "name": "python3"
  },
  "language_info": {
   "codemirror_mode": {
    "name": "ipython",
    "version": 3
   },
   "file_extension": ".py",
   "mimetype": "text/x-python",
   "name": "python",
   "nbconvert_exporter": "python",
   "pygments_lexer": "ipython3",
   "version": "3.7.3"
  }
 },
 "nbformat": 4,
 "nbformat_minor": 2
}
