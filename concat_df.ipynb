{
 "cells": [
  {
   "cell_type": "code",
   "execution_count": 347,
   "metadata": {},
   "outputs": [],
   "source": [
    "import pandas as pd\n",
    "import numpy as np"
   ]
  },
  {
   "cell_type": "code",
   "execution_count": 348,
   "metadata": {},
   "outputs": [],
   "source": [
    "beauty = pd.read_csv('beauty.csv', encoding='utf-8', index_col='Unnamed: 0')\n",
    "show_and_culture = pd.read_csv('show_and_culture.csv', encoding='utf-8', index_col='Unnamed: 0')\n",
    "travel = pd.read_csv('travel.csv', encoding='utf-8', index_col='Unnamed: 0')"
   ]
  },
  {
   "cell_type": "code",
   "execution_count": 349,
   "metadata": {},
   "outputs": [],
   "source": [
    "df1 = pd.concat([beauty, show_and_culture, travel], ignore_index=True)\n",
    "df1 = df1.drop('days_left', axis=1)"
   ]
  },
  {
   "cell_type": "code",
   "execution_count": 350,
   "metadata": {},
   "outputs": [],
   "source": [
    "df1 = df1[['categories', 'title','company_names','percentages','funding_amounts','n_supporters','likes','descriptions','durations','target_amounts']]"
   ]
  },
  {
   "cell_type": "code",
   "execution_count": 351,
   "metadata": {},
   "outputs": [],
   "source": [
    "df1 = df1.replace('None', pd.np.nan).dropna()"
   ]
  },
  {
   "cell_type": "code",
   "execution_count": 352,
   "metadata": {},
   "outputs": [],
   "source": [
    "sports = pd.read_csv('sports.csv', encoding='utf-8', index_col='Unnamed: 0')\n",
    "socialcampaign = pd.read_csv('socialcampaign.csv', encoding='utf-8', index_col='Unnamed: 0')\n",
    "food = pd.read_csv('food.csv', encoding='utf-8', index_col='Unnamed: 0')\n",
    "design = pd.read_csv('design.csv', encoding='utf-8', index_col='Unnamed: 0')\n",
    "home = pd.read_csv('home.csv', encoding='utf-8', index_col='Unnamed: 0')\n",
    "donation = pd.read_csv('donation.csv', encoding='utf-8', index_col='Unnamed: 0')\n",
    "publishing = pd.read_csv('publishing.csv', encoding='utf-8', index_col='Unnamed: 0')\n",
    "fashion = pd.read_csv('fashion.csv', encoding='utf-8', index_col='Unnamed: 0')\n",
    "meeting = pd.read_csv('meeting.csv', encoding='utf-8', index_col='Unnamed: 0')\n",
    "pet = pd.read_csv('pet.csv', encoding='utf-8', index_col='Unnamed: 0')\n",
    "tech = pd.read_csv('tech.csv', encoding='utf-8', index_col='Unnamed: 0')"
   ]
  },
  {
   "cell_type": "code",
   "execution_count": 353,
   "metadata": {},
   "outputs": [],
   "source": [
    "df2 = pd.concat([donation, publishing, fashion, meeting, pet, tech, home], sort=False)"
   ]
  },
  {
   "cell_type": "code",
   "execution_count": 354,
   "metadata": {},
   "outputs": [],
   "source": [
    "df2 = df2.drop('days_left', axis=1)"
   ]
  },
  {
   "cell_type": "code",
   "execution_count": 355,
   "metadata": {},
   "outputs": [
    {
     "name": "stdout",
     "output_type": "stream",
     "text": [
      "<class 'pandas.core.frame.DataFrame'>\n",
      "Int64Index: 15349 entries, 0 to 2123\n",
      "Data columns (total 10 columns):\n",
      "categories         15349 non-null object\n",
      "title              15347 non-null object\n",
      "company_names      15344 non-null object\n",
      "percentages        15349 non-null object\n",
      "funding_amounts    15349 non-null object\n",
      "n_supporters       15349 non-null object\n",
      "likes              15349 non-null object\n",
      "descriptions       15343 non-null object\n",
      "durations          15349 non-null object\n",
      "target_amounts     15349 non-null object\n",
      "dtypes: object(10)\n",
      "memory usage: 1.3+ MB\n"
     ]
    }
   ],
   "source": [
    "concat_df = pd.concat([df1, df2])\n",
    "concat_df.info()"
   ]
  },
  {
   "cell_type": "code",
   "execution_count": 356,
   "metadata": {},
   "outputs": [],
   "source": [
    "# percentages 형변환\n",
    "concat_df['percentages'] = concat_df['percentages'].str.replace('%','').astype('int64')"
   ]
  },
  {
   "cell_type": "code",
   "execution_count": 357,
   "metadata": {},
   "outputs": [],
   "source": [
    "# funding_amounts 형변환\n",
    "concat_df['funding_amounts'] = concat_df['funding_amounts'].str.replace(',','')\n",
    "concat_df['funding_amounts'] = concat_df['funding_amounts'].str.replace('원','').astype('int64')"
   ]
  },
  {
   "cell_type": "code",
   "execution_count": 358,
   "metadata": {},
   "outputs": [],
   "source": [
    "# target_amount 형변환\n",
    "concat_df['target_amounts'] = concat_df['target_amounts'].str.replace(',','')\n",
    "concat_df['target_amounts'] = concat_df['target_amounts'].str.replace('원','').astype('int64')"
   ]
  },
  {
   "cell_type": "code",
   "execution_count": 359,
   "metadata": {},
   "outputs": [],
   "source": [
    "concat_df['n_supporters'] = concat_df['n_supporters'].str.replace(',','').astype('float64')"
   ]
  },
  {
   "cell_type": "code",
   "execution_count": 360,
   "metadata": {},
   "outputs": [],
   "source": [
    "# likes 형변환\n",
    "concat_df['likes'] = concat_df['likes'].astype('int64')"
   ]
  },
  {
   "cell_type": "code",
   "execution_count": 361,
   "metadata": {},
   "outputs": [
    {
     "data": {
      "text/html": [
       "<div>\n",
       "<style scoped>\n",
       "    .dataframe tbody tr th:only-of-type {\n",
       "        vertical-align: middle;\n",
       "    }\n",
       "\n",
       "    .dataframe tbody tr th {\n",
       "        vertical-align: top;\n",
       "    }\n",
       "\n",
       "    .dataframe thead th {\n",
       "        text-align: right;\n",
       "    }\n",
       "</style>\n",
       "<table border=\"1\" class=\"dataframe\">\n",
       "  <thead>\n",
       "    <tr style=\"text-align: right;\">\n",
       "      <th></th>\n",
       "      <th>categories</th>\n",
       "      <th>title</th>\n",
       "      <th>company_names</th>\n",
       "      <th>percentages</th>\n",
       "      <th>funding_amounts</th>\n",
       "      <th>n_supporters</th>\n",
       "      <th>likes</th>\n",
       "      <th>descriptions</th>\n",
       "      <th>durations</th>\n",
       "      <th>target_amounts</th>\n",
       "    </tr>\n",
       "  </thead>\n",
       "  <tbody>\n",
       "    <tr>\n",
       "      <th>0</th>\n",
       "      <td>뷰티</td>\n",
       "      <td>[와디즈 최초]20대 딸이랑 50대 엄마랑 함께 쓰는 주름개선 만능 크림</td>\n",
       "      <td>주식회사칼라코드</td>\n",
       "      <td>467</td>\n",
       "      <td>2338880</td>\n",
       "      <td>54.0</td>\n",
       "      <td>41</td>\n",
       "      <td>테라젠의 첫 번째 제품, 20대 딸이랑 50대 엄마가 함께 쓰는 주름개선 만능 크림...</td>\n",
       "      <td>2020.02.28-2020.03.06</td>\n",
       "      <td>500000</td>\n",
       "    </tr>\n",
       "    <tr>\n",
       "      <th>1</th>\n",
       "      <td>뷰티</td>\n",
       "      <td>[2.8억 앵콜] 하루만에 수분140%증가! 임상검증 완료! 갈바닉마스크</td>\n",
       "      <td>반디비타 주식회사</td>\n",
       "      <td>1426</td>\n",
       "      <td>14260000</td>\n",
       "      <td>145.0</td>\n",
       "      <td>79</td>\n",
       "      <td>지금 쓰는 스킨케어 제품의 수분증발을 잡아주고 유효성분은 갈바닉으로 피부 깊숙히 전...</td>\n",
       "      <td>2021.04.26-2021.05.31</td>\n",
       "      <td>1000000</td>\n",
       "    </tr>\n",
       "    <tr>\n",
       "      <th>2</th>\n",
       "      <td>뷰티</td>\n",
       "      <td>1000개 유명 피부과에 공급되는 시크릿 포뮬러를 담은 33패드 프로그램</td>\n",
       "      <td>(주)코떼랑</td>\n",
       "      <td>1003</td>\n",
       "      <td>5017500</td>\n",
       "      <td>65.0</td>\n",
       "      <td>65</td>\n",
       "      <td>위시포뮬러가 피부과 화장품 제조 20년의 기술과 노하우를 단 한 장의  패드에 담았...</td>\n",
       "      <td>2019.04.16-2019.05.06</td>\n",
       "      <td>500000</td>\n",
       "    </tr>\n",
       "    <tr>\n",
       "      <th>3</th>\n",
       "      <td>뷰티</td>\n",
       "      <td>두피 관리의 핵심은 유분량의 균형입니다! 올솔 모닝-나이트 밸런스 샴푸</td>\n",
       "      <td>올솔 (allsol)</td>\n",
       "      <td>1471</td>\n",
       "      <td>7358800</td>\n",
       "      <td>134.0</td>\n",
       "      <td>130</td>\n",
       "      <td>매일 변하는 두피 유분량! \\n그런데도 매번 같은 타입의 샴푸 쓰세요? \\n두피뿐만...</td>\n",
       "      <td>2020.03.13-2020.04.06</td>\n",
       "      <td>500000</td>\n",
       "    </tr>\n",
       "    <tr>\n",
       "      <th>4</th>\n",
       "      <td>뷰티</td>\n",
       "      <td>컨디셔너 필요없이 그린빈샴푸 하나로 두피와 모발의 건강을 책임집니다.</td>\n",
       "      <td>주라이프 네츄럴 코스메틱 주앤솝</td>\n",
       "      <td>138</td>\n",
       "      <td>694800</td>\n",
       "      <td>30.0</td>\n",
       "      <td>12</td>\n",
       "      <td>화학 성분 NO! 모발에 윤기와 탄력을 주며, 비듬이나 가려움을 덜어주며, 컨디셔너...</td>\n",
       "      <td>2019.04.26-2019.05.08</td>\n",
       "      <td>500000</td>\n",
       "    </tr>\n",
       "  </tbody>\n",
       "</table>\n",
       "</div>"
      ],
      "text/plain": [
       "  categories                                     title      company_names  \\\n",
       "0         뷰티  [와디즈 최초]20대 딸이랑 50대 엄마랑 함께 쓰는 주름개선 만능 크림           주식회사칼라코드   \n",
       "1         뷰티  [2.8억 앵콜] 하루만에 수분140%증가! 임상검증 완료! 갈바닉마스크          반디비타 주식회사   \n",
       "2         뷰티  1000개 유명 피부과에 공급되는 시크릿 포뮬러를 담은 33패드 프로그램             (주)코떼랑   \n",
       "3         뷰티   두피 관리의 핵심은 유분량의 균형입니다! 올솔 모닝-나이트 밸런스 샴푸        올솔 (allsol)   \n",
       "4         뷰티    컨디셔너 필요없이 그린빈샴푸 하나로 두피와 모발의 건강을 책임집니다.  주라이프 네츄럴 코스메틱 주앤솝   \n",
       "\n",
       "   percentages  funding_amounts  n_supporters  likes  \\\n",
       "0          467          2338880          54.0     41   \n",
       "1         1426         14260000         145.0     79   \n",
       "2         1003          5017500          65.0     65   \n",
       "3         1471          7358800         134.0    130   \n",
       "4          138           694800          30.0     12   \n",
       "\n",
       "                                        descriptions              durations  \\\n",
       "0  테라젠의 첫 번째 제품, 20대 딸이랑 50대 엄마가 함께 쓰는 주름개선 만능 크림...  2020.02.28-2020.03.06   \n",
       "1  지금 쓰는 스킨케어 제품의 수분증발을 잡아주고 유효성분은 갈바닉으로 피부 깊숙히 전...  2021.04.26-2021.05.31   \n",
       "2  위시포뮬러가 피부과 화장품 제조 20년의 기술과 노하우를 단 한 장의  패드에 담았...  2019.04.16-2019.05.06   \n",
       "3  매일 변하는 두피 유분량! \\n그런데도 매번 같은 타입의 샴푸 쓰세요? \\n두피뿐만...  2020.03.13-2020.04.06   \n",
       "4  화학 성분 NO! 모발에 윤기와 탄력을 주며, 비듬이나 가려움을 덜어주며, 컨디셔너...  2019.04.26-2019.05.08   \n",
       "\n",
       "   target_amounts  \n",
       "0          500000  \n",
       "1         1000000  \n",
       "2          500000  \n",
       "3          500000  \n",
       "4          500000  "
      ]
     },
     "execution_count": 361,
     "metadata": {},
     "output_type": "execute_result"
    }
   ],
   "source": [
    "concat_df.head()"
   ]
  },
  {
   "cell_type": "code",
   "execution_count": 362,
   "metadata": {},
   "outputs": [],
   "source": [
    "concat_df['durations'] = concat_df['durations'].str.split('-')"
   ]
  },
  {
   "cell_type": "code",
   "execution_count": 363,
   "metadata": {},
   "outputs": [],
   "source": [
    "concat_df['start'] = concat_df['durations'].str.get(0)\n",
    "concat_df['end'] = concat_df['durations'].str.get(1)"
   ]
  },
  {
   "cell_type": "code",
   "execution_count": 364,
   "metadata": {},
   "outputs": [],
   "source": [
    "concat_df['start'] = pd.to_datetime(concat_df['start'])\n",
    "concat_df['end'] = pd.to_datetime(concat_df['end'])"
   ]
  },
  {
   "cell_type": "code",
   "execution_count": 365,
   "metadata": {},
   "outputs": [],
   "source": [
    "concat_df['time'] = -(concat_df['start'] - concat_df['end'])"
   ]
  },
  {
   "cell_type": "code",
   "execution_count": 370,
   "metadata": {},
   "outputs": [
    {
     "ename": "AttributeError",
     "evalue": "Can only use .dt accessor with datetimelike values",
     "output_type": "error",
     "traceback": [
      "\u001b[1;31m---------------------------------------------------------------------------\u001b[0m",
      "\u001b[1;31mAttributeError\u001b[0m                            Traceback (most recent call last)",
      "\u001b[1;32m<ipython-input-370-4060a43132c8>\u001b[0m in \u001b[0;36m<module>\u001b[1;34m\u001b[0m\n\u001b[1;32m----> 1\u001b[1;33m \u001b[0mconcat_df\u001b[0m\u001b[1;33m[\u001b[0m\u001b[1;34m'time'\u001b[0m\u001b[1;33m]\u001b[0m \u001b[1;33m=\u001b[0m \u001b[0mconcat_df\u001b[0m\u001b[1;33m[\u001b[0m\u001b[1;34m'time'\u001b[0m\u001b[1;33m]\u001b[0m\u001b[1;33m.\u001b[0m\u001b[0mdt\u001b[0m\u001b[1;33m.\u001b[0m\u001b[0mdays\u001b[0m\u001b[1;33m\u001b[0m\u001b[1;33m\u001b[0m\u001b[0m\n\u001b[0m",
      "\u001b[1;32mC:\\ProgramData\\Anaconda3\\lib\\site-packages\\pandas\\core\\generic.py\u001b[0m in \u001b[0;36m__getattr__\u001b[1;34m(self, name)\u001b[0m\n\u001b[0;32m   5061\u001b[0m         if (name in self._internal_names_set or name in self._metadata or\n\u001b[0;32m   5062\u001b[0m                 name in self._accessors):\n\u001b[1;32m-> 5063\u001b[1;33m             \u001b[1;32mreturn\u001b[0m \u001b[0mobject\u001b[0m\u001b[1;33m.\u001b[0m\u001b[0m__getattribute__\u001b[0m\u001b[1;33m(\u001b[0m\u001b[0mself\u001b[0m\u001b[1;33m,\u001b[0m \u001b[0mname\u001b[0m\u001b[1;33m)\u001b[0m\u001b[1;33m\u001b[0m\u001b[1;33m\u001b[0m\u001b[0m\n\u001b[0m\u001b[0;32m   5064\u001b[0m         \u001b[1;32melse\u001b[0m\u001b[1;33m:\u001b[0m\u001b[1;33m\u001b[0m\u001b[1;33m\u001b[0m\u001b[0m\n\u001b[0;32m   5065\u001b[0m             \u001b[1;32mif\u001b[0m \u001b[0mself\u001b[0m\u001b[1;33m.\u001b[0m\u001b[0m_info_axis\u001b[0m\u001b[1;33m.\u001b[0m\u001b[0m_can_hold_identifiers_and_holds_name\u001b[0m\u001b[1;33m(\u001b[0m\u001b[0mname\u001b[0m\u001b[1;33m)\u001b[0m\u001b[1;33m:\u001b[0m\u001b[1;33m\u001b[0m\u001b[1;33m\u001b[0m\u001b[0m\n",
      "\u001b[1;32mC:\\ProgramData\\Anaconda3\\lib\\site-packages\\pandas\\core\\accessor.py\u001b[0m in \u001b[0;36m__get__\u001b[1;34m(self, obj, cls)\u001b[0m\n\u001b[0;32m    169\u001b[0m             \u001b[1;31m# we're accessing the attribute of the class, i.e., Dataset.geo\u001b[0m\u001b[1;33m\u001b[0m\u001b[1;33m\u001b[0m\u001b[1;33m\u001b[0m\u001b[0m\n\u001b[0;32m    170\u001b[0m             \u001b[1;32mreturn\u001b[0m \u001b[0mself\u001b[0m\u001b[1;33m.\u001b[0m\u001b[0m_accessor\u001b[0m\u001b[1;33m\u001b[0m\u001b[1;33m\u001b[0m\u001b[0m\n\u001b[1;32m--> 171\u001b[1;33m         \u001b[0maccessor_obj\u001b[0m \u001b[1;33m=\u001b[0m \u001b[0mself\u001b[0m\u001b[1;33m.\u001b[0m\u001b[0m_accessor\u001b[0m\u001b[1;33m(\u001b[0m\u001b[0mobj\u001b[0m\u001b[1;33m)\u001b[0m\u001b[1;33m\u001b[0m\u001b[1;33m\u001b[0m\u001b[0m\n\u001b[0m\u001b[0;32m    172\u001b[0m         \u001b[1;31m# Replace the property with the accessor object. Inspired by:\u001b[0m\u001b[1;33m\u001b[0m\u001b[1;33m\u001b[0m\u001b[1;33m\u001b[0m\u001b[0m\n\u001b[0;32m    173\u001b[0m         \u001b[1;31m# http://www.pydanny.com/cached-property.html\u001b[0m\u001b[1;33m\u001b[0m\u001b[1;33m\u001b[0m\u001b[1;33m\u001b[0m\u001b[0m\n",
      "\u001b[1;32mC:\\ProgramData\\Anaconda3\\lib\\site-packages\\pandas\\core\\indexes\\accessors.py\u001b[0m in \u001b[0;36m__new__\u001b[1;34m(cls, data)\u001b[0m\n\u001b[0;32m    322\u001b[0m             \u001b[1;32mpass\u001b[0m  \u001b[1;31m# we raise an attribute error anyway\u001b[0m\u001b[1;33m\u001b[0m\u001b[1;33m\u001b[0m\u001b[0m\n\u001b[0;32m    323\u001b[0m \u001b[1;33m\u001b[0m\u001b[0m\n\u001b[1;32m--> 324\u001b[1;33m         raise AttributeError(\"Can only use .dt accessor with datetimelike \"\n\u001b[0m\u001b[0;32m    325\u001b[0m                              \"values\")\n",
      "\u001b[1;31mAttributeError\u001b[0m: Can only use .dt accessor with datetimelike values"
     ]
    }
   ],
   "source": [
    "concat_df['time'] = concat_df['time'].dt.days"
   ]
  },
  {
   "cell_type": "code",
   "execution_count": 383,
   "metadata": {},
   "outputs": [],
   "source": [
    "concat_df = concat_df[['categories', 'title','company_names','target_amounts','funding_amounts','percentages',\n",
    "                       'n_supporters','likes','durations','start','end','time','descriptions']]"
   ]
  },
  {
   "cell_type": "code",
   "execution_count": 384,
   "metadata": {},
   "outputs": [],
   "source": [
    "concat_df.to_csv('concat_df.csv', encoding='utf-8')"
   ]
  },
  {
   "cell_type": "code",
   "execution_count": 385,
   "metadata": {},
   "outputs": [
    {
     "name": "stdout",
     "output_type": "stream",
     "text": [
      "<class 'pandas.core.frame.DataFrame'>\n",
      "Int64Index: 15349 entries, 0 to 2123\n",
      "Data columns (total 13 columns):\n",
      "categories         15349 non-null object\n",
      "title              15347 non-null object\n",
      "company_names      15344 non-null object\n",
      "target_amounts     15349 non-null int64\n",
      "funding_amounts    15349 non-null int64\n",
      "percentages        15349 non-null int64\n",
      "n_supporters       15282 non-null float64\n",
      "likes              15349 non-null int64\n",
      "durations          15349 non-null object\n",
      "start              15349 non-null datetime64[ns]\n",
      "end                15349 non-null datetime64[ns]\n",
      "time               15349 non-null int64\n",
      "descriptions       15343 non-null object\n",
      "dtypes: datetime64[ns](2), float64(1), int64(5), object(5)\n",
      "memory usage: 1.6+ MB\n"
     ]
    }
   ],
   "source": [
    "concat_df.info()"
   ]
  },
  {
   "cell_type": "code",
   "execution_count": null,
   "metadata": {},
   "outputs": [],
   "source": []
  }
 ],
 "metadata": {
  "kernelspec": {
   "display_name": "Python 3",
   "language": "python",
   "name": "python3"
  },
  "language_info": {
   "codemirror_mode": {
    "name": "ipython",
    "version": 3
   },
   "file_extension": ".py",
   "mimetype": "text/x-python",
   "name": "python",
   "nbconvert_exporter": "python",
   "pygments_lexer": "ipython3",
   "version": "3.7.3"
  }
 },
 "nbformat": 4,
 "nbformat_minor": 2
}
