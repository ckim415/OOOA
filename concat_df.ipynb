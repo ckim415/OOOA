{
 "cells": [
  {
   "cell_type": "code",
   "execution_count": 579,
   "metadata": {},
   "outputs": [],
   "source": [
    "import pandas as pd\n",
    "import numpy as np"
   ]
  },
  {
   "cell_type": "code",
   "execution_count": 580,
   "metadata": {},
   "outputs": [],
   "source": [
    "beauty = pd.read_csv('beauty.csv', encoding='utf-8', index_col='Unnamed: 0')\n",
    "show_and_culture = pd.read_csv('show_and_culture.csv', encoding='utf-8', index_col='Unnamed: 0')\n",
    "travel = pd.read_csv('travel.csv', encoding='utf-8', index_col='Unnamed: 0')"
   ]
  },
  {
   "cell_type": "code",
   "execution_count": 581,
   "metadata": {},
   "outputs": [],
   "source": [
    "df1 = pd.concat([beauty, show_and_culture, travel], ignore_index=True)\n",
    "df1 = df1.drop('days_left', axis=1)"
   ]
  },
  {
   "cell_type": "code",
   "execution_count": 582,
   "metadata": {},
   "outputs": [],
   "source": [
    "df1 = df1[['categories', 'title','company_names','percentages','funding_amounts','n_supporters','likes','descriptions','durations','target_amounts']]"
   ]
  },
  {
   "cell_type": "code",
   "execution_count": 583,
   "metadata": {},
   "outputs": [],
   "source": [
    "df1 = df1.replace('None', pd.np.nan).dropna()"
   ]
  },
  {
   "cell_type": "code",
   "execution_count": 584,
   "metadata": {},
   "outputs": [],
   "source": [
    "edu = pd.read_csv('edu.csv', encoding='utf-8', index_col='Unnamed: 0')\n",
    "sports = pd.read_csv('sports.csv', encoding='utf-8', index_col='Unnamed: 0')\n",
    "socialcampaign = pd.read_csv('socialcampaign.csv', encoding='utf-8', index_col='Unnamed: 0')\n",
    "food = pd.read_csv('food.csv', encoding='utf-8', index_col='Unnamed: 0')\n",
    "design = pd.read_csv('design.csv', encoding='utf-8', index_col='Unnamed: 0')\n",
    "home = pd.read_csv('home.csv', encoding='utf-8', index_col='Unnamed: 0')\n",
    "donation = pd.read_csv('donation.csv', encoding='utf-8', index_col='Unnamed: 0')\n",
    "publishing = pd.read_csv('publishing.csv', encoding='utf-8', index_col='Unnamed: 0')\n",
    "fashion = pd.read_csv('fashion.csv', encoding='utf-8', index_col='Unnamed: 0')\n",
    "meeting = pd.read_csv('meeting.csv', encoding='utf-8', index_col='Unnamed: 0')\n",
    "pet = pd.read_csv('pet.csv', encoding='utf-8', index_col='Unnamed: 0')\n",
    "tech = pd.read_csv('tech.csv', encoding='utf-8', index_col='Unnamed: 0')"
   ]
  },
  {
   "cell_type": "code",
   "execution_count": 585,
   "metadata": {},
   "outputs": [],
   "source": [
    "df2 = pd.concat([edu, sports, socialcampaign, food, design, home, donation, publishing, fashion, meeting, pet, tech], sort=False)"
   ]
  },
  {
   "cell_type": "code",
   "execution_count": 586,
   "metadata": {},
   "outputs": [],
   "source": [
    "df2 = df2.drop('days_left', axis=1)"
   ]
  },
  {
   "cell_type": "code",
   "execution_count": 587,
   "metadata": {},
   "outputs": [],
   "source": [
    "concat_df = pd.concat([df1, df2])"
   ]
  },
  {
   "cell_type": "code",
   "execution_count": 588,
   "metadata": {},
   "outputs": [
    {
     "data": {
      "text/plain": [
       "array(['뷰티', '공연·컬쳐', '여행·레저', '교육·키즈', '스포츠·모빌리티', '소셜·캠페인', '푸드',\n",
       "       '디자인소품', '홈리빙', '기부·후원', '출판', '패션·잡화', '모임', '반려동물', '테크·가전'],\n",
       "      dtype=object)"
      ]
     },
     "execution_count": 588,
     "metadata": {},
     "output_type": "execute_result"
    }
   ],
   "source": [
    "concat_df.dropna()\n",
    "concat_df['categories'].unique()"
   ]
  },
  {
   "cell_type": "code",
   "execution_count": 589,
   "metadata": {},
   "outputs": [],
   "source": [
    "# percentages 형변환\n",
    "concat_df['percentages'] = concat_df['percentages'].str.replace('%','').astype('int64')"
   ]
  },
  {
   "cell_type": "code",
   "execution_count": 590,
   "metadata": {},
   "outputs": [],
   "source": [
    "# funding_amounts 형변환\n",
    "concat_df['funding_amounts'] = concat_df['funding_amounts'].str.replace(',','')\n",
    "concat_df['funding_amounts'] = concat_df['funding_amounts'].str.replace('원','').astype('int64')"
   ]
  },
  {
   "cell_type": "code",
   "execution_count": 591,
   "metadata": {},
   "outputs": [],
   "source": [
    "# target_amount 형변환\n",
    "concat_df['target_amounts'] = concat_df['target_amounts'].str.replace(',','')\n",
    "concat_df['target_amounts'] = concat_df['target_amounts'].str.replace('원','').astype('int64')"
   ]
  },
  {
   "cell_type": "code",
   "execution_count": 592,
   "metadata": {},
   "outputs": [],
   "source": [
    "# n_supporters 형변환\n",
    "concat_df['n_supporters'] = concat_df['n_supporters'].str.replace(',','').astype('float64')"
   ]
  },
  {
   "cell_type": "code",
   "execution_count": 593,
   "metadata": {},
   "outputs": [
    {
     "data": {
      "text/plain": [
       "67"
      ]
     },
     "execution_count": 593,
     "metadata": {},
     "output_type": "execute_result"
    }
   ],
   "source": [
    "# n_supporters 결측치 확인\n",
    "concat_df['n_supporters'].isnull().sum()"
   ]
  },
  {
   "cell_type": "code",
   "execution_count": 594,
   "metadata": {},
   "outputs": [],
   "source": [
    "# n_supporters 결측치 처리\n",
    "idxmin = concat_df['n_supporters'].idxmin()\n",
    "concat_df['n_supporters'].fillna(idxmin, inplace=True)"
   ]
  },
  {
   "cell_type": "code",
   "execution_count": 595,
   "metadata": {},
   "outputs": [],
   "source": [
    "# n_supporters 형변환(float64 → int64)\n",
    "concat_df['n_supporters'] = concat_df['n_supporters'].astype('int64')"
   ]
  },
  {
   "cell_type": "code",
   "execution_count": 596,
   "metadata": {},
   "outputs": [],
   "source": [
    "# likes 형변환\n",
    "concat_df['likes'] = concat_df['likes'].astype('int64')"
   ]
  },
  {
   "cell_type": "code",
   "execution_count": 597,
   "metadata": {},
   "outputs": [],
   "source": [
    "concat_df['durations'] = concat_df['durations'].str.split('-')"
   ]
  },
  {
   "cell_type": "code",
   "execution_count": 598,
   "metadata": {},
   "outputs": [],
   "source": [
    "concat_df['start'] = concat_df['durations'].str.get(0)\n",
    "concat_df['end'] = concat_df['durations'].str.get(1)"
   ]
  },
  {
   "cell_type": "code",
   "execution_count": 599,
   "metadata": {},
   "outputs": [],
   "source": [
    "concat_df['start'] = pd.to_datetime(concat_df['start'])\n",
    "concat_df['end'] = pd.to_datetime(concat_df['end'])"
   ]
  },
  {
   "cell_type": "code",
   "execution_count": 600,
   "metadata": {},
   "outputs": [],
   "source": [
    "concat_df['time'] = -(concat_df['start'] - concat_df['end'])"
   ]
  },
  {
   "cell_type": "code",
   "execution_count": 601,
   "metadata": {},
   "outputs": [
    {
     "data": {
      "text/plain": [
       "0    7 days\n",
       "1   35 days\n",
       "2   20 days\n",
       "3   24 days\n",
       "4   12 days\n",
       "Name: time, dtype: timedelta64[ns]"
      ]
     },
     "execution_count": 601,
     "metadata": {},
     "output_type": "execute_result"
    }
   ],
   "source": [
    "concat_df['time'].head()"
   ]
  },
  {
   "cell_type": "code",
   "execution_count": 602,
   "metadata": {},
   "outputs": [],
   "source": [
    "concat_df['time'] = concat_df['time'].dt.days"
   ]
  },
  {
   "cell_type": "code",
   "execution_count": 603,
   "metadata": {},
   "outputs": [],
   "source": [
    "concat_df = concat_df[['categories', 'title','company_names','target_amounts','funding_amounts','percentages',\n",
    "                       'n_supporters','likes','durations','start','end','time','descriptions']]"
   ]
  },
  {
   "cell_type": "code",
   "execution_count": 604,
   "metadata": {},
   "outputs": [
    {
     "data": {
      "text/html": [
       "<div>\n",
       "<style scoped>\n",
       "    .dataframe tbody tr th:only-of-type {\n",
       "        vertical-align: middle;\n",
       "    }\n",
       "\n",
       "    .dataframe tbody tr th {\n",
       "        vertical-align: top;\n",
       "    }\n",
       "\n",
       "    .dataframe thead th {\n",
       "        text-align: right;\n",
       "    }\n",
       "</style>\n",
       "<table border=\"1\" class=\"dataframe\">\n",
       "  <thead>\n",
       "    <tr style=\"text-align: right;\">\n",
       "      <th></th>\n",
       "      <th>categories</th>\n",
       "      <th>title</th>\n",
       "      <th>company_names</th>\n",
       "      <th>target_amounts</th>\n",
       "      <th>funding_amounts</th>\n",
       "      <th>percentages</th>\n",
       "      <th>n_supporters</th>\n",
       "      <th>likes</th>\n",
       "      <th>start</th>\n",
       "      <th>end</th>\n",
       "      <th>time</th>\n",
       "      <th>descriptions</th>\n",
       "    </tr>\n",
       "  </thead>\n",
       "  <tbody>\n",
       "    <tr>\n",
       "      <th>0</th>\n",
       "      <td>뷰티</td>\n",
       "      <td>[와디즈 최초]20대 딸이랑 50대 엄마랑 함께 쓰는 주름개선 만능 크림</td>\n",
       "      <td>주식회사칼라코드</td>\n",
       "      <td>500000</td>\n",
       "      <td>2338880</td>\n",
       "      <td>467</td>\n",
       "      <td>54</td>\n",
       "      <td>41</td>\n",
       "      <td>2020-02-28</td>\n",
       "      <td>2020-03-06</td>\n",
       "      <td>7</td>\n",
       "      <td>테라젠의 첫 번째 제품, 20대 딸이랑 50대 엄마가 함께 쓰는 주름개선 만능 크림...</td>\n",
       "    </tr>\n",
       "    <tr>\n",
       "      <th>1</th>\n",
       "      <td>뷰티</td>\n",
       "      <td>[2.8억 앵콜] 하루만에 수분140%증가! 임상검증 완료! 갈바닉마스크</td>\n",
       "      <td>반디비타 주식회사</td>\n",
       "      <td>1000000</td>\n",
       "      <td>14260000</td>\n",
       "      <td>1426</td>\n",
       "      <td>145</td>\n",
       "      <td>79</td>\n",
       "      <td>2021-04-26</td>\n",
       "      <td>2021-05-31</td>\n",
       "      <td>35</td>\n",
       "      <td>지금 쓰는 스킨케어 제품의 수분증발을 잡아주고 유효성분은 갈바닉으로 피부 깊숙히 전...</td>\n",
       "    </tr>\n",
       "    <tr>\n",
       "      <th>2</th>\n",
       "      <td>뷰티</td>\n",
       "      <td>1000개 유명 피부과에 공급되는 시크릿 포뮬러를 담은 33패드 프로그램</td>\n",
       "      <td>(주)코떼랑</td>\n",
       "      <td>500000</td>\n",
       "      <td>5017500</td>\n",
       "      <td>1003</td>\n",
       "      <td>65</td>\n",
       "      <td>65</td>\n",
       "      <td>2019-04-16</td>\n",
       "      <td>2019-05-06</td>\n",
       "      <td>20</td>\n",
       "      <td>위시포뮬러가 피부과 화장품 제조 20년의 기술과 노하우를 단 한 장의  패드에 담았...</td>\n",
       "    </tr>\n",
       "    <tr>\n",
       "      <th>3</th>\n",
       "      <td>뷰티</td>\n",
       "      <td>두피 관리의 핵심은 유분량의 균형입니다! 올솔 모닝-나이트 밸런스 샴푸</td>\n",
       "      <td>올솔 (allsol)</td>\n",
       "      <td>500000</td>\n",
       "      <td>7358800</td>\n",
       "      <td>1471</td>\n",
       "      <td>134</td>\n",
       "      <td>130</td>\n",
       "      <td>2020-03-13</td>\n",
       "      <td>2020-04-06</td>\n",
       "      <td>24</td>\n",
       "      <td>매일 변하는 두피 유분량! \\n그런데도 매번 같은 타입의 샴푸 쓰세요? \\n두피뿐만...</td>\n",
       "    </tr>\n",
       "    <tr>\n",
       "      <th>4</th>\n",
       "      <td>뷰티</td>\n",
       "      <td>컨디셔너 필요없이 그린빈샴푸 하나로 두피와 모발의 건강을 책임집니다.</td>\n",
       "      <td>주라이프 네츄럴 코스메틱 주앤솝</td>\n",
       "      <td>500000</td>\n",
       "      <td>694800</td>\n",
       "      <td>138</td>\n",
       "      <td>30</td>\n",
       "      <td>12</td>\n",
       "      <td>2019-04-26</td>\n",
       "      <td>2019-05-08</td>\n",
       "      <td>12</td>\n",
       "      <td>화학 성분 NO! 모발에 윤기와 탄력을 주며, 비듬이나 가려움을 덜어주며, 컨디셔너...</td>\n",
       "    </tr>\n",
       "  </tbody>\n",
       "</table>\n",
       "</div>"
      ],
      "text/plain": [
       "  categories                                     title      company_names  \\\n",
       "0         뷰티  [와디즈 최초]20대 딸이랑 50대 엄마랑 함께 쓰는 주름개선 만능 크림           주식회사칼라코드   \n",
       "1         뷰티  [2.8억 앵콜] 하루만에 수분140%증가! 임상검증 완료! 갈바닉마스크          반디비타 주식회사   \n",
       "2         뷰티  1000개 유명 피부과에 공급되는 시크릿 포뮬러를 담은 33패드 프로그램             (주)코떼랑   \n",
       "3         뷰티   두피 관리의 핵심은 유분량의 균형입니다! 올솔 모닝-나이트 밸런스 샴푸        올솔 (allsol)   \n",
       "4         뷰티    컨디셔너 필요없이 그린빈샴푸 하나로 두피와 모발의 건강을 책임집니다.  주라이프 네츄럴 코스메틱 주앤솝   \n",
       "\n",
       "   target_amounts  funding_amounts  percentages  n_supporters  likes  \\\n",
       "0          500000          2338880          467            54     41   \n",
       "1         1000000         14260000         1426           145     79   \n",
       "2          500000          5017500         1003            65     65   \n",
       "3          500000          7358800         1471           134    130   \n",
       "4          500000           694800          138            30     12   \n",
       "\n",
       "       start        end  time  \\\n",
       "0 2020-02-28 2020-03-06     7   \n",
       "1 2021-04-26 2021-05-31    35   \n",
       "2 2019-04-16 2019-05-06    20   \n",
       "3 2020-03-13 2020-04-06    24   \n",
       "4 2019-04-26 2019-05-08    12   \n",
       "\n",
       "                                        descriptions  \n",
       "0  테라젠의 첫 번째 제품, 20대 딸이랑 50대 엄마가 함께 쓰는 주름개선 만능 크림...  \n",
       "1  지금 쓰는 스킨케어 제품의 수분증발을 잡아주고 유효성분은 갈바닉으로 피부 깊숙히 전...  \n",
       "2  위시포뮬러가 피부과 화장품 제조 20년의 기술과 노하우를 단 한 장의  패드에 담았...  \n",
       "3  매일 변하는 두피 유분량! \\n그런데도 매번 같은 타입의 샴푸 쓰세요? \\n두피뿐만...  \n",
       "4  화학 성분 NO! 모발에 윤기와 탄력을 주며, 비듬이나 가려움을 덜어주며, 컨디셔너...  "
      ]
     },
     "execution_count": 604,
     "metadata": {},
     "output_type": "execute_result"
    }
   ],
   "source": [
    "concat_df.drop('durations', axis=1).head()"
   ]
  },
  {
   "cell_type": "code",
   "execution_count": 605,
   "metadata": {},
   "outputs": [],
   "source": [
    "concat_df['result'] = concat_df['funding_amounts'] >= concat_df['target_amounts']"
   ]
  },
  {
   "cell_type": "code",
   "execution_count": 606,
   "metadata": {},
   "outputs": [
    {
     "data": {
      "text/html": [
       "<div>\n",
       "<style scoped>\n",
       "    .dataframe tbody tr th:only-of-type {\n",
       "        vertical-align: middle;\n",
       "    }\n",
       "\n",
       "    .dataframe tbody tr th {\n",
       "        vertical-align: top;\n",
       "    }\n",
       "\n",
       "    .dataframe thead th {\n",
       "        text-align: right;\n",
       "    }\n",
       "</style>\n",
       "<table border=\"1\" class=\"dataframe\">\n",
       "  <thead>\n",
       "    <tr style=\"text-align: right;\">\n",
       "      <th></th>\n",
       "      <th>categories</th>\n",
       "      <th>title</th>\n",
       "      <th>company_names</th>\n",
       "      <th>target_amounts</th>\n",
       "      <th>funding_amounts</th>\n",
       "      <th>percentages</th>\n",
       "      <th>n_supporters</th>\n",
       "      <th>likes</th>\n",
       "      <th>durations</th>\n",
       "      <th>start</th>\n",
       "      <th>end</th>\n",
       "      <th>time</th>\n",
       "      <th>descriptions</th>\n",
       "      <th>result</th>\n",
       "    </tr>\n",
       "  </thead>\n",
       "  <tbody>\n",
       "    <tr>\n",
       "      <th>0</th>\n",
       "      <td>뷰티</td>\n",
       "      <td>[와디즈 최초]20대 딸이랑 50대 엄마랑 함께 쓰는 주름개선 만능 크림</td>\n",
       "      <td>주식회사칼라코드</td>\n",
       "      <td>500000</td>\n",
       "      <td>2338880</td>\n",
       "      <td>467</td>\n",
       "      <td>54</td>\n",
       "      <td>41</td>\n",
       "      <td>[2020.02.28, 2020.03.06]</td>\n",
       "      <td>2020-02-28</td>\n",
       "      <td>2020-03-06</td>\n",
       "      <td>7</td>\n",
       "      <td>테라젠의 첫 번째 제품, 20대 딸이랑 50대 엄마가 함께 쓰는 주름개선 만능 크림...</td>\n",
       "      <td>True</td>\n",
       "    </tr>\n",
       "    <tr>\n",
       "      <th>1</th>\n",
       "      <td>뷰티</td>\n",
       "      <td>[2.8억 앵콜] 하루만에 수분140%증가! 임상검증 완료! 갈바닉마스크</td>\n",
       "      <td>반디비타 주식회사</td>\n",
       "      <td>1000000</td>\n",
       "      <td>14260000</td>\n",
       "      <td>1426</td>\n",
       "      <td>145</td>\n",
       "      <td>79</td>\n",
       "      <td>[2021.04.26, 2021.05.31]</td>\n",
       "      <td>2021-04-26</td>\n",
       "      <td>2021-05-31</td>\n",
       "      <td>35</td>\n",
       "      <td>지금 쓰는 스킨케어 제품의 수분증발을 잡아주고 유효성분은 갈바닉으로 피부 깊숙히 전...</td>\n",
       "      <td>True</td>\n",
       "    </tr>\n",
       "    <tr>\n",
       "      <th>2</th>\n",
       "      <td>뷰티</td>\n",
       "      <td>1000개 유명 피부과에 공급되는 시크릿 포뮬러를 담은 33패드 프로그램</td>\n",
       "      <td>(주)코떼랑</td>\n",
       "      <td>500000</td>\n",
       "      <td>5017500</td>\n",
       "      <td>1003</td>\n",
       "      <td>65</td>\n",
       "      <td>65</td>\n",
       "      <td>[2019.04.16, 2019.05.06]</td>\n",
       "      <td>2019-04-16</td>\n",
       "      <td>2019-05-06</td>\n",
       "      <td>20</td>\n",
       "      <td>위시포뮬러가 피부과 화장품 제조 20년의 기술과 노하우를 단 한 장의  패드에 담았...</td>\n",
       "      <td>True</td>\n",
       "    </tr>\n",
       "    <tr>\n",
       "      <th>3</th>\n",
       "      <td>뷰티</td>\n",
       "      <td>두피 관리의 핵심은 유분량의 균형입니다! 올솔 모닝-나이트 밸런스 샴푸</td>\n",
       "      <td>올솔 (allsol)</td>\n",
       "      <td>500000</td>\n",
       "      <td>7358800</td>\n",
       "      <td>1471</td>\n",
       "      <td>134</td>\n",
       "      <td>130</td>\n",
       "      <td>[2020.03.13, 2020.04.06]</td>\n",
       "      <td>2020-03-13</td>\n",
       "      <td>2020-04-06</td>\n",
       "      <td>24</td>\n",
       "      <td>매일 변하는 두피 유분량! \\n그런데도 매번 같은 타입의 샴푸 쓰세요? \\n두피뿐만...</td>\n",
       "      <td>True</td>\n",
       "    </tr>\n",
       "    <tr>\n",
       "      <th>4</th>\n",
       "      <td>뷰티</td>\n",
       "      <td>컨디셔너 필요없이 그린빈샴푸 하나로 두피와 모발의 건강을 책임집니다.</td>\n",
       "      <td>주라이프 네츄럴 코스메틱 주앤솝</td>\n",
       "      <td>500000</td>\n",
       "      <td>694800</td>\n",
       "      <td>138</td>\n",
       "      <td>30</td>\n",
       "      <td>12</td>\n",
       "      <td>[2019.04.26, 2019.05.08]</td>\n",
       "      <td>2019-04-26</td>\n",
       "      <td>2019-05-08</td>\n",
       "      <td>12</td>\n",
       "      <td>화학 성분 NO! 모발에 윤기와 탄력을 주며, 비듬이나 가려움을 덜어주며, 컨디셔너...</td>\n",
       "      <td>True</td>\n",
       "    </tr>\n",
       "  </tbody>\n",
       "</table>\n",
       "</div>"
      ],
      "text/plain": [
       "  categories                                     title      company_names  \\\n",
       "0         뷰티  [와디즈 최초]20대 딸이랑 50대 엄마랑 함께 쓰는 주름개선 만능 크림           주식회사칼라코드   \n",
       "1         뷰티  [2.8억 앵콜] 하루만에 수분140%증가! 임상검증 완료! 갈바닉마스크          반디비타 주식회사   \n",
       "2         뷰티  1000개 유명 피부과에 공급되는 시크릿 포뮬러를 담은 33패드 프로그램             (주)코떼랑   \n",
       "3         뷰티   두피 관리의 핵심은 유분량의 균형입니다! 올솔 모닝-나이트 밸런스 샴푸        올솔 (allsol)   \n",
       "4         뷰티    컨디셔너 필요없이 그린빈샴푸 하나로 두피와 모발의 건강을 책임집니다.  주라이프 네츄럴 코스메틱 주앤솝   \n",
       "\n",
       "   target_amounts  funding_amounts  percentages  n_supporters  likes  \\\n",
       "0          500000          2338880          467            54     41   \n",
       "1         1000000         14260000         1426           145     79   \n",
       "2          500000          5017500         1003            65     65   \n",
       "3          500000          7358800         1471           134    130   \n",
       "4          500000           694800          138            30     12   \n",
       "\n",
       "                  durations      start        end  time  \\\n",
       "0  [2020.02.28, 2020.03.06] 2020-02-28 2020-03-06     7   \n",
       "1  [2021.04.26, 2021.05.31] 2021-04-26 2021-05-31    35   \n",
       "2  [2019.04.16, 2019.05.06] 2019-04-16 2019-05-06    20   \n",
       "3  [2020.03.13, 2020.04.06] 2020-03-13 2020-04-06    24   \n",
       "4  [2019.04.26, 2019.05.08] 2019-04-26 2019-05-08    12   \n",
       "\n",
       "                                        descriptions  result  \n",
       "0  테라젠의 첫 번째 제품, 20대 딸이랑 50대 엄마가 함께 쓰는 주름개선 만능 크림...    True  \n",
       "1  지금 쓰는 스킨케어 제품의 수분증발을 잡아주고 유효성분은 갈바닉으로 피부 깊숙히 전...    True  \n",
       "2  위시포뮬러가 피부과 화장품 제조 20년의 기술과 노하우를 단 한 장의  패드에 담았...    True  \n",
       "3  매일 변하는 두피 유분량! \\n그런데도 매번 같은 타입의 샴푸 쓰세요? \\n두피뿐만...    True  \n",
       "4  화학 성분 NO! 모발에 윤기와 탄력을 주며, 비듬이나 가려움을 덜어주며, 컨디셔너...    True  "
      ]
     },
     "execution_count": 606,
     "metadata": {},
     "output_type": "execute_result"
    }
   ],
   "source": [
    "concat_df.head()"
   ]
  },
  {
   "cell_type": "code",
   "execution_count": 607,
   "metadata": {},
   "outputs": [],
   "source": [
    "dummies = pd.get_dummies(concat_df['result'])\n",
    "concat_df['result'] = dummies[True]"
   ]
  },
  {
   "cell_type": "code",
   "execution_count": 608,
   "metadata": {},
   "outputs": [
    {
     "name": "stdout",
     "output_type": "stream",
     "text": [
      "<class 'pandas.core.frame.DataFrame'>\n",
      "Int64Index: 21480 entries, 0 to 2123\n",
      "Data columns (total 14 columns):\n",
      "categories         21480 non-null object\n",
      "title              21479 non-null object\n",
      "company_names      21475 non-null object\n",
      "target_amounts     21480 non-null int64\n",
      "funding_amounts    21480 non-null int64\n",
      "percentages        21480 non-null int64\n",
      "n_supporters       21480 non-null int64\n",
      "likes              21480 non-null int64\n",
      "durations          21480 non-null object\n",
      "start              21480 non-null datetime64[ns]\n",
      "end                21480 non-null datetime64[ns]\n",
      "time               21480 non-null int64\n",
      "descriptions       21468 non-null object\n",
      "result             21480 non-null uint8\n",
      "dtypes: datetime64[ns](2), int64(6), object(5), uint8(1)\n",
      "memory usage: 2.3+ MB\n"
     ]
    }
   ],
   "source": [
    "concat_df.info()"
   ]
  },
  {
   "cell_type": "code",
   "execution_count": 609,
   "metadata": {},
   "outputs": [],
   "source": [
    "concat_df.to_csv('concat_df.csv', encoding='utf-8')"
   ]
  },
  {
   "cell_type": "code",
   "execution_count": null,
   "metadata": {},
   "outputs": [],
   "source": []
  }
 ],
 "metadata": {
  "kernelspec": {
   "display_name": "Python 3",
   "language": "python",
   "name": "python3"
  },
  "language_info": {
   "codemirror_mode": {
    "name": "ipython",
    "version": 3
   },
   "file_extension": ".py",
   "mimetype": "text/x-python",
   "name": "python",
   "nbconvert_exporter": "python",
   "pygments_lexer": "ipython3",
   "version": "3.7.3"
  }
 },
 "nbformat": 4,
 "nbformat_minor": 2
}
