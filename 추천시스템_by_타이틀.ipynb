{
  "nbformat": 4,
  "nbformat_minor": 0,
  "metadata": {
    "colab": {
      "name": "추천시스템 by 타이틀.ipynb",
      "provenance": [],
      "authorship_tag": "ABX9TyNrwe1TIulESgu2zB5Bhg7q",
      "include_colab_link": true
    },
    "kernelspec": {
      "name": "python3",
      "display_name": "Python 3"
    },
    "language_info": {
      "name": "python"
    }
  },
  "cells": [
    {
      "cell_type": "markdown",
      "metadata": {
        "id": "view-in-github",
        "colab_type": "text"
      },
      "source": [
        "<a href=\"https://colab.research.google.com/github/ckim415/OOOA/blob/main/%EC%B6%94%EC%B2%9C%EC%8B%9C%EC%8A%A4%ED%85%9C_by_%ED%83%80%EC%9D%B4%ED%8B%80.ipynb\" target=\"_parent\"><img src=\"https://colab.research.google.com/assets/colab-badge.svg\" alt=\"Open In Colab\"/></a>"
      ]
    },
    {
      "cell_type": "markdown",
      "metadata": {
        "id": "Yfe8L9AuHWdZ"
      },
      "source": [
        "# 코렙에서 한글 사용"
      ]
    },
    {
      "cell_type": "code",
      "metadata": {
        "colab": {
          "base_uri": "https://localhost:8080/"
        },
        "id": "kaRO9GDbHZb1",
        "outputId": "113fd41f-7db9-4a06-be76-e3f5610fba73"
      },
      "source": [
        "!apt -qq -y install fonts-nanum\n",
        " \n",
        "import matplotlib.pyplot as plt\n",
        "import matplotlib.font_manager as fm\n",
        " \n",
        "fontpath = '/usr/share/fonts/truetype/nanum/NanumBarunGothic.ttf'\n",
        "font = fm.FontProperties(fname=fontpath, size=10)\n",
        "fm._rebuild()\n",
        " \n",
        "# 그래프에 retina display 적용\n",
        "%config InlineBackend.figure_format = 'retina'\n",
        " \n",
        "# Colab 의 한글 폰트 설정\n",
        "plt.rc('font', family='NanumBarunGothic') "
      ],
      "execution_count": 1,
      "outputs": [
        {
          "output_type": "stream",
          "text": [
            "fonts-nanum is already the newest version (20170925-1).\n",
            "The following package was automatically installed and is no longer required:\n",
            "  libnvidia-common-460\n",
            "Use 'apt autoremove' to remove it.\n",
            "0 upgraded, 0 newly installed, 0 to remove and 34 not upgraded.\n"
          ],
          "name": "stdout"
        }
      ]
    },
    {
      "cell_type": "markdown",
      "metadata": {
        "id": "K-6AN4wxHaYx"
      },
      "source": [
        "# 구글드라이브 연동"
      ]
    },
    {
      "cell_type": "code",
      "metadata": {
        "colab": {
          "base_uri": "https://localhost:8080/"
        },
        "id": "n2CH5pgwHcga",
        "outputId": "23be81d1-01ae-43c5-81d2-3528c2657661"
      },
      "source": [
        "# 구글드라이브 연동\n",
        "from google.colab import drive\n",
        "drive.mount('/gdrive', force_remount=True)\n",
        "\n",
        "# 구글 드라이브 파일 확인\n",
        "!ls '/gdrive/My Drive/프로젝트2'\n",
        "\n",
        "# 반복되는 드라이브 경로 변수화\n",
        "drive_path = '/gdrive/My Drive/프로젝트2/'"
      ],
      "execution_count": 2,
      "outputs": [
        {
          "output_type": "stream",
          "text": [
            "Mounted at /gdrive\n",
            " 6144_link.csv\t\t       edu_link_df\n",
            "'추천시스템 by 타이틀.ipynb'   game_df.csv\n",
            " cate_keyword.csv\t       home.csv\n",
            " concat_df.csv\t\t      '프로젝트 데이터 분석.ipynb'\n",
            " crawling_final.ipynb\t       Untitled2.ipynb\n",
            " df_nouns_add.csv\n"
          ],
          "name": "stdout"
        }
      ]
    },
    {
      "cell_type": "code",
      "metadata": {
        "id": "KJKcqU6aHysQ"
      },
      "source": [
        "import pandas as pd\n",
        "import numpy as np"
      ],
      "execution_count": 3,
      "outputs": []
    },
    {
      "cell_type": "markdown",
      "metadata": {
        "id": "UH1Cf6G7HwRS"
      },
      "source": [
        "# 데이터 가져오기"
      ]
    },
    {
      "cell_type": "code",
      "metadata": {
        "colab": {
          "base_uri": "https://localhost:8080/",
          "height": 306
        },
        "id": "Ofj9WNL5Hs63",
        "outputId": "efaf6813-603b-4728-e30c-d313d3144b3a"
      },
      "source": [
        "df = pd.read_csv(drive_path + 'concat_df.csv')\n",
        "df.head()"
      ],
      "execution_count": 4,
      "outputs": [
        {
          "output_type": "execute_result",
          "data": {
            "text/html": [
              "<div>\n",
              "<style scoped>\n",
              "    .dataframe tbody tr th:only-of-type {\n",
              "        vertical-align: middle;\n",
              "    }\n",
              "\n",
              "    .dataframe tbody tr th {\n",
              "        vertical-align: top;\n",
              "    }\n",
              "\n",
              "    .dataframe thead th {\n",
              "        text-align: right;\n",
              "    }\n",
              "</style>\n",
              "<table border=\"1\" class=\"dataframe\">\n",
              "  <thead>\n",
              "    <tr style=\"text-align: right;\">\n",
              "      <th></th>\n",
              "      <th>Unnamed: 0</th>\n",
              "      <th>categories</th>\n",
              "      <th>title</th>\n",
              "      <th>company_names</th>\n",
              "      <th>target_amounts</th>\n",
              "      <th>funding_amounts</th>\n",
              "      <th>percentages</th>\n",
              "      <th>n_supporters</th>\n",
              "      <th>likes</th>\n",
              "      <th>durations</th>\n",
              "      <th>start</th>\n",
              "      <th>end</th>\n",
              "      <th>time</th>\n",
              "      <th>descriptions</th>\n",
              "      <th>result</th>\n",
              "    </tr>\n",
              "  </thead>\n",
              "  <tbody>\n",
              "    <tr>\n",
              "      <th>0</th>\n",
              "      <td>0</td>\n",
              "      <td>뷰티</td>\n",
              "      <td>[와디즈 최초]20대 딸이랑 50대 엄마랑 함께 쓰는 주름개선 만능 크림</td>\n",
              "      <td>주식회사칼라코드</td>\n",
              "      <td>500000</td>\n",
              "      <td>2338880</td>\n",
              "      <td>467</td>\n",
              "      <td>54</td>\n",
              "      <td>41</td>\n",
              "      <td>['2020.02.28', '2020.03.06']</td>\n",
              "      <td>2020-02-28</td>\n",
              "      <td>2020-03-06</td>\n",
              "      <td>7</td>\n",
              "      <td>테라젠의 첫 번째 제품, 20대 딸이랑 50대 엄마가 함께 쓰는 주름개선 만능 크림...</td>\n",
              "      <td>1</td>\n",
              "    </tr>\n",
              "    <tr>\n",
              "      <th>1</th>\n",
              "      <td>1</td>\n",
              "      <td>뷰티</td>\n",
              "      <td>[2.8억 앵콜] 하루만에 수분140%증가! 임상검증 완료! 갈바닉마스크</td>\n",
              "      <td>반디비타 주식회사</td>\n",
              "      <td>1000000</td>\n",
              "      <td>14260000</td>\n",
              "      <td>1426</td>\n",
              "      <td>145</td>\n",
              "      <td>79</td>\n",
              "      <td>['2021.04.26', '2021.05.31']</td>\n",
              "      <td>2021-04-26</td>\n",
              "      <td>2021-05-31</td>\n",
              "      <td>35</td>\n",
              "      <td>지금 쓰는 스킨케어 제품의 수분증발을 잡아주고 유효성분은 갈바닉으로 피부 깊숙히 전...</td>\n",
              "      <td>1</td>\n",
              "    </tr>\n",
              "    <tr>\n",
              "      <th>2</th>\n",
              "      <td>2</td>\n",
              "      <td>뷰티</td>\n",
              "      <td>1000개 유명 피부과에 공급되는 시크릿 포뮬러를 담은 33패드 프로그램</td>\n",
              "      <td>(주)코떼랑</td>\n",
              "      <td>500000</td>\n",
              "      <td>5017500</td>\n",
              "      <td>1003</td>\n",
              "      <td>65</td>\n",
              "      <td>65</td>\n",
              "      <td>['2019.04.16', '2019.05.06']</td>\n",
              "      <td>2019-04-16</td>\n",
              "      <td>2019-05-06</td>\n",
              "      <td>20</td>\n",
              "      <td>위시포뮬러가 피부과 화장품 제조 20년의 기술과 노하우를 단 한 장의  패드에 담았...</td>\n",
              "      <td>1</td>\n",
              "    </tr>\n",
              "    <tr>\n",
              "      <th>3</th>\n",
              "      <td>3</td>\n",
              "      <td>뷰티</td>\n",
              "      <td>두피 관리의 핵심은 유분량의 균형입니다! 올솔 모닝-나이트 밸런스 샴푸</td>\n",
              "      <td>올솔 (allsol)</td>\n",
              "      <td>500000</td>\n",
              "      <td>7358800</td>\n",
              "      <td>1471</td>\n",
              "      <td>134</td>\n",
              "      <td>130</td>\n",
              "      <td>['2020.03.13', '2020.04.06']</td>\n",
              "      <td>2020-03-13</td>\n",
              "      <td>2020-04-06</td>\n",
              "      <td>24</td>\n",
              "      <td>매일 변하는 두피 유분량! \\n그런데도 매번 같은 타입의 샴푸 쓰세요? \\n두피뿐만...</td>\n",
              "      <td>1</td>\n",
              "    </tr>\n",
              "    <tr>\n",
              "      <th>4</th>\n",
              "      <td>4</td>\n",
              "      <td>뷰티</td>\n",
              "      <td>컨디셔너 필요없이 그린빈샴푸 하나로 두피와 모발의 건강을 책임집니다.</td>\n",
              "      <td>주라이프 네츄럴 코스메틱 주앤솝</td>\n",
              "      <td>500000</td>\n",
              "      <td>694800</td>\n",
              "      <td>138</td>\n",
              "      <td>30</td>\n",
              "      <td>12</td>\n",
              "      <td>['2019.04.26', '2019.05.08']</td>\n",
              "      <td>2019-04-26</td>\n",
              "      <td>2019-05-08</td>\n",
              "      <td>12</td>\n",
              "      <td>화학 성분 NO! 모발에 윤기와 탄력을 주며, 비듬이나 가려움을 덜어주며, 컨디셔너...</td>\n",
              "      <td>1</td>\n",
              "    </tr>\n",
              "  </tbody>\n",
              "</table>\n",
              "</div>"
            ],
            "text/plain": [
              "   Unnamed: 0  ... result\n",
              "0           0  ...      1\n",
              "1           1  ...      1\n",
              "2           2  ...      1\n",
              "3           3  ...      1\n",
              "4           4  ...      1\n",
              "\n",
              "[5 rows x 15 columns]"
            ]
          },
          "metadata": {
            "tags": []
          },
          "execution_count": 4
        }
      ]
    },
    {
      "cell_type": "markdown",
      "metadata": {
        "id": "S5r9Y8SVIpJM"
      },
      "source": [
        "# text 처리\n",
        "\n",
        "*   특수문자 제거\n",
        "\n",
        "\n"
      ]
    },
    {
      "cell_type": "code",
      "metadata": {
        "id": "DJ3izQCUIE9H"
      },
      "source": [
        "import re\n",
        "from string import punctuation"
      ],
      "execution_count": 5,
      "outputs": []
    },
    {
      "cell_type": "code",
      "metadata": {
        "colab": {
          "base_uri": "https://localhost:8080/",
          "height": 35
        },
        "id": "eFqX6CDJKaAX",
        "outputId": "4fa3a486-221f-4dde-e54f-6c034b0333c7"
      },
      "source": [
        "punctuation"
      ],
      "execution_count": 6,
      "outputs": [
        {
          "output_type": "execute_result",
          "data": {
            "application/vnd.google.colaboratory.intrinsic+json": {
              "type": "string"
            },
            "text/plain": [
              "'!\"#$%&\\'()*+,-./:;<=>?@[\\\\]^_`{|}~'"
            ]
          },
          "metadata": {
            "tags": []
          },
          "execution_count": 6
        }
      ]
    },
    {
      "cell_type": "code",
      "metadata": {
        "colab": {
          "base_uri": "https://localhost:8080/"
        },
        "id": "2tzuTv9KR6VR",
        "outputId": "cf1ee8c7-f322-4f81-f8f2-2c7788a28857"
      },
      "source": [
        "!pip install konlpy wordcloud"
      ],
      "execution_count": 7,
      "outputs": [
        {
          "output_type": "stream",
          "text": [
            "Collecting konlpy\n",
            "\u001b[?25l  Downloading https://files.pythonhosted.org/packages/85/0e/f385566fec837c0b83f216b2da65db9997b35dd675e107752005b7d392b1/konlpy-0.5.2-py2.py3-none-any.whl (19.4MB)\n",
            "\u001b[K     |████████████████████████████████| 19.4MB 1.2MB/s \n",
            "\u001b[?25hRequirement already satisfied: wordcloud in /usr/local/lib/python3.7/dist-packages (1.5.0)\n",
            "Requirement already satisfied: numpy>=1.6 in /usr/local/lib/python3.7/dist-packages (from konlpy) (1.19.5)\n",
            "Collecting beautifulsoup4==4.6.0\n",
            "\u001b[?25l  Downloading https://files.pythonhosted.org/packages/9e/d4/10f46e5cfac773e22707237bfcd51bbffeaf0a576b0a847ec7ab15bd7ace/beautifulsoup4-4.6.0-py3-none-any.whl (86kB)\n",
            "\u001b[K     |████████████████████████████████| 92kB 6.8MB/s \n",
            "\u001b[?25hRequirement already satisfied: tweepy>=3.7.0 in /usr/local/lib/python3.7/dist-packages (from konlpy) (3.10.0)\n",
            "Collecting JPype1>=0.7.0\n",
            "\u001b[?25l  Downloading https://files.pythonhosted.org/packages/cd/a5/9781e2ef4ca92d09912c4794642c1653aea7607f473e156cf4d423a881a1/JPype1-1.2.1-cp37-cp37m-manylinux2010_x86_64.whl (457kB)\n",
            "\u001b[K     |████████████████████████████████| 460kB 47.2MB/s \n",
            "\u001b[?25hCollecting colorama\n",
            "  Downloading https://files.pythonhosted.org/packages/44/98/5b86278fbbf250d239ae0ecb724f8572af1c91f4a11edf4d36a206189440/colorama-0.4.4-py2.py3-none-any.whl\n",
            "Requirement already satisfied: lxml>=4.1.0 in /usr/local/lib/python3.7/dist-packages (from konlpy) (4.2.6)\n",
            "Requirement already satisfied: pillow in /usr/local/lib/python3.7/dist-packages (from wordcloud) (7.1.2)\n",
            "Requirement already satisfied: requests[socks]>=2.11.1 in /usr/local/lib/python3.7/dist-packages (from tweepy>=3.7.0->konlpy) (2.23.0)\n",
            "Requirement already satisfied: six>=1.10.0 in /usr/local/lib/python3.7/dist-packages (from tweepy>=3.7.0->konlpy) (1.15.0)\n",
            "Requirement already satisfied: requests-oauthlib>=0.7.0 in /usr/local/lib/python3.7/dist-packages (from tweepy>=3.7.0->konlpy) (1.3.0)\n",
            "Requirement already satisfied: typing-extensions; python_version < \"3.8\" in /usr/local/lib/python3.7/dist-packages (from JPype1>=0.7.0->konlpy) (3.7.4.3)\n",
            "Requirement already satisfied: certifi>=2017.4.17 in /usr/local/lib/python3.7/dist-packages (from requests[socks]>=2.11.1->tweepy>=3.7.0->konlpy) (2020.12.5)\n",
            "Requirement already satisfied: idna<3,>=2.5 in /usr/local/lib/python3.7/dist-packages (from requests[socks]>=2.11.1->tweepy>=3.7.0->konlpy) (2.10)\n",
            "Requirement already satisfied: chardet<4,>=3.0.2 in /usr/local/lib/python3.7/dist-packages (from requests[socks]>=2.11.1->tweepy>=3.7.0->konlpy) (3.0.4)\n",
            "Requirement already satisfied: urllib3!=1.25.0,!=1.25.1,<1.26,>=1.21.1 in /usr/local/lib/python3.7/dist-packages (from requests[socks]>=2.11.1->tweepy>=3.7.0->konlpy) (1.24.3)\n",
            "Requirement already satisfied: PySocks!=1.5.7,>=1.5.6; extra == \"socks\" in /usr/local/lib/python3.7/dist-packages (from requests[socks]>=2.11.1->tweepy>=3.7.0->konlpy) (1.7.1)\n",
            "Requirement already satisfied: oauthlib>=3.0.0 in /usr/local/lib/python3.7/dist-packages (from requests-oauthlib>=0.7.0->tweepy>=3.7.0->konlpy) (3.1.0)\n",
            "Installing collected packages: beautifulsoup4, JPype1, colorama, konlpy\n",
            "  Found existing installation: beautifulsoup4 4.6.3\n",
            "    Uninstalling beautifulsoup4-4.6.3:\n",
            "      Successfully uninstalled beautifulsoup4-4.6.3\n",
            "Successfully installed JPype1-1.2.1 beautifulsoup4-4.6.0 colorama-0.4.4 konlpy-0.5.2\n"
          ],
          "name": "stdout"
        }
      ]
    },
    {
      "cell_type": "code",
      "metadata": {
        "id": "rayPHZhmSDUI"
      },
      "source": [
        "from konlpy.tag import Kkma, Hannanum, Komoran, Mecab, Okt"
      ],
      "execution_count": 8,
      "outputs": []
    },
    {
      "cell_type": "code",
      "metadata": {
        "id": "h07Y9DttSExA"
      },
      "source": [
        "kkma = Kkma()\n",
        "han = Hannanum()\n",
        "kor = Komoran()\n",
        "okt = Okt()\n",
        "# mecab = Mecab()"
      ],
      "execution_count": 9,
      "outputs": []
    },
    {
      "cell_type": "code",
      "metadata": {
        "id": "cDkqujEAK_4u"
      },
      "source": [
        "#punctutation 제거 패턴\n",
        "pattern1 = re.compile(r'[{}]'.format(re.escape(punctuation)))\n",
        "#숫자 제거 패턴\n",
        "pattern2 = re.compile(r'[0-9]')"
      ],
      "execution_count": 10,
      "outputs": []
    },
    {
      "cell_type": "code",
      "metadata": {
        "id": "PH4KPprNUsLI"
      },
      "source": [
        "# 함수화\n",
        "def cleaning(doc):\n",
        "\n",
        "  sentence = pattern1.sub(' ',\n",
        "             pattern2.sub('',str(doc))).strip()\n",
        "\n",
        "  return sentence"
      ],
      "execution_count": 15,
      "outputs": []
    },
    {
      "cell_type": "code",
      "metadata": {
        "id": "Gg2vLCALMaqN"
      },
      "source": [
        "for i in df['title'][0:30]:\n",
        "  print(i)\n",
        "  sentence = pattern1.sub(' ',\n",
        "             pattern2.sub('',i)).strip()\n",
        "  print('kkma :',kkma.nouns(sentence))\n",
        "  print('han :',han.nouns(sentence))\n",
        "  print('okt :',okt.nouns(sentence))\n",
        "  print('komoran :',kor.nouns(sentence))\n",
        "  #print('mecab :',Mecab.nouns(sentence))\n",
        "\n",
        "  print('-'*10)"
      ],
      "execution_count": null,
      "outputs": []
    },
    {
      "cell_type": "code",
      "metadata": {
        "colab": {
          "base_uri": "https://localhost:8080/"
        },
        "id": "Xhr332NzWLTA",
        "outputId": "d34a4cf2-e369-4073-dee4-fab7a7e240ea"
      },
      "source": [
        "df['title_clean'] = df['title'].apply(cleaning)\n",
        "df['title_clean']"
      ],
      "execution_count": 21,
      "outputs": [
        {
          "output_type": "execute_result",
          "data": {
            "text/plain": [
              "0             와디즈 최초 대 딸이랑 대 엄마랑 함께 쓰는 주름개선 만능 크림\n",
              "1               억 앵콜  하루만에 수분 증가  임상검증 완료  갈바닉마스크\n",
              "2              개 유명 피부과에 공급되는 시크릿 포뮬러를 담은 패드 프로그램\n",
              "3         두피 관리의 핵심은 유분량의 균형입니다  올솔 모닝 나이트 밸런스 샴푸\n",
              "4           컨디셔너 필요없이 그린빈샴푸 하나로 두피와 모발의 건강을 책임집니다\n",
              "                           ...                   \n",
              "21475            히트패드  출근길의 모든 핸들을 뜨겁게  붙이는 전기 핫팩\n",
              "21476    SuelMu 무선 에어펌프 자동차 오토바이공기압  자전거 튜브 축구공까지\n",
              "21477          너도  나도 간단하게 개국어지원 반응형 웹페이지 제작 실크로드\n",
              "21478                         웨어러블 공기청정기  전동식 마스크\n",
              "21479                                   년JD MJD시계\n",
              "Name: title_clean, Length: 21480, dtype: object"
            ]
          },
          "metadata": {
            "tags": []
          },
          "execution_count": 21
        }
      ]
    },
    {
      "cell_type": "markdown",
      "metadata": {
        "id": "SJPaIr4jYIm5"
      },
      "source": [
        "## 부호 제거된 title\n",
        "- noun 추출\n",
        "- 키워드 추출"
      ]
    },
    {
      "cell_type": "code",
      "metadata": {
        "colab": {
          "base_uri": "https://localhost:8080/"
        },
        "id": "xKwN0dU-3F_l",
        "outputId": "04779f94-e617-4348-f8aa-02accec715b4"
      },
      "source": [
        "!pip install krwordrank"
      ],
      "execution_count": 27,
      "outputs": [
        {
          "output_type": "stream",
          "text": [
            "Collecting krwordrank\n",
            "  Downloading https://files.pythonhosted.org/packages/6f/c8/7946b49dabd25a2fd8c258030bbfb21330f4ff1dca29a5eedb50e6882ed5/krwordrank-1.0.3-py3-none-any.whl\n",
            "Requirement already satisfied: scipy>=1.4.1 in /usr/local/lib/python3.7/dist-packages (from krwordrank) (1.4.1)\n",
            "Requirement already satisfied: numpy>=1.18.4 in /usr/local/lib/python3.7/dist-packages (from krwordrank) (1.19.5)\n",
            "Requirement already satisfied: scikit-learn>=0.22.1 in /usr/local/lib/python3.7/dist-packages (from krwordrank) (0.22.2.post1)\n",
            "Requirement already satisfied: joblib>=0.11 in /usr/local/lib/python3.7/dist-packages (from scikit-learn>=0.22.1->krwordrank) (1.0.1)\n",
            "Installing collected packages: krwordrank\n",
            "Successfully installed krwordrank-1.0.3\n"
          ],
          "name": "stdout"
        }
      ]
    },
    {
      "cell_type": "code",
      "metadata": {
        "id": "ULbejSbZ3GCB"
      },
      "source": [
        "from krwordrank.word import KRWordRank\n",
        "from krwordrank.hangle import normalize"
      ],
      "execution_count": 28,
      "outputs": []
    },
    {
      "cell_type": "code",
      "metadata": {
        "id": "-bueNCrEYY9y"
      },
      "source": [
        "def keyword(sentence):\n",
        "  keywords = normalize(str(sentence), english=True, number=False).split(' ')\n",
        "  for kw in keywords:\n",
        "    if len(kw) == 1:\n",
        "      keywords.remove(kw)\n",
        "  return keywords"
      ],
      "execution_count": 44,
      "outputs": []
    },
    {
      "cell_type": "code",
      "metadata": {
        "id": "bHH_AfQiYY_6"
      },
      "source": [
        "def noun(sentence):\n",
        "  kkma = Kkma()\n",
        "  nouns = kkma.nouns(sentence)\n",
        "  for noun in nouns:\n",
        "    if len(noun) == 1:\n",
        "      nouns.remove(noun)\n",
        "  return nouns"
      ],
      "execution_count": 34,
      "outputs": []
    },
    {
      "cell_type": "code",
      "metadata": {
        "id": "ba6CPBalYZCF"
      },
      "source": [
        "df['nouns'] = df['title_clean'].apply(noun)"
      ],
      "execution_count": 35,
      "outputs": []
    },
    {
      "cell_type": "code",
      "metadata": {
        "colab": {
          "base_uri": "https://localhost:8080/"
        },
        "id": "7WL6KesrdRQd",
        "outputId": "fe73a6ee-5ff2-4eb3-9e3c-dedfe097201f"
      },
      "source": [
        "df['nouns'][:20]"
      ],
      "execution_count": 47,
      "outputs": [
        {
          "output_type": "execute_result",
          "data": {
            "text/plain": [
              "0            [와디, 와디즈, 최초, 딸, 엄마, 주름, 주름개선, 개선, 만능, 크림]\n",
              "1     [앵, 앵콜, 하루, 수분, 증가, 임상, 임상검증, 검증, 완료, 바닉마스크, 마스크]\n",
              "2                 [유명, 피부과, 공급, 시크, 시크릿, 포뮬러, 패드, 프로그램]\n",
              "3           [두피, 관리, 핵심, 유분량, 분량, 균형, 모닝, 나이트, 밸런스, 샴푸]\n",
              "4                        [컨디셔너, 필요, 샴푸, 하나, 두피, 모발, 건강]\n",
              "5          [후기, 후기폭주, 폭주, 만개, 판매, 덕후, 리얼, 핸드, 핸드크림, 크림]\n",
              "6                        [비건인증콜라겐, 건인, 콜라겐, 방울, 피부, 처방]\n",
              "7                               [아침, 피부, 실화, 마스크, 마스크팩]\n",
              "8             [손안, 에스테, 에스테틱, 초당, 진동, 마법, 매직, 매직스틱, 스틱]\n",
              "9                                     [목, 대용량, 키웨이, 웨이]\n",
              "10          [앵콜, 명품, 명품화장품년경력, 화장품, 경력, 선, 선크림, 크림, 피부]\n",
              "11                                 [건조성, 피부, 프리미엄, 에센스]\n",
              "12                                       [탈모, 탈모관리, 관리]\n",
              "13              [편안, 기분, 잠자리, 아로마, 아로마테라피, 테라, 스위트, 드림]\n",
              "14           [한번, 머리, 피부, 어디, 민감성, 민감성피부, 지성, 지성피부, 누구]\n",
              "15    [피부, 피부관리, 관리, 클렌징, ㅣ하나, 하나, 끝낸다ㅣ스피, 미라, 듀얼, 퍼...\n",
              "16                           [앵콜, 후기, 입증, 저분자, 루론, 흡수력]\n",
              "17           [유해, 물질, 아이, 피부, 습관, 만들기, 유아, 유아클렌징폼, 클렌징]\n",
              "18             [단독, 런칭, 최악, 자외선, 호주, 호주사람, 사람, 선크림, 크림]\n",
              "19                [한방, 함유량, 바보, 아빠, 프라그, 프라그마, 여성, 청결제]\n",
              "Name: nouns, dtype: object"
            ]
          },
          "metadata": {
            "tags": []
          },
          "execution_count": 47
        }
      ]
    },
    {
      "cell_type": "code",
      "metadata": {
        "id": "8ulYS_ClYZEO"
      },
      "source": [
        "df['keywords'] = df['title_clean'].apply(keyword)"
      ],
      "execution_count": 45,
      "outputs": []
    },
    {
      "cell_type": "code",
      "metadata": {
        "colab": {
          "base_uri": "https://localhost:8080/"
        },
        "id": "HTPoiTaLdeLP",
        "outputId": "10b82789-5cf4-4411-a159-ffb6fc5e8f03"
      },
      "source": [
        "df['keywords'][:10]"
      ],
      "execution_count": 46,
      "outputs": [
        {
          "output_type": "execute_result",
          "data": {
            "text/plain": [
              "0            [와디즈, 최초, 딸이랑, 엄마랑, 함께, 쓰는, 주름개선, 만능, 크림]\n",
              "1                 [앵콜, 하루만에, 수분, 증가, 임상검증, 완료, 갈바닉마스크]\n",
              "2            [유명, 피부과에, 공급되는, 시크릿, 포뮬러를, 담은, 패드, 프로그램]\n",
              "3    [두피, 관리의, 핵심은, 유분량의, 균형입니다, 올솔, 모닝, 나이트, 밸런스, 샴푸]\n",
              "4       [컨디셔너, 필요없이, 그린빈샴푸, 하나로, 두피와, 모발의, 건강을, 책임집니다]\n",
              "5        [후기폭주, 만개, 판매, 자몽, 덕후가, 만든, 리얼, 자몽, 퍼퓸, 핸드크림]\n",
              "6                  [비건인증콜라겐, 매일, 방울, 탄탄한, 피부를, 위한, 처방]\n",
              "7                    [아침마다, 달라지는, 피부, 실화야, 뽑아쓰는, 마스크팩]\n",
              "8                   [손안에, 작은, 에스테틱, 초당, 진동의, 마법, 매직스틱]\n",
              "9            [세럼은, 모두, 작고, 비쌀까, 목에도, 바르는, 대용량, 밀키웨이세럼]\n",
              "Name: keywords, dtype: object"
            ]
          },
          "metadata": {
            "tags": []
          },
          "execution_count": 46
        }
      ]
    },
    {
      "cell_type": "markdown",
      "metadata": {
        "id": "Ljqyt8HeH-rd"
      },
      "source": [
        "## 파일 저장"
      ]
    },
    {
      "cell_type": "code",
      "metadata": {
        "id": "F46pr7I1Hlrb"
      },
      "source": [
        "df.to_csv(drive_path+'df_added.csv')"
      ],
      "execution_count": 48,
      "outputs": []
    },
    {
      "cell_type": "code",
      "metadata": {
        "id": "l9sWE1BhJ61g",
        "colab": {
          "base_uri": "https://localhost:8080/",
          "height": 419
        },
        "outputId": "165e5ff6-6539-4523-fc65-a4abed219455"
      },
      "source": [
        "check=pd.DataFrame(df['nouns'] == df['keywords'])\n",
        "check"
      ],
      "execution_count": 51,
      "outputs": [
        {
          "output_type": "execute_result",
          "data": {
            "text/html": [
              "<div>\n",
              "<style scoped>\n",
              "    .dataframe tbody tr th:only-of-type {\n",
              "        vertical-align: middle;\n",
              "    }\n",
              "\n",
              "    .dataframe tbody tr th {\n",
              "        vertical-align: top;\n",
              "    }\n",
              "\n",
              "    .dataframe thead th {\n",
              "        text-align: right;\n",
              "    }\n",
              "</style>\n",
              "<table border=\"1\" class=\"dataframe\">\n",
              "  <thead>\n",
              "    <tr style=\"text-align: right;\">\n",
              "      <th></th>\n",
              "      <th>0</th>\n",
              "    </tr>\n",
              "  </thead>\n",
              "  <tbody>\n",
              "    <tr>\n",
              "      <th>0</th>\n",
              "      <td>False</td>\n",
              "    </tr>\n",
              "    <tr>\n",
              "      <th>1</th>\n",
              "      <td>False</td>\n",
              "    </tr>\n",
              "    <tr>\n",
              "      <th>2</th>\n",
              "      <td>False</td>\n",
              "    </tr>\n",
              "    <tr>\n",
              "      <th>3</th>\n",
              "      <td>False</td>\n",
              "    </tr>\n",
              "    <tr>\n",
              "      <th>4</th>\n",
              "      <td>False</td>\n",
              "    </tr>\n",
              "    <tr>\n",
              "      <th>...</th>\n",
              "      <td>...</td>\n",
              "    </tr>\n",
              "    <tr>\n",
              "      <th>21475</th>\n",
              "      <td>False</td>\n",
              "    </tr>\n",
              "    <tr>\n",
              "      <th>21476</th>\n",
              "      <td>False</td>\n",
              "    </tr>\n",
              "    <tr>\n",
              "      <th>21477</th>\n",
              "      <td>False</td>\n",
              "    </tr>\n",
              "    <tr>\n",
              "      <th>21478</th>\n",
              "      <td>False</td>\n",
              "    </tr>\n",
              "    <tr>\n",
              "      <th>21479</th>\n",
              "      <td>False</td>\n",
              "    </tr>\n",
              "  </tbody>\n",
              "</table>\n",
              "<p>21480 rows × 1 columns</p>\n",
              "</div>"
            ],
            "text/plain": [
              "           0\n",
              "0      False\n",
              "1      False\n",
              "2      False\n",
              "3      False\n",
              "4      False\n",
              "...      ...\n",
              "21475  False\n",
              "21476  False\n",
              "21477  False\n",
              "21478  False\n",
              "21479  False\n",
              "\n",
              "[21480 rows x 1 columns]"
            ]
          },
          "metadata": {
            "tags": []
          },
          "execution_count": 51
        }
      ]
    },
    {
      "cell_type": "code",
      "metadata": {
        "colab": {
          "base_uri": "https://localhost:8080/"
        },
        "id": "Le3qH-TtMSBu",
        "outputId": "8fa268f0-cac1-4352-fc07-06d2003913af"
      },
      "source": [
        "check[0].value_counts()"
      ],
      "execution_count": 52,
      "outputs": [
        {
          "output_type": "execute_result",
          "data": {
            "text/plain": [
              "False    21435\n",
              "True        45\n",
              "Name: 0, dtype: int64"
            ]
          },
          "metadata": {
            "tags": []
          },
          "execution_count": 52
        }
      ]
    },
    {
      "cell_type": "markdown",
      "metadata": {
        "id": "SpA01FDTMXMF"
      },
      "source": [
        "## check\n",
        "- if keywords == nouns \n",
        "- False = 21435\n",
        "- True = 45"
      ]
    },
    {
      "cell_type": "markdown",
      "metadata": {
        "id": "BwNNUiDpx-H_"
      },
      "source": [
        "#추천 시스템 by item / df['nouns']"
      ]
    },
    {
      "cell_type": "code",
      "metadata": {
        "colab": {
          "base_uri": "https://localhost:8080/",
          "height": 436
        },
        "id": "kSThm7U7hB27",
        "outputId": "e4d9f155-6b9b-4032-918d-e9f85f84f50e"
      },
      "source": [
        "df[['categories','nouns']]"
      ],
      "execution_count": 53,
      "outputs": [
        {
          "output_type": "execute_result",
          "data": {
            "text/html": [
              "<div>\n",
              "<style scoped>\n",
              "    .dataframe tbody tr th:only-of-type {\n",
              "        vertical-align: middle;\n",
              "    }\n",
              "\n",
              "    .dataframe tbody tr th {\n",
              "        vertical-align: top;\n",
              "    }\n",
              "\n",
              "    .dataframe thead th {\n",
              "        text-align: right;\n",
              "    }\n",
              "</style>\n",
              "<table border=\"1\" class=\"dataframe\">\n",
              "  <thead>\n",
              "    <tr style=\"text-align: right;\">\n",
              "      <th></th>\n",
              "      <th>categories</th>\n",
              "      <th>nouns</th>\n",
              "    </tr>\n",
              "  </thead>\n",
              "  <tbody>\n",
              "    <tr>\n",
              "      <th>0</th>\n",
              "      <td>뷰티</td>\n",
              "      <td>[와디, 와디즈, 최초, 딸, 엄마, 주름, 주름개선, 개선, 만능, 크림]</td>\n",
              "    </tr>\n",
              "    <tr>\n",
              "      <th>1</th>\n",
              "      <td>뷰티</td>\n",
              "      <td>[앵, 앵콜, 하루, 수분, 증가, 임상, 임상검증, 검증, 완료, 바닉마스크, 마스크]</td>\n",
              "    </tr>\n",
              "    <tr>\n",
              "      <th>2</th>\n",
              "      <td>뷰티</td>\n",
              "      <td>[유명, 피부과, 공급, 시크, 시크릿, 포뮬러, 패드, 프로그램]</td>\n",
              "    </tr>\n",
              "    <tr>\n",
              "      <th>3</th>\n",
              "      <td>뷰티</td>\n",
              "      <td>[두피, 관리, 핵심, 유분량, 분량, 균형, 모닝, 나이트, 밸런스, 샴푸]</td>\n",
              "    </tr>\n",
              "    <tr>\n",
              "      <th>4</th>\n",
              "      <td>뷰티</td>\n",
              "      <td>[컨디셔너, 필요, 샴푸, 하나, 두피, 모발, 건강]</td>\n",
              "    </tr>\n",
              "    <tr>\n",
              "      <th>...</th>\n",
              "      <td>...</td>\n",
              "      <td>...</td>\n",
              "    </tr>\n",
              "    <tr>\n",
              "      <th>21475</th>\n",
              "      <td>테크·가전</td>\n",
              "      <td>[히트, 히트패드, 패드, 출근길, 핸들, 전기, 핫팩]</td>\n",
              "    </tr>\n",
              "    <tr>\n",
              "      <th>21476</th>\n",
              "      <td>테크·가전</td>\n",
              "      <td>[무선, 에어, 에어펌프, 펌프, 자동차, 오토바이, 오토바이공기압, 공기압, 자전...</td>\n",
              "    </tr>\n",
              "    <tr>\n",
              "      <th>21477</th>\n",
              "      <td>테크·가전</td>\n",
              "      <td>[개, 개국어지원, 국어, 지원, 반응, 반응형, 웹, 웹페이지, 페이지, 제작, ...</td>\n",
              "    </tr>\n",
              "    <tr>\n",
              "      <th>21478</th>\n",
              "      <td>테크·가전</td>\n",
              "      <td>[웨어, 웨어러, 공기, 공기청정기, 청정기, 전동, 마스크]</td>\n",
              "    </tr>\n",
              "    <tr>\n",
              "      <th>21479</th>\n",
              "      <td>테크·가전</td>\n",
              "      <td>[시계]</td>\n",
              "    </tr>\n",
              "  </tbody>\n",
              "</table>\n",
              "<p>21480 rows × 2 columns</p>\n",
              "</div>"
            ],
            "text/plain": [
              "      categories                                              nouns\n",
              "0             뷰티         [와디, 와디즈, 최초, 딸, 엄마, 주름, 주름개선, 개선, 만능, 크림]\n",
              "1             뷰티  [앵, 앵콜, 하루, 수분, 증가, 임상, 임상검증, 검증, 완료, 바닉마스크, 마스크]\n",
              "2             뷰티              [유명, 피부과, 공급, 시크, 시크릿, 포뮬러, 패드, 프로그램]\n",
              "3             뷰티        [두피, 관리, 핵심, 유분량, 분량, 균형, 모닝, 나이트, 밸런스, 샴푸]\n",
              "4             뷰티                     [컨디셔너, 필요, 샴푸, 하나, 두피, 모발, 건강]\n",
              "...          ...                                                ...\n",
              "21475      테크·가전                    [히트, 히트패드, 패드, 출근길, 핸들, 전기, 핫팩]\n",
              "21476      테크·가전  [무선, 에어, 에어펌프, 펌프, 자동차, 오토바이, 오토바이공기압, 공기압, 자전...\n",
              "21477      테크·가전  [개, 개국어지원, 국어, 지원, 반응, 반응형, 웹, 웹페이지, 페이지, 제작, ...\n",
              "21478      테크·가전                 [웨어, 웨어러, 공기, 공기청정기, 청정기, 전동, 마스크]\n",
              "21479      테크·가전                                               [시계]\n",
              "\n",
              "[21480 rows x 2 columns]"
            ]
          },
          "metadata": {
            "tags": []
          },
          "execution_count": 53
        }
      ]
    },
    {
      "cell_type": "code",
      "metadata": {
        "id": "oI3a8XoahRmF"
      },
      "source": [
        "# 단어 리스트를 문자열로 변환\n",
        "df['nouns_literal'] = df['nouns'].apply( lambda x : (' ').join(x))"
      ],
      "execution_count": 54,
      "outputs": []
    },
    {
      "cell_type": "code",
      "metadata": {
        "colab": {
          "base_uri": "https://localhost:8080/"
        },
        "id": "Q2EY5yYThbCC",
        "outputId": "5e41c5f1-a72f-40a7-bdb9-d99945009161"
      },
      "source": [
        "df['nouns_literal'][:10]"
      ],
      "execution_count": 56,
      "outputs": [
        {
          "output_type": "execute_result",
          "data": {
            "text/plain": [
              "0          와디 와디즈 최초 딸 엄마 주름 주름개선 개선 만능 크림\n",
              "1    앵 앵콜 하루 수분 증가 임상 임상검증 검증 완료 바닉마스크 마스크\n",
              "2             유명 피부과 공급 시크 시크릿 포뮬러 패드 프로그램\n",
              "3         두피 관리 핵심 유분량 분량 균형 모닝 나이트 밸런스 샴푸\n",
              "4                   컨디셔너 필요 샴푸 하나 두피 모발 건강\n",
              "5        후기 후기폭주 폭주 만개 판매 덕후 리얼 핸드 핸드크림 크림\n",
              "6                  비건인증콜라겐 건인 콜라겐 방울 피부 처방\n",
              "7                        아침 피부 실화 마스크 마스크팩\n",
              "8          손안 에스테 에스테틱 초당 진동 마법 매직 매직스틱 스틱\n",
              "9                             목 대용량 키웨이 웨이\n",
              "Name: nouns_literal, dtype: object"
            ]
          },
          "metadata": {
            "tags": []
          },
          "execution_count": 56
        }
      ]
    },
    {
      "cell_type": "markdown",
      "metadata": {
        "id": "a61bCW77vg5h"
      },
      "source": [
        "## 테이블 저장"
      ]
    },
    {
      "cell_type": "code",
      "metadata": {
        "id": "Mzy_g8_7vRqV"
      },
      "source": [
        "df.to_csv(drive_path+'df_reco_system.csv')"
      ],
      "execution_count": 105,
      "outputs": []
    },
    {
      "cell_type": "markdown",
      "metadata": {
        "id": "dGiiNrURvorI"
      },
      "source": [
        "## 추천시스템"
      ]
    },
    {
      "cell_type": "code",
      "metadata": {
        "id": "51EHr6jVZm-Y"
      },
      "source": [
        "from sklearn.feature_extraction.text import CountVectorizer\n",
        "from sklearn.metrics.pairwise import cosine_similarity"
      ],
      "execution_count": 57,
      "outputs": []
    },
    {
      "cell_type": "code",
      "metadata": {
        "colab": {
          "base_uri": "https://localhost:8080/"
        },
        "id": "ZZJehu8Yh0Hj",
        "outputId": "c663eecf-82f9-41b6-ef1b-6bee1374d125"
      },
      "source": [
        "count_vect = CountVectorizer(min_df=0, ngram_range=(1,2))           \n",
        "nouns_mat = count_vect.fit_transform( df['nouns_literal'] )\n",
        "nouns_mat.shape"
      ],
      "execution_count": 59,
      "outputs": [
        {
          "output_type": "execute_result",
          "data": {
            "text/plain": [
              "(21480, 126771)"
            ]
          },
          "metadata": {
            "tags": []
          },
          "execution_count": 59
        }
      ]
    },
    {
      "cell_type": "code",
      "metadata": {
        "colab": {
          "base_uri": "https://localhost:8080/"
        },
        "id": "xKRD_f6qio-4",
        "outputId": "e1c23892-35c6-4e6f-c501-9643c81feada"
      },
      "source": [
        "# 코사인 유사도 계산계산\n",
        "# 반환된 코사인 유사도 행렬의 크기 및 앞 2개 데이터만 추출\n",
        "\n",
        "nouns_sim = cosine_similarity(nouns_mat, nouns_mat)\n",
        "nouns_sim.shape"
      ],
      "execution_count": 60,
      "outputs": [
        {
          "output_type": "execute_result",
          "data": {
            "text/plain": [
              "(21480, 21480)"
            ]
          },
          "metadata": {
            "tags": []
          },
          "execution_count": 60
        }
      ]
    },
    {
      "cell_type": "code",
      "metadata": {
        "colab": {
          "base_uri": "https://localhost:8080/"
        },
        "id": "DH5Hw6gdaSbg",
        "outputId": "66e15a1e-e52b-482e-e1e4-633d69dbd459"
      },
      "source": [
        "# 유사도가 높은 순으로 정리된 genre_sim 객체의 비교 행 위치 인덱스 값\n",
        "# 값이 높은 순으로 정렬된 비교 대상 행의 유사도 값이 아니라\n",
        "#  비교 대상 행의 위치 인덱스임에 주의\n",
        "nouns_sim_sorded_ind = nouns_sim.argsort()[:, ::-1]\n",
        "nouns_sim_sorded_ind[:1]"
      ],
      "execution_count": 61,
      "outputs": [
        {
          "output_type": "execute_result",
          "data": {
            "text/plain": [
              "array([[    0,  1611,   559, ..., 14230, 14231, 10739]])"
            ]
          },
          "metadata": {
            "tags": []
          },
          "execution_count": 61
        }
      ]
    },
    {
      "cell_type": "code",
      "metadata": {
        "id": "jhfterVIbFX3"
      },
      "source": [
        "def find_sim_title(df, sorted_ind, noun, top_n=10):\n",
        "  title_movie = df[ df['title'].split() == title_name ]\n",
        "  title_index = title_movie.index.values\n",
        "  sim_indexs = sorted_ind[title_index, :(top_n)]\n",
        "  sim_indexs = sim_indexs.reshape(-1)\n",
        "  return df.iloc[sim_indexs]"
      ],
      "execution_count": null,
      "outputs": []
    },
    {
      "cell_type": "markdown",
      "metadata": {
        "id": "fBAX5hHQ1J-0"
      },
      "source": [
        "# 카테고리별 keyword 추출"
      ]
    },
    {
      "cell_type": "markdown",
      "metadata": {
        "id": "2whSnnVl5fQh"
      },
      "source": [
        "### *** title마다 keyword추출을 불가능*** "
      ]
    },
    {
      "cell_type": "code",
      "metadata": {
        "colab": {
          "base_uri": "https://localhost:8080/"
        },
        "id": "IUgjAINl2gl9",
        "outputId": "bf9f2be9-2c9e-4ce9-8d81-b5f0eaa2a883"
      },
      "source": [
        "df['categories'].value_counts()"
      ],
      "execution_count": null,
      "outputs": [
        {
          "output_type": "execute_result",
          "data": {
            "text/plain": [
              "패션·잡화       5208\n",
              "푸드          3066\n",
              "홈리빙         2949\n",
              "뷰티          2484\n",
              "테크·가전       2124\n",
              "반려동물        1635\n",
              "소셜·캠페인       832\n",
              "스포츠·모빌리티     694\n",
              "여행·레저        674\n",
              "교육·키즈        666\n",
              "공연·컬쳐        564\n",
              "출판           469\n",
              "디자인소품         48\n",
              "기부·후원         41\n",
              "모임            26\n",
              "Name: categories, dtype: int64"
            ]
          },
          "metadata": {
            "tags": []
          },
          "execution_count": 64
        }
      ]
    },
    {
      "cell_type": "code",
      "metadata": {
        "id": "y1FY7frb4QAK",
        "colab": {
          "base_uri": "https://localhost:8080/"
        },
        "outputId": "4f0f20fb-3c13-425c-cbf6-156a07c95458"
      },
      "source": [
        "categories = df['categories'].value_counts().index\n",
        "categories"
      ],
      "execution_count": null,
      "outputs": [
        {
          "output_type": "execute_result",
          "data": {
            "text/plain": [
              "Index(['패션·잡화', '푸드', '홈리빙', '뷰티', '테크·가전', '반려동물', '소셜·캠페인', '스포츠·모빌리티',\n",
              "       '여행·레저', '교육·키즈', '공연·컬쳐', '출판', '디자인소품', '기부·후원', '모임'],\n",
              "      dtype='object')"
            ]
          },
          "metadata": {
            "tags": []
          },
          "execution_count": 63
        }
      ]
    },
    {
      "cell_type": "code",
      "metadata": {
        "id": "emrUUMXm4QCU"
      },
      "source": [
        "#기부후원만 test\n",
        "titles = df[df['categories'] == '기부·후원']['title'].values\n",
        "normalized_titles = [normalize(title, english=True, number=True) for title in titles]"
      ],
      "execution_count": null,
      "outputs": []
    },
    {
      "cell_type": "code",
      "metadata": {
        "id": "waEkSUyq3PCZ"
      },
      "source": [
        "normalized_titles"
      ],
      "execution_count": null,
      "outputs": []
    },
    {
      "cell_type": "code",
      "metadata": {
        "colab": {
          "base_uri": "https://localhost:8080/"
        },
        "id": "rXwq94r73WNH",
        "outputId": "aefacf61-6694-47ca-ede2-575189db7cc9"
      },
      "source": [
        "# keyword 추출\n",
        "wordrank_extractor = KRWordRank(\n",
        "      min_count = 2, # 단어의 최소 출현 빈도수 (그래프 생성 시)\n",
        "      max_length = 5, # 단어의 최대 길이\n",
        "      verbose = True\n",
        "      )\n",
        "  \n",
        "beta = 0.85    # PageRank의 decaying factor beta\n",
        "max_iter = 10\n",
        "\n",
        "keywords, rank, graph = wordrank_extractor.extract(normalized_titles, beta, max_iter) "
      ],
      "execution_count": null,
      "outputs": [
        {
          "output_type": "stream",
          "text": [
            "scan vocabs ... \n",
            "num vocabs = 168\n",
            "done\n"
          ],
          "name": "stdout"
        }
      ]
    },
    {
      "cell_type": "code",
      "metadata": {
        "colab": {
          "base_uri": "https://localhost:8080/"
        },
        "id": "9xI8EFEs3l_R",
        "outputId": "7d5dbfb2-0126-4055-e920-a968acbdafbe"
      },
      "source": [
        "keywords.keys()"
      ],
      "execution_count": null,
      "outputs": [
        {
          "output_type": "execute_result",
          "data": {
            "text/plain": [
              "dict_keys(['위한', '청소년', '세월호', '네팔', '긴급구호', '있도록', '준비합니다', '의인', '따뜻한', '꿈을', '보내', '희망', '대학언론', '선물', '작은', '새로', '피해', '문화', '우리', '위안', '아이', '리더십', '응원', 'ST', '친구'])"
            ]
          },
          "metadata": {
            "tags": []
          },
          "execution_count": 81
        }
      ]
    },
    {
      "cell_type": "code",
      "metadata": {
        "colab": {
          "base_uri": "https://localhost:8080/"
        },
        "id": "z88cgSYk3mBS",
        "outputId": "dcbabcfe-3d31-488b-e912-2f892bc1bbf1"
      },
      "source": [
        "for word, r in sorted(keywords.items(), key=lambda x:x[1], reverse=True)[:30]:\n",
        "    print('%8s:\\t%.4f' % (word, r))"
      ],
      "execution_count": null,
      "outputs": [
        {
          "output_type": "stream",
          "text": [
            "      위한:\t3.0330\n",
            "     청소년:\t2.4551\n",
            "     세월호:\t1.9163\n",
            "      네팔:\t1.8873\n",
            "    긴급구호:\t1.7646\n",
            "     있도록:\t1.5974\n",
            "   준비합니다:\t1.5753\n",
            "      의인:\t1.4829\n",
            "     따뜻한:\t1.4332\n",
            "      꿈을:\t1.3289\n",
            "      보내:\t1.3151\n",
            "      희망:\t1.3052\n",
            "    대학언론:\t1.1182\n",
            "      선물:\t1.0348\n",
            "      작은:\t1.0000\n",
            "      새로:\t1.0000\n",
            "      피해:\t0.9943\n",
            "      문화:\t0.9574\n",
            "      우리:\t0.8836\n",
            "      위안:\t0.8149\n",
            "      아이:\t0.7888\n",
            "     리더십:\t0.7063\n",
            "      응원:\t0.5154\n",
            "      ST:\t0.4908\n",
            "      친구:\t0.4306\n"
          ],
          "name": "stdout"
        }
      ]
    },
    {
      "cell_type": "code",
      "metadata": {
        "colab": {
          "base_uri": "https://localhost:8080/"
        },
        "id": "enAueYKVM129",
        "outputId": "01a04a4e-1ca1-4143-99b8-38db44096f55"
      },
      "source": [
        "#한꺼번에 키워드 추출 카테고리 별로 키워드 추출/ 'title_noun'을 사용\n",
        "beta = 0.85    # PageRank의 decaying factor beta\n",
        "max_iter = 10\n",
        "total = {}\n",
        "categoris = df['categories'].value_counts()\n",
        "for cate in categoris.index:\n",
        "  titles = df[df['categories'] == cate]['title_noun'].values\n",
        "  texts = [normalize(text, english=True, number=True) for text in titles]\n",
        "  wordrank_extractor = KRWordRank(\n",
        "    min_count = 5, # 단어의 최소 출현 빈도수 (그래프 생성 시)\n",
        "    max_length = 10, # 단어의 최대 길이\n",
        "    verbose = True\n",
        "    )\n",
        "\n",
        "\n",
        "\n",
        "  keywords, rank, graph = wordrank_extractor.extract(texts, beta, max_iter)\n",
        "  # for word, r in sorted(keywords.items(), key=lambda x:x[1], reverse=True)[:30]:\n",
        "  total[cate] = ['%s' % (word) for word,r in sorted(keywords.items(), key=lambda x:x[1], reverse=True)[:30]]\n",
        "  "
      ],
      "execution_count": null,
      "outputs": [
        {
          "output_type": "stream",
          "text": [
            "scan vocabs ... \n",
            "num vocabs = 3766\n",
            "done\n",
            "scan vocabs ... \n",
            "num vocabs = 2878\n",
            "done\n",
            "scan vocabs ... \n",
            "num vocabs = 2744\n",
            "done\n",
            "scan vocabs ... \n",
            "num vocabs = 2249\n",
            "done\n",
            "scan vocabs ... \n",
            "num vocabs = 2196\n",
            "done\n",
            "scan vocabs ... \n",
            "num vocabs = 1590\n",
            "done\n",
            "scan vocabs ... \n",
            "num vocabs = 847\n",
            "done\n",
            "scan vocabs ... \n",
            "num vocabs = 989\n",
            "done\n",
            "scan vocabs ... \n",
            "num vocabs = 862\n",
            "done\n",
            "scan vocabs ... \n",
            "num vocabs = 831\n",
            "done\n",
            "scan vocabs ... \n",
            "num vocabs = 730\n",
            "done\n",
            "scan vocabs ... \n",
            "num vocabs = 615\n",
            "done\n",
            "scan vocabs ... \n",
            "num vocabs = 64\n",
            "done\n",
            "scan vocabs ... \n",
            "num vocabs = 15\n",
            "done\n",
            "scan vocabs ... \n",
            "num vocabs = 20\n",
            "done\n"
          ],
          "name": "stdout"
        }
      ]
    },
    {
      "cell_type": "code",
      "metadata": {
        "colab": {
          "base_uri": "https://localhost:8080/"
        },
        "id": "lEdqI7GPRpcq",
        "outputId": "70a138fe-5cf6-4033-ab87-8b6dbef72141"
      },
      "source": [
        "for cate in categoris.index:\n",
        "  print(cate, total[cate],'\\n')"
      ],
      "execution_count": null,
      "outputs": [
        {
          "output_type": "stream",
          "text": [
            "패션·잡화 ['만원', '천연', '가방', '다이', '가죽', '데일리', '안경', '명품', '스타', '자켓', '하나', '수납', '디자', '편안', '지갑', '코트', '셔츠', '아몬드', '당신', '인생', '미니', '케이스', '가격', '핸드', '마스크', '아이', '스니커즈', '일상', '끝판', '후드'] \n",
            "\n",
            "푸드 ['선물', '건강', '프로', '커피', '프리', '제주', '인생', '단백질', '추석', '하루', '설탕', '세트', '끝판', '밀크', '수제', '바이오', '한우', '갈비', '국내', '보리', '초콜릿', '아이', '식사', '한정', '에너지', '비타민', '전통', '발효', '참치', '진짜'] \n",
            "\n",
            "홈리빙 ['베개', '만원', '주방', '공기', '매트', '공간', '천연', '핸드', '항균', '원목', '프로젝트', '감성', '미세', '테이블', '당신', '우리', '건강', '샤워', '커피', '수면', '바디', '아이', '하나', '섬유', '끝판', '디자인', '쿠션', '선물', '호텔', '생활'] \n",
            "\n",
            "뷰티 ['피부', '크림', '케어', '마스크', '성분', '바디', '스킨', '클렌징', '수분', '관리', '천연', '화장', '보습', '앰플', '모공', '미백', '샴푸', '향수', '두피', '탈모', '핸드', '헤어', '주름', '진정', '각질', '특허', '여성', '임상', '프로', '줄기'] \n",
            "\n",
            "테크·가전 ['무선', '스마트', '충전', '공기', '청정기', '살균', '만원', '고속', '휴대용', '끝판', '에어', '보조', '아이', '이어폰', '필수', '하나', '거치대', '청소기', '패드', '배터리', '먼지', '글로벌', '스피커', '미세', '칫솔', '블루', '전기', '전동', '차량', '국내'] \n",
            "\n",
            "반려동물 ['반려', '동물', '고양이', '강아지', '건강', '우리', '간식', '산책', '집사', '댕댕이', '모래', '스크래', '영양', '유기', '아이', '댕냥', '프로', '가방', '이동', '하우스', '타워', '노즈', '안전', '하나', '배변', '천연', '워크', '핸드', '공간', '필수'] \n",
            "\n",
            "소셜·캠페인 ['프로젝트', '유기', '아이', '장애인', '선물', '기부', '희망', '아동', '청소년', '우리', '동물', '에코', '후원', '캠페인', '마음', '나눔', '시각', '청년', '마을', '응원', '행복', '노인', '상지', '세상', '보호', '팔찌', '발달', '사랑', '티셔츠', '환경'] \n",
            "\n",
            "스포츠·모빌리티 ['운동', '자전거', '스포츠', '보드', '스마트', '전동', '골프', '전기', '테이핑', '끝판', '보호대', '라이', '무릎', '홈트', '프로', '밸런스', '웨이브', '웨어', '만원', '트레이닝', '필수', '하나', '손목', '코팅', '안전', '개념', '치료', '스케이트', '프리', '차량'] \n",
            "\n",
            "여행·레저 ['여행', '캠핑', '감성', '여권', '스마트', '테이블', '캐리어', '트래블', '가방', '방지', '화로', '끝판', '필수', '케이스', '세계', '아웃', '텐트', '지도', '당신', '하나', '도난', '팬츠', '만원', '용품', '대한', '가드', '고고', '피크닉', '제주', '추석'] \n",
            "\n",
            "교육·키즈 ['온라인', '아이', '영어', '클래스', '코딩', '하루', '우리', '교육', '스마트', '놀이', '아기', '육아', '주식', '엄마', '투자', '블록', '프로젝트', '필수', '보드', '데이터', '실전', '유아', '안전', '카드', '아빠', '선물', '세상', '학습', '공부', '게임'] \n",
            "\n",
            "공연·컬쳐 ['영화', '프로젝트', '콘서트', '사진', '당신', '영상', '음악', '전시', '작가', '아트', '대한', '웨딩', '제작', '예술', '촬영', '앨범', '인생', '아이', '뮤지컬', '드라마', '단편', '서울', '반려', '이야기', '스튜디오', '힐링', '하나', '민국', '소장', '공연'] \n",
            "\n",
            "출판 ['출판', '프로젝트', '영어', '쿠팡', '당신', '주식', '스마트', '이야기', '마이', '가이드', '스토어', '투자', '여행', '우리', '한국', '컬러링', '세상', '미국', '에세이', '대화', '비밀', '시간', '카드', '갤러리', '노트', '기업', '아이', '녹색', '서울', '출간'] \n",
            "\n",
            "디자인소품 ['여권', '디자인', '케이스', '서명', '세종', '전문', '다이'] \n",
            "\n",
            "기부·후원 [] \n",
            "\n",
            "모임 ['모임', '다이', '클럽'] \n",
            "\n"
          ],
          "name": "stdout"
        }
      ]
    },
    {
      "cell_type": "markdown",
      "metadata": {
        "id": "peeiNuO4Tg66"
      },
      "source": [
        "## save dict total to csv file"
      ]
    },
    {
      "cell_type": "code",
      "metadata": {
        "id": "GMtJB8RXTRZ-"
      },
      "source": [
        "import csv\n",
        "import sys\n",
        "with open(drive_path+'cate_keyword.csv','w') as f:\n",
        "    w = csv.DictWriter(f, total.keys())\n",
        "    w.writeheader()\n",
        "    w.writerow(total)"
      ],
      "execution_count": null,
      "outputs": []
    },
    {
      "cell_type": "code",
      "metadata": {
        "id": "wpGKqyfs4p7_"
      },
      "source": [
        "#명사만 먼저 추출해서 키워드 추출 가능한지 (카테고리 별로 ) 확인 요망"
      ],
      "execution_count": null,
      "outputs": []
    },
    {
      "cell_type": "markdown",
      "metadata": {
        "id": "OL9RZculVoxu"
      },
      "source": [
        "## 확인 결과 : 기부 후원 빼고 가능함"
      ]
    },
    {
      "cell_type": "code",
      "metadata": {
        "id": "Oiru0mx651sl"
      },
      "source": [
        ""
      ],
      "execution_count": null,
      "outputs": []
    },
    {
      "cell_type": "code",
      "metadata": {
        "id": "HTyw3cE551uj"
      },
      "source": [
        ""
      ],
      "execution_count": null,
      "outputs": []
    },
    {
      "cell_type": "markdown",
      "metadata": {
        "id": "YBFFmFFu6aCF"
      },
      "source": [
        "# 카테고리별 펀딩 평균 모금액 "
      ]
    },
    {
      "cell_type": "code",
      "metadata": {
        "id": "IkvvU8e-51we"
      },
      "source": [
        "df['start_year'] = pd.to_datetime(df['start']).dt.to_period('Y')\n",
        "\n",
        "df_year_mean = df.pivot_table(columns='categories', index='start_year', \n",
        "                                      values='funding_amounts',aggfunc=np.mean)"
      ],
      "execution_count": null,
      "outputs": []
    },
    {
      "cell_type": "code",
      "metadata": {
        "id": "mapwGQei51y5"
      },
      "source": [
        "df_year_mean= df_year_mean.fillna(0) "
      ],
      "execution_count": null,
      "outputs": []
    },
    {
      "cell_type": "code",
      "metadata": {
        "id": "5GtJ4FYO7ZKD"
      },
      "source": [
        "df_year_mean = df_year_mean.astype('int')"
      ],
      "execution_count": null,
      "outputs": []
    },
    {
      "cell_type": "code",
      "metadata": {
        "colab": {
          "base_uri": "https://localhost:8080/",
          "height": 545
        },
        "id": "Vbj8R9JY7ZMR",
        "outputId": "5690a400-5060-4927-a4d6-f315e67ce666"
      },
      "source": [
        "df_year_mean.T"
      ],
      "execution_count": null,
      "outputs": [
        {
          "output_type": "execute_result",
          "data": {
            "text/html": [
              "<div>\n",
              "<style scoped>\n",
              "    .dataframe tbody tr th:only-of-type {\n",
              "        vertical-align: middle;\n",
              "    }\n",
              "\n",
              "    .dataframe tbody tr th {\n",
              "        vertical-align: top;\n",
              "    }\n",
              "\n",
              "    .dataframe thead th {\n",
              "        text-align: right;\n",
              "    }\n",
              "</style>\n",
              "<table border=\"1\" class=\"dataframe\">\n",
              "  <thead>\n",
              "    <tr style=\"text-align: right;\">\n",
              "      <th>start_year</th>\n",
              "      <th>2013</th>\n",
              "      <th>2014</th>\n",
              "      <th>2015</th>\n",
              "      <th>2016</th>\n",
              "      <th>2017</th>\n",
              "      <th>2018</th>\n",
              "      <th>2019</th>\n",
              "      <th>2020</th>\n",
              "      <th>2021</th>\n",
              "    </tr>\n",
              "    <tr>\n",
              "      <th>categories</th>\n",
              "      <th></th>\n",
              "      <th></th>\n",
              "      <th></th>\n",
              "      <th></th>\n",
              "      <th></th>\n",
              "      <th></th>\n",
              "      <th></th>\n",
              "      <th></th>\n",
              "      <th></th>\n",
              "    </tr>\n",
              "  </thead>\n",
              "  <tbody>\n",
              "    <tr>\n",
              "      <th>공연·컬쳐</th>\n",
              "      <td>1577900</td>\n",
              "      <td>2875927</td>\n",
              "      <td>1608609</td>\n",
              "      <td>3314067</td>\n",
              "      <td>5216102</td>\n",
              "      <td>4880764</td>\n",
              "      <td>6086437</td>\n",
              "      <td>18670049</td>\n",
              "      <td>90022098</td>\n",
              "    </tr>\n",
              "    <tr>\n",
              "      <th>교육·키즈</th>\n",
              "      <td>0</td>\n",
              "      <td>16857750</td>\n",
              "      <td>5986921</td>\n",
              "      <td>3470807</td>\n",
              "      <td>9611619</td>\n",
              "      <td>6791423</td>\n",
              "      <td>6873404</td>\n",
              "      <td>9203267</td>\n",
              "      <td>13615529</td>\n",
              "    </tr>\n",
              "    <tr>\n",
              "      <th>기부·후원</th>\n",
              "      <td>0</td>\n",
              "      <td>0</td>\n",
              "      <td>2025436</td>\n",
              "      <td>369282</td>\n",
              "      <td>0</td>\n",
              "      <td>2129178</td>\n",
              "      <td>535000</td>\n",
              "      <td>613875</td>\n",
              "      <td>0</td>\n",
              "    </tr>\n",
              "    <tr>\n",
              "      <th>디자인소품</th>\n",
              "      <td>0</td>\n",
              "      <td>0</td>\n",
              "      <td>0</td>\n",
              "      <td>0</td>\n",
              "      <td>555297703</td>\n",
              "      <td>141703127</td>\n",
              "      <td>34881690</td>\n",
              "      <td>35242113</td>\n",
              "      <td>2863712</td>\n",
              "    </tr>\n",
              "    <tr>\n",
              "      <th>모임</th>\n",
              "      <td>0</td>\n",
              "      <td>0</td>\n",
              "      <td>0</td>\n",
              "      <td>0</td>\n",
              "      <td>0</td>\n",
              "      <td>0</td>\n",
              "      <td>2380300</td>\n",
              "      <td>1946200</td>\n",
              "      <td>0</td>\n",
              "    </tr>\n",
              "    <tr>\n",
              "      <th>반려동물</th>\n",
              "      <td>0</td>\n",
              "      <td>0</td>\n",
              "      <td>2222266</td>\n",
              "      <td>3501283</td>\n",
              "      <td>8863727</td>\n",
              "      <td>17166607</td>\n",
              "      <td>10673292</td>\n",
              "      <td>9172378</td>\n",
              "      <td>8350958</td>\n",
              "    </tr>\n",
              "    <tr>\n",
              "      <th>뷰티</th>\n",
              "      <td>0</td>\n",
              "      <td>0</td>\n",
              "      <td>775375</td>\n",
              "      <td>3283598</td>\n",
              "      <td>6108298</td>\n",
              "      <td>8186882</td>\n",
              "      <td>9732600</td>\n",
              "      <td>11535084</td>\n",
              "      <td>14443909</td>\n",
              "    </tr>\n",
              "    <tr>\n",
              "      <th>소셜·캠페인</th>\n",
              "      <td>4425204</td>\n",
              "      <td>2054491</td>\n",
              "      <td>3910569</td>\n",
              "      <td>2529761</td>\n",
              "      <td>3148786</td>\n",
              "      <td>3581705</td>\n",
              "      <td>4552107</td>\n",
              "      <td>26170944</td>\n",
              "      <td>19286872</td>\n",
              "    </tr>\n",
              "    <tr>\n",
              "      <th>스포츠·모빌리티</th>\n",
              "      <td>155000</td>\n",
              "      <td>2822400</td>\n",
              "      <td>8135625</td>\n",
              "      <td>33204902</td>\n",
              "      <td>42857413</td>\n",
              "      <td>22589399</td>\n",
              "      <td>25101891</td>\n",
              "      <td>30249591</td>\n",
              "      <td>26294317</td>\n",
              "    </tr>\n",
              "    <tr>\n",
              "      <th>여행·레저</th>\n",
              "      <td>0</td>\n",
              "      <td>241150</td>\n",
              "      <td>1527200</td>\n",
              "      <td>14075646</td>\n",
              "      <td>60705330</td>\n",
              "      <td>15695607</td>\n",
              "      <td>13352662</td>\n",
              "      <td>37069189</td>\n",
              "      <td>39721514</td>\n",
              "    </tr>\n",
              "    <tr>\n",
              "      <th>출판</th>\n",
              "      <td>3050000</td>\n",
              "      <td>5129362</td>\n",
              "      <td>3033970</td>\n",
              "      <td>2029697</td>\n",
              "      <td>3381739</td>\n",
              "      <td>5675616</td>\n",
              "      <td>4713437</td>\n",
              "      <td>2725194</td>\n",
              "      <td>7224653</td>\n",
              "    </tr>\n",
              "    <tr>\n",
              "      <th>테크·가전</th>\n",
              "      <td>0</td>\n",
              "      <td>456722</td>\n",
              "      <td>10455098</td>\n",
              "      <td>6222281</td>\n",
              "      <td>16727815</td>\n",
              "      <td>30437970</td>\n",
              "      <td>40992128</td>\n",
              "      <td>53617029</td>\n",
              "      <td>42361244</td>\n",
              "    </tr>\n",
              "    <tr>\n",
              "      <th>패션·잡화</th>\n",
              "      <td>0</td>\n",
              "      <td>18165000</td>\n",
              "      <td>59521000</td>\n",
              "      <td>6331839</td>\n",
              "      <td>19806825</td>\n",
              "      <td>14672261</td>\n",
              "      <td>15496553</td>\n",
              "      <td>16616795</td>\n",
              "      <td>13676106</td>\n",
              "    </tr>\n",
              "    <tr>\n",
              "      <th>푸드</th>\n",
              "      <td>1397000</td>\n",
              "      <td>4858500</td>\n",
              "      <td>48468566</td>\n",
              "      <td>8141672</td>\n",
              "      <td>8902229</td>\n",
              "      <td>14429521</td>\n",
              "      <td>10548499</td>\n",
              "      <td>10201325</td>\n",
              "      <td>7934189</td>\n",
              "    </tr>\n",
              "    <tr>\n",
              "      <th>홈리빙</th>\n",
              "      <td>0</td>\n",
              "      <td>1754666</td>\n",
              "      <td>3539000</td>\n",
              "      <td>3966352</td>\n",
              "      <td>14334986</td>\n",
              "      <td>12658878</td>\n",
              "      <td>13172057</td>\n",
              "      <td>15871438</td>\n",
              "      <td>16820899</td>\n",
              "    </tr>\n",
              "  </tbody>\n",
              "</table>\n",
              "</div>"
            ],
            "text/plain": [
              "start_year     2013      2014      2015  ...      2019      2020      2021\n",
              "categories                               ...                              \n",
              "공연·컬쳐       1577900   2875927   1608609  ...   6086437  18670049  90022098\n",
              "교육·키즈             0  16857750   5986921  ...   6873404   9203267  13615529\n",
              "기부·후원             0         0   2025436  ...    535000    613875         0\n",
              "디자인소품             0         0         0  ...  34881690  35242113   2863712\n",
              "모임                0         0         0  ...   2380300   1946200         0\n",
              "반려동물              0         0   2222266  ...  10673292   9172378   8350958\n",
              "뷰티                0         0    775375  ...   9732600  11535084  14443909\n",
              "소셜·캠페인      4425204   2054491   3910569  ...   4552107  26170944  19286872\n",
              "스포츠·모빌리티     155000   2822400   8135625  ...  25101891  30249591  26294317\n",
              "여행·레저             0    241150   1527200  ...  13352662  37069189  39721514\n",
              "출판          3050000   5129362   3033970  ...   4713437   2725194   7224653\n",
              "테크·가전             0    456722  10455098  ...  40992128  53617029  42361244\n",
              "패션·잡화             0  18165000  59521000  ...  15496553  16616795  13676106\n",
              "푸드          1397000   4858500  48468566  ...  10548499  10201325   7934189\n",
              "홈리빙               0   1754666   3539000  ...  13172057  15871438  16820899\n",
              "\n",
              "[15 rows x 9 columns]"
            ]
          },
          "metadata": {
            "tags": []
          },
          "execution_count": 99
        }
      ]
    },
    {
      "cell_type": "code",
      "metadata": {
        "id": "Hh_VgoSt7ZON"
      },
      "source": [
        "cult=df[df['categories'] == '공연·컬쳐'][['funding_amounts','start_year']]#['funding_amounts'].mean()"
      ],
      "execution_count": null,
      "outputs": []
    },
    {
      "cell_type": "code",
      "metadata": {
        "colab": {
          "base_uri": "https://localhost:8080/"
        },
        "id": "OTGsaNUt9p9L",
        "outputId": "67175a4b-447a-4b22-8e0d-1f56f1fb87ff"
      },
      "source": [
        "cult[cult['start_year']=='2013']['funding_amounts']"
      ],
      "execution_count": null,
      "outputs": [
        {
          "output_type": "execute_result",
          "data": {
            "text/plain": [
              "2568    1540000\n",
              "2616    1060000\n",
              "2617    3525000\n",
              "2694     305000\n",
              "2706     750000\n",
              "2713     220000\n",
              "2741    2235000\n",
              "2773    1550000\n",
              "2844    3060000\n",
              "3000    1534000\n",
              "Name: funding_amounts, dtype: int64"
            ]
          },
          "metadata": {
            "tags": []
          },
          "execution_count": 120
        }
      ]
    },
    {
      "cell_type": "code",
      "metadata": {
        "colab": {
          "base_uri": "https://localhost:8080/"
        },
        "id": "IpGhKUb_9HiM",
        "outputId": "96d0b741-9f40-4027-d64e-27d42bdee614"
      },
      "source": [
        "cult[cult['start_year']=='2013']['funding_amounts'].mean()"
      ],
      "execution_count": null,
      "outputs": [
        {
          "output_type": "execute_result",
          "data": {
            "text/plain": [
              "1577900.0"
            ]
          },
          "metadata": {
            "tags": []
          },
          "execution_count": 114
        }
      ]
    },
    {
      "cell_type": "code",
      "metadata": {
        "id": "X0YWXZ1i7ZSH"
      },
      "source": [
        ""
      ],
      "execution_count": null,
      "outputs": []
    },
    {
      "cell_type": "code",
      "metadata": {
        "id": "1ZfTHkFg9byW"
      },
      "source": [
        ""
      ],
      "execution_count": null,
      "outputs": []
    }
  ]
}