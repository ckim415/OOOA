{
  "nbformat": 4,
  "nbformat_minor": 0,
  "metadata": {
    "colab": {
      "name": "추천시스템 by 타이틀.ipynb",
      "provenance": [],
      "toc_visible": true,
      "authorship_tag": "ABX9TyNFZV8osqn+rfSDmd5g/ZuZ",
      "include_colab_link": true
    },
    "kernelspec": {
      "name": "python3",
      "display_name": "Python 3"
    },
    "language_info": {
      "name": "python"
    }
  },
  "cells": [
    {
      "cell_type": "markdown",
      "metadata": {
        "id": "view-in-github",
        "colab_type": "text"
      },
      "source": [
        "<a href=\"https://colab.research.google.com/github/ckim415/OOOA/blob/main/%EC%B6%94%EC%B2%9C%EC%8B%9C%EC%8A%A4%ED%85%9C_by_%ED%83%80%EC%9D%B4%ED%8B%80.ipynb\" target=\"_parent\"><img src=\"https://colab.research.google.com/assets/colab-badge.svg\" alt=\"Open In Colab\"/></a>"
      ]
    },
    {
      "cell_type": "markdown",
      "metadata": {
        "id": "Yfe8L9AuHWdZ"
      },
      "source": [
        "# 코렙에서 한글 사용"
      ]
    },
    {
      "cell_type": "code",
      "metadata": {
        "colab": {
          "base_uri": "https://localhost:8080/"
        },
        "id": "kaRO9GDbHZb1",
        "outputId": "4e213b34-f0b4-4c0b-fb75-952febb1dbdb"
      },
      "source": [
        "!apt -qq -y install fonts-nanum\n",
        " \n",
        "import matplotlib.pyplot as plt\n",
        "import matplotlib.font_manager as fm\n",
        " \n",
        "fontpath = '/usr/share/fonts/truetype/nanum/NanumBarunGothic.ttf'\n",
        "font = fm.FontProperties(fname=fontpath, size=10)\n",
        "fm._rebuild()\n",
        " \n",
        "# 그래프에 retina display 적용\n",
        "%config InlineBackend.figure_format = 'retina'\n",
        " \n",
        "# Colab 의 한글 폰트 설정\n",
        "plt.rc('font', family='NanumBarunGothic') "
      ],
      "execution_count": null,
      "outputs": [
        {
          "output_type": "stream",
          "text": [
            "fonts-nanum is already the newest version (20170925-1).\n",
            "The following package was automatically installed and is no longer required:\n",
            "  libnvidia-common-460\n",
            "Use 'apt autoremove' to remove it.\n",
            "0 upgraded, 0 newly installed, 0 to remove and 34 not upgraded.\n"
          ],
          "name": "stdout"
        }
      ]
    },
    {
      "cell_type": "markdown",
      "metadata": {
        "id": "K-6AN4wxHaYx"
      },
      "source": [
        "# 구글드라이브 연동"
      ]
    },
    {
      "cell_type": "code",
      "metadata": {
        "colab": {
          "base_uri": "https://localhost:8080/"
        },
        "id": "n2CH5pgwHcga",
        "outputId": "b2963484-5a19-4714-f32f-a91b2ae69c0c"
      },
      "source": [
        "# 구글드라이브 연동\n",
        "from google.colab import drive\n",
        "drive.mount('/gdrive', force_remount=True)\n",
        "\n",
        "# 구글 드라이브 파일 확인\n",
        "!ls '/gdrive/My Drive/프로젝트2'\n",
        "\n",
        "# 반복되는 드라이브 경로 변수화\n",
        "drive_path = '/gdrive/My Drive/프로젝트2/'"
      ],
      "execution_count": 2,
      "outputs": [
        {
          "output_type": "stream",
          "text": [
            "Mounted at /gdrive\n",
            " 6144_link.csv\t\t       game_df.csv\n",
            "'추천시스템 by 타이틀.ipynb'   home.csv\n",
            " concat_df.csv\t\t      '프로젝트 데이터 분석.ipynb'\n",
            " crawling_final.ipynb\t       Untitled2.ipynb\n",
            " edu_link_df\n"
          ],
          "name": "stdout"
        }
      ]
    },
    {
      "cell_type": "code",
      "metadata": {
        "id": "KJKcqU6aHysQ"
      },
      "source": [
        "import pandas as pd\n",
        "import numpy as np"
      ],
      "execution_count": 3,
      "outputs": []
    },
    {
      "cell_type": "markdown",
      "metadata": {
        "id": "UH1Cf6G7HwRS"
      },
      "source": [
        "# 데이터 가져오기"
      ]
    },
    {
      "cell_type": "code",
      "metadata": {
        "colab": {
          "base_uri": "https://localhost:8080/",
          "height": 1000
        },
        "id": "Ofj9WNL5Hs63",
        "outputId": "0b00a622-539b-4189-e476-b3047edbd0ec"
      },
      "source": [
        "df = pd.read_csv(drive_path + 'concat_df.csv')\n",
        "df.head()"
      ],
      "execution_count": 4,
      "outputs": [
        {
          "output_type": "execute_result",
          "data": {
            "text/html": [
              "<div>\n",
              "<style scoped>\n",
              "    .dataframe tbody tr th:only-of-type {\n",
              "        vertical-align: middle;\n",
              "    }\n",
              "\n",
              "    .dataframe tbody tr th {\n",
              "        vertical-align: top;\n",
              "    }\n",
              "\n",
              "    .dataframe thead th {\n",
              "        text-align: right;\n",
              "    }\n",
              "</style>\n",
              "<table border=\"1\" class=\"dataframe\">\n",
              "  <thead>\n",
              "    <tr style=\"text-align: right;\">\n",
              "      <th></th>\n",
              "      <th>Unnamed: 0</th>\n",
              "      <th>categories</th>\n",
              "      <th>title</th>\n",
              "      <th>company_names</th>\n",
              "      <th>target_amounts</th>\n",
              "      <th>funding_amounts</th>\n",
              "      <th>percentages</th>\n",
              "      <th>n_supporters</th>\n",
              "      <th>likes</th>\n",
              "      <th>durations</th>\n",
              "      <th>start</th>\n",
              "      <th>end</th>\n",
              "      <th>time</th>\n",
              "      <th>descriptions</th>\n",
              "      <th>result</th>\n",
              "    </tr>\n",
              "  </thead>\n",
              "  <tbody>\n",
              "    <tr>\n",
              "      <th>0</th>\n",
              "      <td>0</td>\n",
              "      <td>뷰티</td>\n",
              "      <td>[와디즈 최초]20대 딸이랑 50대 엄마랑 함께 쓰는 주름개선 만능 크림</td>\n",
              "      <td>주식회사칼라코드</td>\n",
              "      <td>500000</td>\n",
              "      <td>2338880</td>\n",
              "      <td>467</td>\n",
              "      <td>54</td>\n",
              "      <td>41</td>\n",
              "      <td>['2020.02.28', '2020.03.06']</td>\n",
              "      <td>2020-02-28</td>\n",
              "      <td>2020-03-06</td>\n",
              "      <td>7</td>\n",
              "      <td>테라젠의 첫 번째 제품, 20대 딸이랑 50대 엄마가 함께 쓰는 주름개선 만능 크림...</td>\n",
              "      <td>1</td>\n",
              "    </tr>\n",
              "    <tr>\n",
              "      <th>1</th>\n",
              "      <td>1</td>\n",
              "      <td>뷰티</td>\n",
              "      <td>[2.8억 앵콜] 하루만에 수분140%증가! 임상검증 완료! 갈바닉마스크</td>\n",
              "      <td>반디비타 주식회사</td>\n",
              "      <td>1000000</td>\n",
              "      <td>14260000</td>\n",
              "      <td>1426</td>\n",
              "      <td>145</td>\n",
              "      <td>79</td>\n",
              "      <td>['2021.04.26', '2021.05.31']</td>\n",
              "      <td>2021-04-26</td>\n",
              "      <td>2021-05-31</td>\n",
              "      <td>35</td>\n",
              "      <td>지금 쓰는 스킨케어 제품의 수분증발을 잡아주고 유효성분은 갈바닉으로 피부 깊숙히 전...</td>\n",
              "      <td>1</td>\n",
              "    </tr>\n",
              "    <tr>\n",
              "      <th>2</th>\n",
              "      <td>2</td>\n",
              "      <td>뷰티</td>\n",
              "      <td>1000개 유명 피부과에 공급되는 시크릿 포뮬러를 담은 33패드 프로그램</td>\n",
              "      <td>(주)코떼랑</td>\n",
              "      <td>500000</td>\n",
              "      <td>5017500</td>\n",
              "      <td>1003</td>\n",
              "      <td>65</td>\n",
              "      <td>65</td>\n",
              "      <td>['2019.04.16', '2019.05.06']</td>\n",
              "      <td>2019-04-16</td>\n",
              "      <td>2019-05-06</td>\n",
              "      <td>20</td>\n",
              "      <td>위시포뮬러가 피부과 화장품 제조 20년의 기술과 노하우를 단 한 장의  패드에 담았...</td>\n",
              "      <td>1</td>\n",
              "    </tr>\n",
              "    <tr>\n",
              "      <th>3</th>\n",
              "      <td>3</td>\n",
              "      <td>뷰티</td>\n",
              "      <td>두피 관리의 핵심은 유분량의 균형입니다! 올솔 모닝-나이트 밸런스 샴푸</td>\n",
              "      <td>올솔 (allsol)</td>\n",
              "      <td>500000</td>\n",
              "      <td>7358800</td>\n",
              "      <td>1471</td>\n",
              "      <td>134</td>\n",
              "      <td>130</td>\n",
              "      <td>['2020.03.13', '2020.04.06']</td>\n",
              "      <td>2020-03-13</td>\n",
              "      <td>2020-04-06</td>\n",
              "      <td>24</td>\n",
              "      <td>매일 변하는 두피 유분량! \\n그런데도 매번 같은 타입의 샴푸 쓰세요? \\n두피뿐만...</td>\n",
              "      <td>1</td>\n",
              "    </tr>\n",
              "    <tr>\n",
              "      <th>4</th>\n",
              "      <td>4</td>\n",
              "      <td>뷰티</td>\n",
              "      <td>컨디셔너 필요없이 그린빈샴푸 하나로 두피와 모발의 건강을 책임집니다.</td>\n",
              "      <td>주라이프 네츄럴 코스메틱 주앤솝</td>\n",
              "      <td>500000</td>\n",
              "      <td>694800</td>\n",
              "      <td>138</td>\n",
              "      <td>30</td>\n",
              "      <td>12</td>\n",
              "      <td>['2019.04.26', '2019.05.08']</td>\n",
              "      <td>2019-04-26</td>\n",
              "      <td>2019-05-08</td>\n",
              "      <td>12</td>\n",
              "      <td>화학 성분 NO! 모발에 윤기와 탄력을 주며, 비듬이나 가려움을 덜어주며, 컨디셔너...</td>\n",
              "      <td>1</td>\n",
              "    </tr>\n",
              "  </tbody>\n",
              "</table>\n",
              "</div>"
            ],
            "text/plain": [
              "   Unnamed: 0  ... result\n",
              "0           0  ...      1\n",
              "1           1  ...      1\n",
              "2           2  ...      1\n",
              "3           3  ...      1\n",
              "4           4  ...      1\n",
              "\n",
              "[5 rows x 15 columns]"
            ]
          },
          "metadata": {
            "tags": []
          },
          "execution_count": 4
        }
      ]
    },
    {
      "cell_type": "markdown",
      "metadata": {
        "id": "S5r9Y8SVIpJM"
      },
      "source": [
        "# text 처리\n",
        "\n",
        "*   특수문자 제거\n",
        "\n",
        "\n"
      ]
    },
    {
      "cell_type": "code",
      "metadata": {
        "id": "DJ3izQCUIE9H"
      },
      "source": [
        "import re\n",
        "from string import punctuation"
      ],
      "execution_count": null,
      "outputs": []
    },
    {
      "cell_type": "code",
      "metadata": {
        "colab": {
          "base_uri": "https://localhost:8080/",
          "height": 35
        },
        "id": "eFqX6CDJKaAX",
        "outputId": "f884b09e-cebe-41fa-ba48-16b4f5e09bbc"
      },
      "source": [
        "punctuation"
      ],
      "execution_count": null,
      "outputs": [
        {
          "output_type": "execute_result",
          "data": {
            "application/vnd.google.colaboratory.intrinsic+json": {
              "type": "string"
            },
            "text/plain": [
              "'!\"#$%&\\'()*+,-./:;<=>?@[\\\\]^_`{|}~'"
            ]
          },
          "metadata": {
            "tags": []
          },
          "execution_count": 6
        }
      ]
    },
    {
      "cell_type": "code",
      "metadata": {
        "colab": {
          "base_uri": "https://localhost:8080/"
        },
        "id": "2tzuTv9KR6VR",
        "outputId": "ef6399d9-1c4a-4ee5-93f9-413eed7d5ce8"
      },
      "source": [
        "!pip install konlpy wordcloud"
      ],
      "execution_count": null,
      "outputs": [
        {
          "output_type": "stream",
          "text": [
            "Requirement already satisfied: konlpy in /usr/local/lib/python3.7/dist-packages (0.5.2)\n",
            "Requirement already satisfied: wordcloud in /usr/local/lib/python3.7/dist-packages (1.5.0)\n",
            "Requirement already satisfied: tweepy>=3.7.0 in /usr/local/lib/python3.7/dist-packages (from konlpy) (3.10.0)\n",
            "Requirement already satisfied: lxml>=4.1.0 in /usr/local/lib/python3.7/dist-packages (from konlpy) (4.2.6)\n",
            "Requirement already satisfied: colorama in /usr/local/lib/python3.7/dist-packages (from konlpy) (0.4.4)\n",
            "Requirement already satisfied: beautifulsoup4==4.6.0 in /usr/local/lib/python3.7/dist-packages (from konlpy) (4.6.0)\n",
            "Requirement already satisfied: JPype1>=0.7.0 in /usr/local/lib/python3.7/dist-packages (from konlpy) (1.2.1)\n",
            "Requirement already satisfied: numpy>=1.6 in /usr/local/lib/python3.7/dist-packages (from konlpy) (1.19.5)\n",
            "Requirement already satisfied: pillow in /usr/local/lib/python3.7/dist-packages (from wordcloud) (7.1.2)\n",
            "Requirement already satisfied: six>=1.10.0 in /usr/local/lib/python3.7/dist-packages (from tweepy>=3.7.0->konlpy) (1.15.0)\n",
            "Requirement already satisfied: requests-oauthlib>=0.7.0 in /usr/local/lib/python3.7/dist-packages (from tweepy>=3.7.0->konlpy) (1.3.0)\n",
            "Requirement already satisfied: requests[socks]>=2.11.1 in /usr/local/lib/python3.7/dist-packages (from tweepy>=3.7.0->konlpy) (2.23.0)\n",
            "Requirement already satisfied: typing-extensions; python_version < \"3.8\" in /usr/local/lib/python3.7/dist-packages (from JPype1>=0.7.0->konlpy) (3.7.4.3)\n",
            "Requirement already satisfied: oauthlib>=3.0.0 in /usr/local/lib/python3.7/dist-packages (from requests-oauthlib>=0.7.0->tweepy>=3.7.0->konlpy) (3.1.0)\n",
            "Requirement already satisfied: urllib3!=1.25.0,!=1.25.1,<1.26,>=1.21.1 in /usr/local/lib/python3.7/dist-packages (from requests[socks]>=2.11.1->tweepy>=3.7.0->konlpy) (1.24.3)\n",
            "Requirement already satisfied: chardet<4,>=3.0.2 in /usr/local/lib/python3.7/dist-packages (from requests[socks]>=2.11.1->tweepy>=3.7.0->konlpy) (3.0.4)\n",
            "Requirement already satisfied: certifi>=2017.4.17 in /usr/local/lib/python3.7/dist-packages (from requests[socks]>=2.11.1->tweepy>=3.7.0->konlpy) (2020.12.5)\n",
            "Requirement already satisfied: idna<3,>=2.5 in /usr/local/lib/python3.7/dist-packages (from requests[socks]>=2.11.1->tweepy>=3.7.0->konlpy) (2.10)\n",
            "Requirement already satisfied: PySocks!=1.5.7,>=1.5.6; extra == \"socks\" in /usr/local/lib/python3.7/dist-packages (from requests[socks]>=2.11.1->tweepy>=3.7.0->konlpy) (1.7.1)\n"
          ],
          "name": "stdout"
        }
      ]
    },
    {
      "cell_type": "code",
      "metadata": {
        "id": "rayPHZhmSDUI"
      },
      "source": [
        "from konlpy.tag import Kkma, Hannanum, Komoran, Mecab, Okt"
      ],
      "execution_count": null,
      "outputs": []
    },
    {
      "cell_type": "code",
      "metadata": {
        "id": "h07Y9DttSExA"
      },
      "source": [
        "kkma = Kkma()\n",
        "han = Hannanum()\n",
        "kor = Komoran()\n",
        "okt = Okt()\n",
        "# mecab = Mecab()"
      ],
      "execution_count": null,
      "outputs": []
    },
    {
      "cell_type": "code",
      "metadata": {
        "id": "cDkqujEAK_4u"
      },
      "source": [
        "#punctutation 제거\n",
        "pattern1 = re.compile(r'[{}]'.format(re.escape(punctuation)))\n",
        "#숫자 제거\n",
        "pattern2 = re.compile(r'[0-9]')"
      ],
      "execution_count": null,
      "outputs": []
    },
    {
      "cell_type": "code",
      "metadata": {
        "colab": {
          "base_uri": "https://localhost:8080/"
        },
        "id": "Gg2vLCALMaqN",
        "outputId": "1ff93f7c-3b2f-4c97-c487-d66bddbf13cb"
      },
      "source": [
        "for i in df['title'][15:30]:\n",
        "  print(i)\n",
        "  sentence = pattern1.sub(' ',\n",
        "             pattern2.sub('',i)).strip()\n",
        "  # print('kkma :',kkma.nouns(sentence))\n",
        "  print('han :',han.nouns(sentence))\n",
        "  print('okt :',okt.nouns(sentence))\n",
        "  # print('komoran :',kor.nouns(sentence))\n",
        "  #print('mecab :',Mecab.nouns(sentence))\n",
        "\n",
        "  print('-'*10)"
      ],
      "execution_count": null,
      "outputs": [
        {
          "output_type": "stream",
          "text": [
            "피부관리는 클렌징으로부터ㅣ하나로 끝낸다ㅣ스피나 미라클 듀얼 퍼펙트 클린저\n",
            "han : ['피부관리', '클렌징으로부터ㅣ하나', '끝낸다ㅣ스피', '미라클', '듀얼', '퍼펙트', '클린저']\n",
            "okt : ['피부관리', '클렌징', '하나로', '스피', '미라클', '듀얼', '퍼펙트', '클린', '저']\n",
            "----------\n",
            "[1914% 앵콜]후기로 입증된 저분자 히알루론산20000ppm의 흡수력\n",
            "han : ['앵콜', '후', '입증', '저분자', '히알루론산ppm', '흡수력']\n",
            "okt : ['앵콜', '후기', '입증', '저분자', '히알루론산', '의', '흡수']\n",
            "----------\n",
            "유해 물질로부터 내 아이의 피부를 지켜줄 좋은 습관 만들기, 유아클렌징폼\n",
            "han : ['물질', '내', '아이', '피부', '습관', '유아클렌징폼']\n",
            "okt : ['유해', '물질', '로부터', '내', '아이', '피부', '습관', '만들기', '유아', '클렌', '징폼']\n",
            "----------\n",
            " <단독 런칭> 최악의 자외선에서 살아남는 호주사람 99%가 아는 선크림\n",
            "han : ['단독', '런칭', '최악', '자외선', '호주사람', '선크']\n",
            "okt : ['단독', '런칭', '최악', '자외선', '호주', '사람', '선크림']\n",
            "----------\n",
            "[한방 함유량 20%!!!] 딸바보 아빠가 만든 프라그마 여성 청결제\n",
            "han : ['한방', '함유량', '딸바보', '아빠', '프라그마', '여성', '청결제']\n",
            "okt : ['방', '함유량', '딸바보', '아빠', '프라그', '마', '여성', '청', '결제']\n",
            "----------\n",
            "헐리우드스타에게 브러쉬만들어주던 언니가 만든 메이크업브러쉬 [1+1+1]\n",
            "han : ['헐리우드스타에', '브러쉬만들어주', '언니', '메이크업브러쉬']\n",
            "okt : ['헐리우드', '스타', '브러쉬', '언니', '메이크업', '브러쉬']\n",
            "----------\n",
            "'홍보대사 하고 싶을 만큼 최고입니다' 극찬의 후기로 탄생 60초꿀광패드\n",
            "han : ['홍보대사', '만큼', '최고', '극찬', '후', '탄생', '초꿀광패드']\n",
            "okt : ['홍보', '대사', '만큼', '최고', '극찬', '후기', '탄생', '초꿀광', '패드']\n",
            "----------\n",
            "하룻밤에 완성되는 립밤 없이 촉촉한 베이글 입술. 강력 영양보습 립마스크\n",
            "han : ['하룻밤', '완성', '립밤', '베이글', '입술', '강력', '영양보습', '립마스크']\n",
            "okt : ['하룻밤', '완성', '립밤', '베이글', '입술', '강력', '영양', '보습', '립', '마스크']\n",
            "----------\n",
            "[평점 4.7] 12년 속눈썹전문가가 만든 특허성분 찐!속눈썹영양제\n",
            "han : ['평점', '년', '속눈썹전문가', '특허성분', '속눈썹영양제']\n",
            "okt : ['평점', '년', '속눈썹', '전문가', '특허성', '속눈썹', '양제']\n",
            "----------\n",
            "[오.늘.마.감] 하루만에 수분140%증가! 임상&후기검증 갈바닉 마스크\n",
            "han : ['마', '하루만', '수분', '증', '임상', '후기검증', '갈바닉', '마스크']\n",
            "okt : ['오', '늘', '마', '감', '하루', '수분', '증가', '임', '후기', '검증', '갈바', '닉', '마스크']\n",
            "----------\n",
            "[앵콜4.9평점]3일만에 COOL하게 잠재운다구? #쿨잠크림 #냉장고크림\n",
            "han : ['앵콜', '평점', '일만', '잠재운다구', '쿨잠크림', '냉장고크림']\n",
            "okt : ['앵콜', '평점', '일만', '쿨잠', '크림', '냉장고', '크림']\n",
            "----------\n",
            " 저녁보습 아침까지~, 자연그대로 D(아토랑 키즈랑)\n",
            "han : ['저녁보습', '아침', '자연그대', '아토', '키즈']\n",
            "okt : ['저녁', '보습', '아침', '자연', '그대로', '아토', '키즈']\n",
            "----------\n",
            "장성군 축령산 편백잎을 아낌없이 담은 폼클렌징\n",
            "han : ['장성군', '축령산', '편백잎', '폼클렌징']\n",
            "okt : ['장성군', '축령산', '편백', '잎', '폼클렌징']\n",
            "----------\n",
            "지금 까지 이런 남성올인원 제품은 없었다. 미백,주름개선  기능성화장품\n",
            "han : ['남성올인원', '제품', '미백', '주름개선', '기능성화장품']\n",
            "okt : ['지금', '남성', '올인원', '제품', '미백', '주름', '개선', '기능', '화장품']\n",
            "----------\n",
            "[뷰티]미세전류 마스크팩세트 (미백/주름 이중 기능성)\n",
            "han : ['뷰티', '미세전류', '마스크팩세트', '미백', '주름', '이중', '기능성']\n",
            "okt : ['뷰티', '미세', '전류', '마스크', '팩', '세트', '미백', '주름', '이중', '기능']\n",
            "----------\n"
          ],
          "name": "stdout"
        }
      ]
    },
    {
      "cell_type": "code",
      "metadata": {
        "id": "PH4KPprNUsLI"
      },
      "source": [
        "#함수화\n",
        "def cleaning(doc):\n",
        "\n",
        "  sentence = pattern1.sub(' ',\n",
        "             pattern2.sub('',str(doc))).strip()\n",
        "\n",
        "  try : \n",
        "    return han.nouns(sentence)\n",
        "  except:\n",
        "    return []"
      ],
      "execution_count": null,
      "outputs": []
    },
    {
      "cell_type": "code",
      "metadata": {
        "colab": {
          "base_uri": "https://localhost:8080/"
        },
        "id": "Xhr332NzWLTA",
        "outputId": "5ba47505-cae9-4fac-ae92-fa7282cab6d7"
      },
      "source": [
        "df['title_noun'] = df['title'].apply(cleaning)\n",
        "df['title_noun']"
      ],
      "execution_count": null,
      "outputs": [
        {
          "output_type": "execute_result",
          "data": {
            "text/plain": [
              "0               [와디즈, 최초, 대, 딸, 대, 엄마, 주름개선, 만능, 크림]\n",
              "1              [억, 앵콜, 하루만, 수분, 증, 임상검증, 완료, 갈바닉마스크]\n",
              "2               [개, 유명, 피부과, 공급, 시크릿, 포뮬러, 패드, 프로그램]\n",
              "3        [두피, 관리, 핵심, 유분량, 균형, 올솔, 모닝, 나이트, 밸런스, 샴푸]\n",
              "4                  [컨디셔너, 필요, 그린빈샴푸, 하나, 두피, 모발, 건강]\n",
              "                            ...                     \n",
              "21475                        [히트패드, 출근길, 핸들, 전기, 핫팩]\n",
              "21476         [무선, 에어펌프, 자동차, 오토바이공기압, 자전거, 튜브, 축구공]\n",
              "21477         [너, 나, 간단, 개국어지원, 반응형, 웹페이지, 제작, 실크로드]\n",
              "21478                        [웨어러블, 공기청정기, 전동식, 마스크]\n",
              "21479                                      [년JD, 시계]\n",
              "Name: title_noun, Length: 21480, dtype: object"
            ]
          },
          "metadata": {
            "tags": []
          },
          "execution_count": 12
        }
      ]
    },
    {
      "cell_type": "code",
      "metadata": {
        "id": "vvKgi_qfYL56"
      },
      "source": [
        "df['title_noun'] = df['title_noun'].apply(lambda x: (' ').join(x))"
      ],
      "execution_count": null,
      "outputs": []
    },
    {
      "cell_type": "code",
      "metadata": {
        "colab": {
          "base_uri": "https://localhost:8080/"
        },
        "id": "DiS47-hmZk3w",
        "outputId": "3698a85e-b22a-4245-e34f-b49f2ca0132d"
      },
      "source": [
        "df['title_noun']"
      ],
      "execution_count": null,
      "outputs": [
        {
          "output_type": "execute_result",
          "data": {
            "text/plain": [
              "0              와디즈 최초 대 딸 대 엄마 주름개선 만능 크림\n",
              "1            억 앵콜 하루만 수분 증 임상검증 완료 갈바닉마스크\n",
              "2             개 유명 피부과 공급 시크릿 포뮬러 패드 프로그램\n",
              "3        두피 관리 핵심 유분량 균형 올솔 모닝 나이트 밸런스 샴푸\n",
              "4               컨디셔너 필요 그린빈샴푸 하나 두피 모발 건강\n",
              "                       ...               \n",
              "21475                   히트패드 출근길 핸들 전기 핫팩\n",
              "21476      무선 에어펌프 자동차 오토바이공기압 자전거 튜브 축구공\n",
              "21477       너 나 간단 개국어지원 반응형 웹페이지 제작 실크로드\n",
              "21478                  웨어러블 공기청정기 전동식 마스크\n",
              "21479                              년JD 시계\n",
              "Name: title_noun, Length: 21480, dtype: object"
            ]
          },
          "metadata": {
            "tags": []
          },
          "execution_count": 14
        }
      ]
    },
    {
      "cell_type": "code",
      "metadata": {
        "colab": {
          "base_uri": "https://localhost:8080/"
        },
        "id": "iCA0M-IbdRcy",
        "outputId": "cb110329-8eb9-4df4-ba36-2109c8a741e4"
      },
      "source": [
        "df['title_noun'][0].split()[:] == '엄마'"
      ],
      "execution_count": null,
      "outputs": [
        {
          "output_type": "execute_result",
          "data": {
            "text/plain": [
              "False"
            ]
          },
          "metadata": {
            "tags": []
          },
          "execution_count": 21
        }
      ]
    },
    {
      "cell_type": "markdown",
      "metadata": {
        "id": "xqBfdmJo25JX"
      },
      "source": [
        "## key word rank\n",
        "- 타이틀 마다 키워드 추출"
      ]
    },
    {
      "cell_type": "code",
      "metadata": {
        "colab": {
          "base_uri": "https://localhost:8080/"
        },
        "id": "xKwN0dU-3F_l",
        "outputId": "634cf84a-1946-4303-8592-777e324e7fa1"
      },
      "source": [
        "!pip install krwordrank"
      ],
      "execution_count": 1,
      "outputs": [
        {
          "output_type": "stream",
          "text": [
            "Collecting krwordrank\n",
            "  Downloading https://files.pythonhosted.org/packages/6f/c8/7946b49dabd25a2fd8c258030bbfb21330f4ff1dca29a5eedb50e6882ed5/krwordrank-1.0.3-py3-none-any.whl\n",
            "Requirement already satisfied: numpy>=1.18.4 in /usr/local/lib/python3.7/dist-packages (from krwordrank) (1.19.5)\n",
            "Requirement already satisfied: scipy>=1.4.1 in /usr/local/lib/python3.7/dist-packages (from krwordrank) (1.4.1)\n",
            "Requirement already satisfied: scikit-learn>=0.22.1 in /usr/local/lib/python3.7/dist-packages (from krwordrank) (0.22.2.post1)\n",
            "Requirement already satisfied: joblib>=0.11 in /usr/local/lib/python3.7/dist-packages (from scikit-learn>=0.22.1->krwordrank) (1.0.1)\n",
            "Installing collected packages: krwordrank\n",
            "Successfully installed krwordrank-1.0.3\n"
          ],
          "name": "stdout"
        }
      ]
    },
    {
      "cell_type": "code",
      "metadata": {
        "id": "ULbejSbZ3GCB"
      },
      "source": [
        "from krwordrank.word import KRWordRank\n",
        "from krwordrank.hangle import normalize"
      ],
      "execution_count": 5,
      "outputs": []
    },
    {
      "cell_type": "code",
      "metadata": {
        "id": "VWHeEYm83GEP"
      },
      "source": [
        "example = df['title'][:100].values\n",
        "example_text = [normalize(text, english=True, number=True) for text in example]"
      ],
      "execution_count": 13,
      "outputs": []
    },
    {
      "cell_type": "code",
      "metadata": {
        "colab": {
          "base_uri": "https://localhost:8080/"
        },
        "id": "_o-U8sS-3GGQ",
        "outputId": "5aed193e-3281-4a90-c9e0-d0ec4a4b869e"
      },
      "source": [
        "wordrank_extractor = KRWordRank(\n",
        "    min_count = 2, # 단어의 최소 출현 빈도수 (그래프 생성 시)\n",
        "    max_length = 10, # 단어의 최대 길이\n",
        "    verbose = True\n",
        "    )\n",
        "\n",
        "beta = 0.85    # PageRank의 decaying factor beta\n",
        "max_iter = 10\n",
        "\n",
        "keywords, rank, graph = wordrank_extractor.extract(example_text, beta, max_iter)"
      ],
      "execution_count": 14,
      "outputs": [
        {
          "output_type": "stream",
          "text": [
            "scan vocabs ... \n",
            "num vocabs = 548\n",
            "done\n"
          ],
          "name": "stdout"
        }
      ]
    },
    {
      "cell_type": "code",
      "metadata": {
        "colab": {
          "base_uri": "https://localhost:8080/"
        },
        "id": "z1vuqwHq3GIS",
        "outputId": "13320126-a17c-4a23-d0e6-cb1a00b51dab"
      },
      "source": [
        "keywords"
      ],
      "execution_count": 15,
      "outputs": [
        {
          "output_type": "execute_result",
          "data": {
            "text/plain": [
              "{'00': 1.0,\n",
              " '100': 0.8430677046392853,\n",
              " '1억': 1.2022996526970964,\n",
              " '20': 1.3881348411880445,\n",
              " '30': 1.1228450064259414,\n",
              " '50': 0.8097456495402746,\n",
              " '90': 0.7418130607503539,\n",
              " '9앵콜': 0.9882129634585639,\n",
              " '각질': 0.8198846793523364,\n",
              " '갈바닉': 1.3285427709559525,\n",
              " '강력': 1.0654412326049938,\n",
              " '건강': 0.48681744417639466,\n",
              " '고순도': 1.749839606258159,\n",
              " '관리': 1.368176960217609,\n",
              " '기능성': 0.9384100092083218,\n",
              " '남성': 0.4177042755373556,\n",
              " '닥터': 0.3757040240764192,\n",
              " '달라지는': 0.9452757908399642,\n",
              " '담은': 1.1105762713918454,\n",
              " '당신': 1.447458250161179,\n",
              " '두피': 1.1925656142643217,\n",
              " '들어간': 1.107395902534647,\n",
              " '리얼': 1.2154858573727543,\n",
              " '마세요': 1.1704510616314288,\n",
              " '마스크': 2.40004623606754,\n",
              " '만든': 3.0049019928336262,\n",
              " '만들': 0.5147391959372616,\n",
              " '명품': 0.9913106502462633,\n",
              " '모공': 2.0711880366971362,\n",
              " '미백': 1.7112529201743145,\n",
              " '밀키': 1.0,\n",
              " '바르': 0.6810568504673303,\n",
              " '바쁜': 0.5752113580292175,\n",
              " '방법': 0.6959831185125956,\n",
              " '보습': 1.7722837344156188,\n",
              " '비밀': 0.6740123379005033,\n",
              " '샴푸': 1.3809277512959426,\n",
              " '선크림': 3.406965317553528,\n",
              " '성분': 0.8955049091645437,\n",
              " '세상': 1.1506495606772829,\n",
              " '세안': 0.5344390695721015,\n",
              " '속눈': 0.5324595718570779,\n",
              " '수분140': 1.4781790644160844,\n",
              " '스킨케어': 1.4045594199085443,\n",
              " '스피': 0.5614317246878766,\n",
              " '시작': 1.518562149190831,\n",
              " '시크': 1.0,\n",
              " '신개념': 1.6125219952395997,\n",
              " '아기': 0.9033676305069508,\n",
              " '아름': 0.3473860254101911,\n",
              " '아빠가': 1.0877667206058121,\n",
              " '아이': 0.8371160450564302,\n",
              " '아침': 0.8940911776528557,\n",
              " '안에': 1.2069387335807171,\n",
              " '앵콜': 6.829079548151072,\n",
              " '어디서나': 0.8522468455069407,\n",
              " '없는': 1.0517445284464126,\n",
              " '여성': 2.1186684863525387,\n",
              " '영양': 0.9675491383102,\n",
              " '올데이': 1.225666785519694,\n",
              " '올인원': 1.2182475166263678,\n",
              " '와디': 1.126311045246177,\n",
              " '완료': 1.462042102134828,\n",
              " '완벽': 1.14842213011086,\n",
              " '완성': 0.5547616041646428,\n",
              " '위한': 1.4932012289365653,\n",
              " '유분': 0.34063902043239264,\n",
              " '이데베논': 1.0322194110484104,\n",
              " '임상': 1.407156238065034,\n",
              " '있다': 1.6156859100698964,\n",
              " '자몽': 0.5781805775984054,\n",
              " '제주': 0.968671300934385,\n",
              " '제품': 0.5442864744935166,\n",
              " '좋은': 1.892100733953959,\n",
              " '주름개선': 1.4665458610043478,\n",
              " '증가': 1.9784046376090116,\n",
              " '지키': 1.0,\n",
              " '천연': 0.6372283783170232,\n",
              " '청결': 0.6274516555860149,\n",
              " '치아': 0.5205290731139974,\n",
              " '콜라겐': 1.6691137483275997,\n",
              " '크림': 1.198954581816853,\n",
              " '탄력': 1.4038468951730985,\n",
              " '탈모': 0.7234409518141325,\n",
              " '특허성': 0.7222442645325163,\n",
              " '퍼퓸': 1.867152000886254,\n",
              " '편안한': 1.111662814622913,\n",
              " '평점': 0.8619087915522633,\n",
              " '프로그램': 1.631686033141471,\n",
              " '피부': 6.847709083608761,\n",
              " '하나로': 3.6867610324066633,\n",
              " '하루만에': 1.5892972724768168,\n",
              " '함께': 1.8076714693198066,\n",
              " '해결': 0.825078437750263,\n",
              " '핸드': 1.0705503538000398,\n",
              " '향기': 1.1863900838182158,\n",
              " '향수': 0.8537251439337017,\n",
              " '헤어': 0.3899402081778807,\n",
              " '화이': 0.6411227399373939,\n",
              " '화장품': 3.426694435878637,\n",
              " '효과': 0.47879486501328994,\n",
              " '후기': 1.3206534126676188,\n",
              " '흡수율': 1.3051736164807566,\n",
              " '힐링': 1.2182824743113794}"
            ]
          },
          "metadata": {
            "tags": []
          },
          "execution_count": 15
        }
      ]
    },
    {
      "cell_type": "code",
      "metadata": {
        "colab": {
          "base_uri": "https://localhost:8080/"
        },
        "id": "TCtPynU84P6U",
        "outputId": "7aaa0932-3832-41ee-b1c4-de3c5ad13e56"
      },
      "source": [
        "for word, r in sorted(keywords.items(), key=lambda x:x[1], reverse=True)[:30]:\n",
        "    print('%8s:\\t%.4f' % (word, r))"
      ],
      "execution_count": 16,
      "outputs": [
        {
          "output_type": "stream",
          "text": [
            "      피부:\t6.8477\n",
            "      앵콜:\t6.8291\n",
            "     하나로:\t3.6868\n",
            "     화장품:\t3.4267\n",
            "     선크림:\t3.4070\n",
            "      만든:\t3.0049\n",
            "     마스크:\t2.4000\n",
            "      여성:\t2.1187\n",
            "      모공:\t2.0712\n",
            "      증가:\t1.9784\n",
            "      좋은:\t1.8921\n",
            "      퍼퓸:\t1.8672\n",
            "      함께:\t1.8077\n",
            "      보습:\t1.7723\n",
            "     고순도:\t1.7498\n",
            "      미백:\t1.7113\n",
            "     콜라겐:\t1.6691\n",
            "    프로그램:\t1.6317\n",
            "      있다:\t1.6157\n",
            "     신개념:\t1.6125\n",
            "    하루만에:\t1.5893\n",
            "      시작:\t1.5186\n",
            "      위한:\t1.4932\n",
            "   수분140:\t1.4782\n",
            "    주름개선:\t1.4665\n",
            "      완료:\t1.4620\n",
            "      당신:\t1.4475\n",
            "      임상:\t1.4072\n",
            "    스킨케어:\t1.4046\n",
            "      탄력:\t1.4038\n"
          ],
          "name": "stdout"
        }
      ]
    },
    {
      "cell_type": "code",
      "metadata": {
        "id": "LJJW-hBs4P8S"
      },
      "source": [
        ""
      ],
      "execution_count": null,
      "outputs": []
    },
    {
      "cell_type": "code",
      "metadata": {
        "id": "y1FY7frb4QAK"
      },
      "source": [
        ""
      ],
      "execution_count": null,
      "outputs": []
    },
    {
      "cell_type": "code",
      "metadata": {
        "id": "emrUUMXm4QCU"
      },
      "source": [
        ""
      ],
      "execution_count": null,
      "outputs": []
    },
    {
      "cell_type": "code",
      "metadata": {
        "colab": {
          "base_uri": "https://localhost:8080/"
        },
        "id": "51EHr6jVZm-Y",
        "outputId": "54074ff5-bc1b-4760-d16b-e5564cd81f65"
      },
      "source": [
        "from sklearn.feature_extraction.text import CountVectorizer\n",
        "from sklearn.metrics.pairwise import cosine_similarity\n",
        "\n",
        "count_vect = CountVectorizer(min_df=0, ngram_range=(1,2))\n",
        "title_matrix = count_vect.fit_transform( df['title_noun'] )\n",
        "title_matrix.shape"
      ],
      "execution_count": null,
      "outputs": [
        {
          "output_type": "execute_result",
          "data": {
            "text/plain": [
              "(21480, 110708)"
            ]
          },
          "metadata": {
            "tags": []
          },
          "execution_count": 15
        }
      ]
    },
    {
      "cell_type": "code",
      "metadata": {
        "colab": {
          "base_uri": "https://localhost:8080/"
        },
        "id": "Fp_7IG4gZ_0_",
        "outputId": "de9ca020-07d6-4cb1-942b-93118bea0acd"
      },
      "source": [
        "title_sim = cosine_similarity(title_matrix,title_matrix)\n",
        "title_sim.shape"
      ],
      "execution_count": null,
      "outputs": [
        {
          "output_type": "execute_result",
          "data": {
            "text/plain": [
              "(21480, 21480)"
            ]
          },
          "metadata": {
            "tags": []
          },
          "execution_count": 16
        }
      ]
    },
    {
      "cell_type": "code",
      "metadata": {
        "colab": {
          "base_uri": "https://localhost:8080/"
        },
        "id": "DH5Hw6gdaSbg",
        "outputId": "be62b950-b4ee-4345-fc0c-9c03531fa4ed"
      },
      "source": [
        "np.sort(title_sim)[:, ::-1]"
      ],
      "execution_count": null,
      "outputs": [
        {
          "output_type": "execute_result",
          "data": {
            "text/plain": [
              "array([[1.        , 0.34188173, 0.34188173, ..., 0.        , 0.        ,\n",
              "        0.        ],\n",
              "       [1.        , 0.27272727, 0.27272727, ..., 0.        , 0.        ,\n",
              "        0.        ],\n",
              "       [1.        , 0.13453456, 0.12403473, ..., 0.        , 0.        ,\n",
              "        0.        ],\n",
              "       ...,\n",
              "       [1.        , 0.15569979, 0.13483997, ..., 0.        , 0.        ,\n",
              "        0.        ],\n",
              "       [1.        , 0.56980288, 0.37796447, ..., 0.        , 0.        ,\n",
              "        0.        ],\n",
              "       [1.        , 0.33333333, 0.32025631, ..., 0.        , 0.        ,\n",
              "        0.        ]])"
            ]
          },
          "metadata": {
            "tags": []
          },
          "execution_count": 17
        }
      ]
    },
    {
      "cell_type": "code",
      "metadata": {
        "colab": {
          "base_uri": "https://localhost:8080/"
        },
        "id": "V99LnrQRa6aw",
        "outputId": "147d9917-afe7-4dbe-d296-05c75c3079df"
      },
      "source": [
        "title_sim_sorted_ind = title_sim.argsort()[:, ::-1]\n",
        "title_sim_sorted_ind[1]"
      ],
      "execution_count": null,
      "outputs": [
        {
          "output_type": "execute_result",
          "data": {
            "text/plain": [
              "array([    1,    24,  1919, ..., 13872, 13873,     0])"
            ]
          },
          "metadata": {
            "tags": []
          },
          "execution_count": 18
        }
      ]
    },
    {
      "cell_type": "code",
      "metadata": {
        "id": "jhfterVIbFX3"
      },
      "source": [
        "def find_sim_title(df, sorted_ind, title_name, top_n=10):\n",
        "  title_movie = df[ df['title_noun'].split() == title_name ]\n",
        "  title_index = title_movie.index.values\n",
        "  sim_indexs = sorted_ind[title_index, :(top_n)]\n",
        "  sim_indexs = sim_indexs.reshape(-1)\n",
        "  return df.iloc[sim_indexs]"
      ],
      "execution_count": null,
      "outputs": []
    },
    {
      "cell_type": "markdown",
      "metadata": {
        "id": "nwU8-eay2zrj"
      },
      "source": [
        "#"
      ]
    }
  ]
}