{
  "nbformat": 4,
  "nbformat_minor": 0,
  "metadata": {
    "colab": {
      "name": "추천시스템 by 타이틀.ipynb",
      "provenance": [],
      "authorship_tag": "ABX9TyN9EgBdo+aFP/eFTi+MlORu",
      "include_colab_link": true
    },
    "kernelspec": {
      "name": "python3",
      "display_name": "Python 3"
    },
    "language_info": {
      "name": "python"
    }
  },
  "cells": [
    {
      "cell_type": "markdown",
      "metadata": {
        "id": "view-in-github",
        "colab_type": "text"
      },
      "source": [
        "<a href=\"https://colab.research.google.com/github/ckim415/OOOA/blob/main/%EC%B6%94%EC%B2%9C%EC%8B%9C%EC%8A%A4%ED%85%9C_by_%ED%83%80%EC%9D%B4%ED%8B%80.ipynb\" target=\"_parent\"><img src=\"https://colab.research.google.com/assets/colab-badge.svg\" alt=\"Open In Colab\"/></a>"
      ]
    },
    {
      "cell_type": "markdown",
      "metadata": {
        "id": "Yfe8L9AuHWdZ"
      },
      "source": [
        "# 코렙에서 한글 사용"
      ]
    },
    {
      "cell_type": "code",
      "metadata": {
        "colab": {
          "base_uri": "https://localhost:8080/"
        },
        "id": "kaRO9GDbHZb1",
        "outputId": "2353e855-43ea-491d-8e9d-426d4859efd9"
      },
      "source": [
        "!apt -qq -y install fonts-nanum\n",
        " \n",
        "import matplotlib.pyplot as plt\n",
        "import matplotlib.font_manager as fm\n",
        " \n",
        "fontpath = '/usr/share/fonts/truetype/nanum/NanumBarunGothic.ttf'\n",
        "font = fm.FontProperties(fname=fontpath, size=10)\n",
        "fm._rebuild()\n",
        " \n",
        "# 그래프에 retina display 적용\n",
        "%config InlineBackend.figure_format = 'retina'\n",
        " \n",
        "# Colab 의 한글 폰트 설정\n",
        "plt.rc('font', family='NanumBarunGothic') "
      ],
      "execution_count": 1,
      "outputs": [
        {
          "output_type": "stream",
          "text": [
            "fonts-nanum is already the newest version (20170925-1).\n",
            "The following package was automatically installed and is no longer required:\n",
            "  libnvidia-common-460\n",
            "Use 'apt autoremove' to remove it.\n",
            "0 upgraded, 0 newly installed, 0 to remove and 34 not upgraded.\n"
          ],
          "name": "stdout"
        }
      ]
    },
    {
      "cell_type": "markdown",
      "metadata": {
        "id": "K-6AN4wxHaYx"
      },
      "source": [
        "# 구글드라이브 연동"
      ]
    },
    {
      "cell_type": "code",
      "metadata": {
        "colab": {
          "base_uri": "https://localhost:8080/"
        },
        "id": "n2CH5pgwHcga",
        "outputId": "74f063cd-7bc3-4523-9278-a0dbd4f53a38"
      },
      "source": [
        "# 구글드라이브 연동\n",
        "from google.colab import drive\n",
        "drive.mount('/gdrive', force_remount=True)\n",
        "\n",
        "# 구글 드라이브 파일 확인\n",
        "!ls '/gdrive/My Drive/프로젝트2'\n",
        "\n",
        "# 반복되는 드라이브 경로 변수화\n",
        "drive_path = '/gdrive/My Drive/프로젝트2/'"
      ],
      "execution_count": 2,
      "outputs": [
        {
          "output_type": "stream",
          "text": [
            "Mounted at /gdrive\n",
            " 6144_link.csv\t\t       game_df.csv\n",
            "'추천시스템 by 타이틀.ipynb'   home.csv\n",
            " concat_df.csv\t\t      '프로젝트 데이터 분석.ipynb'\n",
            " crawling_final.ipynb\t       Untitled2.ipynb\n",
            " edu_link_df\n"
          ],
          "name": "stdout"
        }
      ]
    },
    {
      "cell_type": "code",
      "metadata": {
        "id": "KJKcqU6aHysQ"
      },
      "source": [
        "import pandas as pd\n",
        "import numpy as np"
      ],
      "execution_count": 3,
      "outputs": []
    },
    {
      "cell_type": "markdown",
      "metadata": {
        "id": "UH1Cf6G7HwRS"
      },
      "source": [
        "# 데이터 가져오기"
      ]
    },
    {
      "cell_type": "code",
      "metadata": {
        "colab": {
          "base_uri": "https://localhost:8080/",
          "height": 1000
        },
        "id": "Ofj9WNL5Hs63",
        "outputId": "9a28c557-bbd9-4098-c22e-9d3b750fd189"
      },
      "source": [
        "df = pd.read_csv(drive_path + 'concat_df.csv')\n",
        "df.head()"
      ],
      "execution_count": 4,
      "outputs": [
        {
          "output_type": "execute_result",
          "data": {
            "text/html": [
              "<div>\n",
              "<style scoped>\n",
              "    .dataframe tbody tr th:only-of-type {\n",
              "        vertical-align: middle;\n",
              "    }\n",
              "\n",
              "    .dataframe tbody tr th {\n",
              "        vertical-align: top;\n",
              "    }\n",
              "\n",
              "    .dataframe thead th {\n",
              "        text-align: right;\n",
              "    }\n",
              "</style>\n",
              "<table border=\"1\" class=\"dataframe\">\n",
              "  <thead>\n",
              "    <tr style=\"text-align: right;\">\n",
              "      <th></th>\n",
              "      <th>Unnamed: 0</th>\n",
              "      <th>categories</th>\n",
              "      <th>title</th>\n",
              "      <th>company_names</th>\n",
              "      <th>target_amounts</th>\n",
              "      <th>funding_amounts</th>\n",
              "      <th>percentages</th>\n",
              "      <th>n_supporters</th>\n",
              "      <th>likes</th>\n",
              "      <th>durations</th>\n",
              "      <th>start</th>\n",
              "      <th>end</th>\n",
              "      <th>time</th>\n",
              "      <th>descriptions</th>\n",
              "      <th>result</th>\n",
              "    </tr>\n",
              "  </thead>\n",
              "  <tbody>\n",
              "    <tr>\n",
              "      <th>0</th>\n",
              "      <td>0</td>\n",
              "      <td>뷰티</td>\n",
              "      <td>[와디즈 최초]20대 딸이랑 50대 엄마랑 함께 쓰는 주름개선 만능 크림</td>\n",
              "      <td>주식회사칼라코드</td>\n",
              "      <td>500000</td>\n",
              "      <td>2338880</td>\n",
              "      <td>467</td>\n",
              "      <td>54</td>\n",
              "      <td>41</td>\n",
              "      <td>['2020.02.28', '2020.03.06']</td>\n",
              "      <td>2020-02-28</td>\n",
              "      <td>2020-03-06</td>\n",
              "      <td>7</td>\n",
              "      <td>테라젠의 첫 번째 제품, 20대 딸이랑 50대 엄마가 함께 쓰는 주름개선 만능 크림...</td>\n",
              "      <td>1</td>\n",
              "    </tr>\n",
              "    <tr>\n",
              "      <th>1</th>\n",
              "      <td>1</td>\n",
              "      <td>뷰티</td>\n",
              "      <td>[2.8억 앵콜] 하루만에 수분140%증가! 임상검증 완료! 갈바닉마스크</td>\n",
              "      <td>반디비타 주식회사</td>\n",
              "      <td>1000000</td>\n",
              "      <td>14260000</td>\n",
              "      <td>1426</td>\n",
              "      <td>145</td>\n",
              "      <td>79</td>\n",
              "      <td>['2021.04.26', '2021.05.31']</td>\n",
              "      <td>2021-04-26</td>\n",
              "      <td>2021-05-31</td>\n",
              "      <td>35</td>\n",
              "      <td>지금 쓰는 스킨케어 제품의 수분증발을 잡아주고 유효성분은 갈바닉으로 피부 깊숙히 전...</td>\n",
              "      <td>1</td>\n",
              "    </tr>\n",
              "    <tr>\n",
              "      <th>2</th>\n",
              "      <td>2</td>\n",
              "      <td>뷰티</td>\n",
              "      <td>1000개 유명 피부과에 공급되는 시크릿 포뮬러를 담은 33패드 프로그램</td>\n",
              "      <td>(주)코떼랑</td>\n",
              "      <td>500000</td>\n",
              "      <td>5017500</td>\n",
              "      <td>1003</td>\n",
              "      <td>65</td>\n",
              "      <td>65</td>\n",
              "      <td>['2019.04.16', '2019.05.06']</td>\n",
              "      <td>2019-04-16</td>\n",
              "      <td>2019-05-06</td>\n",
              "      <td>20</td>\n",
              "      <td>위시포뮬러가 피부과 화장품 제조 20년의 기술과 노하우를 단 한 장의  패드에 담았...</td>\n",
              "      <td>1</td>\n",
              "    </tr>\n",
              "    <tr>\n",
              "      <th>3</th>\n",
              "      <td>3</td>\n",
              "      <td>뷰티</td>\n",
              "      <td>두피 관리의 핵심은 유분량의 균형입니다! 올솔 모닝-나이트 밸런스 샴푸</td>\n",
              "      <td>올솔 (allsol)</td>\n",
              "      <td>500000</td>\n",
              "      <td>7358800</td>\n",
              "      <td>1471</td>\n",
              "      <td>134</td>\n",
              "      <td>130</td>\n",
              "      <td>['2020.03.13', '2020.04.06']</td>\n",
              "      <td>2020-03-13</td>\n",
              "      <td>2020-04-06</td>\n",
              "      <td>24</td>\n",
              "      <td>매일 변하는 두피 유분량! \\n그런데도 매번 같은 타입의 샴푸 쓰세요? \\n두피뿐만...</td>\n",
              "      <td>1</td>\n",
              "    </tr>\n",
              "    <tr>\n",
              "      <th>4</th>\n",
              "      <td>4</td>\n",
              "      <td>뷰티</td>\n",
              "      <td>컨디셔너 필요없이 그린빈샴푸 하나로 두피와 모발의 건강을 책임집니다.</td>\n",
              "      <td>주라이프 네츄럴 코스메틱 주앤솝</td>\n",
              "      <td>500000</td>\n",
              "      <td>694800</td>\n",
              "      <td>138</td>\n",
              "      <td>30</td>\n",
              "      <td>12</td>\n",
              "      <td>['2019.04.26', '2019.05.08']</td>\n",
              "      <td>2019-04-26</td>\n",
              "      <td>2019-05-08</td>\n",
              "      <td>12</td>\n",
              "      <td>화학 성분 NO! 모발에 윤기와 탄력을 주며, 비듬이나 가려움을 덜어주며, 컨디셔너...</td>\n",
              "      <td>1</td>\n",
              "    </tr>\n",
              "  </tbody>\n",
              "</table>\n",
              "</div>"
            ],
            "text/plain": [
              "   Unnamed: 0  ... result\n",
              "0           0  ...      1\n",
              "1           1  ...      1\n",
              "2           2  ...      1\n",
              "3           3  ...      1\n",
              "4           4  ...      1\n",
              "\n",
              "[5 rows x 15 columns]"
            ]
          },
          "metadata": {
            "tags": []
          },
          "execution_count": 4
        }
      ]
    },
    {
      "cell_type": "markdown",
      "metadata": {
        "id": "S5r9Y8SVIpJM"
      },
      "source": [
        "# text 처리\n",
        "\n",
        "*   특수문자 제거\n",
        "\n",
        "\n"
      ]
    },
    {
      "cell_type": "code",
      "metadata": {
        "id": "DJ3izQCUIE9H"
      },
      "source": [
        "import re\n",
        "from string import punctuation"
      ],
      "execution_count": 5,
      "outputs": []
    },
    {
      "cell_type": "code",
      "metadata": {
        "colab": {
          "base_uri": "https://localhost:8080/",
          "height": 35
        },
        "id": "eFqX6CDJKaAX",
        "outputId": "c23c5a99-2216-42a6-f1e5-d4d53b8cabf2"
      },
      "source": [
        "punctuation"
      ],
      "execution_count": 6,
      "outputs": [
        {
          "output_type": "execute_result",
          "data": {
            "application/vnd.google.colaboratory.intrinsic+json": {
              "type": "string"
            },
            "text/plain": [
              "'!\"#$%&\\'()*+,-./:;<=>?@[\\\\]^_`{|}~'"
            ]
          },
          "metadata": {
            "tags": []
          },
          "execution_count": 6
        }
      ]
    },
    {
      "cell_type": "code",
      "metadata": {
        "colab": {
          "base_uri": "https://localhost:8080/"
        },
        "id": "2tzuTv9KR6VR",
        "outputId": "91a18b61-fd0f-4f26-f1f0-4904822b3a5a"
      },
      "source": [
        "!pip install konlpy wordcloud"
      ],
      "execution_count": 7,
      "outputs": [
        {
          "output_type": "stream",
          "text": [
            "Collecting konlpy\n",
            "\u001b[?25l  Downloading https://files.pythonhosted.org/packages/85/0e/f385566fec837c0b83f216b2da65db9997b35dd675e107752005b7d392b1/konlpy-0.5.2-py2.py3-none-any.whl (19.4MB)\n",
            "\u001b[K     |████████████████████████████████| 19.4MB 1.5MB/s \n",
            "\u001b[?25hRequirement already satisfied: wordcloud in /usr/local/lib/python3.7/dist-packages (1.5.0)\n",
            "Collecting JPype1>=0.7.0\n",
            "\u001b[?25l  Downloading https://files.pythonhosted.org/packages/cd/a5/9781e2ef4ca92d09912c4794642c1653aea7607f473e156cf4d423a881a1/JPype1-1.2.1-cp37-cp37m-manylinux2010_x86_64.whl (457kB)\n",
            "\u001b[K     |████████████████████████████████| 460kB 40.5MB/s \n",
            "\u001b[?25hCollecting colorama\n",
            "  Downloading https://files.pythonhosted.org/packages/44/98/5b86278fbbf250d239ae0ecb724f8572af1c91f4a11edf4d36a206189440/colorama-0.4.4-py2.py3-none-any.whl\n",
            "Requirement already satisfied: lxml>=4.1.0 in /usr/local/lib/python3.7/dist-packages (from konlpy) (4.2.6)\n",
            "Collecting beautifulsoup4==4.6.0\n",
            "\u001b[?25l  Downloading https://files.pythonhosted.org/packages/9e/d4/10f46e5cfac773e22707237bfcd51bbffeaf0a576b0a847ec7ab15bd7ace/beautifulsoup4-4.6.0-py3-none-any.whl (86kB)\n",
            "\u001b[K     |████████████████████████████████| 92kB 9.0MB/s \n",
            "\u001b[?25hRequirement already satisfied: tweepy>=3.7.0 in /usr/local/lib/python3.7/dist-packages (from konlpy) (3.10.0)\n",
            "Requirement already satisfied: numpy>=1.6 in /usr/local/lib/python3.7/dist-packages (from konlpy) (1.19.5)\n",
            "Requirement already satisfied: pillow in /usr/local/lib/python3.7/dist-packages (from wordcloud) (7.1.2)\n",
            "Requirement already satisfied: typing-extensions; python_version < \"3.8\" in /usr/local/lib/python3.7/dist-packages (from JPype1>=0.7.0->konlpy) (3.7.4.3)\n",
            "Requirement already satisfied: requests-oauthlib>=0.7.0 in /usr/local/lib/python3.7/dist-packages (from tweepy>=3.7.0->konlpy) (1.3.0)\n",
            "Requirement already satisfied: six>=1.10.0 in /usr/local/lib/python3.7/dist-packages (from tweepy>=3.7.0->konlpy) (1.15.0)\n",
            "Requirement already satisfied: requests[socks]>=2.11.1 in /usr/local/lib/python3.7/dist-packages (from tweepy>=3.7.0->konlpy) (2.23.0)\n",
            "Requirement already satisfied: oauthlib>=3.0.0 in /usr/local/lib/python3.7/dist-packages (from requests-oauthlib>=0.7.0->tweepy>=3.7.0->konlpy) (3.1.0)\n",
            "Requirement already satisfied: chardet<4,>=3.0.2 in /usr/local/lib/python3.7/dist-packages (from requests[socks]>=2.11.1->tweepy>=3.7.0->konlpy) (3.0.4)\n",
            "Requirement already satisfied: certifi>=2017.4.17 in /usr/local/lib/python3.7/dist-packages (from requests[socks]>=2.11.1->tweepy>=3.7.0->konlpy) (2020.12.5)\n",
            "Requirement already satisfied: urllib3!=1.25.0,!=1.25.1,<1.26,>=1.21.1 in /usr/local/lib/python3.7/dist-packages (from requests[socks]>=2.11.1->tweepy>=3.7.0->konlpy) (1.24.3)\n",
            "Requirement already satisfied: idna<3,>=2.5 in /usr/local/lib/python3.7/dist-packages (from requests[socks]>=2.11.1->tweepy>=3.7.0->konlpy) (2.10)\n",
            "Requirement already satisfied: PySocks!=1.5.7,>=1.5.6; extra == \"socks\" in /usr/local/lib/python3.7/dist-packages (from requests[socks]>=2.11.1->tweepy>=3.7.0->konlpy) (1.7.1)\n",
            "Installing collected packages: JPype1, colorama, beautifulsoup4, konlpy\n",
            "  Found existing installation: beautifulsoup4 4.6.3\n",
            "    Uninstalling beautifulsoup4-4.6.3:\n",
            "      Successfully uninstalled beautifulsoup4-4.6.3\n",
            "Successfully installed JPype1-1.2.1 beautifulsoup4-4.6.0 colorama-0.4.4 konlpy-0.5.2\n"
          ],
          "name": "stdout"
        }
      ]
    },
    {
      "cell_type": "code",
      "metadata": {
        "id": "rayPHZhmSDUI"
      },
      "source": [
        "from konlpy.tag import Kkma, Hannanum, Komoran, Mecab, Okt"
      ],
      "execution_count": 8,
      "outputs": []
    },
    {
      "cell_type": "code",
      "metadata": {
        "id": "h07Y9DttSExA"
      },
      "source": [
        "kkma = Kkma()\n",
        "han = Hannanum()\n",
        "kor = Komoran()\n",
        "okt = Okt()\n",
        "# mecab = Mecab()"
      ],
      "execution_count": 9,
      "outputs": []
    },
    {
      "cell_type": "code",
      "metadata": {
        "id": "cDkqujEAK_4u"
      },
      "source": [
        "#punctutation 제거 패턴\n",
        "pattern1 = re.compile(r'[{}]'.format(re.escape(punctuation)))\n",
        "#숫자 제거 패턴\n",
        "pattern2 = re.compile(r'[0-9]')"
      ],
      "execution_count": 11,
      "outputs": []
    },
    {
      "cell_type": "code",
      "metadata": {
        "colab": {
          "base_uri": "https://localhost:8080/"
        },
        "id": "Gg2vLCALMaqN",
        "outputId": "d14f55a6-a449-471e-b23f-54826963cda7"
      },
      "source": [
        "for i in df['title'][15:30]:\n",
        "  print(i)\n",
        "  sentence = pattern1.sub(' ',\n",
        "             pattern2.sub('',i)).strip()\n",
        "  print('kkma :',kkma.nouns(sentence))\n",
        "  print('han :',han.nouns(sentence))\n",
        "  print('okt :',okt.nouns(sentence))\n",
        "  print('komoran :',kor.nouns(sentence))\n",
        "  #print('mecab :',Mecab.nouns(sentence))\n",
        "\n",
        "  print('-'*10)"
      ],
      "execution_count": 12,
      "outputs": [
        {
          "output_type": "stream",
          "text": [
            "피부관리는 클렌징으로부터ㅣ하나로 끝낸다ㅣ스피나 미라클 듀얼 퍼펙트 클린저\n",
            "kkma : ['피부', '피부관리', '관리', '클렌징', 'ㅣ', 'ㅣ하나', '하나', '끝낸다ㅣ스피', '미라', '듀얼', '퍼펙트', '클린']\n",
            "han : ['피부관리', '클렌징으로부터ㅣ하나', '끝낸다ㅣ스피', '미라클', '듀얼', '퍼펙트', '클린저']\n",
            "okt : ['피부관리', '클렌징', '하나로', '스피', '미라클', '듀얼', '퍼펙트', '클린', '저']\n",
            "komoran : ['피부', '관리', '미라클', '퍼펙트', '클린']\n",
            "----------\n",
            "[1914% 앵콜]후기로 입증된 저분자 히알루론산20000ppm의 흡수력\n",
            "kkma : ['앵', '앵콜', '콜', '후기', '입증', '저분자', '히', '루론', '흡수력']\n",
            "han : ['앵콜', '후', '입증', '저분자', '히알루론산ppm', '흡수력']\n",
            "okt : ['앵콜', '후기', '입증', '저분자', '히알루론산', '의', '흡수']\n",
            "komoran : ['앵콜', '후기', '입증', '저분자', '히알루론산', '흡수력']\n",
            "----------\n",
            "유해 물질로부터 내 아이의 피부를 지켜줄 좋은 습관 만들기, 유아클렌징폼\n",
            "kkma : ['유해', '물질', '내', '아이', '피부', '습관', '만들기', '유아', '유아클렌징폼', '클렌징', '폼']\n",
            "han : ['물질', '내', '아이', '피부', '습관', '유아클렌징폼']\n",
            "okt : ['유해', '물질', '로부터', '내', '아이', '피부', '습관', '만들기', '유아', '클렌', '징폼']\n",
            "komoran : ['유해', '물질', '아이', '피부', '습관', '유아', '클렌징', '폼']\n",
            "----------\n",
            " <단독 런칭> 최악의 자외선에서 살아남는 호주사람 99%가 아는 선크림\n",
            "kkma : ['단독', '런', '런칭', '칭', '최악', '자외선', '호주', '호주사람', '사람', '선', '선크림', '크림']\n",
            "han : ['단독', '런칭', '최악', '자외선', '호주사람', '선크']\n",
            "okt : ['단독', '런칭', '최악', '자외선', '호주', '사람', '선크림']\n",
            "komoran : ['단독', '최악', '자외선', '호주', '사람', '크림']\n",
            "----------\n",
            "[한방 함유량 20%!!!] 딸바보 아빠가 만든 프라그마 여성 청결제\n",
            "kkma : ['한방', '함유량', '바보', '아빠', '프라그', '프라그마', '마', '여성', '청결제']\n",
            "han : ['한방', '함유량', '딸바보', '아빠', '프라그마', '여성', '청결제']\n",
            "okt : ['방', '함유량', '딸바보', '아빠', '프라그', '마', '여성', '청', '결제']\n",
            "komoran : ['한방', '함유량', '딸', '바보', '아빠', '프라그', '마', '여성', '청결']\n",
            "----------\n",
            "헐리우드스타에게 브러쉬만들어주던 언니가 만든 메이크업브러쉬 [1+1+1]\n",
            "kkma : ['리', '우드', '우드스타', '스타', '브러쉬', '언니', '메이크업', '메이크업브러쉬']\n",
            "han : ['헐리우드스타에', '브러쉬만들어주', '언니', '메이크업브러쉬']\n",
            "okt : ['헐리우드', '스타', '브러쉬', '언니', '메이크업', '브러쉬']\n",
            "komoran : ['헐리우드', '스타', '언니']\n",
            "----------\n",
            "'홍보대사 하고 싶을 만큼 최고입니다' 극찬의 후기로 탄생 60초꿀광패드\n",
            "kkma : ['홍보', '홍보대사', '대사', '만큼', '최고', '극찬', '후기', '탄생', '초', '초꿀광패드', '꿀', '광', '패드']\n",
            "han : ['홍보대사', '만큼', '최고', '극찬', '후', '탄생', '초꿀광패드']\n",
            "okt : ['홍보', '대사', '만큼', '최고', '극찬', '후기', '탄생', '초꿀광', '패드']\n",
            "komoran : ['홍보', '대사', '만큼', '최고', '극찬', '후기', '탄생', '꿀', '광', '패드']\n",
            "----------\n",
            "하룻밤에 완성되는 립밤 없이 촉촉한 베이글 입술. 강력 영양보습 립마스크\n",
            "kkma : ['하룻밤', '완성', '립', '립밤', '밤', '베이', '베이글', '글', '입술', '강력', '영양', '영양보습', '보습', '립마스크', '마스크']\n",
            "han : ['하룻밤', '완성', '립밤', '베이글', '입술', '강력', '영양보습', '립마스크']\n",
            "okt : ['하룻밤', '완성', '립밤', '베이글', '입술', '강력', '영양', '보습', '립', '마스크']\n",
            "komoran : ['하룻밤', '완성', '립밤', '베이글', '입술', '영양', '보습', '립', '마스크']\n",
            "----------\n",
            "[평점 4.7] 12년 속눈썹전문가가 만든 특허성분 찐!속눈썹영양제\n",
            "kkma : ['평점', '속눈썹', '속눈썹전문가', '전문가', '특허', '특허성분', '성분', '속눈썹영양제', '영양제']\n",
            "han : ['평점', '년', '속눈썹전문가', '특허성분', '속눈썹영양제']\n",
            "okt : ['평점', '년', '속눈썹', '전문가', '특허성', '속눈썹', '양제']\n",
            "komoran : ['평점', '년', '속눈썹', '전문가', '특허성', '분', '속눈썹', '영양제']\n",
            "----------\n",
            "[오.늘.마.감] 하루만에 수분140%증가! 임상&후기검증 갈바닉 마스크\n",
            "kkma : ['오', '마', '감', '하루', '수분', '증가', '임상', '후기', '후기검증', '검증', '바', '바닉', '닉', '마스크']\n",
            "han : ['마', '하루만', '수분', '증', '임상', '후기검증', '갈바닉', '마스크']\n",
            "okt : ['오', '늘', '마', '감', '하루', '수분', '증가', '임', '후기', '검증', '갈바', '닉', '마스크']\n",
            "komoran : ['오', '감', '하루만', '수분', '증가', '임상', '후기', '검증', '갈바', '닉', '마스크']\n",
            "----------\n",
            "[앵콜4.9평점]3일만에 COOL하게 잠재운다구? #쿨잠크림 #냉장고크림\n",
            "kkma : ['앵', '앵콜', '콜', '평점', '일', '일만', '만', '잠', '잠크림', '크림', '냉장고', '냉장고크림']\n",
            "han : ['앵콜', '평점', '일만', '잠재운다구', '쿨잠크림', '냉장고크림']\n",
            "okt : ['앵콜', '평점', '일만', '쿨잠', '크림', '냉장고', '크림']\n",
            "komoran : ['앵콜', '평점', '쿠', '잠', '크림', '냉장고', '크림']\n",
            "----------\n",
            " 저녁보습 아침까지~, 자연그대로 D(아토랑 키즈랑)\n",
            "kkma : ['저녁', '저녁보습', '보습', '아침', '자연', '아토', '키즈']\n",
            "han : ['저녁보습', '아침', '자연그대', '아토', '키즈']\n",
            "okt : ['저녁', '보습', '아침', '자연', '그대로', '아토', '키즈']\n",
            "komoran : ['저녁', '보습', '아침', '자연', '아토', '키즈']\n",
            "----------\n",
            "장성군 축령산 편백잎을 아낌없이 담은 폼클렌징\n",
            "kkma : ['장성', '장성군', '군', '축령산', '편백', '편백잎', '잎', '폼', '폼클렌징', '클렌징']\n",
            "han : ['장성군', '축령산', '편백잎', '폼클렌징']\n",
            "okt : ['장성군', '축령산', '편백', '잎', '폼클렌징']\n",
            "komoran : ['장성군', '축령산', '편백', '잎', '폼', '클렌징']\n",
            "----------\n",
            "지금 까지 이런 남성올인원 제품은 없었다. 미백,주름개선  기능성화장품\n",
            "kkma : ['지금', '남성', '남성올인원', '올인원', '제품', '미백', '주름', '주름개선', '개선', '기능성', '기능성화장품', '화장품']\n",
            "han : ['남성올인원', '제품', '미백', '주름개선', '기능성화장품']\n",
            "okt : ['지금', '남성', '올인원', '제품', '미백', '주름', '개선', '기능', '화장품']\n",
            "komoran : ['남성', '올인', '원', '제품', '미백', '주름', '개선', '기능', '성', '화장품']\n",
            "----------\n",
            "[뷰티]미세전류 마스크팩세트 (미백/주름 이중 기능성)\n",
            "kkma : ['뷰티', '미세', '미세전류', '전류', '마스크', '마스크팩세트', '팩', '세트', '미백', '주름', '이중', '기능성']\n",
            "han : ['뷰티', '미세전류', '마스크팩세트', '미백', '주름', '이중', '기능성']\n",
            "okt : ['뷰티', '미세', '전류', '마스크', '팩', '세트', '미백', '주름', '이중', '기능']\n",
            "komoran : ['뷰티', '미세', '전류', '마스크', '팩', '세트', '미백', '주름', '이중', '기능']\n",
            "----------\n"
          ],
          "name": "stdout"
        }
      ]
    },
    {
      "cell_type": "code",
      "metadata": {
        "id": "PH4KPprNUsLI"
      },
      "source": [
        "#함수화\n",
        "def cleaning(doc):\n",
        "\n",
        "  sentence = pattern1.sub(' ',\n",
        "             pattern2.sub('',str(doc))).strip()\n",
        "\n",
        "  try : \n",
        "    return han.nouns(sentence)\n",
        "  except:\n",
        "    return []"
      ],
      "execution_count": 33,
      "outputs": []
    },
    {
      "cell_type": "code",
      "metadata": {
        "colab": {
          "base_uri": "https://localhost:8080/"
        },
        "id": "Xhr332NzWLTA",
        "outputId": "5ba47505-cae9-4fac-ae92-fa7282cab6d7"
      },
      "source": [
        "df['title_noun'] = df['title'].apply(cleaning)\n",
        "df['title_noun']"
      ],
      "execution_count": null,
      "outputs": [
        {
          "output_type": "execute_result",
          "data": {
            "text/plain": [
              "0               [와디즈, 최초, 대, 딸, 대, 엄마, 주름개선, 만능, 크림]\n",
              "1              [억, 앵콜, 하루만, 수분, 증, 임상검증, 완료, 갈바닉마스크]\n",
              "2               [개, 유명, 피부과, 공급, 시크릿, 포뮬러, 패드, 프로그램]\n",
              "3        [두피, 관리, 핵심, 유분량, 균형, 올솔, 모닝, 나이트, 밸런스, 샴푸]\n",
              "4                  [컨디셔너, 필요, 그린빈샴푸, 하나, 두피, 모발, 건강]\n",
              "                            ...                     \n",
              "21475                        [히트패드, 출근길, 핸들, 전기, 핫팩]\n",
              "21476         [무선, 에어펌프, 자동차, 오토바이공기압, 자전거, 튜브, 축구공]\n",
              "21477         [너, 나, 간단, 개국어지원, 반응형, 웹페이지, 제작, 실크로드]\n",
              "21478                        [웨어러블, 공기청정기, 전동식, 마스크]\n",
              "21479                                      [년JD, 시계]\n",
              "Name: title_noun, Length: 21480, dtype: object"
            ]
          },
          "metadata": {
            "tags": []
          },
          "execution_count": 12
        }
      ]
    },
    {
      "cell_type": "code",
      "metadata": {
        "id": "vvKgi_qfYL56"
      },
      "source": [
        "df['title_noun'] = df['title_noun'].apply(lambda x: (' ').join(x))"
      ],
      "execution_count": null,
      "outputs": []
    },
    {
      "cell_type": "code",
      "metadata": {
        "colab": {
          "base_uri": "https://localhost:8080/"
        },
        "id": "DiS47-hmZk3w",
        "outputId": "3698a85e-b22a-4245-e34f-b49f2ca0132d"
      },
      "source": [
        "df['title_noun']"
      ],
      "execution_count": null,
      "outputs": [
        {
          "output_type": "execute_result",
          "data": {
            "text/plain": [
              "0              와디즈 최초 대 딸 대 엄마 주름개선 만능 크림\n",
              "1            억 앵콜 하루만 수분 증 임상검증 완료 갈바닉마스크\n",
              "2             개 유명 피부과 공급 시크릿 포뮬러 패드 프로그램\n",
              "3        두피 관리 핵심 유분량 균형 올솔 모닝 나이트 밸런스 샴푸\n",
              "4               컨디셔너 필요 그린빈샴푸 하나 두피 모발 건강\n",
              "                       ...               \n",
              "21475                   히트패드 출근길 핸들 전기 핫팩\n",
              "21476      무선 에어펌프 자동차 오토바이공기압 자전거 튜브 축구공\n",
              "21477       너 나 간단 개국어지원 반응형 웹페이지 제작 실크로드\n",
              "21478                  웨어러블 공기청정기 전동식 마스크\n",
              "21479                              년JD 시계\n",
              "Name: title_noun, Length: 21480, dtype: object"
            ]
          },
          "metadata": {
            "tags": []
          },
          "execution_count": 14
        }
      ]
    },
    {
      "cell_type": "code",
      "metadata": {
        "colab": {
          "base_uri": "https://localhost:8080/"
        },
        "id": "iCA0M-IbdRcy",
        "outputId": "cb110329-8eb9-4df4-ba36-2109c8a741e4"
      },
      "source": [
        "df['title_noun'][0].split()[:] == '엄마'"
      ],
      "execution_count": null,
      "outputs": [
        {
          "output_type": "execute_result",
          "data": {
            "text/plain": [
              "False"
            ]
          },
          "metadata": {
            "tags": []
          },
          "execution_count": 21
        }
      ]
    },
    {
      "cell_type": "markdown",
      "metadata": {
        "id": "xqBfdmJo25JX"
      },
      "source": [
        "## key word rank\n",
        "- 타이틀 마다 키워드 추출"
      ]
    },
    {
      "cell_type": "code",
      "metadata": {
        "colab": {
          "base_uri": "https://localhost:8080/"
        },
        "id": "xKwN0dU-3F_l",
        "outputId": "9d9b350f-a034-4083-ead0-c7a88299a680"
      },
      "source": [
        "!pip install krwordrank"
      ],
      "execution_count": 13,
      "outputs": [
        {
          "output_type": "stream",
          "text": [
            "Collecting krwordrank\n",
            "  Downloading https://files.pythonhosted.org/packages/6f/c8/7946b49dabd25a2fd8c258030bbfb21330f4ff1dca29a5eedb50e6882ed5/krwordrank-1.0.3-py3-none-any.whl\n",
            "Requirement already satisfied: scikit-learn>=0.22.1 in /usr/local/lib/python3.7/dist-packages (from krwordrank) (0.22.2.post1)\n",
            "Requirement already satisfied: numpy>=1.18.4 in /usr/local/lib/python3.7/dist-packages (from krwordrank) (1.19.5)\n",
            "Requirement already satisfied: scipy>=1.4.1 in /usr/local/lib/python3.7/dist-packages (from krwordrank) (1.4.1)\n",
            "Requirement already satisfied: joblib>=0.11 in /usr/local/lib/python3.7/dist-packages (from scikit-learn>=0.22.1->krwordrank) (1.0.1)\n",
            "Installing collected packages: krwordrank\n",
            "Successfully installed krwordrank-1.0.3\n"
          ],
          "name": "stdout"
        }
      ]
    },
    {
      "cell_type": "code",
      "metadata": {
        "id": "ULbejSbZ3GCB"
      },
      "source": [
        "from krwordrank.word import KRWordRank\n",
        "from krwordrank.hangle import normalize"
      ],
      "execution_count": 14,
      "outputs": []
    },
    {
      "cell_type": "code",
      "metadata": {
        "id": "VWHeEYm83GEP",
        "colab": {
          "base_uri": "https://localhost:8080/"
        },
        "outputId": "e69abfe0-0619-4641-95de-963259e4e511"
      },
      "source": [
        "example = df['title'][15:30]\n",
        "example_text = [normalize(text, english=True, number=False) for text in example]\n",
        "print(example)\n",
        "example_text"
      ],
      "execution_count": 40,
      "outputs": [
        {
          "output_type": "stream",
          "text": [
            "15    피부관리는 클렌징으로부터ㅣ하나로 끝낸다ㅣ스피나 미라클 듀얼 퍼펙트 클린저\n",
            "16    [1914% 앵콜]후기로 입증된 저분자 히알루론산20000ppm의 흡수력\n",
            "17    유해 물질로부터 내 아이의 피부를 지켜줄 좋은 습관 만들기, 유아클렌징폼\n",
            "18     <단독 런칭> 최악의 자외선에서 살아남는 호주사람 99%가 아는 선크림\n",
            "19      [한방 함유량 20%!!!] 딸바보 아빠가 만든 프라그마 여성 청결제\n",
            "20    헐리우드스타에게 브러쉬만들어주던 언니가 만든 메이크업브러쉬 [1+1+1]\n",
            "21    '홍보대사 하고 싶을 만큼 최고입니다' 극찬의 후기로 탄생 60초꿀광패드\n",
            "22    하룻밤에 완성되는 립밤 없이 촉촉한 베이글 입술. 강력 영양보습 립마스크\n",
            "23       [평점 4.7] 12년 속눈썹전문가가 만든 특허성분 찐!속눈썹영양제\n",
            "24    [오.늘.마.감] 하루만에 수분140%증가! 임상&후기검증 갈바닉 마스크\n",
            "25    [앵콜4.9평점]3일만에 COOL하게 잠재운다구? #쿨잠크림 #냉장고크림\n",
            "26                저녁보습 아침까지~, 자연그대로 D(아토랑 키즈랑)\n",
            "27                   장성군 축령산 편백잎을 아낌없이 담은 폼클렌징\n",
            "28     지금 까지 이런 남성올인원 제품은 없었다. 미백,주름개선  기능성화장품\n",
            "29              [뷰티]미세전류 마스크팩세트 (미백/주름 이중 기능성)\n",
            "Name: title, dtype: object\n"
          ],
          "name": "stdout"
        },
        {
          "output_type": "execute_result",
          "data": {
            "text/plain": [
              "['피부관리는 클렌징으로부터 하나로 끝낸다 스피나 미라클 듀얼 퍼펙트 클린저',\n",
              " '앵콜 후기로 입증된 저분자 히알루론산 ppm의 흡수력',\n",
              " '유해 물질로부터 내 아이의 피부를 지켜줄 좋은 습관 만들기 유아클렌징폼',\n",
              " '단독 런칭 최악의 자외선에서 살아남는 호주사람 가 아는 선크림',\n",
              " '한방 함유량 딸바보 아빠가 만든 프라그마 여성 청결제',\n",
              " '헐리우드스타에게 브러쉬만들어주던 언니가 만든 메이크업브러쉬',\n",
              " '홍보대사 하고 싶을 만큼 최고입니다 극찬의 후기로 탄생 초꿀광패드',\n",
              " '하룻밤에 완성되는 립밤 없이 촉촉한 베이글 입술 강력 영양보습 립마스크',\n",
              " '평점 년 속눈썹전문가가 만든 특허성분 찐 속눈썹영양제',\n",
              " '오 늘 마 감 하루만에 수분 증가 임상 후기검증 갈바닉 마스크',\n",
              " '앵콜 평점 일만에 COOL하게 잠재운다구 쿨잠크림 냉장고크림',\n",
              " '저녁보습 아침까지 자연그대로 D 아토랑 키즈랑',\n",
              " '장성군 축령산 편백잎을 아낌없이 담은 폼클렌징',\n",
              " '지금 까지 이런 남성올인원 제품은 없었다 미백 주름개선 기능성화장품',\n",
              " '뷰티 미세전류 마스크팩세트 미백 주름 이중 기능성']"
            ]
          },
          "metadata": {
            "tags": []
          },
          "execution_count": 40
        }
      ]
    },
    {
      "cell_type": "code",
      "metadata": {
        "id": "0Rg3r-MVs7Mh"
      },
      "source": [
        "#함수화1 normalize\n",
        "def keyword(sentence):\n",
        "  try:\n",
        "    keyword = [normalize(str(sentence), english=True, number=True)]\n",
        "  except:\n",
        "    return cleaning(sentence)\n",
        "  return keyword"
      ],
      "execution_count": 37,
      "outputs": []
    },
    {
      "cell_type": "code",
      "metadata": {
        "id": "u0RMhUnzvVWr"
      },
      "source": [
        "df['keyword_title'] = df['title'].apply(keyword)"
      ],
      "execution_count": 38,
      "outputs": []
    },
    {
      "cell_type": "code",
      "metadata": {
        "colab": {
          "base_uri": "https://localhost:8080/"
        },
        "id": "i52RWJLuw6yQ",
        "outputId": "9e16bc97-8148-412a-f23b-7f34be2f836f"
      },
      "source": [
        "df['keyword_title'][:30]"
      ],
      "execution_count": 49,
      "outputs": [
        {
          "output_type": "execute_result",
          "data": {
            "text/plain": [
              "0      [와디즈 최초 20대 딸이랑 50대 엄마랑 함께 쓰는 주름개선 만능 크림]\n",
              "1         [2 8억 앵콜 하루만에 수분140 증가 임상검증 완료 갈바닉마스크]\n",
              "2     [1000개 유명 피부과에 공급되는 시크릿 포뮬러를 담은 33패드 프로그램]\n",
              "3       [두피 관리의 핵심은 유분량의 균형입니다 올솔 모닝 나이트 밸런스 샴푸]\n",
              "4        [컨디셔너 필요없이 그린빈샴푸 하나로 두피와 모발의 건강을 책임집니다]\n",
              "5          [후기폭주 6만개 판매 자몽 덕후가 만든 리얼 자몽 퍼퓸 핸드크림]\n",
              "6                [비건인증콜라겐 매일 한 방울 탄탄한 피부를 위한 처방]\n",
              "7                   [아침마다 달라지는 피부 실화야 뽑아쓰는 마스크팩]\n",
              "8            [내 손안에 작은 에스테틱 초당 200회 진동의 마법 매직스틱]\n",
              "9           [왜 세럼은 모두 작고 비쌀까 목에도 바르는 대용량 밀키웨이세럼]\n",
              "10         [앵콜 명품화장품16년경력으로 만든 급이 다른 선크림 피부야타지마]\n",
              "11                      [건조성 가려운 피부 잡는 프리미엄 에센스]\n",
              "12             [탈모관리 Biochroma Solution Project]\n",
              "13            [편안하고 기분 좋은 잠자리를 위한 아로마테라피 스위트 드림]\n",
              "14         [한번에 머리에도 피부에도 어디에나 민감성피부도 지성피부도 누구나]\n",
              "15    [피부관리는 클렌징으로부터 하나로 끝낸다 스피나 미라클 듀얼 퍼펙트 클린저]\n",
              "16      [1914 앵콜 후기로 입증된 저분자 히알루론산20000ppm의 흡수력]\n",
              "17     [유해 물질로부터 내 아이의 피부를 지켜줄 좋은 습관 만들기 유아클렌징폼]\n",
              "18       [단독 런칭 최악의 자외선에서 살아남는 호주사람 99 가 아는 선크림]\n",
              "19            [한방 함유량 20 딸바보 아빠가 만든 프라그마 여성 청결제]\n",
              "20      [헐리우드스타에게 브러쉬만들어주던 언니가 만든 메이크업브러쉬 1 1 1]\n",
              "21      [홍보대사 하고 싶을 만큼 최고입니다 극찬의 후기로 탄생 60초꿀광패드]\n",
              "22     [하룻밤에 완성되는 립밤 없이 촉촉한 베이글 입술 강력 영양보습 립마스크]\n",
              "23         [평점 4 7 12년 속눈썹전문가가 만든 특허성분 찐 속눈썹영양제]\n",
              "24       [오 늘 마 감 하루만에 수분140 증가 임상 후기검증 갈바닉 마스크]\n",
              "25        [앵콜4 9평점 3일만에 COOL하게 잠재운다구 쿨잠크림 냉장고크림]\n",
              "26                   [저녁보습 아침까지 자연그대로 D 아토랑 키즈랑]\n",
              "27                   [장성군 축령산 편백잎을 아낌없이 담은 폼클렌징]\n",
              "28       [지금 까지 이런 남성올인원 제품은 없었다 미백 주름개선 기능성화장품]\n",
              "29                 [뷰티 미세전류 마스크팩세트 미백 주름 이중 기능성]\n",
              "Name: keyword_title, dtype: object"
            ]
          },
          "metadata": {
            "tags": []
          },
          "execution_count": 49
        }
      ]
    },
    {
      "cell_type": "code",
      "metadata": {
        "colab": {
          "base_uri": "https://localhost:8080/"
        },
        "id": "_o-U8sS-3GGQ",
        "outputId": "997ca022-32b5-44eb-d1ac-2c24a2828f37"
      },
      "source": [
        "wordrank_extractor = KRWordRank(\n",
        "    min_count = 2, # 단어의 최소 출현 빈도수 (그래프 생성 시)\n",
        "    max_length = 5, # 단어의 최대 길이\n",
        "    verbose = True\n",
        "    )\n",
        "\n",
        "beta = 0.85    # PageRank의 decaying factor beta\n",
        "max_iter = 10\n",
        "\n",
        "keywords, rank, graph = [wordrank_extractor.extract(example_text, beta, max_iter)]"
      ],
      "execution_count": 21,
      "outputs": [
        {
          "output_type": "stream",
          "text": [
            "scan vocabs ... \n",
            "num vocabs = 62\n",
            "done\n"
          ],
          "name": "stdout"
        }
      ]
    },
    {
      "cell_type": "code",
      "metadata": {
        "id": "R67WJTetxkky"
      },
      "source": [
        "#함수화2 wordrank_extractor\n",
        "def keyword_extractor(normalized_sentence):\n",
        "\n",
        "  try:\n",
        "    wordrank_extractor = KRWordRank(\n",
        "      min_count = 2, # 단어의 최소 출현 빈도수 (그래프 생성 시)\n",
        "      max_length = 5, # 단어의 최대 길이\n",
        "      verbose = True\n",
        "      )\n",
        "  \n",
        "    beta = 0.85    # PageRank의 decaying factor beta\n",
        "    max_iter = 10\n",
        "\n",
        "    keywords, rank, graph = wordrank_extractor.extract(normalized_sentence, beta, max_iter)\n",
        "    return keywords\n",
        "\n",
        "  except:\n",
        "    return normalized_sentence"
      ],
      "execution_count": 55,
      "outputs": []
    },
    {
      "cell_type": "code",
      "metadata": {
        "colab": {
          "base_uri": "https://localhost:8080/"
        },
        "id": "qsX-wWEkyAH5",
        "outputId": "4ff57ff3-7691-423a-a464-13a3cbb6ade6"
      },
      "source": [
        "df['keyword_title'][:20].apply(keyword_extractor)"
      ],
      "execution_count": 56,
      "outputs": [
        {
          "output_type": "stream",
          "text": [
            "scan vocabs ... \n",
            "num vocabs = 3\n",
            "done\n",
            "scan vocabs ... \n",
            "num vocabs = 0\n",
            "scan vocabs ... \n",
            "num vocabs = 0\n",
            "scan vocabs ... \n",
            "num vocabs = 1\n",
            "scan vocabs ... \n",
            "num vocabs = 0\n",
            "scan vocabs ... \n",
            "num vocabs = 3\n",
            "done\n",
            "scan vocabs ... \n",
            "num vocabs = 1\n",
            "scan vocabs ... \n",
            "num vocabs = 1\n",
            "scan vocabs ... \n",
            "num vocabs = 1\n",
            "scan vocabs ... \n",
            "num vocabs = 0\n",
            "scan vocabs ... \n",
            "num vocabs = 0\n",
            "scan vocabs ... \n",
            "num vocabs = 0\n",
            "scan vocabs ... \n",
            "num vocabs = 0\n",
            "scan vocabs ... \n",
            "num vocabs = 0\n",
            "scan vocabs ... \n",
            "num vocabs = 6\n",
            "done\n",
            "scan vocabs ... \n",
            "num vocabs = 0\n",
            "scan vocabs ... \n",
            "num vocabs = 0\n",
            "scan vocabs ... \n",
            "num vocabs = 1\n",
            "scan vocabs ... \n",
            "num vocabs = 1\n",
            "scan vocabs ... \n",
            "num vocabs = 0\n"
          ],
          "name": "stdout"
        },
        {
          "output_type": "execute_result",
          "data": {
            "text/plain": [
              "0                                             {}\n",
              "1         [2 8억 앵콜 하루만에 수분140 증가 임상검증 완료 갈바닉마스크]\n",
              "2     [1000개 유명 피부과에 공급되는 시크릿 포뮬러를 담은 33패드 프로그램]\n",
              "3       [두피 관리의 핵심은 유분량의 균형입니다 올솔 모닝 나이트 밸런스 샴푸]\n",
              "4        [컨디셔너 필요없이 그린빈샴푸 하나로 두피와 모발의 건강을 책임집니다]\n",
              "5                                             {}\n",
              "6                [비건인증콜라겐 매일 한 방울 탄탄한 피부를 위한 처방]\n",
              "7                   [아침마다 달라지는 피부 실화야 뽑아쓰는 마스크팩]\n",
              "8            [내 손안에 작은 에스테틱 초당 200회 진동의 마법 매직스틱]\n",
              "9           [왜 세럼은 모두 작고 비쌀까 목에도 바르는 대용량 밀키웨이세럼]\n",
              "10         [앵콜 명품화장품16년경력으로 만든 급이 다른 선크림 피부야타지마]\n",
              "11                      [건조성 가려운 피부 잡는 프리미엄 에센스]\n",
              "12             [탈모관리 Biochroma Solution Project]\n",
              "13            [편안하고 기분 좋은 잠자리를 위한 아로마테라피 스위트 드림]\n",
              "14                                            {}\n",
              "15    [피부관리는 클렌징으로부터 하나로 끝낸다 스피나 미라클 듀얼 퍼펙트 클린저]\n",
              "16      [1914 앵콜 후기로 입증된 저분자 히알루론산20000ppm의 흡수력]\n",
              "17     [유해 물질로부터 내 아이의 피부를 지켜줄 좋은 습관 만들기 유아클렌징폼]\n",
              "18       [단독 런칭 최악의 자외선에서 살아남는 호주사람 99 가 아는 선크림]\n",
              "19            [한방 함유량 20 딸바보 아빠가 만든 프라그마 여성 청결제]\n",
              "Name: keyword_title, dtype: object"
            ]
          },
          "metadata": {
            "tags": []
          },
          "execution_count": 56
        }
      ]
    },
    {
      "cell_type": "code",
      "metadata": {
        "colab": {
          "base_uri": "https://localhost:8080/"
        },
        "id": "dGa65onN0npY",
        "outputId": "47c527ca-7147-4861-ad29-99157c33af80"
      },
      "source": [
        "df['extracted_keyword'][:50]"
      ],
      "execution_count": 53,
      "outputs": [
        {
          "output_type": "execute_result",
          "data": {
            "text/plain": [
              "0                                             ()\n",
              "1         [2 8억 앵콜 하루만에 수분140 증가 임상검증 완료 갈바닉마스크]\n",
              "2     [1000개 유명 피부과에 공급되는 시크릿 포뮬러를 담은 33패드 프로그램]\n",
              "3       [두피 관리의 핵심은 유분량의 균형입니다 올솔 모닝 나이트 밸런스 샴푸]\n",
              "4        [컨디셔너 필요없이 그린빈샴푸 하나로 두피와 모발의 건강을 책임집니다]\n",
              "5                                             ()\n",
              "6                [비건인증콜라겐 매일 한 방울 탄탄한 피부를 위한 처방]\n",
              "7                   [아침마다 달라지는 피부 실화야 뽑아쓰는 마스크팩]\n",
              "8            [내 손안에 작은 에스테틱 초당 200회 진동의 마법 매직스틱]\n",
              "9           [왜 세럼은 모두 작고 비쌀까 목에도 바르는 대용량 밀키웨이세럼]\n",
              "10         [앵콜 명품화장품16년경력으로 만든 급이 다른 선크림 피부야타지마]\n",
              "11                      [건조성 가려운 피부 잡는 프리미엄 에센스]\n",
              "12             [탈모관리 Biochroma Solution Project]\n",
              "13            [편안하고 기분 좋은 잠자리를 위한 아로마테라피 스위트 드림]\n",
              "14                                            ()\n",
              "15    [피부관리는 클렌징으로부터 하나로 끝낸다 스피나 미라클 듀얼 퍼펙트 클린저]\n",
              "16      [1914 앵콜 후기로 입증된 저분자 히알루론산20000ppm의 흡수력]\n",
              "17     [유해 물질로부터 내 아이의 피부를 지켜줄 좋은 습관 만들기 유아클렌징폼]\n",
              "18       [단독 런칭 최악의 자외선에서 살아남는 호주사람 99 가 아는 선크림]\n",
              "19            [한방 함유량 20 딸바보 아빠가 만든 프라그마 여성 청결제]\n",
              "20      [헐리우드스타에게 브러쉬만들어주던 언니가 만든 메이크업브러쉬 1 1 1]\n",
              "21      [홍보대사 하고 싶을 만큼 최고입니다 극찬의 후기로 탄생 60초꿀광패드]\n",
              "22     [하룻밤에 완성되는 립밤 없이 촉촉한 베이글 입술 강력 영양보습 립마스크]\n",
              "23                                            ()\n",
              "24       [오 늘 마 감 하루만에 수분140 증가 임상 후기검증 갈바닉 마스크]\n",
              "25                                            ()\n",
              "26                                            ()\n",
              "27                   [장성군 축령산 편백잎을 아낌없이 담은 폼클렌징]\n",
              "28       [지금 까지 이런 남성올인원 제품은 없었다 미백 주름개선 기능성화장품]\n",
              "29                 [뷰티 미세전류 마스크팩세트 미백 주름 이중 기능성]\n",
              "30         [천연유래로 꽉꽉 채운 쿠피 블랙필 파우더워시 첫 시작을 완벽하게]\n",
              "31                                            ()\n",
              "32        [아픈만큼 하얘져 정제수 0 미백까지 강화된 리얼 기능성 스피큘크림]\n",
              "33               [500 000ppm 병풀추출물이 들어간 화장품이 있다]\n",
              "34          [가을 아침 18도의 시원함으로 후끈거리는 얼굴 열을 내려주세요]\n",
              "35      [4 9점 3차 앵콜 참 좋은데 뭐라 설명할 방법이 없는 탄산효소세안제]\n",
              "36           [앵콜 기초구원템 바쁜아침 하나로 상위1 성분 고순도 이데베논]\n",
              "37                                            ()\n",
              "38                                            ()\n",
              "39          [더마허브 피부 깊숙이 허브 를 선물한다 건강한 고기능성 화장품]\n",
              "40                                            ()\n",
              "41          [피부 보습 채우는 것보다 지키는게 중요합니다 푸유 모링가 오일]\n",
              "42                       [오행향수 나에게 맞는 향수는 따로 있다]\n",
              "43                                            ()\n",
              "44                                            ()\n",
              "45              [당신의 썸에 마침표를 찍을 프로포즈 니치 퍼퓸 핸드크림]\n",
              "46                                            ()\n",
              "47                                            ()\n",
              "48       [4 9앵콜 제품기획자의 14일 피부변화 찐후기 유산균앰플 LED케어]\n",
              "49           [후기확인필수 특허원료만 91 94 보습 탄력 주름 페이셜오일]\n",
              "Name: extracted_keyword, dtype: object"
            ]
          },
          "metadata": {
            "tags": []
          },
          "execution_count": 53
        }
      ]
    },
    {
      "cell_type": "markdown",
      "metadata": {
        "id": "2whSnnVl5fQh"
      },
      "source": [
        "### *** 결과 : title마다 keyword추출을 불가능*** "
      ]
    },
    {
      "cell_type": "markdown",
      "metadata": {
        "id": "fBAX5hHQ1J-0"
      },
      "source": [
        "## 카테고리별 keyword 추출"
      ]
    },
    {
      "cell_type": "code",
      "metadata": {
        "colab": {
          "base_uri": "https://localhost:8080/"
        },
        "id": "IUgjAINl2gl9",
        "outputId": "bf9f2be9-2c9e-4ce9-8d81-b5f0eaa2a883"
      },
      "source": [
        "df['categories'].value_counts()"
      ],
      "execution_count": 64,
      "outputs": [
        {
          "output_type": "execute_result",
          "data": {
            "text/plain": [
              "패션·잡화       5208\n",
              "푸드          3066\n",
              "홈리빙         2949\n",
              "뷰티          2484\n",
              "테크·가전       2124\n",
              "반려동물        1635\n",
              "소셜·캠페인       832\n",
              "스포츠·모빌리티     694\n",
              "여행·레저        674\n",
              "교육·키즈        666\n",
              "공연·컬쳐        564\n",
              "출판           469\n",
              "디자인소품         48\n",
              "기부·후원         41\n",
              "모임            26\n",
              "Name: categories, dtype: int64"
            ]
          },
          "metadata": {
            "tags": []
          },
          "execution_count": 64
        }
      ]
    },
    {
      "cell_type": "code",
      "metadata": {
        "id": "LJJW-hBs4P8S",
        "colab": {
          "base_uri": "https://localhost:8080/"
        },
        "outputId": "7af763fc-26bb-48d5-d24b-2aae80f0de5c"
      },
      "source": [
        "df['categories'].value_counts().index"
      ],
      "execution_count": 60,
      "outputs": [
        {
          "output_type": "execute_result",
          "data": {
            "text/plain": [
              "Index(['패션·잡화', '푸드', '홈리빙', '뷰티', '테크·가전', '반려동물', '소셜·캠페인', '스포츠·모빌리티',\n",
              "       '여행·레저', '교육·키즈', '공연·컬쳐', '출판', '디자인소품', '기부·후원', '모임'],\n",
              "      dtype='object')"
            ]
          },
          "metadata": {
            "tags": []
          },
          "execution_count": 60
        }
      ]
    },
    {
      "cell_type": "code",
      "metadata": {
        "id": "y1FY7frb4QAK",
        "colab": {
          "base_uri": "https://localhost:8080/"
        },
        "outputId": "4f0f20fb-3c13-425c-cbf6-156a07c95458"
      },
      "source": [
        "categories = df['categories'].value_counts().index\n",
        "categories"
      ],
      "execution_count": 63,
      "outputs": [
        {
          "output_type": "execute_result",
          "data": {
            "text/plain": [
              "Index(['패션·잡화', '푸드', '홈리빙', '뷰티', '테크·가전', '반려동물', '소셜·캠페인', '스포츠·모빌리티',\n",
              "       '여행·레저', '교육·키즈', '공연·컬쳐', '출판', '디자인소품', '기부·후원', '모임'],\n",
              "      dtype='object')"
            ]
          },
          "metadata": {
            "tags": []
          },
          "execution_count": 63
        }
      ]
    },
    {
      "cell_type": "code",
      "metadata": {
        "id": "emrUUMXm4QCU"
      },
      "source": [
        "#기부후원만 test\n",
        "titles = df[df['categories'] == '기부·후원']['title'].values\n",
        "normalized_titles = [normalize(title, english=True, number=True) for title in titles]"
      ],
      "execution_count": 68,
      "outputs": []
    },
    {
      "cell_type": "code",
      "metadata": {
        "id": "waEkSUyq3PCZ"
      },
      "source": [
        "normalized_titles"
      ],
      "execution_count": null,
      "outputs": []
    },
    {
      "cell_type": "code",
      "metadata": {
        "colab": {
          "base_uri": "https://localhost:8080/"
        },
        "id": "rXwq94r73WNH",
        "outputId": "aefacf61-6694-47ca-ede2-575189db7cc9"
      },
      "source": [
        "# keyword 추출\n",
        "wordrank_extractor = KRWordRank(\n",
        "      min_count = 2, # 단어의 최소 출현 빈도수 (그래프 생성 시)\n",
        "      max_length = 5, # 단어의 최대 길이\n",
        "      verbose = True\n",
        "      )\n",
        "  \n",
        "beta = 0.85    # PageRank의 decaying factor beta\n",
        "max_iter = 10\n",
        "\n",
        "keywords, rank, graph = wordrank_extractor.extract(normalized_titles, beta, max_iter) "
      ],
      "execution_count": 70,
      "outputs": [
        {
          "output_type": "stream",
          "text": [
            "scan vocabs ... \n",
            "num vocabs = 168\n",
            "done\n"
          ],
          "name": "stdout"
        }
      ]
    },
    {
      "cell_type": "code",
      "metadata": {
        "colab": {
          "base_uri": "https://localhost:8080/"
        },
        "id": "9xI8EFEs3l_R",
        "outputId": "7d5dbfb2-0126-4055-e920-a968acbdafbe"
      },
      "source": [
        "keywords.keys()"
      ],
      "execution_count": 81,
      "outputs": [
        {
          "output_type": "execute_result",
          "data": {
            "text/plain": [
              "dict_keys(['위한', '청소년', '세월호', '네팔', '긴급구호', '있도록', '준비합니다', '의인', '따뜻한', '꿈을', '보내', '희망', '대학언론', '선물', '작은', '새로', '피해', '문화', '우리', '위안', '아이', '리더십', '응원', 'ST', '친구'])"
            ]
          },
          "metadata": {
            "tags": []
          },
          "execution_count": 81
        }
      ]
    },
    {
      "cell_type": "code",
      "metadata": {
        "colab": {
          "base_uri": "https://localhost:8080/"
        },
        "id": "z88cgSYk3mBS",
        "outputId": "dcbabcfe-3d31-488b-e912-2f892bc1bbf1"
      },
      "source": [
        "for word, r in sorted(keywords.items(), key=lambda x:x[1], reverse=True)[:30]:\n",
        "    print('%8s:\\t%.4f' % (word, r))"
      ],
      "execution_count": 72,
      "outputs": [
        {
          "output_type": "stream",
          "text": [
            "      위한:\t3.0330\n",
            "     청소년:\t2.4551\n",
            "     세월호:\t1.9163\n",
            "      네팔:\t1.8873\n",
            "    긴급구호:\t1.7646\n",
            "     있도록:\t1.5974\n",
            "   준비합니다:\t1.5753\n",
            "      의인:\t1.4829\n",
            "     따뜻한:\t1.4332\n",
            "      꿈을:\t1.3289\n",
            "      보내:\t1.3151\n",
            "      희망:\t1.3052\n",
            "    대학언론:\t1.1182\n",
            "      선물:\t1.0348\n",
            "      작은:\t1.0000\n",
            "      새로:\t1.0000\n",
            "      피해:\t0.9943\n",
            "      문화:\t0.9574\n",
            "      우리:\t0.8836\n",
            "      위안:\t0.8149\n",
            "      아이:\t0.7888\n",
            "     리더십:\t0.7063\n",
            "      응원:\t0.5154\n",
            "      ST:\t0.4908\n",
            "      친구:\t0.4306\n"
          ],
          "name": "stdout"
        }
      ]
    },
    {
      "cell_type": "code",
      "metadata": {
        "id": "GCC_kF3q3mDL"
      },
      "source": [
        "#여행 레져\n",
        "titles = df[df['categories'] == '여행·레저']['title'].values\n",
        "normalized_titles = [normalize(title, english=True, number=True) for title in titles]"
      ],
      "execution_count": 83,
      "outputs": []
    },
    {
      "cell_type": "code",
      "metadata": {
        "colab": {
          "base_uri": "https://localhost:8080/"
        },
        "id": "lpsiQPm53mFM",
        "outputId": "460a2df3-07c2-481e-9981-8a5322fb5644"
      },
      "source": [
        "# keyword 추출\n",
        "wordrank_extractor = KRWordRank(\n",
        "      min_count = 2, # 단어의 최소 출현 빈도수 (그래프 생성 시)\n",
        "      max_length = 5, # 단어의 최대 길이\n",
        "      verbose = True\n",
        "      )\n",
        "  \n",
        "beta = 0.85    # PageRank의 decaying factor beta\n",
        "max_iter = 10\n",
        "\n",
        "keywords, rank, graph = wordrank_extractor.extract(normalized_titles, beta, max_iter) "
      ],
      "execution_count": 84,
      "outputs": [
        {
          "output_type": "stream",
          "text": [
            "scan vocabs ... \n",
            "num vocabs = 3185\n",
            "done\n"
          ],
          "name": "stdout"
        }
      ]
    },
    {
      "cell_type": "code",
      "metadata": {
        "colab": {
          "base_uri": "https://localhost:8080/"
        },
        "id": "g3inUZzF3mH3",
        "outputId": "69f4ec32-02ed-48c2-bab9-bf0478c06137"
      },
      "source": [
        "keywords.keys()"
      ],
      "execution_count": 85,
      "outputs": [
        {
          "output_type": "execute_result",
          "data": {
            "text/plain": [
              "dict_keys(['앵콜', '여행', '캠핑', '위한', '감성', '캐리어', '함께', '만든', '백팩', '트래블', '스마트', '펀딩', '떠나는', '이제', '텐트', '가방', '여권', '끝판왕', '화로', '있는', '테이블', '프로젝트', '당신을', '제주', '모두', '나만의', '미니멀', '하나', '필수', '오로라', '가격', '시작', 'OK', '아웃도어', '해충', '안전', '새로운', '에디션', '담다', '서울', '가장', '갖춘', '우리', '혁명', '한국', '디자인', '프리미엄', '원목', '수납', '한반도', '체험', '국내', '즐기는', '휴대용', '가드', '가벼운', '방지', '일상', '독도', '만날수', '올인원', '위해', '차박', '윈디코너', '특별한', '자연', '작은', '잡은', '내셔널지오그래픽', '아이', '직접', '여름', '액티비티', '세계', 'BAG', '마지막', '없는', '실용성을', '등산', 'OMG', '완벽한', '의자', '기능', '추석', '파우치', '신개념', '항공권', '언제', '한번에', '필요해', 'ZERO', '패키지', '블랙', '에이든', '최초', '어디', '쉽게', '적당한', '10', '멀티', '도난', '피크닉', '호텔', '우드', '라거백', '1만원', '업그레이드', '퍼펙트', '만들기', '운동', '지갑', '알리는', '전국', '모집', '면텐트', '없던', '아름다운', '혁신', '준비', '출시', '입는', '20', 'Cooler', 'feat', '촬영', '지금', '제작', '글로벌', '수면', '살리는', 'Parking', '라이', '힘찬', '고고', '보냉효과', '방수', '삼킨', '편안', '셋업', '즐거운', '고체', '야외', '힐링', '구명조끼', '캐빈', 'AGUNG', '투어', '청소년', '대학생', '안심', '바지', '인생', '간편', '1인가구', '카메라', '변신', '옷장을', '매트', '더하다', '에어', '강력한', '가볍게', '퇴사를', '안장통', '2세대', '데일리', '남대문', '티루드', '여러분의', 'LED', '하이브리드', '폴딩', '부뚜막', 'USB', '그릴', '일본', '바다를', '공간', '얼리버드', '자유롭게', '옐로나이프', '캠프', '담은', '들고', '다니세요', '베트남', '마스크', '롤테이블과', '숙박권', '다이어리', '정리', '킬리', '말고', '코트야드', '부르는', '만드는', '이사', '1초만에', '세트', '동시에', '랜턴', '스토브', '그늘막', '5초컷', '편리', '한손에', '버디', '미리', '편하게', '잃어버렸어요', '추억을', '기다리던', '장착', '요상한', '런칭', '더욱', '품은', '가성비', '하세요', '도전', '한정', '스페인', '차량용', '달랏', '2박', '다낭', '사용', '조립식', '팬츠', '만나다', '불과', '이젠', '시원', '발걸음', '모기', '미친', '전자소매치기', '네임텍', '티켓', 'BLACKER', '오랫동안', '노마드족', '세상', '2차', '완성', 'HMAP', '진짜', '전세계가', '휴식', '월넛', '시간을', '금속공예가가', '고민', '만남', '선물', '갓성비', '라오스', '분실', '대한민국', '쿨러', '되는', '이야기', '불멍', '러시아', '거치대', '다기능', 'Quiver', '가운데로', '컨스파라', '해결', '에스티', '엠비', '특수', '웨어', '들어', '바람막이', '바로', '메리어트', '탱크처럼', '방법', '짐싸기는', '2만', '초대할게요', '비치대장정', '쓰윽', '제대로', '스크', '명품', '드디어', '평점5', '눈을', '가봤니', '이게', '힌트', '트리퍼', '스포츠', '두께', '다용도', '해먹', '모자', '알차게', '패커블', '만났다', '홉몰트이스트', '설치', '줄서서', '마세요', '스타일', '트랜스포머', '클럽라운지', '실화', '담아', '식탁', '누구나', '루핀', '없어도', '컬러', '호캉스', '주는', '모습을', '손이가요', '더플백', '하우스', '달성', '1탄', '출발', 'Ba', '부산', '지친', '무게', '만능', '오리', '행복', '걱정', '겸비한', '소중한', '씻게요', '목베개', '가는', '찾아', '올여름', '원대', '숲속', '마법', '합리적인', '키트', '북한산의', '6개', '7가지', '3월', '대로', '해외', '난로', '초경량', '오렌지라이트', '기록', '액세서리', '12', '품질', '플리스', '휴가', '배낭', '낚시', '러기지', '사이판', '이런', '캠지', '탑재', '모든', '대만으로', '샤워', '패션', '3박', '후드', '소리를', '5분', '노브라', '가이드북', '꿈의', '소지품', '재미', '블랭킷', 'pants', '뉴트로', '세면도구', '친환경', '원액션', '출장', '베스트', '리얼', '강철', 'In', '악세사리', '지도', '시트커버', '더해줄', '다방', '버킷리스트가', '없이', '어렵지', '위하여', '물놀이', '설레는', '놀라운', '가족과', '터프한', '통째로', '슬로우', '인싸템', '힙색', '아코디언', '럭셔리', '가죽', '사계절', '케이스', '자전거와', '상륙', '속옷', '플랫', '필로', '신분증', '1억', '디즈니', '블루투스로', '원룸', '청년', '6만', '강원도', '소울', '안달루시아', '경주', '콜라겐', '베개', '이름', '대여', '마이', '보헤미안', '꿀잠', '비행기', '청춘들을', '바베큐', '같은', '요리', '3초', '크기', '요트', '3일', '라디오', '그라비티', '도심속', '날씨', 'MERGER', '피싱', 'ONE', '포터블', '서핑', '나인', '끝내는', '가능', '겨울', '컴바인', '빠르고', '오두막', '2c', '로그', '퍼니', '양념', '사진', '전기가', '않는', '사케', '선반', '탄생한', '순간을', '곳에', '몬순자켓', '액체', '오븐', '있으면', '정수기', '응원', '낭만', '홀로', '착한', '장비', '파타토', '8월', '부모님', '다녀', '전용', '셀럽', '가지고', '고정', '일일', '역대', '쪽잠을', '캔디', '씨름', '나라', '5억', '수제', '드립니다', '아트', '행백', '나도', 'PP', '30', '스피커', '젊은', '그만', '레드', '바른', '하지', '접고', '기피', '나의', '3종', '별자리', '속의', '어떻게', '주목', '루트', '신발', '5만', '서비스', '역사', '이것', '캡슐', '키롭스', '침낭', '혼자', '실내외', '사람', '아늑', '대구', '있어', '시즌', '영화', '내외', '하드', '비즈', '안에', '첫번째', '기념', '8만원으로', '스탠', '아닌', '하는', '모험', '혼행', '신소재', '돌아', '서포터', '티셔츠', '나를', '워터', '특허', '40', '11', 'HU', '제트', '보스턴', '슬기', '괴물', '세차', '탐사', '버너', '그대', '인디', '보관', '거품', '도시', '음악', '봉화로', '속에', '카누', '수작업으로', '대박', '활력', '린넨', '충전', '파티', '숨쉬는', '반바지', '타프', '당일치기', 'Go', '9억', 'MIN', '강추', '향수', '메이', '놀이', '1분이면', '텀블러', '제품', '기준', '무선충전', '활용', '어린', 'Da', '보내', '초간', '이어', '클래', '꾸미', '책임질', '중국', '친구', '수학', '이걸', '극찬', '보홀', '스테이', '배터리', '동영', '화목', '이거', '지문', '인정', '감동', '보조', '캠린이', '화제의', '그림', '카트', '소풍', '춘천', '찝찝', '유럽', '미국', '편해', '창업', '신박', '아니', '위에', '울프', '방풍', '같이', 'HinT', '후기', '뚝딱', '치유', '깔끔', '된다', '사고', '스쿠버', '벌레', '61', '맛있', '공유', '경험', '3만', '원하', '세척', '챙기세', '사전', '따로', '선택', '보호', '심플', 'CA', '쿠바', 'SE', 'in', '트렁크', '품격', '계절', '좋아', '마음', 'BE', '손에', '유틸', '디스커', '스노', '핸드', '영상', '양손', '다리', '브랜', '단양', '건강', '집에서', '바흐', '플라', '기억', 'MA', '돌봄', '네이', '시골', '3단', 'Wa', '지켜', '코팅', 'GEA', '15', '하루', '따뜻', '생각', '오거', '위치', '부싯탑', '자동차', '바오밥', '활동', '주인공', '트레', '디엠지', '빈펄', '50', '키덜트', '담요', '2초', '검색', '꿈꾸', '누리', '환상', '미래', '사랑', '베드', '무엇', '트라', '아시', '되어', '반려', '핸디', '나이', 'QR', '오피', '물티슈', '포토', 'AR', '크리스', '운전', '7박'])"
            ]
          },
          "metadata": {
            "tags": []
          },
          "execution_count": 85
        }
      ]
    },
    {
      "cell_type": "code",
      "metadata": {
        "id": "A2vFBwDx4p1M"
      },
      "source": [
        "for word, r in sorted(keywords.items(), key=lambda x:x[1], reverse=True):\n",
        "    print('%8s:\\t%.4f' % (word, r))"
      ],
      "execution_count": null,
      "outputs": []
    },
    {
      "cell_type": "code",
      "metadata": {
        "colab": {
          "base_uri": "https://localhost:8080/"
        },
        "id": "VR2B9yhC4p3w",
        "outputId": "0fa8cbd2-e92e-45a1-f2c7-f76964bb0ae3"
      },
      "source": [
        "#패션·잡화\n",
        "titles = df[df['categories'] == '패션·잡화']['title'].values\n",
        "normalized_titles = [normalize(title, english=True, number=True) for title in titles]\n",
        "wordrank_extractor = KRWordRank(\n",
        "      min_count = 2, # 단어의 최소 출현 빈도수 (그래프 생성 시)\n",
        "      max_length = 5, # 단어의 최대 길이\n",
        "      verbose = True\n",
        "      )\n",
        "  \n",
        "beta = 0.85    # PageRank의 decaying factor beta\n",
        "max_iter = 10\n",
        "\n",
        "keywords, rank, graph = wordrank_extractor.extract(normalized_titles, beta, max_iter) "
      ],
      "execution_count": 87,
      "outputs": [
        {
          "output_type": "stream",
          "text": [
            "scan vocabs ... \n",
            "num vocabs = 17004\n",
            "done\n"
          ],
          "name": "stdout"
        }
      ]
    },
    {
      "cell_type": "code",
      "metadata": {
        "colab": {
          "base_uri": "https://localhost:8080/"
        },
        "id": "JiNa01LO4p5k",
        "outputId": "dfa642d1-70c0-49d2-8623-d8cbf6db56ef"
      },
      "source": [
        "for word, r in sorted(keywords.items(), key=lambda x:x[1], reverse=True)[:30]:\n",
        "    print('%8s:\\t%.4f' % (word, r))"
      ],
      "execution_count": 88,
      "outputs": [
        {
          "output_type": "stream",
          "text": [
            "      앵콜:\t131.1605\n",
            "      가방:\t37.0913\n",
            "      만든:\t35.8859\n",
            "      위한:\t33.7662\n",
            "      안경:\t27.5972\n",
            "      천연:\t21.3270\n",
            "      백팩:\t18.2154\n",
            "     당신의:\t18.0517\n",
            "    프리미엄:\t17.7289\n",
            "      담은:\t17.7218\n",
            "    스니커즈:\t17.1111\n",
            "     마스크:\t16.6985\n",
            "     데일리:\t16.6228\n",
            "      명품:\t15.9966\n",
            "      자켓:\t15.8124\n",
            "      셔츠:\t15.4511\n",
            "      10:\t15.4367\n",
            "     티셔츠:\t15.4097\n",
            "     디자인:\t15.3511\n",
            "     만나는:\t15.3011\n",
            "     맨투맨:\t14.5474\n",
            "     끝판왕:\t14.1481\n",
            "      가죽:\t13.6817\n",
            "     스타일:\t13.6146\n",
            "      매일:\t13.3490\n",
            "      지갑:\t13.1375\n",
            "      편안:\t12.5415\n",
            "      일상:\t12.4910\n",
            "      코트:\t12.4858\n",
            "      하나:\t11.9744\n"
          ],
          "name": "stdout"
        }
      ]
    },
    {
      "cell_type": "code",
      "metadata": {
        "id": "wpGKqyfs4p7_"
      },
      "source": [
        ""
      ],
      "execution_count": null,
      "outputs": []
    },
    {
      "cell_type": "code",
      "metadata": {
        "id": "OMc9TH-F51qF"
      },
      "source": [
        ""
      ],
      "execution_count": null,
      "outputs": []
    },
    {
      "cell_type": "code",
      "metadata": {
        "id": "Oiru0mx651sl"
      },
      "source": [
        ""
      ],
      "execution_count": null,
      "outputs": []
    },
    {
      "cell_type": "code",
      "metadata": {
        "id": "HTyw3cE551uj"
      },
      "source": [
        ""
      ],
      "execution_count": null,
      "outputs": []
    },
    {
      "cell_type": "code",
      "metadata": {
        "id": "IkvvU8e-51we"
      },
      "source": [
        ""
      ],
      "execution_count": null,
      "outputs": []
    },
    {
      "cell_type": "code",
      "metadata": {
        "id": "mapwGQei51y5"
      },
      "source": [
        ""
      ],
      "execution_count": null,
      "outputs": []
    },
    {
      "cell_type": "code",
      "metadata": {
        "colab": {
          "base_uri": "https://localhost:8080/"
        },
        "id": "51EHr6jVZm-Y",
        "outputId": "54074ff5-bc1b-4760-d16b-e5564cd81f65"
      },
      "source": [
        "from sklearn.feature_extraction.text import CountVectorizer\n",
        "from sklearn.metrics.pairwise import cosine_similarity\n",
        "\n",
        "count_vect = CountVectorizer(min_df=0, ngram_range=(1,2))\n",
        "title_matrix = count_vect.fit_transform( df['title_noun'] )\n",
        "title_matrix.shape"
      ],
      "execution_count": null,
      "outputs": [
        {
          "output_type": "execute_result",
          "data": {
            "text/plain": [
              "(21480, 110708)"
            ]
          },
          "metadata": {
            "tags": []
          },
          "execution_count": 15
        }
      ]
    },
    {
      "cell_type": "code",
      "metadata": {
        "colab": {
          "base_uri": "https://localhost:8080/"
        },
        "id": "Fp_7IG4gZ_0_",
        "outputId": "de9ca020-07d6-4cb1-942b-93118bea0acd"
      },
      "source": [
        "title_sim = cosine_similarity(title_matrix,title_matrix)\n",
        "title_sim.shape"
      ],
      "execution_count": null,
      "outputs": [
        {
          "output_type": "execute_result",
          "data": {
            "text/plain": [
              "(21480, 21480)"
            ]
          },
          "metadata": {
            "tags": []
          },
          "execution_count": 16
        }
      ]
    },
    {
      "cell_type": "code",
      "metadata": {
        "colab": {
          "base_uri": "https://localhost:8080/"
        },
        "id": "DH5Hw6gdaSbg",
        "outputId": "be62b950-b4ee-4345-fc0c-9c03531fa4ed"
      },
      "source": [
        "np.sort(title_sim)[:, ::-1]"
      ],
      "execution_count": null,
      "outputs": [
        {
          "output_type": "execute_result",
          "data": {
            "text/plain": [
              "array([[1.        , 0.34188173, 0.34188173, ..., 0.        , 0.        ,\n",
              "        0.        ],\n",
              "       [1.        , 0.27272727, 0.27272727, ..., 0.        , 0.        ,\n",
              "        0.        ],\n",
              "       [1.        , 0.13453456, 0.12403473, ..., 0.        , 0.        ,\n",
              "        0.        ],\n",
              "       ...,\n",
              "       [1.        , 0.15569979, 0.13483997, ..., 0.        , 0.        ,\n",
              "        0.        ],\n",
              "       [1.        , 0.56980288, 0.37796447, ..., 0.        , 0.        ,\n",
              "        0.        ],\n",
              "       [1.        , 0.33333333, 0.32025631, ..., 0.        , 0.        ,\n",
              "        0.        ]])"
            ]
          },
          "metadata": {
            "tags": []
          },
          "execution_count": 17
        }
      ]
    },
    {
      "cell_type": "code",
      "metadata": {
        "colab": {
          "base_uri": "https://localhost:8080/"
        },
        "id": "V99LnrQRa6aw",
        "outputId": "147d9917-afe7-4dbe-d296-05c75c3079df"
      },
      "source": [
        "title_sim_sorted_ind = title_sim.argsort()[:, ::-1]\n",
        "title_sim_sorted_ind[1]"
      ],
      "execution_count": null,
      "outputs": [
        {
          "output_type": "execute_result",
          "data": {
            "text/plain": [
              "array([    1,    24,  1919, ..., 13872, 13873,     0])"
            ]
          },
          "metadata": {
            "tags": []
          },
          "execution_count": 18
        }
      ]
    },
    {
      "cell_type": "code",
      "metadata": {
        "id": "jhfterVIbFX3"
      },
      "source": [
        "def find_sim_title(df, sorted_ind, title_name, top_n=10):\n",
        "  title_movie = df[ df['title_noun'].split() == title_name ]\n",
        "  title_index = title_movie.index.values\n",
        "  sim_indexs = sorted_ind[title_index, :(top_n)]\n",
        "  sim_indexs = sim_indexs.reshape(-1)\n",
        "  return df.iloc[sim_indexs]"
      ],
      "execution_count": null,
      "outputs": []
    },
    {
      "cell_type": "markdown",
      "metadata": {
        "id": "nwU8-eay2zrj"
      },
      "source": [
        "#"
      ]
    }
  ]
}