{
  "nbformat": 4,
  "nbformat_minor": 0,
  "metadata": {
    "colab": {
      "name": "추천시스템 by 타이틀.ipynb",
      "provenance": [],
      "authorship_tag": "ABX9TyNMaGRXd914zXxkPmGx1GN6",
      "include_colab_link": true
    },
    "kernelspec": {
      "name": "python3",
      "display_name": "Python 3"
    },
    "language_info": {
      "name": "python"
    }
  },
  "cells": [
    {
      "cell_type": "markdown",
      "metadata": {
        "id": "view-in-github",
        "colab_type": "text"
      },
      "source": [
        "<a href=\"https://colab.research.google.com/github/ckim415/OOOA/blob/main/%EC%B6%94%EC%B2%9C%EC%8B%9C%EC%8A%A4%ED%85%9C_by_%ED%83%80%EC%9D%B4%ED%8B%80.ipynb\" target=\"_parent\"><img src=\"https://colab.research.google.com/assets/colab-badge.svg\" alt=\"Open In Colab\"/></a>"
      ]
    },
    {
      "cell_type": "markdown",
      "metadata": {
        "id": "Yfe8L9AuHWdZ"
      },
      "source": [
        "# 코렙에서 한글 사용"
      ]
    },
    {
      "cell_type": "code",
      "metadata": {
        "colab": {
          "base_uri": "https://localhost:8080/"
        },
        "id": "kaRO9GDbHZb1",
        "outputId": "6ef9c2a8-9428-4452-c0b6-517d4db5631f"
      },
      "source": [
        "!apt -qq -y install fonts-nanum\n",
        " \n",
        "import matplotlib.pyplot as plt\n",
        "import matplotlib.font_manager as fm\n",
        " \n",
        "fontpath = '/usr/share/fonts/truetype/nanum/NanumBarunGothic.ttf'\n",
        "font = fm.FontProperties(fname=fontpath, size=10)\n",
        "fm._rebuild()\n",
        " \n",
        "# 그래프에 retina display 적용\n",
        "%config InlineBackend.figure_format = 'retina'\n",
        " \n",
        "# Colab 의 한글 폰트 설정\n",
        "plt.rc('font', family='NanumBarunGothic') "
      ],
      "execution_count": 1,
      "outputs": [
        {
          "output_type": "stream",
          "text": [
            "fonts-nanum is already the newest version (20170925-1).\n",
            "The following package was automatically installed and is no longer required:\n",
            "  libnvidia-common-460\n",
            "Use 'apt autoremove' to remove it.\n",
            "0 upgraded, 0 newly installed, 0 to remove and 34 not upgraded.\n"
          ],
          "name": "stdout"
        }
      ]
    },
    {
      "cell_type": "markdown",
      "metadata": {
        "id": "K-6AN4wxHaYx"
      },
      "source": [
        "# 구글드라이브 연동"
      ]
    },
    {
      "cell_type": "code",
      "metadata": {
        "colab": {
          "base_uri": "https://localhost:8080/"
        },
        "id": "n2CH5pgwHcga",
        "outputId": "d9dbc259-7b93-40de-ffb9-8983d83a2a46"
      },
      "source": [
        "# 구글드라이브 연동\n",
        "from google.colab import drive\n",
        "drive.mount('/gdrive', force_remount=True)\n",
        "\n",
        "# 구글 드라이브 파일 확인\n",
        "!ls '/gdrive/My Drive/프로젝트2'\n",
        "\n",
        "# 반복되는 드라이브 경로 변수화\n",
        "drive_path = '/gdrive/My Drive/프로젝트2/'"
      ],
      "execution_count": 2,
      "outputs": [
        {
          "output_type": "stream",
          "text": [
            "Mounted at /gdrive\n",
            " 6144_link.csv\t\t       game_df.csv\n",
            "'추천시스템 by 타이틀.ipynb'   home.csv\n",
            " concat_df.csv\t\t      '프로젝트 데이터 분석.ipynb'\n",
            " crawling_final.ipynb\t       Untitled2.ipynb\n",
            " edu_link_df\n"
          ],
          "name": "stdout"
        }
      ]
    },
    {
      "cell_type": "code",
      "metadata": {
        "id": "KJKcqU6aHysQ"
      },
      "source": [
        "import pandas as pd\n",
        "import numpy as np"
      ],
      "execution_count": 3,
      "outputs": []
    },
    {
      "cell_type": "markdown",
      "metadata": {
        "id": "UH1Cf6G7HwRS"
      },
      "source": [
        "# 데이터 가져오기"
      ]
    },
    {
      "cell_type": "code",
      "metadata": {
        "colab": {
          "base_uri": "https://localhost:8080/",
          "height": 1000
        },
        "id": "Ofj9WNL5Hs63",
        "outputId": "5346d580-1be5-4dfd-ae60-698b9f117b17"
      },
      "source": [
        "df = pd.read_csv(drive_path + 'concat_df.csv')\n",
        "df.head()"
      ],
      "execution_count": 4,
      "outputs": [
        {
          "output_type": "execute_result",
          "data": {
            "text/html": [
              "<div>\n",
              "<style scoped>\n",
              "    .dataframe tbody tr th:only-of-type {\n",
              "        vertical-align: middle;\n",
              "    }\n",
              "\n",
              "    .dataframe tbody tr th {\n",
              "        vertical-align: top;\n",
              "    }\n",
              "\n",
              "    .dataframe thead th {\n",
              "        text-align: right;\n",
              "    }\n",
              "</style>\n",
              "<table border=\"1\" class=\"dataframe\">\n",
              "  <thead>\n",
              "    <tr style=\"text-align: right;\">\n",
              "      <th></th>\n",
              "      <th>Unnamed: 0</th>\n",
              "      <th>categories</th>\n",
              "      <th>title</th>\n",
              "      <th>company_names</th>\n",
              "      <th>target_amounts</th>\n",
              "      <th>funding_amounts</th>\n",
              "      <th>percentages</th>\n",
              "      <th>n_supporters</th>\n",
              "      <th>likes</th>\n",
              "      <th>durations</th>\n",
              "      <th>start</th>\n",
              "      <th>end</th>\n",
              "      <th>time</th>\n",
              "      <th>descriptions</th>\n",
              "      <th>result</th>\n",
              "    </tr>\n",
              "  </thead>\n",
              "  <tbody>\n",
              "    <tr>\n",
              "      <th>0</th>\n",
              "      <td>0</td>\n",
              "      <td>뷰티</td>\n",
              "      <td>[와디즈 최초]20대 딸이랑 50대 엄마랑 함께 쓰는 주름개선 만능 크림</td>\n",
              "      <td>주식회사칼라코드</td>\n",
              "      <td>500000</td>\n",
              "      <td>2338880</td>\n",
              "      <td>467</td>\n",
              "      <td>54</td>\n",
              "      <td>41</td>\n",
              "      <td>['2020.02.28', '2020.03.06']</td>\n",
              "      <td>2020-02-28</td>\n",
              "      <td>2020-03-06</td>\n",
              "      <td>7</td>\n",
              "      <td>테라젠의 첫 번째 제품, 20대 딸이랑 50대 엄마가 함께 쓰는 주름개선 만능 크림...</td>\n",
              "      <td>1</td>\n",
              "    </tr>\n",
              "    <tr>\n",
              "      <th>1</th>\n",
              "      <td>1</td>\n",
              "      <td>뷰티</td>\n",
              "      <td>[2.8억 앵콜] 하루만에 수분140%증가! 임상검증 완료! 갈바닉마스크</td>\n",
              "      <td>반디비타 주식회사</td>\n",
              "      <td>1000000</td>\n",
              "      <td>14260000</td>\n",
              "      <td>1426</td>\n",
              "      <td>145</td>\n",
              "      <td>79</td>\n",
              "      <td>['2021.04.26', '2021.05.31']</td>\n",
              "      <td>2021-04-26</td>\n",
              "      <td>2021-05-31</td>\n",
              "      <td>35</td>\n",
              "      <td>지금 쓰는 스킨케어 제품의 수분증발을 잡아주고 유효성분은 갈바닉으로 피부 깊숙히 전...</td>\n",
              "      <td>1</td>\n",
              "    </tr>\n",
              "    <tr>\n",
              "      <th>2</th>\n",
              "      <td>2</td>\n",
              "      <td>뷰티</td>\n",
              "      <td>1000개 유명 피부과에 공급되는 시크릿 포뮬러를 담은 33패드 프로그램</td>\n",
              "      <td>(주)코떼랑</td>\n",
              "      <td>500000</td>\n",
              "      <td>5017500</td>\n",
              "      <td>1003</td>\n",
              "      <td>65</td>\n",
              "      <td>65</td>\n",
              "      <td>['2019.04.16', '2019.05.06']</td>\n",
              "      <td>2019-04-16</td>\n",
              "      <td>2019-05-06</td>\n",
              "      <td>20</td>\n",
              "      <td>위시포뮬러가 피부과 화장품 제조 20년의 기술과 노하우를 단 한 장의  패드에 담았...</td>\n",
              "      <td>1</td>\n",
              "    </tr>\n",
              "    <tr>\n",
              "      <th>3</th>\n",
              "      <td>3</td>\n",
              "      <td>뷰티</td>\n",
              "      <td>두피 관리의 핵심은 유분량의 균형입니다! 올솔 모닝-나이트 밸런스 샴푸</td>\n",
              "      <td>올솔 (allsol)</td>\n",
              "      <td>500000</td>\n",
              "      <td>7358800</td>\n",
              "      <td>1471</td>\n",
              "      <td>134</td>\n",
              "      <td>130</td>\n",
              "      <td>['2020.03.13', '2020.04.06']</td>\n",
              "      <td>2020-03-13</td>\n",
              "      <td>2020-04-06</td>\n",
              "      <td>24</td>\n",
              "      <td>매일 변하는 두피 유분량! \\n그런데도 매번 같은 타입의 샴푸 쓰세요? \\n두피뿐만...</td>\n",
              "      <td>1</td>\n",
              "    </tr>\n",
              "    <tr>\n",
              "      <th>4</th>\n",
              "      <td>4</td>\n",
              "      <td>뷰티</td>\n",
              "      <td>컨디셔너 필요없이 그린빈샴푸 하나로 두피와 모발의 건강을 책임집니다.</td>\n",
              "      <td>주라이프 네츄럴 코스메틱 주앤솝</td>\n",
              "      <td>500000</td>\n",
              "      <td>694800</td>\n",
              "      <td>138</td>\n",
              "      <td>30</td>\n",
              "      <td>12</td>\n",
              "      <td>['2019.04.26', '2019.05.08']</td>\n",
              "      <td>2019-04-26</td>\n",
              "      <td>2019-05-08</td>\n",
              "      <td>12</td>\n",
              "      <td>화학 성분 NO! 모발에 윤기와 탄력을 주며, 비듬이나 가려움을 덜어주며, 컨디셔너...</td>\n",
              "      <td>1</td>\n",
              "    </tr>\n",
              "  </tbody>\n",
              "</table>\n",
              "</div>"
            ],
            "text/plain": [
              "   Unnamed: 0  ... result\n",
              "0           0  ...      1\n",
              "1           1  ...      1\n",
              "2           2  ...      1\n",
              "3           3  ...      1\n",
              "4           4  ...      1\n",
              "\n",
              "[5 rows x 15 columns]"
            ]
          },
          "metadata": {
            "tags": []
          },
          "execution_count": 4
        }
      ]
    },
    {
      "cell_type": "markdown",
      "metadata": {
        "id": "S5r9Y8SVIpJM"
      },
      "source": [
        "# text 처리\n",
        "\n",
        "*   특수문자 제거\n",
        "\n",
        "\n"
      ]
    },
    {
      "cell_type": "code",
      "metadata": {
        "id": "DJ3izQCUIE9H"
      },
      "source": [
        "import re\n",
        "from string import punctuation"
      ],
      "execution_count": 5,
      "outputs": []
    },
    {
      "cell_type": "code",
      "metadata": {
        "colab": {
          "base_uri": "https://localhost:8080/",
          "height": 35
        },
        "id": "eFqX6CDJKaAX",
        "outputId": "c56310aa-0cc6-4ffa-ea42-989ed09bd087"
      },
      "source": [
        "punctuation"
      ],
      "execution_count": 6,
      "outputs": [
        {
          "output_type": "execute_result",
          "data": {
            "application/vnd.google.colaboratory.intrinsic+json": {
              "type": "string"
            },
            "text/plain": [
              "'!\"#$%&\\'()*+,-./:;<=>?@[\\\\]^_`{|}~'"
            ]
          },
          "metadata": {
            "tags": []
          },
          "execution_count": 6
        }
      ]
    },
    {
      "cell_type": "code",
      "metadata": {
        "colab": {
          "base_uri": "https://localhost:8080/"
        },
        "id": "2tzuTv9KR6VR",
        "outputId": "c08937df-995b-4ce6-c143-eb6ddafe0475"
      },
      "source": [
        "!pip install konlpy wordcloud"
      ],
      "execution_count": 7,
      "outputs": [
        {
          "output_type": "stream",
          "text": [
            "Collecting konlpy\n",
            "\u001b[?25l  Downloading https://files.pythonhosted.org/packages/85/0e/f385566fec837c0b83f216b2da65db9997b35dd675e107752005b7d392b1/konlpy-0.5.2-py2.py3-none-any.whl (19.4MB)\n",
            "\u001b[K     |████████████████████████████████| 19.4MB 1.2MB/s \n",
            "\u001b[?25hRequirement already satisfied: wordcloud in /usr/local/lib/python3.7/dist-packages (1.5.0)\n",
            "Requirement already satisfied: tweepy>=3.7.0 in /usr/local/lib/python3.7/dist-packages (from konlpy) (3.10.0)\n",
            "Collecting beautifulsoup4==4.6.0\n",
            "\u001b[?25l  Downloading https://files.pythonhosted.org/packages/9e/d4/10f46e5cfac773e22707237bfcd51bbffeaf0a576b0a847ec7ab15bd7ace/beautifulsoup4-4.6.0-py3-none-any.whl (86kB)\n",
            "\u001b[K     |████████████████████████████████| 92kB 8.0MB/s \n",
            "\u001b[?25hCollecting colorama\n",
            "  Downloading https://files.pythonhosted.org/packages/44/98/5b86278fbbf250d239ae0ecb724f8572af1c91f4a11edf4d36a206189440/colorama-0.4.4-py2.py3-none-any.whl\n",
            "Collecting JPype1>=0.7.0\n",
            "\u001b[?25l  Downloading https://files.pythonhosted.org/packages/cd/a5/9781e2ef4ca92d09912c4794642c1653aea7607f473e156cf4d423a881a1/JPype1-1.2.1-cp37-cp37m-manylinux2010_x86_64.whl (457kB)\n",
            "\u001b[K     |████████████████████████████████| 460kB 48.6MB/s \n",
            "\u001b[?25hRequirement already satisfied: lxml>=4.1.0 in /usr/local/lib/python3.7/dist-packages (from konlpy) (4.2.6)\n",
            "Requirement already satisfied: numpy>=1.6 in /usr/local/lib/python3.7/dist-packages (from konlpy) (1.19.5)\n",
            "Requirement already satisfied: pillow in /usr/local/lib/python3.7/dist-packages (from wordcloud) (7.1.2)\n",
            "Requirement already satisfied: six>=1.10.0 in /usr/local/lib/python3.7/dist-packages (from tweepy>=3.7.0->konlpy) (1.15.0)\n",
            "Requirement already satisfied: requests-oauthlib>=0.7.0 in /usr/local/lib/python3.7/dist-packages (from tweepy>=3.7.0->konlpy) (1.3.0)\n",
            "Requirement already satisfied: requests[socks]>=2.11.1 in /usr/local/lib/python3.7/dist-packages (from tweepy>=3.7.0->konlpy) (2.23.0)\n",
            "Requirement already satisfied: typing-extensions; python_version < \"3.8\" in /usr/local/lib/python3.7/dist-packages (from JPype1>=0.7.0->konlpy) (3.7.4.3)\n",
            "Requirement already satisfied: oauthlib>=3.0.0 in /usr/local/lib/python3.7/dist-packages (from requests-oauthlib>=0.7.0->tweepy>=3.7.0->konlpy) (3.1.0)\n",
            "Requirement already satisfied: chardet<4,>=3.0.2 in /usr/local/lib/python3.7/dist-packages (from requests[socks]>=2.11.1->tweepy>=3.7.0->konlpy) (3.0.4)\n",
            "Requirement already satisfied: idna<3,>=2.5 in /usr/local/lib/python3.7/dist-packages (from requests[socks]>=2.11.1->tweepy>=3.7.0->konlpy) (2.10)\n",
            "Requirement already satisfied: urllib3!=1.25.0,!=1.25.1,<1.26,>=1.21.1 in /usr/local/lib/python3.7/dist-packages (from requests[socks]>=2.11.1->tweepy>=3.7.0->konlpy) (1.24.3)\n",
            "Requirement already satisfied: certifi>=2017.4.17 in /usr/local/lib/python3.7/dist-packages (from requests[socks]>=2.11.1->tweepy>=3.7.0->konlpy) (2020.12.5)\n",
            "Requirement already satisfied: PySocks!=1.5.7,>=1.5.6; extra == \"socks\" in /usr/local/lib/python3.7/dist-packages (from requests[socks]>=2.11.1->tweepy>=3.7.0->konlpy) (1.7.1)\n",
            "Installing collected packages: beautifulsoup4, colorama, JPype1, konlpy\n",
            "  Found existing installation: beautifulsoup4 4.6.3\n",
            "    Uninstalling beautifulsoup4-4.6.3:\n",
            "      Successfully uninstalled beautifulsoup4-4.6.3\n",
            "Successfully installed JPype1-1.2.1 beautifulsoup4-4.6.0 colorama-0.4.4 konlpy-0.5.2\n"
          ],
          "name": "stdout"
        }
      ]
    },
    {
      "cell_type": "code",
      "metadata": {
        "id": "rayPHZhmSDUI"
      },
      "source": [
        "from konlpy.tag import Kkma, Hannanum, Komoran, Mecab, Okt"
      ],
      "execution_count": 8,
      "outputs": []
    },
    {
      "cell_type": "code",
      "metadata": {
        "id": "h07Y9DttSExA"
      },
      "source": [
        "kkma = Kkma()\n",
        "han = Hannanum()\n",
        "kor = Komoran()\n",
        "okt = Okt()\n",
        "# mecab = Mecab()"
      ],
      "execution_count": 10,
      "outputs": []
    },
    {
      "cell_type": "code",
      "metadata": {
        "id": "cDkqujEAK_4u"
      },
      "source": [
        "#punctutation 제거 패턴\n",
        "pattern1 = re.compile(r'[{}]'.format(re.escape(punctuation)))\n",
        "#숫자 제거 패턴\n",
        "pattern2 = re.compile(r'[0-9]')"
      ],
      "execution_count": 11,
      "outputs": []
    },
    {
      "cell_type": "code",
      "metadata": {
        "colab": {
          "base_uri": "https://localhost:8080/"
        },
        "id": "Gg2vLCALMaqN",
        "outputId": "5f42c2c5-d628-419c-c4e8-f1c9375bf795"
      },
      "source": [
        "for i in df['title'][0:30]:\n",
        "  print(i)\n",
        "  sentence = pattern1.sub(' ',\n",
        "             pattern2.sub('',i)).strip()\n",
        "  print('kkma :',kkma.nouns(sentence))\n",
        "  print('han :',han.nouns(sentence))\n",
        "  print('okt :',okt.nouns(sentence))\n",
        "  print('komoran :',kor.nouns(sentence))\n",
        "  #print('mecab :',Mecab.nouns(sentence))\n",
        "\n",
        "  print('-'*10)"
      ],
      "execution_count": 12,
      "outputs": [
        {
          "output_type": "stream",
          "text": [
            "[와디즈 최초]20대 딸이랑 50대 엄마랑 함께 쓰는 주름개선 만능 크림\n",
            "kkma : ['와디', '와디즈', '즈', '최초', '대', '딸', '엄마', '주름', '주름개선', '개선', '만능', '크림']\n",
            "han : ['와디즈', '최초', '대', '딸', '대', '엄마', '주름개선', '만능', '크림']\n",
            "okt : ['와디', '최초', '딸', '엄마', '주름', '개선', '만능', '크림']\n",
            "komoran : ['와', '디즈', '최초', '대', '딸', '이랑', '대', '엄마', '주름', '개선', '만능', '크림']\n",
            "----------\n",
            "[2.8억 앵콜] 하루만에 수분140%증가! 임상검증 완료! 갈바닉마스크\n",
            "kkma : ['억', '앵', '앵콜', '콜', '하루', '수분', '증가', '임상', '임상검증', '검증', '완료', '바', '바닉마스크', '닉', '마스크']\n",
            "han : ['억', '앵콜', '하루만', '수분', '증', '임상검증', '완료', '갈바닉마스크']\n",
            "okt : ['억', '앵콜', '하루', '수분', '증가', '임', '검증', '완료', '갈바', '닉', '마스크']\n",
            "komoran : ['앵콜', '하루만', '수분', '증가', '임상', '검증', '완료', '갈바', '닉', '마스크']\n",
            "----------\n",
            "1000개 유명 피부과에 공급되는 시크릿 포뮬러를 담은 33패드 프로그램\n",
            "kkma : ['개', '유명', '피부과', '공급', '시크', '시크릿', '릿', '포뮬러', '패드', '프로그램']\n",
            "han : ['개', '유명', '피부과', '공급', '시크릿', '포뮬러', '패드', '프로그램']\n",
            "okt : ['개', '유명', '피부', '과', '공급', '시크릿', '포', '뮬러', '패드', '프로그램']\n",
            "komoran : ['개', '유명', '피부과', '공급', '시크릿', '포뮬러', '패드', '프로그램']\n",
            "----------\n",
            "두피 관리의 핵심은 유분량의 균형입니다! 올솔 모닝-나이트 밸런스 샴푸\n",
            "kkma : ['두피', '관리', '핵심', '유', '유분량', '분량', '균형', '솔', '모닝', '나이트', '밸런스', '샴푸']\n",
            "han : ['두피', '관리', '핵심', '유분량', '균형', '올솔', '모닝', '나이트', '밸런스', '샴푸']\n",
            "okt : ['두피', '관리', '핵심', '유', '분량', '균형', '솔', '모닝', '나이트', '밸런스', '샴푸']\n",
            "komoran : ['두피', '관리', '핵심', '유', '분량', '균형', '소', '모닝', '나이트', '밸런스', '샴푸']\n",
            "----------\n",
            "컨디셔너 필요없이 그린빈샴푸 하나로 두피와 모발의 건강을 책임집니다.\n",
            "kkma : ['컨디셔너', '필요', '샴푸', '하나', '두피', '모발', '건강']\n",
            "han : ['컨디셔너', '필요', '그린빈샴푸', '하나', '두피', '모발', '건강']\n",
            "okt : ['컨디셔너', '그린', '빈', '샴푸', '하나로', '두피', '모발', '건강']\n",
            "komoran : ['필요', '그린', '빈', '샴푸', '하나로', '두피', '모발', '건강']\n",
            "----------\n",
            "[후기폭주/6만개 판매] 자몽 덕후가 만든 \"리얼 자몽\" 퍼퓸 핸드크림\n",
            "kkma : ['후기', '후기폭주', '폭주', '만개', '판매', '덕', '덕후', '후', '리얼', '퓸', '핸드', '핸드크림', '크림']\n",
            "han : ['후기폭주', '만개', '판매', '자몽', '덕후', '리얼', '자몽', '퍼퓸', '핸드크림']\n",
            "okt : ['후기', '폭주', '개', '판매', '자몽', '덕후', '리얼', '자몽', '퍼퓸', '핸드', '크림']\n",
            "komoran : ['후기', '폭주', '만개', '판매', '자몽', '덕', '후', '리얼', '자몽', '퍼퓸', '핸드', '크림']\n",
            "----------\n",
            "[비건인증콜라겐] 매일 한 방울. 탄탄한 피부를 위한 처방 \n",
            "kkma : ['비', '비건인증콜라겐', '건인', '증', '콜라겐', '방울', '피부', '처방']\n",
            "han : ['비건인증콜라겐', '방울', '탄탄', '피부', '처방']\n",
            "okt : ['비건', '인증', '콜라겐', '매일', '방울', '피부', '위', '처방']\n",
            "komoran : ['비', '건', '인증', '콜라겐', '방울', '피부', '처방']\n",
            "----------\n",
            "아침마다 달라지는 피부! 실화야? 뽑아쓰는 마스크팩\n",
            "kkma : ['아침', '피부', '실화', '마스크', '마스크팩', '팩']\n",
            "han : ['아침', '피부', '실화', '뽑아쓰', '마스크팩']\n",
            "okt : ['아침', '피부', '실화', '마스크', '팩']\n",
            "komoran : ['아침', '피부', '실화', '마스크', '팩']\n",
            "----------\n",
            "[내 손안에 작은 에스테틱 ] 초당 200회 진동의 마법 ! 매직스틱\n",
            "kkma : ['내', '손안', '에스테', '에스테틱', '틱', '초당', '회', '진동', '마법', '매직', '매직스틱', '스틱']\n",
            "han : ['내', '손안', '에스테틱', '초당', '회', '진동', '마법', '매직스틱']\n",
            "okt : ['내', '손안', '에스테', '초당', '회', '진동', '마법', '매직', '스틱']\n",
            "komoran : ['손', '안', '초당', '회', '진동', '마법', '매직', '스틱']\n",
            "----------\n",
            "왜 세럼은 모두 작고 비쌀까? 목에도 바르는 대용량 \"밀키웨이세럼\"\n",
            "kkma : ['럼', '목', '대용량', '키', '키웨이', '웨이']\n",
            "han : ['세럼', '목', '대용량', '밀키웨이세럼']\n",
            "okt : ['왜', '럼', '모두', '작고', '목', '용량', '밀키웨이', '럼']\n",
            "komoran : ['목', '용량']\n",
            "----------\n",
            "[앵콜] 명품화장품16년경력으로 만든 급이 다른 선크림 피부야타지마\n",
            "kkma : ['앵', '앵콜', '콜', '명품', '명품화장품년경력', '화장품', '년', '경력', '급', '선', '선크림', '크림', '피부']\n",
            "han : ['앵콜', '명품화장품년경력', '급', '선크림', '피부야타지']\n",
            "okt : ['앵콜', '명품', '화장품', '년', '경력', '급', '다른', '선크림', '피부']\n",
            "komoran : ['앵콜', '명품', '화장품', '년', '경력', '급', '크림', '피부']\n",
            "----------\n",
            "건조성 가려운 피부 잡는 프리미엄 에센스!\n",
            "kkma : ['건조성', '피부', '프리미엄', '에센스']\n",
            "han : ['건조성', '가려운', '피부', '프리미엄', '에센스']\n",
            "okt : ['건조', '피부', '프리미엄', '에센스']\n",
            "komoran : ['건조', '피부', '프리미엄', '에센스']\n",
            "----------\n",
            "탈모관리 Biochroma Solution Project\n",
            "kkma : ['탈모', '탈모관리', '관리']\n",
            "han : ['탈모관리']\n",
            "okt : ['탈모', '관리']\n",
            "komoran : ['탈모', '관리']\n",
            "----------\n",
            "편안하고 기분 좋은 잠자리를 위한 아로마테라피 '스위트 드림'\n",
            "kkma : ['편안', '기분', '잠자리', '아로마', '아로마테라피', '테라', '피', '스위트', '드림']\n",
            "han : ['편안', '기분', '잠자리', '아로마테라피', '스위트', '드림']\n",
            "okt : ['기분', '잠자리', '위', '아로마테라피', '스위트', '드림']\n",
            "komoran : ['편안', '기분', '잠자리', '아로마테라피', '드림']\n",
            "----------\n",
            "[한번에] 머리에도 피부에도 어디에나, 민감성피부도 지성피부도 누구나\n",
            "kkma : ['한번', '머리', '피부', '어디', '민감성', '민감성피부', '지성', '지성피부', '누구']\n",
            "han : ['한번', '머리', '피부', '어디', '민감성피부', '지성피부', '누구']\n",
            "okt : ['한번', '머리', '피부', '어디', '민감', '피부', '피부', '누구']\n",
            "komoran : ['한번', '머리', '피부', '민', '감성', '피부', '지성', '피부']\n",
            "----------\n",
            "피부관리는 클렌징으로부터ㅣ하나로 끝낸다ㅣ스피나 미라클 듀얼 퍼펙트 클린저\n",
            "kkma : ['피부', '피부관리', '관리', '클렌징', 'ㅣ', 'ㅣ하나', '하나', '끝낸다ㅣ스피', '미라', '듀얼', '퍼펙트', '클린']\n",
            "han : ['피부관리', '클렌징으로부터ㅣ하나', '끝낸다ㅣ스피', '미라클', '듀얼', '퍼펙트', '클린저']\n",
            "okt : ['피부관리', '클렌징', '하나로', '스피', '미라클', '듀얼', '퍼펙트', '클린', '저']\n",
            "komoran : ['피부', '관리', '미라클', '퍼펙트', '클린']\n",
            "----------\n",
            "[1914% 앵콜]후기로 입증된 저분자 히알루론산20000ppm의 흡수력\n",
            "kkma : ['앵', '앵콜', '콜', '후기', '입증', '저분자', '히', '루론', '흡수력']\n",
            "han : ['앵콜', '후', '입증', '저분자', '히알루론산ppm', '흡수력']\n",
            "okt : ['앵콜', '후기', '입증', '저분자', '히알루론산', '의', '흡수']\n",
            "komoran : ['앵콜', '후기', '입증', '저분자', '히알루론산', '흡수력']\n",
            "----------\n",
            "유해 물질로부터 내 아이의 피부를 지켜줄 좋은 습관 만들기, 유아클렌징폼\n",
            "kkma : ['유해', '물질', '내', '아이', '피부', '습관', '만들기', '유아', '유아클렌징폼', '클렌징', '폼']\n",
            "han : ['물질', '내', '아이', '피부', '습관', '유아클렌징폼']\n",
            "okt : ['유해', '물질', '로부터', '내', '아이', '피부', '습관', '만들기', '유아', '클렌', '징폼']\n",
            "komoran : ['유해', '물질', '아이', '피부', '습관', '유아', '클렌징', '폼']\n",
            "----------\n",
            " <단독 런칭> 최악의 자외선에서 살아남는 호주사람 99%가 아는 선크림\n",
            "kkma : ['단독', '런', '런칭', '칭', '최악', '자외선', '호주', '호주사람', '사람', '선', '선크림', '크림']\n",
            "han : ['단독', '런칭', '최악', '자외선', '호주사람', '선크']\n",
            "okt : ['단독', '런칭', '최악', '자외선', '호주', '사람', '선크림']\n",
            "komoran : ['단독', '최악', '자외선', '호주', '사람', '크림']\n",
            "----------\n",
            "[한방 함유량 20%!!!] 딸바보 아빠가 만든 프라그마 여성 청결제\n",
            "kkma : ['한방', '함유량', '바보', '아빠', '프라그', '프라그마', '마', '여성', '청결제']\n",
            "han : ['한방', '함유량', '딸바보', '아빠', '프라그마', '여성', '청결제']\n",
            "okt : ['방', '함유량', '딸바보', '아빠', '프라그', '마', '여성', '청', '결제']\n",
            "komoran : ['한방', '함유량', '딸', '바보', '아빠', '프라그', '마', '여성', '청결']\n",
            "----------\n",
            "헐리우드스타에게 브러쉬만들어주던 언니가 만든 메이크업브러쉬 [1+1+1]\n",
            "kkma : ['리', '우드', '우드스타', '스타', '브러쉬', '언니', '메이크업', '메이크업브러쉬']\n",
            "han : ['헐리우드스타에', '브러쉬만들어주', '언니', '메이크업브러쉬']\n",
            "okt : ['헐리우드', '스타', '브러쉬', '언니', '메이크업', '브러쉬']\n",
            "komoran : ['헐리우드', '스타', '언니']\n",
            "----------\n",
            "'홍보대사 하고 싶을 만큼 최고입니다' 극찬의 후기로 탄생 60초꿀광패드\n",
            "kkma : ['홍보', '홍보대사', '대사', '만큼', '최고', '극찬', '후기', '탄생', '초', '초꿀광패드', '꿀', '광', '패드']\n",
            "han : ['홍보대사', '만큼', '최고', '극찬', '후', '탄생', '초꿀광패드']\n",
            "okt : ['홍보', '대사', '만큼', '최고', '극찬', '후기', '탄생', '초꿀광', '패드']\n",
            "komoran : ['홍보', '대사', '만큼', '최고', '극찬', '후기', '탄생', '꿀', '광', '패드']\n",
            "----------\n",
            "하룻밤에 완성되는 립밤 없이 촉촉한 베이글 입술. 강력 영양보습 립마스크\n",
            "kkma : ['하룻밤', '완성', '립', '립밤', '밤', '베이', '베이글', '글', '입술', '강력', '영양', '영양보습', '보습', '립마스크', '마스크']\n",
            "han : ['하룻밤', '완성', '립밤', '베이글', '입술', '강력', '영양보습', '립마스크']\n",
            "okt : ['하룻밤', '완성', '립밤', '베이글', '입술', '강력', '영양', '보습', '립', '마스크']\n",
            "komoran : ['하룻밤', '완성', '립밤', '베이글', '입술', '영양', '보습', '립', '마스크']\n",
            "----------\n",
            "[평점 4.7] 12년 속눈썹전문가가 만든 특허성분 찐!속눈썹영양제\n",
            "kkma : ['평점', '속눈썹', '속눈썹전문가', '전문가', '특허', '특허성분', '성분', '속눈썹영양제', '영양제']\n",
            "han : ['평점', '년', '속눈썹전문가', '특허성분', '속눈썹영양제']\n",
            "okt : ['평점', '년', '속눈썹', '전문가', '특허성', '속눈썹', '양제']\n",
            "komoran : ['평점', '년', '속눈썹', '전문가', '특허성', '분', '속눈썹', '영양제']\n",
            "----------\n",
            "[오.늘.마.감] 하루만에 수분140%증가! 임상&후기검증 갈바닉 마스크\n",
            "kkma : ['오', '마', '감', '하루', '수분', '증가', '임상', '후기', '후기검증', '검증', '바', '바닉', '닉', '마스크']\n",
            "han : ['마', '하루만', '수분', '증', '임상', '후기검증', '갈바닉', '마스크']\n",
            "okt : ['오', '늘', '마', '감', '하루', '수분', '증가', '임', '후기', '검증', '갈바', '닉', '마스크']\n",
            "komoran : ['오', '감', '하루만', '수분', '증가', '임상', '후기', '검증', '갈바', '닉', '마스크']\n",
            "----------\n",
            "[앵콜4.9평점]3일만에 COOL하게 잠재운다구? #쿨잠크림 #냉장고크림\n",
            "kkma : ['앵', '앵콜', '콜', '평점', '일', '일만', '만', '잠', '잠크림', '크림', '냉장고', '냉장고크림']\n",
            "han : ['앵콜', '평점', '일만', '잠재운다구', '쿨잠크림', '냉장고크림']\n",
            "okt : ['앵콜', '평점', '일만', '쿨잠', '크림', '냉장고', '크림']\n",
            "komoran : ['앵콜', '평점', '쿠', '잠', '크림', '냉장고', '크림']\n",
            "----------\n",
            " 저녁보습 아침까지~, 자연그대로 D(아토랑 키즈랑)\n",
            "kkma : ['저녁', '저녁보습', '보습', '아침', '자연', '아토', '키즈']\n",
            "han : ['저녁보습', '아침', '자연그대', '아토', '키즈']\n",
            "okt : ['저녁', '보습', '아침', '자연', '그대로', '아토', '키즈']\n",
            "komoran : ['저녁', '보습', '아침', '자연', '아토', '키즈']\n",
            "----------\n",
            "장성군 축령산 편백잎을 아낌없이 담은 폼클렌징\n",
            "kkma : ['장성', '장성군', '군', '축령산', '편백', '편백잎', '잎', '폼', '폼클렌징', '클렌징']\n",
            "han : ['장성군', '축령산', '편백잎', '폼클렌징']\n",
            "okt : ['장성군', '축령산', '편백', '잎', '폼클렌징']\n",
            "komoran : ['장성군', '축령산', '편백', '잎', '폼', '클렌징']\n",
            "----------\n",
            "지금 까지 이런 남성올인원 제품은 없었다. 미백,주름개선  기능성화장품\n",
            "kkma : ['지금', '남성', '남성올인원', '올인원', '제품', '미백', '주름', '주름개선', '개선', '기능성', '기능성화장품', '화장품']\n",
            "han : ['남성올인원', '제품', '미백', '주름개선', '기능성화장품']\n",
            "okt : ['지금', '남성', '올인원', '제품', '미백', '주름', '개선', '기능', '화장품']\n",
            "komoran : ['남성', '올인', '원', '제품', '미백', '주름', '개선', '기능', '성', '화장품']\n",
            "----------\n",
            "[뷰티]미세전류 마스크팩세트 (미백/주름 이중 기능성)\n",
            "kkma : ['뷰티', '미세', '미세전류', '전류', '마스크', '마스크팩세트', '팩', '세트', '미백', '주름', '이중', '기능성']\n",
            "han : ['뷰티', '미세전류', '마스크팩세트', '미백', '주름', '이중', '기능성']\n",
            "okt : ['뷰티', '미세', '전류', '마스크', '팩', '세트', '미백', '주름', '이중', '기능']\n",
            "komoran : ['뷰티', '미세', '전류', '마스크', '팩', '세트', '미백', '주름', '이중', '기능']\n",
            "----------\n"
          ],
          "name": "stdout"
        }
      ]
    },
    {
      "cell_type": "code",
      "metadata": {
        "id": "PH4KPprNUsLI"
      },
      "source": [
        "#함수화\n",
        "def cleaning(doc):\n",
        "\n",
        "  sentence = pattern1.sub(' ',\n",
        "             pattern2.sub('',str(doc))).strip()\n",
        "\n",
        "  try : \n",
        "    return kkma.nouns(sentence)\n",
        "  except:\n",
        "    return []"
      ],
      "execution_count": 13,
      "outputs": []
    },
    {
      "cell_type": "code",
      "metadata": {
        "colab": {
          "base_uri": "https://localhost:8080/"
        },
        "id": "Xhr332NzWLTA",
        "outputId": "d8ad0d2b-1fa7-4e04-e69e-01c9fc4e5200"
      },
      "source": [
        "df['title_noun'] = df['title'].apply(cleaning)\n",
        "df['title_noun']"
      ],
      "execution_count": 14,
      "outputs": [
        {
          "output_type": "execute_result",
          "data": {
            "text/plain": [
              "0         [와디, 와디즈, 즈, 최초, 대, 딸, 엄마, 주름, 주름개선, 개선, 만능, 크림]\n",
              "1        [억, 앵, 앵콜, 콜, 하루, 수분, 증가, 임상, 임상검증, 검증, 완료, 바,...\n",
              "2              [개, 유명, 피부과, 공급, 시크, 시크릿, 릿, 포뮬러, 패드, 프로그램]\n",
              "3        [두피, 관리, 핵심, 유, 유분량, 분량, 균형, 솔, 모닝, 나이트, 밸런스, 샴푸]\n",
              "4                           [컨디셔너, 필요, 샴푸, 하나, 두피, 모발, 건강]\n",
              "                               ...                        \n",
              "21475                [히트, 히트패드, 패드, 출근길, 핸들, 전기, 핫, 핫팩, 팩]\n",
              "21476    [무선, 에어, 에어펌프, 펌프, 자동차, 오토바이, 오토바이공기압, 공기압, 자전...\n",
              "21477    [나, 개, 개국어지원, 국어, 지원, 반응, 반응형, 형, 웹, 웹페이지, 페이지...\n",
              "21478                [웨어, 웨어러, 러, 공기, 공기청정기, 청정기, 전동, 마스크]\n",
              "21479                                              [년, 시계]\n",
              "Name: title_noun, Length: 21480, dtype: object"
            ]
          },
          "metadata": {
            "tags": []
          },
          "execution_count": 14
        }
      ]
    },
    {
      "cell_type": "markdown",
      "metadata": {
        "id": "Ljqyt8HeH-rd"
      },
      "source": [
        "## 파일 저장"
      ]
    },
    {
      "cell_type": "code",
      "metadata": {
        "id": "F46pr7I1Hlrb"
      },
      "source": [
        "df.to_csv(drive_path+'df_nouns_add.csv')"
      ],
      "execution_count": 76,
      "outputs": []
    },
    {
      "cell_type": "markdown",
      "metadata": {
        "id": "2dO4smHTIClD"
      },
      "source": [
        "## comma 제거"
      ]
    },
    {
      "cell_type": "code",
      "metadata": {
        "id": "vvKgi_qfYL56"
      },
      "source": [
        "df['title_noun'] = df['title_noun'].apply(lambda x: (' ').join(x))"
      ],
      "execution_count": 21,
      "outputs": []
    },
    {
      "cell_type": "code",
      "metadata": {
        "colab": {
          "base_uri": "https://localhost:8080/"
        },
        "id": "DiS47-hmZk3w",
        "outputId": "a9c51086-c392-4bc9-c554-eb95e701c7a8"
      },
      "source": [
        "df['title_noun']"
      ],
      "execution_count": 22,
      "outputs": [
        {
          "output_type": "execute_result",
          "data": {
            "text/plain": [
              "0                  와디 와디즈 즈 최초 대 딸 엄마 주름 주름개선 개선 만능 크림\n",
              "1        억 앵 앵콜 콜 하루 수분 증가 임상 임상검증 검증 완료 바 바닉마스크 닉 마스크\n",
              "2                     개 유명 피부과 공급 시크 시크릿 릿 포뮬러 패드 프로그램\n",
              "3                 두피 관리 핵심 유 유분량 분량 균형 솔 모닝 나이트 밸런스 샴푸\n",
              "4                               컨디셔너 필요 샴푸 하나 두피 모발 건강\n",
              "                             ...                      \n",
              "21475                      히트 히트패드 패드 출근길 핸들 전기 핫 핫팩 팩\n",
              "21476    무선 에어 에어펌프 펌프 자동차 오토바이 오토바이공기압 공기압 자전거 튜브 축구공\n",
              "21477      나 개 개국어지원 국어 지원 반응 반응형 형 웹 웹페이지 페이지 제작 실크로드\n",
              "21478                     웨어 웨어러 러 공기 공기청정기 청정기 전동 마스크\n",
              "21479                                             년 시계\n",
              "Name: title_noun, Length: 21480, dtype: object"
            ]
          },
          "metadata": {
            "tags": []
          },
          "execution_count": 22
        }
      ]
    },
    {
      "cell_type": "code",
      "metadata": {
        "colab": {
          "base_uri": "https://localhost:8080/"
        },
        "id": "iCA0M-IbdRcy",
        "outputId": "cb110329-8eb9-4df4-ba36-2109c8a741e4"
      },
      "source": [
        "df['title_noun'][0].split()[:] == '엄마'"
      ],
      "execution_count": null,
      "outputs": [
        {
          "output_type": "execute_result",
          "data": {
            "text/plain": [
              "False"
            ]
          },
          "metadata": {
            "tags": []
          },
          "execution_count": 21
        }
      ]
    },
    {
      "cell_type": "markdown",
      "metadata": {
        "id": "xqBfdmJo25JX"
      },
      "source": [
        "## key word rank\n",
        "- 타이틀 마다 키워드 추출"
      ]
    },
    {
      "cell_type": "code",
      "metadata": {
        "colab": {
          "base_uri": "https://localhost:8080/"
        },
        "id": "xKwN0dU-3F_l",
        "outputId": "59e7ffc8-73ee-4d0f-a55c-eaa72d17f301"
      },
      "source": [
        "!pip install krwordrank"
      ],
      "execution_count": 16,
      "outputs": [
        {
          "output_type": "stream",
          "text": [
            "Collecting krwordrank\n",
            "  Downloading https://files.pythonhosted.org/packages/6f/c8/7946b49dabd25a2fd8c258030bbfb21330f4ff1dca29a5eedb50e6882ed5/krwordrank-1.0.3-py3-none-any.whl\n",
            "Requirement already satisfied: scikit-learn>=0.22.1 in /usr/local/lib/python3.7/dist-packages (from krwordrank) (0.22.2.post1)\n",
            "Requirement already satisfied: numpy>=1.18.4 in /usr/local/lib/python3.7/dist-packages (from krwordrank) (1.19.5)\n",
            "Requirement already satisfied: scipy>=1.4.1 in /usr/local/lib/python3.7/dist-packages (from krwordrank) (1.4.1)\n",
            "Requirement already satisfied: joblib>=0.11 in /usr/local/lib/python3.7/dist-packages (from scikit-learn>=0.22.1->krwordrank) (1.0.1)\n",
            "Installing collected packages: krwordrank\n",
            "Successfully installed krwordrank-1.0.3\n"
          ],
          "name": "stdout"
        }
      ]
    },
    {
      "cell_type": "code",
      "metadata": {
        "id": "ULbejSbZ3GCB"
      },
      "source": [
        "from krwordrank.word import KRWordRank\n",
        "from krwordrank.hangle import normalize"
      ],
      "execution_count": 17,
      "outputs": []
    },
    {
      "cell_type": "code",
      "metadata": {
        "id": "VWHeEYm83GEP",
        "colab": {
          "base_uri": "https://localhost:8080/"
        },
        "outputId": "e1d2f1a0-4ab0-49f1-9bd9-cccd492dffb9"
      },
      "source": [
        "example = df['title'][15:30]\n",
        "example2 = df['title_noun'][15:30]\n",
        "example_text = [normalize(text, english=True, number=False) for text in example]\n",
        "example_text2 = [normalize(text, english=True, number=False) for text in example2]\n",
        "example_text,example_text2"
      ],
      "execution_count": 23,
      "outputs": [
        {
          "output_type": "execute_result",
          "data": {
            "text/plain": [
              "(['피부관리는 클렌징으로부터 하나로 끝낸다 스피나 미라클 듀얼 퍼펙트 클린저',\n",
              "  '앵콜 후기로 입증된 저분자 히알루론산 ppm의 흡수력',\n",
              "  '유해 물질로부터 내 아이의 피부를 지켜줄 좋은 습관 만들기 유아클렌징폼',\n",
              "  '단독 런칭 최악의 자외선에서 살아남는 호주사람 가 아는 선크림',\n",
              "  '한방 함유량 딸바보 아빠가 만든 프라그마 여성 청결제',\n",
              "  '헐리우드스타에게 브러쉬만들어주던 언니가 만든 메이크업브러쉬',\n",
              "  '홍보대사 하고 싶을 만큼 최고입니다 극찬의 후기로 탄생 초꿀광패드',\n",
              "  '하룻밤에 완성되는 립밤 없이 촉촉한 베이글 입술 강력 영양보습 립마스크',\n",
              "  '평점 년 속눈썹전문가가 만든 특허성분 찐 속눈썹영양제',\n",
              "  '오 늘 마 감 하루만에 수분 증가 임상 후기검증 갈바닉 마스크',\n",
              "  '앵콜 평점 일만에 COOL하게 잠재운다구 쿨잠크림 냉장고크림',\n",
              "  '저녁보습 아침까지 자연그대로 D 아토랑 키즈랑',\n",
              "  '장성군 축령산 편백잎을 아낌없이 담은 폼클렌징',\n",
              "  '지금 까지 이런 남성올인원 제품은 없었다 미백 주름개선 기능성화장품',\n",
              "  '뷰티 미세전류 마스크팩세트 미백 주름 이중 기능성'],\n",
              " ['피부 피부관리 관리 클렌징 하나 하나 끝낸다 스피 미라 듀얼 퍼펙트 클린',\n",
              "  '앵 앵콜 콜 후기 입증 저분자 히 루론 흡수력',\n",
              "  '유해 물질 내 아이 피부 습관 만들기 유아 유아클렌징폼 클렌징 폼',\n",
              "  '단독 런 런칭 칭 최악 자외선 호주 호주사람 사람 선 선크림 크림',\n",
              "  '한방 함유량 바보 아빠 프라그 프라그마 마 여성 청결제',\n",
              "  '리 우드 우드스타 스타 브러쉬 언니 메이크업 메이크업브러쉬',\n",
              "  '홍보 홍보대사 대사 만큼 최고 극찬 후기 탄생 초 초꿀광패드 꿀 광 패드',\n",
              "  '하룻밤 완성 립 립밤 밤 베이 베이글 글 입술 강력 영양 영양보습 보습 립마스크 마스크',\n",
              "  '평점 속눈썹 속눈썹전문가 전문가 특허 특허성분 성분 속눈썹영양제 영양제',\n",
              "  '오 마 감 하루 수분 증가 임상 후기 후기검증 검증 바 바닉 닉 마스크',\n",
              "  '앵 앵콜 콜 평점 일 일만 만 잠 잠크림 크림 냉장고 냉장고크림',\n",
              "  '저녁 저녁보습 보습 아침 자연 아토 키즈',\n",
              "  '장성 장성군 군 축령산 편백 편백잎 잎 폼 폼클렌징 클렌징',\n",
              "  '지금 남성 남성올인원 올인원 제품 미백 주름 주름개선 개선 기능성 기능성화장품 화장품',\n",
              "  '뷰티 미세 미세전류 전류 마스크 마스크팩세트 팩 세트 미백 주름 이중 기능성'])"
            ]
          },
          "metadata": {
            "tags": []
          },
          "execution_count": 23
        }
      ]
    },
    {
      "cell_type": "code",
      "metadata": {
        "id": "0Rg3r-MVs7Mh"
      },
      "source": [
        "#함수화1 normalize\n",
        "def keyword(sentence):\n",
        "  try:\n",
        "    keyword = normalize(str(sentence), english=True, number=True)\n",
        "  except:\n",
        "    return cleaning(sentence)\n",
        "  return keyword"
      ],
      "execution_count": 32,
      "outputs": []
    },
    {
      "cell_type": "code",
      "metadata": {
        "id": "u0RMhUnzvVWr"
      },
      "source": [
        "df['keyword_title'] = df['title'].apply(keyword)\n",
        "df['keyword_title_noun'] = df['title_noun'].apply(keyword)"
      ],
      "execution_count": 33,
      "outputs": []
    },
    {
      "cell_type": "code",
      "metadata": {
        "colab": {
          "base_uri": "https://localhost:8080/"
        },
        "id": "i52RWJLuw6yQ",
        "outputId": "aaed689e-5744-4723-93e4-0fabdb1bba27"
      },
      "source": [
        "df['keyword_title'][:30], df['keyword_title_noun'][:30]"
      ],
      "execution_count": 34,
      "outputs": [
        {
          "output_type": "execute_result",
          "data": {
            "text/plain": [
              "(0      와디즈 최초 20대 딸이랑 50대 엄마랑 함께 쓰는 주름개선 만능 크림\n",
              " 1         2 8억 앵콜 하루만에 수분140 증가 임상검증 완료 갈바닉마스크\n",
              " 2     1000개 유명 피부과에 공급되는 시크릿 포뮬러를 담은 33패드 프로그램\n",
              " 3       두피 관리의 핵심은 유분량의 균형입니다 올솔 모닝 나이트 밸런스 샴푸\n",
              " 4        컨디셔너 필요없이 그린빈샴푸 하나로 두피와 모발의 건강을 책임집니다\n",
              " 5          후기폭주 6만개 판매 자몽 덕후가 만든 리얼 자몽 퍼퓸 핸드크림\n",
              " 6                비건인증콜라겐 매일 한 방울 탄탄한 피부를 위한 처방\n",
              " 7                   아침마다 달라지는 피부 실화야 뽑아쓰는 마스크팩\n",
              " 8            내 손안에 작은 에스테틱 초당 200회 진동의 마법 매직스틱\n",
              " 9           왜 세럼은 모두 작고 비쌀까 목에도 바르는 대용량 밀키웨이세럼\n",
              " 10         앵콜 명품화장품16년경력으로 만든 급이 다른 선크림 피부야타지마\n",
              " 11                      건조성 가려운 피부 잡는 프리미엄 에센스\n",
              " 12             탈모관리 Biochroma Solution Project\n",
              " 13            편안하고 기분 좋은 잠자리를 위한 아로마테라피 스위트 드림\n",
              " 14         한번에 머리에도 피부에도 어디에나 민감성피부도 지성피부도 누구나\n",
              " 15    피부관리는 클렌징으로부터 하나로 끝낸다 스피나 미라클 듀얼 퍼펙트 클린저\n",
              " 16      1914 앵콜 후기로 입증된 저분자 히알루론산20000ppm의 흡수력\n",
              " 17     유해 물질로부터 내 아이의 피부를 지켜줄 좋은 습관 만들기 유아클렌징폼\n",
              " 18       단독 런칭 최악의 자외선에서 살아남는 호주사람 99 가 아는 선크림\n",
              " 19            한방 함유량 20 딸바보 아빠가 만든 프라그마 여성 청결제\n",
              " 20      헐리우드스타에게 브러쉬만들어주던 언니가 만든 메이크업브러쉬 1 1 1\n",
              " 21      홍보대사 하고 싶을 만큼 최고입니다 극찬의 후기로 탄생 60초꿀광패드\n",
              " 22     하룻밤에 완성되는 립밤 없이 촉촉한 베이글 입술 강력 영양보습 립마스크\n",
              " 23         평점 4 7 12년 속눈썹전문가가 만든 특허성분 찐 속눈썹영양제\n",
              " 24       오 늘 마 감 하루만에 수분140 증가 임상 후기검증 갈바닉 마스크\n",
              " 25        앵콜4 9평점 3일만에 COOL하게 잠재운다구 쿨잠크림 냉장고크림\n",
              " 26                   저녁보습 아침까지 자연그대로 D 아토랑 키즈랑\n",
              " 27                   장성군 축령산 편백잎을 아낌없이 담은 폼클렌징\n",
              " 28       지금 까지 이런 남성올인원 제품은 없었다 미백 주름개선 기능성화장품\n",
              " 29                 뷰티 미세전류 마스크팩세트 미백 주름 이중 기능성\n",
              " Name: keyword_title, dtype: object,\n",
              " 0                  와디 와디즈 즈 최초 대 딸 엄마 주름 주름개선 개선 만능 크림\n",
              " 1        억 앵 앵콜 콜 하루 수분 증가 임상 임상검증 검증 완료 바 바닉마스크 닉 마스크\n",
              " 2                     개 유명 피부과 공급 시크 시크릿 릿 포뮬러 패드 프로그램\n",
              " 3                 두피 관리 핵심 유 유분량 분량 균형 솔 모닝 나이트 밸런스 샴푸\n",
              " 4                               컨디셔너 필요 샴푸 하나 두피 모발 건강\n",
              " 5              후기 후기폭주 폭주 만개 판매 덕 덕후 후 리얼 퓸 핸드 핸드크림 크림\n",
              " 6                          비 비건인증콜라겐 건인 증 콜라겐 방울 피부 처방\n",
              " 7                                  아침 피부 실화 마스크 마스크팩 팩\n",
              " 8                내 손안 에스테 에스테틱 틱 초당 회 진동 마법 매직 매직스틱 스틱\n",
              " 9                                     럼 목 대용량 키 키웨이 웨이\n",
              " 10           앵 앵콜 콜 명품 명품화장품년경력 화장품 년 경력 급 선 선크림 크림 피부\n",
              " 11                                     건조성 피부 프리미엄 에센스\n",
              " 12                                          탈모 탈모관리 관리\n",
              " 13                    편안 기분 잠자리 아로마 아로마테라피 테라 피 스위트 드림\n",
              " 14                    한번 머리 피부 어디 민감성 민감성피부 지성 지성피부 누구\n",
              " 15            피부 피부관리 관리 클렌징 하나 하나 끝낸다 스피 미라 듀얼 퍼펙트 클린\n",
              " 16                           앵 앵콜 콜 후기 입증 저분자 히 루론 흡수력\n",
              " 17                유해 물질 내 아이 피부 습관 만들기 유아 유아클렌징폼 클렌징 폼\n",
              " 18                단독 런 런칭 칭 최악 자외선 호주 호주사람 사람 선 선크림 크림\n",
              " 19                      한방 함유량 바보 아빠 프라그 프라그마 마 여성 청결제\n",
              " 20                    리 우드 우드스타 스타 브러쉬 언니 메이크업 메이크업브러쉬\n",
              " 21            홍보 홍보대사 대사 만큼 최고 극찬 후기 탄생 초 초꿀광패드 꿀 광 패드\n",
              " 22    하룻밤 완성 립 립밤 밤 베이 베이글 글 입술 강력 영양 영양보습 보습 립마스크 마스크\n",
              " 23             평점 속눈썹 속눈썹전문가 전문가 특허 특허성분 성분 속눈썹영양제 영양제\n",
              " 24             오 마 감 하루 수분 증가 임상 후기 후기검증 검증 바 바닉 닉 마스크\n",
              " 25                 앵 앵콜 콜 평점 일 일만 만 잠 잠크림 크림 냉장고 냉장고크림\n",
              " 26                              저녁 저녁보습 보습 아침 자연 아토 키즈\n",
              " 27                    장성 장성군 군 축령산 편백 편백잎 잎 폼 폼클렌징 클렌징\n",
              " 28     지금 남성 남성올인원 올인원 제품 미백 주름 주름개선 개선 기능성 기능성화장품 화장품\n",
              " 29          뷰티 미세 미세전류 전류 마스크 마스크팩세트 팩 세트 미백 주름 이중 기능성\n",
              " Name: keyword_title_noun, dtype: object)"
            ]
          },
          "metadata": {
            "tags": []
          },
          "execution_count": 34
        }
      ]
    },
    {
      "cell_type": "code",
      "metadata": {
        "colab": {
          "base_uri": "https://localhost:8080/"
        },
        "id": "huPeFt_6JuFV",
        "outputId": "f699ec12-199a-409b-fa59-07ae1f735261"
      },
      "source": [
        "df.info()"
      ],
      "execution_count": 38,
      "outputs": [
        {
          "output_type": "stream",
          "text": [
            "<class 'pandas.core.frame.DataFrame'>\n",
            "RangeIndex: 21480 entries, 0 to 21479\n",
            "Data columns (total 18 columns):\n",
            " #   Column              Non-Null Count  Dtype \n",
            "---  ------              --------------  ----- \n",
            " 0   Unnamed: 0          21480 non-null  int64 \n",
            " 1   categories          21480 non-null  object\n",
            " 2   title               21479 non-null  object\n",
            " 3   company_names       21475 non-null  object\n",
            " 4   target_amounts      21480 non-null  int64 \n",
            " 5   funding_amounts     21480 non-null  int64 \n",
            " 6   percentages         21480 non-null  int64 \n",
            " 7   n_supporters        21480 non-null  int64 \n",
            " 8   likes               21480 non-null  int64 \n",
            " 9   durations           21480 non-null  object\n",
            " 10  start               21480 non-null  object\n",
            " 11  end                 21480 non-null  object\n",
            " 12  time                21480 non-null  int64 \n",
            " 13  descriptions        21468 non-null  object\n",
            " 14  result              21480 non-null  int64 \n",
            " 15  title_noun          21480 non-null  object\n",
            " 16  keyword_title       21480 non-null  object\n",
            " 17  keyword_title_noun  21480 non-null  object\n",
            "dtypes: int64(8), object(10)\n",
            "memory usage: 2.9+ MB\n"
          ],
          "name": "stdout"
        }
      ]
    },
    {
      "cell_type": "code",
      "metadata": {
        "id": "l9sWE1BhJ61g"
      },
      "source": [
        "check=pd.DataFrame(df['title_noun'] == df['keyword_title_noun'])\n",
        "check"
      ],
      "execution_count": null,
      "outputs": []
    },
    {
      "cell_type": "code",
      "metadata": {
        "colab": {
          "base_uri": "https://localhost:8080/"
        },
        "id": "Le3qH-TtMSBu",
        "outputId": "d9e0d0f7-0d81-4aa3-8dd4-42571b65c600"
      },
      "source": [
        "check[0].value_counts()"
      ],
      "execution_count": 47,
      "outputs": [
        {
          "output_type": "execute_result",
          "data": {
            "text/plain": [
              "True     20990\n",
              "False      490\n",
              "Name: 0, dtype: int64"
            ]
          },
          "metadata": {
            "tags": []
          },
          "execution_count": 47
        }
      ]
    },
    {
      "cell_type": "markdown",
      "metadata": {
        "id": "SpA01FDTMXMF"
      },
      "source": [
        "## check\n",
        "- keyword_title_noun == title_noun : 20990\n",
        "- False      490"
      ]
    },
    {
      "cell_type": "code",
      "metadata": {
        "colab": {
          "base_uri": "https://localhost:8080/"
        },
        "id": "_o-U8sS-3GGQ",
        "outputId": "997ca022-32b5-44eb-d1ac-2c24a2828f37"
      },
      "source": [
        "wordrank_extractor = KRWordRank(\n",
        "    min_count = 2, # 단어의 최소 출현 빈도수 (그래프 생성 시)\n",
        "    max_length = 5, # 단어의 최대 길이\n",
        "    verbose = True\n",
        "    )\n",
        "\n",
        "beta = 0.85    # PageRank의 decaying factor beta\n",
        "max_iter = 10\n",
        "\n",
        "keywords, rank, graph = [wordrank_extractor.extract(example_text, beta, max_iter)]"
      ],
      "execution_count": null,
      "outputs": [
        {
          "output_type": "stream",
          "text": [
            "scan vocabs ... \n",
            "num vocabs = 62\n",
            "done\n"
          ],
          "name": "stdout"
        }
      ]
    },
    {
      "cell_type": "code",
      "metadata": {
        "id": "R67WJTetxkky"
      },
      "source": [
        "#함수화2 wordrank_extractor\n",
        "def keyword_extractor(normalized_sentence):\n",
        "\n",
        "  try:\n",
        "    wordrank_extractor = KRWordRank(\n",
        "      min_count = 2, # 단어의 최소 출현 빈도수 (그래프 생성 시)\n",
        "      max_length = 5, # 단어의 최대 길이\n",
        "      verbose = True\n",
        "      )\n",
        "  \n",
        "    beta = 0.85    # PageRank의 decaying factor beta\n",
        "    max_iter = 10\n",
        "\n",
        "    keywords, rank, graph = wordrank_extractor.extract(normalized_sentence, beta, max_iter)\n",
        "    return keywords\n",
        "\n",
        "  except:\n",
        "    return normalized_sentence"
      ],
      "execution_count": null,
      "outputs": []
    },
    {
      "cell_type": "markdown",
      "metadata": {
        "id": "2whSnnVl5fQh"
      },
      "source": [
        "### *** 결과 : title마다 keyword추출을 불가능*** "
      ]
    },
    {
      "cell_type": "markdown",
      "metadata": {
        "id": "fBAX5hHQ1J-0"
      },
      "source": [
        "## 카테고리별 keyword 추출"
      ]
    },
    {
      "cell_type": "code",
      "metadata": {
        "colab": {
          "base_uri": "https://localhost:8080/"
        },
        "id": "IUgjAINl2gl9",
        "outputId": "bf9f2be9-2c9e-4ce9-8d81-b5f0eaa2a883"
      },
      "source": [
        "df['categories'].value_counts()"
      ],
      "execution_count": null,
      "outputs": [
        {
          "output_type": "execute_result",
          "data": {
            "text/plain": [
              "패션·잡화       5208\n",
              "푸드          3066\n",
              "홈리빙         2949\n",
              "뷰티          2484\n",
              "테크·가전       2124\n",
              "반려동물        1635\n",
              "소셜·캠페인       832\n",
              "스포츠·모빌리티     694\n",
              "여행·레저        674\n",
              "교육·키즈        666\n",
              "공연·컬쳐        564\n",
              "출판           469\n",
              "디자인소품         48\n",
              "기부·후원         41\n",
              "모임            26\n",
              "Name: categories, dtype: int64"
            ]
          },
          "metadata": {
            "tags": []
          },
          "execution_count": 64
        }
      ]
    },
    {
      "cell_type": "code",
      "metadata": {
        "id": "LJJW-hBs4P8S",
        "colab": {
          "base_uri": "https://localhost:8080/"
        },
        "outputId": "7af763fc-26bb-48d5-d24b-2aae80f0de5c"
      },
      "source": [
        "df['categories'].value_counts().index"
      ],
      "execution_count": null,
      "outputs": [
        {
          "output_type": "execute_result",
          "data": {
            "text/plain": [
              "Index(['패션·잡화', '푸드', '홈리빙', '뷰티', '테크·가전', '반려동물', '소셜·캠페인', '스포츠·모빌리티',\n",
              "       '여행·레저', '교육·키즈', '공연·컬쳐', '출판', '디자인소품', '기부·후원', '모임'],\n",
              "      dtype='object')"
            ]
          },
          "metadata": {
            "tags": []
          },
          "execution_count": 60
        }
      ]
    },
    {
      "cell_type": "code",
      "metadata": {
        "id": "y1FY7frb4QAK",
        "colab": {
          "base_uri": "https://localhost:8080/"
        },
        "outputId": "4f0f20fb-3c13-425c-cbf6-156a07c95458"
      },
      "source": [
        "categories = df['categories'].value_counts().index\n",
        "categories"
      ],
      "execution_count": null,
      "outputs": [
        {
          "output_type": "execute_result",
          "data": {
            "text/plain": [
              "Index(['패션·잡화', '푸드', '홈리빙', '뷰티', '테크·가전', '반려동물', '소셜·캠페인', '스포츠·모빌리티',\n",
              "       '여행·레저', '교육·키즈', '공연·컬쳐', '출판', '디자인소품', '기부·후원', '모임'],\n",
              "      dtype='object')"
            ]
          },
          "metadata": {
            "tags": []
          },
          "execution_count": 63
        }
      ]
    },
    {
      "cell_type": "code",
      "metadata": {
        "id": "emrUUMXm4QCU"
      },
      "source": [
        "#기부후원만 test\n",
        "titles = df[df['categories'] == '기부·후원']['title'].values\n",
        "normalized_titles = [normalize(title, english=True, number=True) for title in titles]"
      ],
      "execution_count": null,
      "outputs": []
    },
    {
      "cell_type": "code",
      "metadata": {
        "id": "waEkSUyq3PCZ"
      },
      "source": [
        "normalized_titles"
      ],
      "execution_count": null,
      "outputs": []
    },
    {
      "cell_type": "code",
      "metadata": {
        "colab": {
          "base_uri": "https://localhost:8080/"
        },
        "id": "rXwq94r73WNH",
        "outputId": "aefacf61-6694-47ca-ede2-575189db7cc9"
      },
      "source": [
        "# keyword 추출\n",
        "wordrank_extractor = KRWordRank(\n",
        "      min_count = 2, # 단어의 최소 출현 빈도수 (그래프 생성 시)\n",
        "      max_length = 5, # 단어의 최대 길이\n",
        "      verbose = True\n",
        "      )\n",
        "  \n",
        "beta = 0.85    # PageRank의 decaying factor beta\n",
        "max_iter = 10\n",
        "\n",
        "keywords, rank, graph = wordrank_extractor.extract(normalized_titles, beta, max_iter) "
      ],
      "execution_count": null,
      "outputs": [
        {
          "output_type": "stream",
          "text": [
            "scan vocabs ... \n",
            "num vocabs = 168\n",
            "done\n"
          ],
          "name": "stdout"
        }
      ]
    },
    {
      "cell_type": "code",
      "metadata": {
        "colab": {
          "base_uri": "https://localhost:8080/"
        },
        "id": "9xI8EFEs3l_R",
        "outputId": "7d5dbfb2-0126-4055-e920-a968acbdafbe"
      },
      "source": [
        "keywords.keys()"
      ],
      "execution_count": null,
      "outputs": [
        {
          "output_type": "execute_result",
          "data": {
            "text/plain": [
              "dict_keys(['위한', '청소년', '세월호', '네팔', '긴급구호', '있도록', '준비합니다', '의인', '따뜻한', '꿈을', '보내', '희망', '대학언론', '선물', '작은', '새로', '피해', '문화', '우리', '위안', '아이', '리더십', '응원', 'ST', '친구'])"
            ]
          },
          "metadata": {
            "tags": []
          },
          "execution_count": 81
        }
      ]
    },
    {
      "cell_type": "code",
      "metadata": {
        "colab": {
          "base_uri": "https://localhost:8080/"
        },
        "id": "z88cgSYk3mBS",
        "outputId": "dcbabcfe-3d31-488b-e912-2f892bc1bbf1"
      },
      "source": [
        "for word, r in sorted(keywords.items(), key=lambda x:x[1], reverse=True)[:30]:\n",
        "    print('%8s:\\t%.4f' % (word, r))"
      ],
      "execution_count": null,
      "outputs": [
        {
          "output_type": "stream",
          "text": [
            "      위한:\t3.0330\n",
            "     청소년:\t2.4551\n",
            "     세월호:\t1.9163\n",
            "      네팔:\t1.8873\n",
            "    긴급구호:\t1.7646\n",
            "     있도록:\t1.5974\n",
            "   준비합니다:\t1.5753\n",
            "      의인:\t1.4829\n",
            "     따뜻한:\t1.4332\n",
            "      꿈을:\t1.3289\n",
            "      보내:\t1.3151\n",
            "      희망:\t1.3052\n",
            "    대학언론:\t1.1182\n",
            "      선물:\t1.0348\n",
            "      작은:\t1.0000\n",
            "      새로:\t1.0000\n",
            "      피해:\t0.9943\n",
            "      문화:\t0.9574\n",
            "      우리:\t0.8836\n",
            "      위안:\t0.8149\n",
            "      아이:\t0.7888\n",
            "     리더십:\t0.7063\n",
            "      응원:\t0.5154\n",
            "      ST:\t0.4908\n",
            "      친구:\t0.4306\n"
          ],
          "name": "stdout"
        }
      ]
    },
    {
      "cell_type": "code",
      "metadata": {
        "colab": {
          "base_uri": "https://localhost:8080/"
        },
        "id": "enAueYKVM129",
        "outputId": "01a04a4e-1ca1-4143-99b8-38db44096f55"
      },
      "source": [
        "#한꺼번에 키워드 추출 카테고리 별로 키워드 추출/ 'title_noun'을 사용\n",
        "beta = 0.85    # PageRank의 decaying factor beta\n",
        "max_iter = 10\n",
        "total = {}\n",
        "categoris = df['categories'].value_counts()\n",
        "for cate in categoris.index:\n",
        "  titles = df[df['categories'] == cate]['title_noun'].values\n",
        "  texts = [normalize(text, english=True, number=True) for text in titles]\n",
        "  wordrank_extractor = KRWordRank(\n",
        "    min_count = 5, # 단어의 최소 출현 빈도수 (그래프 생성 시)\n",
        "    max_length = 10, # 단어의 최대 길이\n",
        "    verbose = True\n",
        "    )\n",
        "\n",
        "\n",
        "\n",
        "  keywords, rank, graph = wordrank_extractor.extract(texts, beta, max_iter)\n",
        "  # for word, r in sorted(keywords.items(), key=lambda x:x[1], reverse=True)[:30]:\n",
        "  total[cate] = ['%s' % (word) for word,r in sorted(keywords.items(), key=lambda x:x[1], reverse=True)[:30]]\n",
        "  "
      ],
      "execution_count": 60,
      "outputs": [
        {
          "output_type": "stream",
          "text": [
            "scan vocabs ... \n",
            "num vocabs = 3766\n",
            "done\n",
            "scan vocabs ... \n",
            "num vocabs = 2878\n",
            "done\n",
            "scan vocabs ... \n",
            "num vocabs = 2744\n",
            "done\n",
            "scan vocabs ... \n",
            "num vocabs = 2249\n",
            "done\n",
            "scan vocabs ... \n",
            "num vocabs = 2196\n",
            "done\n",
            "scan vocabs ... \n",
            "num vocabs = 1590\n",
            "done\n",
            "scan vocabs ... \n",
            "num vocabs = 847\n",
            "done\n",
            "scan vocabs ... \n",
            "num vocabs = 989\n",
            "done\n",
            "scan vocabs ... \n",
            "num vocabs = 862\n",
            "done\n",
            "scan vocabs ... \n",
            "num vocabs = 831\n",
            "done\n",
            "scan vocabs ... \n",
            "num vocabs = 730\n",
            "done\n",
            "scan vocabs ... \n",
            "num vocabs = 615\n",
            "done\n",
            "scan vocabs ... \n",
            "num vocabs = 64\n",
            "done\n",
            "scan vocabs ... \n",
            "num vocabs = 15\n",
            "done\n",
            "scan vocabs ... \n",
            "num vocabs = 20\n",
            "done\n"
          ],
          "name": "stdout"
        }
      ]
    },
    {
      "cell_type": "code",
      "metadata": {
        "colab": {
          "base_uri": "https://localhost:8080/"
        },
        "id": "lEdqI7GPRpcq",
        "outputId": "70a138fe-5cf6-4033-ab87-8b6dbef72141"
      },
      "source": [
        "for cate in categoris.index:\n",
        "  print(cate, total[cate],'\\n')"
      ],
      "execution_count": 67,
      "outputs": [
        {
          "output_type": "stream",
          "text": [
            "패션·잡화 ['만원', '천연', '가방', '다이', '가죽', '데일리', '안경', '명품', '스타', '자켓', '하나', '수납', '디자', '편안', '지갑', '코트', '셔츠', '아몬드', '당신', '인생', '미니', '케이스', '가격', '핸드', '마스크', '아이', '스니커즈', '일상', '끝판', '후드'] \n",
            "\n",
            "푸드 ['선물', '건강', '프로', '커피', '프리', '제주', '인생', '단백질', '추석', '하루', '설탕', '세트', '끝판', '밀크', '수제', '바이오', '한우', '갈비', '국내', '보리', '초콜릿', '아이', '식사', '한정', '에너지', '비타민', '전통', '발효', '참치', '진짜'] \n",
            "\n",
            "홈리빙 ['베개', '만원', '주방', '공기', '매트', '공간', '천연', '핸드', '항균', '원목', '프로젝트', '감성', '미세', '테이블', '당신', '우리', '건강', '샤워', '커피', '수면', '바디', '아이', '하나', '섬유', '끝판', '디자인', '쿠션', '선물', '호텔', '생활'] \n",
            "\n",
            "뷰티 ['피부', '크림', '케어', '마스크', '성분', '바디', '스킨', '클렌징', '수분', '관리', '천연', '화장', '보습', '앰플', '모공', '미백', '샴푸', '향수', '두피', '탈모', '핸드', '헤어', '주름', '진정', '각질', '특허', '여성', '임상', '프로', '줄기'] \n",
            "\n",
            "테크·가전 ['무선', '스마트', '충전', '공기', '청정기', '살균', '만원', '고속', '휴대용', '끝판', '에어', '보조', '아이', '이어폰', '필수', '하나', '거치대', '청소기', '패드', '배터리', '먼지', '글로벌', '스피커', '미세', '칫솔', '블루', '전기', '전동', '차량', '국내'] \n",
            "\n",
            "반려동물 ['반려', '동물', '고양이', '강아지', '건강', '우리', '간식', '산책', '집사', '댕댕이', '모래', '스크래', '영양', '유기', '아이', '댕냥', '프로', '가방', '이동', '하우스', '타워', '노즈', '안전', '하나', '배변', '천연', '워크', '핸드', '공간', '필수'] \n",
            "\n",
            "소셜·캠페인 ['프로젝트', '유기', '아이', '장애인', '선물', '기부', '희망', '아동', '청소년', '우리', '동물', '에코', '후원', '캠페인', '마음', '나눔', '시각', '청년', '마을', '응원', '행복', '노인', '상지', '세상', '보호', '팔찌', '발달', '사랑', '티셔츠', '환경'] \n",
            "\n",
            "스포츠·모빌리티 ['운동', '자전거', '스포츠', '보드', '스마트', '전동', '골프', '전기', '테이핑', '끝판', '보호대', '라이', '무릎', '홈트', '프로', '밸런스', '웨이브', '웨어', '만원', '트레이닝', '필수', '하나', '손목', '코팅', '안전', '개념', '치료', '스케이트', '프리', '차량'] \n",
            "\n",
            "여행·레저 ['여행', '캠핑', '감성', '여권', '스마트', '테이블', '캐리어', '트래블', '가방', '방지', '화로', '끝판', '필수', '케이스', '세계', '아웃', '텐트', '지도', '당신', '하나', '도난', '팬츠', '만원', '용품', '대한', '가드', '고고', '피크닉', '제주', '추석'] \n",
            "\n",
            "교육·키즈 ['온라인', '아이', '영어', '클래스', '코딩', '하루', '우리', '교육', '스마트', '놀이', '아기', '육아', '주식', '엄마', '투자', '블록', '프로젝트', '필수', '보드', '데이터', '실전', '유아', '안전', '카드', '아빠', '선물', '세상', '학습', '공부', '게임'] \n",
            "\n",
            "공연·컬쳐 ['영화', '프로젝트', '콘서트', '사진', '당신', '영상', '음악', '전시', '작가', '아트', '대한', '웨딩', '제작', '예술', '촬영', '앨범', '인생', '아이', '뮤지컬', '드라마', '단편', '서울', '반려', '이야기', '스튜디오', '힐링', '하나', '민국', '소장', '공연'] \n",
            "\n",
            "출판 ['출판', '프로젝트', '영어', '쿠팡', '당신', '주식', '스마트', '이야기', '마이', '가이드', '스토어', '투자', '여행', '우리', '한국', '컬러링', '세상', '미국', '에세이', '대화', '비밀', '시간', '카드', '갤러리', '노트', '기업', '아이', '녹색', '서울', '출간'] \n",
            "\n",
            "디자인소품 ['여권', '디자인', '케이스', '서명', '세종', '전문', '다이'] \n",
            "\n",
            "기부·후원 [] \n",
            "\n",
            "모임 ['모임', '다이', '클럽'] \n",
            "\n"
          ],
          "name": "stdout"
        }
      ]
    },
    {
      "cell_type": "markdown",
      "metadata": {
        "id": "peeiNuO4Tg66"
      },
      "source": [
        "## save dict total to csv file"
      ]
    },
    {
      "cell_type": "code",
      "metadata": {
        "id": "GMtJB8RXTRZ-"
      },
      "source": [
        "import csv\n",
        "import sys\n",
        "with open(drive_path+'cate_keyword.csv','w') as f:\n",
        "    w = csv.DictWriter(f, total.keys())\n",
        "    w.writeheader()\n",
        "    w.writerow(total)"
      ],
      "execution_count": 75,
      "outputs": []
    },
    {
      "cell_type": "code",
      "metadata": {
        "id": "wpGKqyfs4p7_"
      },
      "source": [
        "#명사만 먼저 추출해서 키워드 추출 가능한지 (카테고리 별로 ) 확인 요망"
      ],
      "execution_count": null,
      "outputs": []
    },
    {
      "cell_type": "markdown",
      "metadata": {
        "id": "OL9RZculVoxu"
      },
      "source": [
        "## 확인 결과 : 기부 후원 빼고 가능함"
      ]
    },
    {
      "cell_type": "code",
      "metadata": {
        "id": "OMc9TH-F51qF"
      },
      "source": [
        ""
      ],
      "execution_count": null,
      "outputs": []
    },
    {
      "cell_type": "code",
      "metadata": {
        "colab": {
          "base_uri": "https://localhost:8080/"
        },
        "id": "51EHr6jVZm-Y",
        "outputId": "54074ff5-bc1b-4760-d16b-e5564cd81f65"
      },
      "source": [
        "from sklearn.feature_extraction.text import CountVectorizer\n",
        "from sklearn.metrics.pairwise import cosine_similarity\n",
        "\n",
        "count_vect = CountVectorizer(min_df=0, ngram_range=(1,2))\n",
        "title_matrix = count_vect.fit_transform( df['title_noun'] )\n",
        "title_matrix.shape"
      ],
      "execution_count": null,
      "outputs": [
        {
          "output_type": "execute_result",
          "data": {
            "text/plain": [
              "(21480, 110708)"
            ]
          },
          "metadata": {
            "tags": []
          },
          "execution_count": 15
        }
      ]
    },
    {
      "cell_type": "code",
      "metadata": {
        "colab": {
          "base_uri": "https://localhost:8080/"
        },
        "id": "Fp_7IG4gZ_0_",
        "outputId": "de9ca020-07d6-4cb1-942b-93118bea0acd"
      },
      "source": [
        "title_sim = cosine_similarity(title_matrix,title_matrix)\n",
        "title_sim.shape"
      ],
      "execution_count": null,
      "outputs": [
        {
          "output_type": "execute_result",
          "data": {
            "text/plain": [
              "(21480, 21480)"
            ]
          },
          "metadata": {
            "tags": []
          },
          "execution_count": 16
        }
      ]
    },
    {
      "cell_type": "code",
      "metadata": {
        "colab": {
          "base_uri": "https://localhost:8080/"
        },
        "id": "DH5Hw6gdaSbg",
        "outputId": "be62b950-b4ee-4345-fc0c-9c03531fa4ed"
      },
      "source": [
        "np.sort(title_sim)[:, ::-1]"
      ],
      "execution_count": null,
      "outputs": [
        {
          "output_type": "execute_result",
          "data": {
            "text/plain": [
              "array([[1.        , 0.34188173, 0.34188173, ..., 0.        , 0.        ,\n",
              "        0.        ],\n",
              "       [1.        , 0.27272727, 0.27272727, ..., 0.        , 0.        ,\n",
              "        0.        ],\n",
              "       [1.        , 0.13453456, 0.12403473, ..., 0.        , 0.        ,\n",
              "        0.        ],\n",
              "       ...,\n",
              "       [1.        , 0.15569979, 0.13483997, ..., 0.        , 0.        ,\n",
              "        0.        ],\n",
              "       [1.        , 0.56980288, 0.37796447, ..., 0.        , 0.        ,\n",
              "        0.        ],\n",
              "       [1.        , 0.33333333, 0.32025631, ..., 0.        , 0.        ,\n",
              "        0.        ]])"
            ]
          },
          "metadata": {
            "tags": []
          },
          "execution_count": 17
        }
      ]
    },
    {
      "cell_type": "code",
      "metadata": {
        "colab": {
          "base_uri": "https://localhost:8080/"
        },
        "id": "V99LnrQRa6aw",
        "outputId": "147d9917-afe7-4dbe-d296-05c75c3079df"
      },
      "source": [
        "title_sim_sorted_ind = title_sim.argsort()[:, ::-1]\n",
        "title_sim_sorted_ind[1]"
      ],
      "execution_count": null,
      "outputs": [
        {
          "output_type": "execute_result",
          "data": {
            "text/plain": [
              "array([    1,    24,  1919, ..., 13872, 13873,     0])"
            ]
          },
          "metadata": {
            "tags": []
          },
          "execution_count": 18
        }
      ]
    },
    {
      "cell_type": "code",
      "metadata": {
        "id": "jhfterVIbFX3"
      },
      "source": [
        "def find_sim_title(df, sorted_ind, title_name, top_n=10):\n",
        "  title_movie = df[ df['title_noun'].split() == title_name ]\n",
        "  title_index = title_movie.index.values\n",
        "  sim_indexs = sorted_ind[title_index, :(top_n)]\n",
        "  sim_indexs = sim_indexs.reshape(-1)\n",
        "  return df.iloc[sim_indexs]"
      ],
      "execution_count": null,
      "outputs": []
    },
    {
      "cell_type": "code",
      "metadata": {
        "id": "Oiru0mx651sl"
      },
      "source": [
        ""
      ],
      "execution_count": null,
      "outputs": []
    },
    {
      "cell_type": "code",
      "metadata": {
        "id": "HTyw3cE551uj"
      },
      "source": [
        ""
      ],
      "execution_count": null,
      "outputs": []
    },
    {
      "cell_type": "markdown",
      "metadata": {
        "id": "YBFFmFFu6aCF"
      },
      "source": [
        "# 카테고리별 펀딩 평균 모금액 "
      ]
    },
    {
      "cell_type": "code",
      "metadata": {
        "id": "IkvvU8e-51we"
      },
      "source": [
        "df['start_year'] = pd.to_datetime(df['start']).dt.to_period('Y')\n",
        "\n",
        "df_year_mean = df.pivot_table(columns='categories', index='start_year', \n",
        "                                      values='funding_amounts',aggfunc=np.mean)"
      ],
      "execution_count": null,
      "outputs": []
    },
    {
      "cell_type": "code",
      "metadata": {
        "id": "mapwGQei51y5"
      },
      "source": [
        "df_year_mean= df_year_mean.fillna(0) "
      ],
      "execution_count": null,
      "outputs": []
    },
    {
      "cell_type": "code",
      "metadata": {
        "id": "5GtJ4FYO7ZKD"
      },
      "source": [
        "df_year_mean = df_year_mean.astype('int')"
      ],
      "execution_count": null,
      "outputs": []
    },
    {
      "cell_type": "code",
      "metadata": {
        "colab": {
          "base_uri": "https://localhost:8080/",
          "height": 545
        },
        "id": "Vbj8R9JY7ZMR",
        "outputId": "5690a400-5060-4927-a4d6-f315e67ce666"
      },
      "source": [
        "df_year_mean.T"
      ],
      "execution_count": null,
      "outputs": [
        {
          "output_type": "execute_result",
          "data": {
            "text/html": [
              "<div>\n",
              "<style scoped>\n",
              "    .dataframe tbody tr th:only-of-type {\n",
              "        vertical-align: middle;\n",
              "    }\n",
              "\n",
              "    .dataframe tbody tr th {\n",
              "        vertical-align: top;\n",
              "    }\n",
              "\n",
              "    .dataframe thead th {\n",
              "        text-align: right;\n",
              "    }\n",
              "</style>\n",
              "<table border=\"1\" class=\"dataframe\">\n",
              "  <thead>\n",
              "    <tr style=\"text-align: right;\">\n",
              "      <th>start_year</th>\n",
              "      <th>2013</th>\n",
              "      <th>2014</th>\n",
              "      <th>2015</th>\n",
              "      <th>2016</th>\n",
              "      <th>2017</th>\n",
              "      <th>2018</th>\n",
              "      <th>2019</th>\n",
              "      <th>2020</th>\n",
              "      <th>2021</th>\n",
              "    </tr>\n",
              "    <tr>\n",
              "      <th>categories</th>\n",
              "      <th></th>\n",
              "      <th></th>\n",
              "      <th></th>\n",
              "      <th></th>\n",
              "      <th></th>\n",
              "      <th></th>\n",
              "      <th></th>\n",
              "      <th></th>\n",
              "      <th></th>\n",
              "    </tr>\n",
              "  </thead>\n",
              "  <tbody>\n",
              "    <tr>\n",
              "      <th>공연·컬쳐</th>\n",
              "      <td>1577900</td>\n",
              "      <td>2875927</td>\n",
              "      <td>1608609</td>\n",
              "      <td>3314067</td>\n",
              "      <td>5216102</td>\n",
              "      <td>4880764</td>\n",
              "      <td>6086437</td>\n",
              "      <td>18670049</td>\n",
              "      <td>90022098</td>\n",
              "    </tr>\n",
              "    <tr>\n",
              "      <th>교육·키즈</th>\n",
              "      <td>0</td>\n",
              "      <td>16857750</td>\n",
              "      <td>5986921</td>\n",
              "      <td>3470807</td>\n",
              "      <td>9611619</td>\n",
              "      <td>6791423</td>\n",
              "      <td>6873404</td>\n",
              "      <td>9203267</td>\n",
              "      <td>13615529</td>\n",
              "    </tr>\n",
              "    <tr>\n",
              "      <th>기부·후원</th>\n",
              "      <td>0</td>\n",
              "      <td>0</td>\n",
              "      <td>2025436</td>\n",
              "      <td>369282</td>\n",
              "      <td>0</td>\n",
              "      <td>2129178</td>\n",
              "      <td>535000</td>\n",
              "      <td>613875</td>\n",
              "      <td>0</td>\n",
              "    </tr>\n",
              "    <tr>\n",
              "      <th>디자인소품</th>\n",
              "      <td>0</td>\n",
              "      <td>0</td>\n",
              "      <td>0</td>\n",
              "      <td>0</td>\n",
              "      <td>555297703</td>\n",
              "      <td>141703127</td>\n",
              "      <td>34881690</td>\n",
              "      <td>35242113</td>\n",
              "      <td>2863712</td>\n",
              "    </tr>\n",
              "    <tr>\n",
              "      <th>모임</th>\n",
              "      <td>0</td>\n",
              "      <td>0</td>\n",
              "      <td>0</td>\n",
              "      <td>0</td>\n",
              "      <td>0</td>\n",
              "      <td>0</td>\n",
              "      <td>2380300</td>\n",
              "      <td>1946200</td>\n",
              "      <td>0</td>\n",
              "    </tr>\n",
              "    <tr>\n",
              "      <th>반려동물</th>\n",
              "      <td>0</td>\n",
              "      <td>0</td>\n",
              "      <td>2222266</td>\n",
              "      <td>3501283</td>\n",
              "      <td>8863727</td>\n",
              "      <td>17166607</td>\n",
              "      <td>10673292</td>\n",
              "      <td>9172378</td>\n",
              "      <td>8350958</td>\n",
              "    </tr>\n",
              "    <tr>\n",
              "      <th>뷰티</th>\n",
              "      <td>0</td>\n",
              "      <td>0</td>\n",
              "      <td>775375</td>\n",
              "      <td>3283598</td>\n",
              "      <td>6108298</td>\n",
              "      <td>8186882</td>\n",
              "      <td>9732600</td>\n",
              "      <td>11535084</td>\n",
              "      <td>14443909</td>\n",
              "    </tr>\n",
              "    <tr>\n",
              "      <th>소셜·캠페인</th>\n",
              "      <td>4425204</td>\n",
              "      <td>2054491</td>\n",
              "      <td>3910569</td>\n",
              "      <td>2529761</td>\n",
              "      <td>3148786</td>\n",
              "      <td>3581705</td>\n",
              "      <td>4552107</td>\n",
              "      <td>26170944</td>\n",
              "      <td>19286872</td>\n",
              "    </tr>\n",
              "    <tr>\n",
              "      <th>스포츠·모빌리티</th>\n",
              "      <td>155000</td>\n",
              "      <td>2822400</td>\n",
              "      <td>8135625</td>\n",
              "      <td>33204902</td>\n",
              "      <td>42857413</td>\n",
              "      <td>22589399</td>\n",
              "      <td>25101891</td>\n",
              "      <td>30249591</td>\n",
              "      <td>26294317</td>\n",
              "    </tr>\n",
              "    <tr>\n",
              "      <th>여행·레저</th>\n",
              "      <td>0</td>\n",
              "      <td>241150</td>\n",
              "      <td>1527200</td>\n",
              "      <td>14075646</td>\n",
              "      <td>60705330</td>\n",
              "      <td>15695607</td>\n",
              "      <td>13352662</td>\n",
              "      <td>37069189</td>\n",
              "      <td>39721514</td>\n",
              "    </tr>\n",
              "    <tr>\n",
              "      <th>출판</th>\n",
              "      <td>3050000</td>\n",
              "      <td>5129362</td>\n",
              "      <td>3033970</td>\n",
              "      <td>2029697</td>\n",
              "      <td>3381739</td>\n",
              "      <td>5675616</td>\n",
              "      <td>4713437</td>\n",
              "      <td>2725194</td>\n",
              "      <td>7224653</td>\n",
              "    </tr>\n",
              "    <tr>\n",
              "      <th>테크·가전</th>\n",
              "      <td>0</td>\n",
              "      <td>456722</td>\n",
              "      <td>10455098</td>\n",
              "      <td>6222281</td>\n",
              "      <td>16727815</td>\n",
              "      <td>30437970</td>\n",
              "      <td>40992128</td>\n",
              "      <td>53617029</td>\n",
              "      <td>42361244</td>\n",
              "    </tr>\n",
              "    <tr>\n",
              "      <th>패션·잡화</th>\n",
              "      <td>0</td>\n",
              "      <td>18165000</td>\n",
              "      <td>59521000</td>\n",
              "      <td>6331839</td>\n",
              "      <td>19806825</td>\n",
              "      <td>14672261</td>\n",
              "      <td>15496553</td>\n",
              "      <td>16616795</td>\n",
              "      <td>13676106</td>\n",
              "    </tr>\n",
              "    <tr>\n",
              "      <th>푸드</th>\n",
              "      <td>1397000</td>\n",
              "      <td>4858500</td>\n",
              "      <td>48468566</td>\n",
              "      <td>8141672</td>\n",
              "      <td>8902229</td>\n",
              "      <td>14429521</td>\n",
              "      <td>10548499</td>\n",
              "      <td>10201325</td>\n",
              "      <td>7934189</td>\n",
              "    </tr>\n",
              "    <tr>\n",
              "      <th>홈리빙</th>\n",
              "      <td>0</td>\n",
              "      <td>1754666</td>\n",
              "      <td>3539000</td>\n",
              "      <td>3966352</td>\n",
              "      <td>14334986</td>\n",
              "      <td>12658878</td>\n",
              "      <td>13172057</td>\n",
              "      <td>15871438</td>\n",
              "      <td>16820899</td>\n",
              "    </tr>\n",
              "  </tbody>\n",
              "</table>\n",
              "</div>"
            ],
            "text/plain": [
              "start_year     2013      2014      2015  ...      2019      2020      2021\n",
              "categories                               ...                              \n",
              "공연·컬쳐       1577900   2875927   1608609  ...   6086437  18670049  90022098\n",
              "교육·키즈             0  16857750   5986921  ...   6873404   9203267  13615529\n",
              "기부·후원             0         0   2025436  ...    535000    613875         0\n",
              "디자인소품             0         0         0  ...  34881690  35242113   2863712\n",
              "모임                0         0         0  ...   2380300   1946200         0\n",
              "반려동물              0         0   2222266  ...  10673292   9172378   8350958\n",
              "뷰티                0         0    775375  ...   9732600  11535084  14443909\n",
              "소셜·캠페인      4425204   2054491   3910569  ...   4552107  26170944  19286872\n",
              "스포츠·모빌리티     155000   2822400   8135625  ...  25101891  30249591  26294317\n",
              "여행·레저             0    241150   1527200  ...  13352662  37069189  39721514\n",
              "출판          3050000   5129362   3033970  ...   4713437   2725194   7224653\n",
              "테크·가전             0    456722  10455098  ...  40992128  53617029  42361244\n",
              "패션·잡화             0  18165000  59521000  ...  15496553  16616795  13676106\n",
              "푸드          1397000   4858500  48468566  ...  10548499  10201325   7934189\n",
              "홈리빙               0   1754666   3539000  ...  13172057  15871438  16820899\n",
              "\n",
              "[15 rows x 9 columns]"
            ]
          },
          "metadata": {
            "tags": []
          },
          "execution_count": 99
        }
      ]
    },
    {
      "cell_type": "code",
      "metadata": {
        "id": "Hh_VgoSt7ZON"
      },
      "source": [
        "cult=df[df['categories'] == '공연·컬쳐'][['funding_amounts','start_year']]#['funding_amounts'].mean()"
      ],
      "execution_count": null,
      "outputs": []
    },
    {
      "cell_type": "code",
      "metadata": {
        "colab": {
          "base_uri": "https://localhost:8080/"
        },
        "id": "OTGsaNUt9p9L",
        "outputId": "67175a4b-447a-4b22-8e0d-1f56f1fb87ff"
      },
      "source": [
        "cult[cult['start_year']=='2013']['funding_amounts']"
      ],
      "execution_count": null,
      "outputs": [
        {
          "output_type": "execute_result",
          "data": {
            "text/plain": [
              "2568    1540000\n",
              "2616    1060000\n",
              "2617    3525000\n",
              "2694     305000\n",
              "2706     750000\n",
              "2713     220000\n",
              "2741    2235000\n",
              "2773    1550000\n",
              "2844    3060000\n",
              "3000    1534000\n",
              "Name: funding_amounts, dtype: int64"
            ]
          },
          "metadata": {
            "tags": []
          },
          "execution_count": 120
        }
      ]
    },
    {
      "cell_type": "code",
      "metadata": {
        "colab": {
          "base_uri": "https://localhost:8080/"
        },
        "id": "IpGhKUb_9HiM",
        "outputId": "96d0b741-9f40-4027-d64e-27d42bdee614"
      },
      "source": [
        "cult[cult['start_year']=='2013']['funding_amounts'].mean()"
      ],
      "execution_count": null,
      "outputs": [
        {
          "output_type": "execute_result",
          "data": {
            "text/plain": [
              "1577900.0"
            ]
          },
          "metadata": {
            "tags": []
          },
          "execution_count": 114
        }
      ]
    },
    {
      "cell_type": "code",
      "metadata": {
        "id": "X0YWXZ1i7ZSH"
      },
      "source": [
        ""
      ],
      "execution_count": null,
      "outputs": []
    },
    {
      "cell_type": "code",
      "metadata": {
        "id": "1ZfTHkFg9byW"
      },
      "source": [
        ""
      ],
      "execution_count": null,
      "outputs": []
    }
  ]
}