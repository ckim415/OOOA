{
 "cells": [
  {
   "cell_type": "code",
   "execution_count": null,
   "metadata": {
    "colab": {
     "base_uri": "https://localhost:8080/"
    },
    "executionInfo": {
     "elapsed": 10900,
     "status": "ok",
     "timestamp": 1619504689275,
     "user": {
      "displayName": "박선하",
      "photoUrl": "",
      "userId": "10217738532917155060"
     },
     "user_tz": -540
    },
    "id": "17_Df_6c_qCX",
    "outputId": "15468e01-7356-4be4-a29d-788b56c07d3e"
   },
   "outputs": [],
   "source": [
    "!pip install Selenium\n",
    "!apt-get update # to update ubuntu to correctly run apt install\n",
    "!apt install chromium-chromedriver\n",
    "!apt-get install -y fonts-nanum*"
   ]
  },
  {
   "cell_type": "code",
   "execution_count": 1,
   "metadata": {
    "executionInfo": {
     "elapsed": 558,
     "status": "ok",
     "timestamp": 1619504844540,
     "user": {
      "displayName": "박선하",
      "photoUrl": "",
      "userId": "10217738532917155060"
     },
     "user_tz": -540
    },
    "id": "RgHUdMI5_Ynw"
   },
   "outputs": [],
   "source": [
    "from selenium import webdriver\n",
    "from bs4 import BeautifulSoup as bs\n",
    "import time\n",
    "import pandas as pd\n",
    "from selenium.webdriver.common.keys import Keys\n",
    "from collections import deque"
   ]
  },
  {
   "cell_type": "code",
   "execution_count": 2,
   "metadata": {
    "colab": {
     "base_uri": "https://localhost:8080/"
    },
    "executionInfo": {
     "elapsed": 1595,
     "status": "ok",
     "timestamp": 1619504848555,
     "user": {
      "displayName": "박선하",
      "photoUrl": "",
      "userId": "10217738532917155060"
     },
     "user_tz": -540
    },
    "id": "-bvCGFi__Yn4",
    "outputId": "9de68840-318b-480b-f16d-e83e77a4208d"
   },
   "outputs": [
    {
     "name": "stderr",
     "output_type": "stream",
     "text": [
      "<ipython-input-2-475e698df5fe>:7: DeprecationWarning: use options instead of chrome_options\n",
      "  webdriver = webdriver.Chrome('chromedriver', chrome_options = chrome_options)\n"
     ]
    }
   ],
   "source": [
    "chrome_options = webdriver.ChromeOptions()\n",
    "chrome_options.add_argument(\"--start-maximized\")\n",
    "# chrome_options.add_argument('--headless') #내부 창을 띄울 수 없으므로 설정\n",
    "chrome_options.add_argument('--no-sandbox')\n",
    "chrome_options.add_argument('--disable-dev-shm-usage') #, chrome_options=chrome_options)\n",
    "\n",
    "webdriver = webdriver.Chrome('chromedriver', chrome_options = chrome_options)"
   ]
  },
  {
   "cell_type": "code",
   "execution_count": 3,
   "metadata": {
    "executionInfo": {
     "elapsed": 9194,
     "status": "ok",
     "timestamp": 1619505335210,
     "user": {
      "displayName": "박선하",
      "photoUrl": "",
      "userId": "10217738532917155060"
     },
     "user_tz": -540
    },
    "id": "e-awr2sf_Yn5",
    "scrolled": true
   },
   "outputs": [],
   "source": [
    "def crawling(category):\n",
    "    \n",
    "    url = 'https://www.wadiz.kr/web/wsub/openfunding/reward?utm_source=rwm_gdn&utm_medium=search&utm_campaign=PC_%EB%A9%94%EC%9D%B4%EC%BB%A4&utm_content=PC_00.%EC%99%80%EB%94%94%EC%A6%88&utm_term=WADIZ&gclid=Cj0KCQjwyZmEBhCpARIsALIzmnJ4L-U5ZdU8R_6y2WpcNpXM6WVwglke6OpUP-fekXUudZSBTXWrlRAaAg0xEALw_wcB'\n",
    "    webdriver.get(url)\n",
    "    \n",
    "    categories_sel = webdriver.find_elements_by_css_selector('#contents > section.reward-category > div > ul > div > div > li.category-slide.slick-slide.slick-current.slick-active > a')\n",
    "    page_source = webdriver.page_source\n",
    "    #카테고리명 가져오기\n",
    "    soup = bs(webdriver.page_source, 'html.parser')\n",
    "    cate = soup.findAll('span', class_ = 'desc-category')\n",
    "    categories = [cat.text for cat in cate]\n",
    "    \n",
    "    #\n",
    "    search = webdriver.find_element_by_css_selector(f'#contents > section.reward-category > div > ul > div > div > li:nth-child({categories.index(category)+1}) > a')\n",
    "    search.click()\n",
    "\n",
    "    #스크롤 다운\n",
    "    last_height = webdriver.execute_script(\"return document.body.scrollHeight\")\n",
    "    body = webdriver.find_element_by_tag_name(\"body\")\n",
    "    while True:\n",
    "        last_height = webdriver.execute_script(\"document.body.scrollHeight\")\n",
    "        scroll_down = 0\n",
    "        while scroll_down < 10:\n",
    "\n",
    "            body.send_keys(Keys.PAGE_DOWN)\n",
    "            time.sleep(0.3)\n",
    "            webdriver.execute_script(\"window.scrollTo(0, document.body.scrollHeight-50);\")\n",
    "\n",
    "            time.sleep(0.3)\n",
    "\n",
    "            scroll_down += 1\n",
    "\n",
    "        new_height = webdriver.execute_script(\"document.body.scrollHeight\")\n",
    "        if new_height == last_height:\n",
    "            break\n",
    "        last_height = new_height  \n",
    "    \n",
    "    \n",
    "    #titles, categories, company_names, percentages, funding_amounts, days_left\n",
    "    titles, categories, company_names, percentages, funding_amounts, days_left = [],[],[],[],[],[]\n",
    "    contents = webdriver.find_elements_by_class_name('ProjectCardList_item__1owJa')\n",
    "    for content in contents:\n",
    "        split = content.text.split('\\n')\n",
    "        if len(split) > 5:\n",
    "            cont = deque(split)\n",
    "            cont.popleft()\n",
    "            title, category, company_name, target, day_left = list(cont)\n",
    "        else:\n",
    "            title, category, company_name, target, day_left = content.text.split('\\n')\n",
    "\n",
    "        titles.append(title)\n",
    "        categories.append(category)\n",
    "        company_names.append(company_name)\n",
    "        percentages.append(target.split('%')[0])\n",
    "        funding_amounts.append(target.split('%')[1])\n",
    "        days_left.append(day_left)\n",
    "\n",
    "\n",
    "\n",
    "    n_supporters, likes = [],[]\n",
    "    durations, target_amounts = [],[]\n",
    "    descriptions = []\n",
    "    \n",
    "    #테그 가져오기\n",
    "    atag = webdriver.find_elements_by_css_selector(\"#main-app > div.MainWrapper_content__GZkTa > div > div.RewardProjectListApp_container__1ZYeD.RewardMainProjectList_listApp__2noRS > div.ProjectCardList_container__3Y14k > div.ProjectCardList_list__1YBa2 > div a\")\n",
    "    list_href = [a.get_attribute('href') for a in atag]\n",
    "\n",
    "    for href in list_href:\n",
    "        url = href\n",
    "        webdriver.get(url)\n",
    "        \n",
    "        page_source = webdriver.page_source\n",
    "        soup = bs(page_source, 'html.parser')\n",
    "\n",
    "        #n_supporters, likes\n",
    "        supporter = soup.find('p',class_ = 'total-supporter').text.split('명')[0]\n",
    "        n_supporters.append(supporter)\n",
    "        like = soup.find('em',class_='cnt-like').text\n",
    "        likes.append(like.strip())\n",
    "\n",
    "        #durations,target_amounts\n",
    "        info = soup.find('p',style='color:#00b2b2;font-size:13px;line-height:20px;margin-bottom:8px;').text.split('\\n')\n",
    "        duration = info[2].split(' ')[-1]\n",
    "        durations.append(duration)\n",
    "        target_amount = info[1].split(' ')[-1]\n",
    "        target_amounts.append(target_amount)\n",
    "\n",
    "        #descriptions\n",
    "        description = soup.select(\"#container > div.reward-body-wrap > div > div.wd-ui-info-wrap > div.wd-ui-sub-campaign-info-container > div > div > section > div.campaign-summary\")[0]\n",
    "        descriptions.append(description.text.strip())\n",
    "        \n",
    " \n",
    "  \n",
    "    #데이터 프레임 생성\n",
    "    data = {\n",
    "    'title':titles,\n",
    "    'categories':categories,\n",
    "    \"company_names\":company_names,\n",
    "    'percentages':percentages, \n",
    "    'funding_amounts' :funding_amounts, \n",
    "    'days_left' :days_left\n",
    "    }    \n",
    "    df = pd.DataFrame(data)\n",
    "    df['percentages'] = percentages\n",
    "    df['funding_amounts'] = funding_amounts\n",
    "    df['n_supporters'] = n_supporters\n",
    "    df['likes'] = likes\n",
    "    df['descriptions'] = descriptions\n",
    "    df['durations'] = durations\n",
    "    df['target_amounts'] = target_amounts\n",
    "\n",
    "        \n",
    "    return df.to_csv(category+'_df')\n"
   ]
  },
  {
   "cell_type": "code",
   "execution_count": null,
   "metadata": {},
   "outputs": [],
   "source": [
    "crawling('반려동물')"
   ]
  },
  {
   "cell_type": "code",
   "execution_count": null,
   "metadata": {},
   "outputs": [],
   "source": [
    "#선하님 코드 확인\n",
    "url = 'https://www.wadiz.kr/web/wreward/category/292?keyword=&endYn=ALL&order=recommend'\n",
    "webdriver.get(url)\n",
    "\n",
    "#스크롤 다운\n",
    "last_height = webdriver.execute_script(\"return document.body.scrollHeight\")\n",
    "body = webdriver.find_element_by_tag_name(\"body\")\n",
    "while True:\n",
    "    last_height = webdriver.execute_script(\"document.body.scrollHeight\")\n",
    "    scroll_down = 0\n",
    "    while scroll_down < 10:\n",
    "\n",
    "        body.send_keys(Keys.PAGE_DOWN)\n",
    "        time.sleep(0.3)\n",
    "        webdriver.execute_script(\"window.scrollTo(0, document.body.scrollHeight-50);\")\n",
    "\n",
    "        time.sleep(0.3)\n",
    "\n",
    "        scroll_down += 1\n",
    "\n",
    "    new_height = webdriver.execute_script(\"document.body.scrollHeight\")\n",
    "    if new_height == last_height:\n",
    "        break\n",
    "    last_height = new_height  \n",
    "\n",
    "n_supporters, likes = [],[]\n",
    "durations, target_amounts = [],[]\n",
    "descriptions = []\n",
    "\n",
    "atag = webdriver.find_elements_by_css_selector(\"#main-app > div.MainWrapper_content__GZkTa > div > div.RewardProjectListApp_container__1ZYeD.RewardMainProjectList_listApp__2noRS > div.ProjectCardList_container__3Y14k > div.ProjectCardList_list__1YBa2 > div a\")\n",
    "list_href = [a.get_attribute('href') for a in atag]\n",
    "\n",
    "for href in list_href:\n",
    "    url = href\n",
    "    webdriver.get(url)\n",
    "\n",
    "    page_source = webdriver.page_source\n",
    "    soup = bs(page_source, 'html.parser')\n",
    "\n",
    "    #n_supporters, likes\n",
    "    supporter = soup.find('p',class_ = 'total-supporter').text.split('명')[0]\n",
    "    n_supporters.append(supporter)\n",
    "    like = soup.find('em',class_='cnt-like').text\n",
    "    likes.append(like.strip())"
   ]
  },
  {
   "cell_type": "code",
   "execution_count": null,
   "metadata": {
    "id": "QC_EOXKN_Yn6",
    "outputId": "5395ff5e-587b-44a0-a5eb-729b161aeb7c"
   },
   "outputs": [],
   "source": [
    "def timeseries_data(category):\n",
    "        \n",
    "    categories_sel = webdriver.find_elements_by_css_selector('#contents > section.reward-category > div')\n",
    "    page_source = webdriver.page_source\n",
    "    soup = bs(webdriver.page_source, 'html.parser')\n",
    "    cate = soup.findAll('span', class_ = 'desc-category')\n",
    "    categories = [cat.text for cat in cate]\n",
    "    \n",
    "    url = 'https://www.wadiz.kr/web/wsub/openfunding/reward?utm_source=rwm_gdn&utm_medium=search&utm_campaign=PC_%EB%A9%94%EC%9D%B4%EC%BB%A4&utm_content=PC_00.%EC%99%80%EB%94%94%EC%A6%88&utm_term=WADIZ&gclid=Cj0KCQjwyZmEBhCpARIsALIzmnJ4L-U5ZdU8R_6y2WpcNpXM6WVwglke6OpUP-fekXUudZSBTXWrlRAaAg0xEALw_wcB'\n",
    "    webdriver.get(url)\n",
    "    search = webdriver.find_element_by_css_selector(f'#contents > section.reward-category > div > ul > div > div > li:nth-child('{categories.index(category)}') > a')\n",
    "    search.click()\n",
    "\n",
    "    #스크롤 다운\n",
    "    last_height = webdriver.execute_script(\"return document.body.scrollHeight\")\n",
    "    body = webdriver.find_element_by_tag_name(\"body\")\n",
    "    while True:\n",
    "        last_height = webdriver.execute_script(\"document.body.scrollHeight\")\n",
    "        scroll_down = 0\n",
    "        while scroll_down < 10:\n",
    "\n",
    "            body.send_keys(Keys.PAGE_DOWN)\n",
    "            time.sleep(0.3)\n",
    "            webdriver.execute_script(\"window.scrollTo(0, document.body.scrollHeight-50);\")\n",
    "\n",
    "            time.sleep(0.3)\n",
    "\n",
    "            scroll_down += 1\n",
    "\n",
    "        new_height = webdriver.execute_script(\"document.body.scrollHeight\")\n",
    "        if new_height == last_height:\n",
    "            break\n",
    "        last_height = new_height  \n",
    "    \n",
    "    \n",
    "    #하나씩 클릭해서 들어가야함 \n",
    "    page_source = webdriver.page_source\n",
    "    soup = bs(page_source, 'html.parser')\n",
    "    contents = soup.findAll('div',class_='ProjectCardList_item__1owJa')\n",
    "    \n",
    "    for i in range(1,len(titles)+1): #len(contents)\n",
    "        btn = webdriver.find_element_by_css_selector(f'div.ProjectCardList_container__3Y14k > div > div:nth-child({i}) > div > div > a > div > span')\n",
    "        time.sleep(0.5)\n",
    "        btn.click()\n",
    "        \n",
    "        #시계열 데이터\n",
    "        support_page = webdriver.find_element_by_css_selector('#container > div.reward-nav > ul > li:nth-child(6)')\n",
    "        time.sleep(1)\n",
    "        support_page.click()\n",
    "\n",
    "        button = webdriver.find_element_by_css_selector('#reward-static-supports-list-app > div > div > div > div.ListMoreButton_container__1rOIU > button')\n",
    "        while button:\n",
    "            try:\n",
    "                button.click()\n",
    "                time.sleep(2)\n",
    "            except:\n",
    "                break\n",
    "\n",
    "        supports = []\n",
    "        page_source = webdriver.page_source\n",
    "        soup = bs(page_source, 'html.parser')\n",
    "        supports_info = soup.findAll('div', class_ = 'RewardSupporterItem_container__1UTDZ')\n",
    "\n",
    "        for i in supports_info:\n",
    "            supports.append(i.text.split('\\xa0'))\n",
    "        #     데이터 전처리 필요함\n",
    "\n",
    "        webdriver.back()\n",
    "        time.sleep(0.5)\n",
    "        webdriver.back()\n",
    "\n",
    "    \n",
    "    data = supports\n",
    "    df = pd.DataFrame(data)\n",
    "    \n",
    "    return df.to_csv(category+'_tiemseires_df')\n",
    "\n",
    "    \n"
   ]
  },
  {
   "cell_type": "code",
   "execution_count": null,
   "metadata": {},
   "outputs": [],
   "source": [
    "url = 'https://www.wadiz.kr/web/wsub/openfunding/reward?utm_source=rwm_gdn&utm_medium=search&utm_campaign=PC_%EB%A9%94%EC%9D%B4%EC%BB%A4&utm_content=PC_00.%EC%99%80%EB%94%94%EC%A6%88&utm_term=WADIZ&gclid=Cj0KCQjwyZmEBhCpARIsALIzmnJ4L-U5ZdU8R_6y2WpcNpXM6WVwglke6OpUP-fekXUudZSBTXWrlRAaAg0xEALw_wcB'\n",
    "webdriver.get(url)\n",
    "categories_sel = webdriver.find_elements_by_css_selector('#contents > section.reward-category > div > ul > div > div > li.category-slide.slick-slide.slick-current.slick-active > a')"
   ]
  },
  {
   "cell_type": "code",
   "execution_count": null,
   "metadata": {},
   "outputs": [],
   "source": [
    "url = 'https://www.wadiz.kr/web/wsub/openfunding/reward?utm_source=rwm_gdn&utm_medium=search&utm_campaign=PC_%EB%A9%94%EC%9D%B4%EC%BB%A4&utm_content=PC_00.%EC%99%80%EB%94%94%EC%A6%88&utm_term=WADIZ&gclid=Cj0KCQjwyZmEBhCpARIsALIzmnJ4L-U5ZdU8R_6y2WpcNpXM6WVwglke6OpUP-fekXUudZSBTXWrlRAaAg0xEALw_wcB'\n",
    "webdriver.get(url)\n",
    "\n",
    "categories_sel = webdriver.find_elements_by_css_selector('#contents > section.reward-category > div > ul > div > div > li.category-slide.slick-slide.slick-current.slick-active > a')\n",
    "page_source = webdriver.page_source\n",
    "# soup = bs(webdriver.page_source, 'html.parser')\n",
    "# cate = soup.findAll('span', class_ = 'desc-category')\n",
    "# categories = [cat.text for cat in cate]"
   ]
  },
  {
   "cell_type": "code",
   "execution_count": null,
   "metadata": {},
   "outputs": [],
   "source": [
    "categories_sel = webdriver.find_elements_by_css_selector('#contents > section.reward-category > div > ul > div > div > li.category-slide.slick-slide.slick-current.slick-active > a')\n",
    "# page_source = webdriver.page_source\n",
    "categories_sel"
   ]
  },
  {
   "cell_type": "code",
   "execution_count": null,
   "metadata": {},
   "outputs": [],
   "source": [
    "#카테고리 이름 가져오기\n",
    "soup = bs(webdriver.page_source, 'html.parser')\n",
    "cate = soup.findAll('span', class_ = 'desc-category')\n",
    "categories = [cat.text for cat in cate]\n",
    "categories"
   ]
  },
  {
   "cell_type": "code",
   "execution_count": null,
   "metadata": {},
   "outputs": [],
   "source": [
    "categories.index('푸드')"
   ]
  },
  {
   "cell_type": "code",
   "execution_count": null,
   "metadata": {},
   "outputs": [],
   "source": [
    "search = webdriver.find_element_by_css_selector(f'#contents > section.reward-category > div > ul > div > div > li:nth-child({categories.index(category)+1}) > a')\n",
    "search.click()"
   ]
  }
 ],
 "metadata": {
  "colab": {
   "collapsed_sections": [],
   "name": "crawling_final.ipynb",
   "provenance": []
  },
  "kernelspec": {
   "display_name": "Python 3",
   "language": "python",
   "name": "python3"
  },
  "language_info": {
   "codemirror_mode": {
    "name": "ipython",
    "version": 3
   },
   "file_extension": ".py",
   "mimetype": "text/x-python",
   "name": "python",
   "nbconvert_exporter": "python",
   "pygments_lexer": "ipython3",
   "version": "3.8.3"
  }
 },
 "nbformat": 4,
 "nbformat_minor": 1
}
