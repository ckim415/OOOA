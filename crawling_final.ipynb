{
 "cells": [
  {
   "cell_type": "code",
   "execution_count": null,
   "metadata": {
    "colab": {
     "base_uri": "https://localhost:8080/"
    },
    "executionInfo": {
     "elapsed": 10900,
     "status": "ok",
     "timestamp": 1619504689275,
     "user": {
      "displayName": "박선하",
      "photoUrl": "",
      "userId": "10217738532917155060"
     },
     "user_tz": -540
    },
    "id": "17_Df_6c_qCX",
    "outputId": "15468e01-7356-4be4-a29d-788b56c07d3e"
   },
   "outputs": [],
   "source": [
    "!pip install Selenium\n",
    "!apt-get update # to update ubuntu to correctly run apt install\n",
    "!apt install chromium-chromedriver\n",
    "!apt-get install -y fonts-nanum*"
   ]
  },
  {
   "cell_type": "code",
   "execution_count": 45,
   "metadata": {
    "executionInfo": {
     "elapsed": 558,
     "status": "ok",
     "timestamp": 1619504844540,
     "user": {
      "displayName": "박선하",
      "photoUrl": "",
      "userId": "10217738532917155060"
     },
     "user_tz": -540
    },
    "id": "RgHUdMI5_Ynw"
   },
   "outputs": [],
   "source": [
    "from selenium import webdriver\n",
    "from bs4 import BeautifulSoup as bs\n",
    "import time\n",
    "import pandas as pd\n",
    "from selenium.webdriver.common.keys import Keys\n",
    "from collections import deque\n",
    "import requests\n",
    "import random"
   ]
  },
  {
   "cell_type": "code",
   "execution_count": 46,
   "metadata": {
    "colab": {
     "base_uri": "https://localhost:8080/"
    },
    "executionInfo": {
     "elapsed": 1595,
     "status": "ok",
     "timestamp": 1619504848555,
     "user": {
      "displayName": "박선하",
      "photoUrl": "",
      "userId": "10217738532917155060"
     },
     "user_tz": -540
    },
    "id": "-bvCGFi__Yn4",
    "outputId": "9de68840-318b-480b-f16d-e83e77a4208d"
   },
   "outputs": [
    {
     "name": "stderr",
     "output_type": "stream",
     "text": [
      "<ipython-input-46-475e698df5fe>:7: DeprecationWarning: use options instead of chrome_options\n",
      "  webdriver = webdriver.Chrome('chromedriver', chrome_options = chrome_options)\n"
     ]
    }
   ],
   "source": [
    "chrome_options = webdriver.ChromeOptions()\n",
    "chrome_options.add_argument(\"--start-maximized\")\n",
    "# chrome_options.add_argument('--headless') #내부 창을 띄울 수 없으므로 설정\n",
    "chrome_options.add_argument('--no-sandbox')\n",
    "chrome_options.add_argument('--disable-dev-shm-usage') #, chrome_options=chrome_options)\n",
    "\n",
    "webdriver = webdriver.Chrome('chromedriver', chrome_options = chrome_options)"
   ]
  },
  {
   "cell_type": "code",
   "execution_count": null,
   "metadata": {},
   "outputs": [],
   "source": []
  },
  {
   "cell_type": "code",
   "execution_count": null,
   "metadata": {},
   "outputs": [],
   "source": [
    "#카테고리 별로 url 가져와서 돌리기"
   ]
  },
  {
   "cell_type": "code",
   "execution_count": 3,
   "metadata": {},
   "outputs": [],
   "source": [
    "url = #categroy url\n",
    "webdriver.get(url)"
   ]
  },
  {
   "cell_type": "code",
   "execution_count": null,
   "metadata": {},
   "outputs": [],
   "source": []
  },
  {
   "cell_type": "code",
   "execution_count": 24,
   "metadata": {},
   "outputs": [
    {
     "name": "stdout",
     "output_type": "stream",
     "text": [
      "버튼 안됨/타임오류\n"
     ]
    }
   ],
   "source": [
    "last_height = webdriver.execute_script(\"return document.body.scrollHeight\")\n",
    "body = webdriver.find_element_by_tag_name(\"body\")\n",
    "while True:\n",
    "    btn = webdriver.find_element_by_css_selector('#main-app > div.MainWrapper_content__GZkTa > div > div.RewardProjectListApp_container__1ZYeD.RewardMainProjectList_listApp__2noRS > div.ProjectCardList_container__3Y14k > div:nth-child(2) > div > button')\n",
    "    if btn:\n",
    "        try:\n",
    "            \n",
    "            for i in r\n",
    "            body.send_keys(Keys.PAGE_DOWN)\n",
    "            time.sleep(0.7)\n",
    "            webdriver.execute_script(\"window.scrollTo(0, document.body.scrollHeight-50);\")\n",
    "\n",
    "\n",
    "            time.sleep(0.8)\n",
    "\n",
    "        except:\n",
    "            print('버튼 안됨/타임오류')\n",
    "            break\n",
    "        \n",
    "    else:\n",
    "        print('버튼 없음')\n",
    "        break\n",
    "        "
   ]
  },
  {
   "cell_type": "code",
   "execution_count": null,
   "metadata": {},
   "outputs": [],
   "source": [
    "#하다가 안되면 멈추면 그냥 interrupt하세요"
   ]
  },
  {
   "cell_type": "code",
   "execution_count": null,
   "metadata": {},
   "outputs": [],
   "source": [
    "#atag 가져오기"
   ]
  },
  {
   "cell_type": "code",
   "execution_count": null,
   "metadata": {},
   "outputs": [],
   "source": [
    "try:\n",
    "    atag = webdriver.find_elements_by_css_selector(\"#main-app > div.MainWrapper_content__GZkTa > div > div.RewardProjectListApp_container__1ZYeD.RewardMainProjectList_listApp__2noRS > div.ProjectCardList_container__3Y14k > div.ProjectCardList_list__1YBa2 > div a\")\n",
    "    #list_href = [a.get_attribute('href') for a in atag]\n",
    "except:\n",
    "    print('태그 업서요')"
   ]
  },
  {
   "cell_type": "code",
   "execution_count": null,
   "metadata": {},
   "outputs": [],
   "source": [
    "list_href = [a.get_attribute('href') for a in atag]"
   ]
  },
  {
   "cell_type": "code",
   "execution_count": null,
   "metadata": {},
   "outputs": [],
   "source": [
    "data = {'link' : list_href}\n",
    "link_df = pd.DataFrame(data)\n",
    "link_df.drop_duplicates(inplace_true)"
   ]
  },
  {
   "cell_type": "code",
   "execution_count": null,
   "metadata": {},
   "outputs": [],
   "source": []
  },
  {
   "cell_type": "code",
   "execution_count": null,
   "metadata": {},
   "outputs": [],
   "source": [
    "#특성가져오기"
   ]
  },
  {
   "cell_type": "code",
   "execution_count": 86,
   "metadata": {},
   "outputs": [
    {
     "ename": "AttributeError",
     "evalue": "'NoneType' object has no attribute 'text'",
     "output_type": "error",
     "traceback": [
      "\u001b[1;31m---------------------------------------------------------------------------\u001b[0m",
      "\u001b[1;31mAttributeError\u001b[0m                            Traceback (most recent call last)",
      "\u001b[1;32m<ipython-input-86-c80de1f9a5fa>\u001b[0m in \u001b[0;36m<module>\u001b[1;34m\u001b[0m\n\u001b[0;32m     12\u001b[0m \u001b[1;33m\u001b[0m\u001b[0m\n\u001b[0;32m     13\u001b[0m     \u001b[1;31m#titles, categories\u001b[0m\u001b[1;33m\u001b[0m\u001b[1;33m\u001b[0m\u001b[1;33m\u001b[0m\u001b[0m\n\u001b[1;32m---> 14\u001b[1;33m     \u001b[0mcategory\u001b[0m \u001b[1;33m=\u001b[0m \u001b[0msoup\u001b[0m\u001b[1;33m.\u001b[0m\u001b[0mfind\u001b[0m\u001b[1;33m(\u001b[0m\u001b[1;34m'p'\u001b[0m\u001b[1;33m,\u001b[0m\u001b[0mclass_\u001b[0m \u001b[1;33m=\u001b[0m \u001b[1;34m'title-info'\u001b[0m\u001b[1;33m)\u001b[0m\u001b[1;33m.\u001b[0m\u001b[0mtext\u001b[0m\u001b[1;33m\u001b[0m\u001b[1;33m\u001b[0m\u001b[0m\n\u001b[0m\u001b[0;32m     15\u001b[0m     \u001b[0mcategories\u001b[0m\u001b[1;33m.\u001b[0m\u001b[0mappend\u001b[0m\u001b[1;33m(\u001b[0m\u001b[0mcategory\u001b[0m\u001b[1;33m)\u001b[0m\u001b[1;33m\u001b[0m\u001b[1;33m\u001b[0m\u001b[0m\n\u001b[0;32m     16\u001b[0m     \u001b[0mtitle\u001b[0m \u001b[1;33m=\u001b[0m \u001b[0msoup\u001b[0m\u001b[1;33m.\u001b[0m\u001b[0mfind\u001b[0m\u001b[1;33m(\u001b[0m\u001b[1;34m'h2'\u001b[0m\u001b[1;33m,\u001b[0m\u001b[0mclass_\u001b[0m \u001b[1;33m=\u001b[0m \u001b[1;34m'title'\u001b[0m\u001b[1;33m)\u001b[0m\u001b[1;33m.\u001b[0m\u001b[0mtext\u001b[0m\u001b[1;33m\u001b[0m\u001b[1;33m\u001b[0m\u001b[0m\n",
      "\u001b[1;31mAttributeError\u001b[0m: 'NoneType' object has no attribute 'text'"
     ]
    }
   ],
   "source": [
    "titles, categories, company_names, percentages, funding_amounts, days_left = [],[],[],[],[],[]\n",
    "n_supporters, likes = [],[]\n",
    "durations, target_amounts = [],[]\n",
    "descriptions = []\n",
    "\n",
    "for href in link_df.values:\n",
    "    url = href[0]\n",
    "    webdriver.get(url)\n",
    "    time.sleep(0.4 * random.randint(2,4))\n",
    "    page_source = webdriver.page_source\n",
    "    soup = bs(page_source, 'html.parser')\n",
    "    \n",
    "    #titles, categories\n",
    "    category = soup.find('p',class_ = 'title-info').text\n",
    "    categories.append(category)\n",
    "    title = soup.find('h2',class_ = 'title').text\n",
    "    titles.append(title)\n",
    "    \n",
    "    #company_names\n",
    "    company_name = soup.find('div', class_ = 'RewardMakerInfoBox_makerName__3TOmT').text\n",
    "    company_names.append(company_name)\n",
    "    \n",
    "    #percentages\n",
    "    percentage = soup.find('p', class_ = 'achievement-rate').text.split(' ')[0]\n",
    "    percentages.append(percentage)\n",
    "    \n",
    "    #funding_amounts\n",
    "    funding = soup.find('p', class_ = 'total-amount').text.split(' ')[0]\n",
    "    funding_amounts.append(funding)\n",
    "    \n",
    "    #days_left\n",
    "    day = soup.find('p', class_ = 'remaining-day').text\n",
    "    days_left.append(day)\n",
    "    \n",
    "    #n_supporters, likes\n",
    "    supporter = soup.find('p',class_ = 'total-supporter').text.split('명')[0]\n",
    "    n_supporters.append(supporter)\n",
    "    like = soup.find('em',class_='cnt-like').text\n",
    "    likes.append(like.strip())\n",
    "\n",
    "    #durations,target_amounts\n",
    "    info = soup.find('p',style='color:#00b2b2;font-size:13px;line-height:20px;margin-bottom:8px;').text.split('\\n')\n",
    "    duration = info[2].split(' ')[-1]\n",
    "    durations.append(duration)\n",
    "    target_amount = info[1].split(' ')[-1]\n",
    "    target_amounts.append(target_amount)\n",
    "\n",
    "    #descriptions\n",
    "    description = soup.select(\"#container > div.reward-body-wrap > div > div.wd-ui-info-wrap > div.wd-ui-sub-campaign-info-container > div > div > section > div.campaign-summary\")[0]\n",
    "    descriptions.append(description.text.strip())\n",
    "    "
   ]
  },
  {
   "cell_type": "code",
   "execution_count": null,
   "metadata": {},
   "outputs": [],
   "source": [
    "#데이터 프레임 만들기"
   ]
  },
  {
   "cell_type": "code",
   "execution_count": 89,
   "metadata": {},
   "outputs": [],
   "source": [
    "data = {\n",
    "    'categories':categories,\n",
    "    'title':titles,\n",
    "    \"company_names\":company_names,\n",
    "    'percentages':percentages, \n",
    "    'funding_amounts' :funding_amounts, \n",
    "    'days_left' :days_left\n",
    "} \n",
    "\n",
    "df = pd.DataFrame(data)\n",
    "df['n_supporters'] = n_supporters\n",
    "df['likes'] = likes\n",
    "df['descriptions'] = descriptions\n",
    "df['durations'] = durations\n",
    "df['target_amounts'] = target_amounts\n"
   ]
  },
  {
   "cell_type": "code",
   "execution_count": 91,
   "metadata": {},
   "outputs": [],
   "source": [
    "df.to_csv('#카테고리 이름으로 바꿔주세요')"
   ]
  },
  {
   "cell_type": "code",
   "execution_count": null,
   "metadata": {},
   "outputs": [],
   "source": []
  },
  {
   "cell_type": "code",
   "execution_count": null,
   "metadata": {},
   "outputs": [],
   "source": []
  },
  {
   "cell_type": "code",
   "execution_count": null,
   "metadata": {},
   "outputs": [],
   "source": []
  },
  {
   "cell_type": "code",
   "execution_count": null,
   "metadata": {},
   "outputs": [],
   "source": []
  },
  {
   "cell_type": "code",
   "execution_count": null,
   "metadata": {},
   "outputs": [],
   "source": []
  },
  {
   "cell_type": "code",
   "execution_count": 84,
   "metadata": {},
   "outputs": [],
   "source": [
    "df.drop_duplicates(subset = 'link', inplace=True)"
   ]
  },
  {
   "cell_type": "code",
   "execution_count": null,
   "metadata": {},
   "outputs": [],
   "source": [
    "#이거는 무시해 주세요"
   ]
  },
  {
   "cell_type": "code",
   "execution_count": 77,
   "metadata": {},
   "outputs": [
    {
     "name": "stdout",
     "output_type": "stream",
     "text": [
      "https://www.wadiz.kr/web/wcomingsoon/rwd/92175?acid=10007716&_refer_section_st=REWARD_0\n",
      "https://www.wadiz.kr/web/wcomingsoon/rwd/92175?acid=10007716&_refer_section_st=REWARD_0\n"
     ]
    }
   ],
   "source": [
    "for i in df.values[:2]:\n",
    "    print(i[0])"
   ]
  },
  {
   "cell_type": "code",
   "execution_count": null,
   "metadata": {
    "executionInfo": {
     "elapsed": 9194,
     "status": "ok",
     "timestamp": 1619505335210,
     "user": {
      "displayName": "박선하",
      "photoUrl": "",
      "userId": "10217738532917155060"
     },
     "user_tz": -540
    },
    "id": "e-awr2sf_Yn5",
    "scrolled": true
   },
   "outputs": [],
   "source": [
    "def crawling(category):\n",
    "    \n",
    "    url = 'https://www.wadiz.kr/web/wsub/openfunding/reward?utm_source=rwm_gdn&utm_medium=search&utm_campaign=PC_%EB%A9%94%EC%9D%B4%EC%BB%A4&utm_content=PC_00.%EC%99%80%EB%94%94%EC%A6%88&utm_term=WADIZ&gclid=Cj0KCQjwyZmEBhCpARIsALIzmnJ4L-U5ZdU8R_6y2WpcNpXM6WVwglke6OpUP-fekXUudZSBTXWrlRAaAg0xEALw_wcB'\n",
    "    webdriver.get(url)\n",
    "    \n",
    "    categories_sel = webdriver.find_elements_by_css_selector('#contents > section.reward-category > div > ul > div > div > li.category-slide.slick-slide.slick-current.slick-active > a')\n",
    "    page_source = webdriver.page_source\n",
    "    #카테고리명 가져오기\n",
    "    soup = bs(webdriver.page_source, 'html.parser')\n",
    "    cate = soup.findAll('span', class_ = 'desc-category')\n",
    "    categories = [cat.text for cat in cate]\n",
    "    \n",
    "    #\n",
    "    search = webdriver.find_element_by_css_selector(f'#contents > section.reward-category > div > ul > div > div > li:nth-child({categories.index(category)+1}) > a')\n",
    "    search.click()\n",
    "\n",
    "    #스크롤 다운\n",
    "    last_height = webdriver.execute_script(\"return document.body.scrollHeight\")\n",
    "    body = webdriver.find_element_by_tag_name(\"body\")\n",
    "    while True:\n",
    "        last_height = webdriver.execute_script(\"document.body.scrollHeight\")\n",
    "        scroll_down = 0\n",
    "        while scroll_down < 10:\n",
    "\n",
    "            body.send_keys(Keys.PAGE_DOWN)\n",
    "            time.sleep(0.3)\n",
    "            webdriver.execute_script(\"window.scrollTo(0, document.body.scrollHeight-50);\")\n",
    "\n",
    "            time.sleep(0.3)\n",
    "\n",
    "            scroll_down += 1\n",
    "\n",
    "        new_height = webdriver.execute_script(\"document.body.scrollHeight\")\n",
    "        if new_height == last_height:\n",
    "            break\n",
    "        last_height = new_height  \n",
    "    \n",
    "    \n",
    "    #titles, categories, company_names, percentages, funding_amounts, days_left\n",
    "    titles, categories, company_names, percentages, funding_amounts, days_left = [],[],[],[],[],[]\n",
    "    contents = webdriver.find_elements_by_class_name('ProjectCardList_item__1owJa')\n",
    "    for content in contents:\n",
    "        split = content.text.split('\\n')\n",
    "        if len(split) > 5:\n",
    "            cont = deque(split)\n",
    "            cont.popleft()\n",
    "            title, category, company_name, target, day_left = list(cont)\n",
    "        else:\n",
    "            title, category, company_name, target, day_left = content.text.split('\\n')\n",
    "\n",
    "        titles.append(title)\n",
    "        categories.append(category)\n",
    "        company_names.append(company_name)\n",
    "        percentages.append(target.split('%')[0])\n",
    "        funding_amounts.append(target.split('%')[1])\n",
    "        days_left.append(day_left)\n",
    "\n",
    "    data = {\n",
    "    'title':titles,\n",
    "    'categories':categories,\n",
    "    \"company_names\":company_names,\n",
    "    'percentages':percentages, \n",
    "    'funding_amounts' :funding_amounts, \n",
    "    'days_left' :days_left\n",
    "    } \n",
    "\n",
    "    \n",
    "    \n",
    "    n_supporters, likes = [],[]\n",
    "    durations, target_amounts = [],[]\n",
    "    descriptions = []\n",
    "    \n",
    "    #테그 가져오기\n",
    "    atag = webdriver.find_elements_by_css_selector(\"#main-app > div.MainWrapper_content__GZkTa > div > div.RewardProjectListApp_container__1ZYeD.RewardMainProjectList_listApp__2noRS > div.ProjectCardList_container__3Y14k > div.ProjectCardList_list__1YBa2 > div a\")\n",
    "    list_href = [a.get_attribute('href') for a in atag]\n",
    "    \n",
    "#     return dataframe, list_href\n",
    "\n",
    "    for href in list_href:\n",
    "        url = href\n",
    "        webdriver.get(url)\n",
    "        time.sleep(0.5)\n",
    "        page_source = webdriver.page_source\n",
    "        soup = bs(page_source, 'html.parser')\n",
    "\n",
    "        #n_supporters, likes\n",
    "        supporter = soup.find('p',class_ = 'total-supporter').text.split('명')[0]\n",
    "        n_supporters.append(supporter)\n",
    "        like = soup.find('em',class_='cnt-like').text\n",
    "        likes.append(like.strip())\n",
    "\n",
    "        #durations,target_amounts\n",
    "        info = soup.find('p',style='color:#00b2b2;font-size:13px;line-height:20px;margin-bottom:8px;').text.split('\\n')\n",
    "        duration = info[2].split(' ')[-1]\n",
    "        durations.append(duration)\n",
    "        target_amount = info[1].split(' ')[-1]\n",
    "        target_amounts.append(target_amount)\n",
    "\n",
    "        #descriptions\n",
    "        description = soup.select(\"#container > div.reward-body-wrap > div > div.wd-ui-info-wrap > div.wd-ui-sub-campaign-info-container > div > div > section > div.campaign-summary\")[0]\n",
    "        descriptions.append(description.text.strip())\n",
    "        \n",
    " \n",
    "  \n",
    "    #데이터 프레임 생성\n",
    " \n",
    "    df = pd.DataFrame(data)\n",
    "    df['percentages'] = percentages\n",
    "    df['funding_amounts'] = funding_amounts\n",
    "    df['n_supporters'] = n_supporters\n",
    "    df['likes'] = likes\n",
    "    df['descriptions'] = descriptions\n",
    "    df['durations'] = durations\n",
    "    df['target_amounts'] = target_amounts\n",
    "\n",
    "        \n",
    "    return df.to_csv(category+'_df')\n"
   ]
  },
  {
   "cell_type": "code",
   "execution_count": null,
   "metadata": {
    "id": "QC_EOXKN_Yn6",
    "outputId": "5395ff5e-587b-44a0-a5eb-729b161aeb7c"
   },
   "outputs": [],
   "source": [
    "def timeseries_data(category):\n",
    "        \n",
    "    #하나씩 클릭해서 들어가야함 \n",
    "    page_source = webdriver.page_source\n",
    "    soup = bs(page_source, 'html.parser')\n",
    "    contents = soup.findAll('div',class_='ProjectCardList_item__1owJa')\n",
    "    \n",
    "    for i in range(1,len(titles)+1): #len(contents)\n",
    "        btn = webdriver.find_element_by_css_selector(f'div.ProjectCardList_container__3Y14k > div > div:nth-child({i}) > div > div > a > div > span')\n",
    "        time.sleep(0.5)\n",
    "        btn.click()\n",
    "        \n",
    "        #시계열 데이터\n",
    "        support_page = webdriver.find_element_by_css_selector('#container > div.reward-nav > ul > li:nth-child(6)')\n",
    "        time.sleep(1)\n",
    "        support_page.click()\n",
    "\n",
    "        button = webdriver.find_element_by_css_selector('#reward-static-supports-list-app > div > div > div > div.ListMoreButton_container__1rOIU > button')\n",
    "        while button:\n",
    "            try:\n",
    "                button.click()\n",
    "                time.sleep(2)\n",
    "            except:\n",
    "                break\n",
    "\n",
    "        supports = []\n",
    "        page_source = webdriver.page_source\n",
    "        soup = bs(page_source, 'html.parser')\n",
    "        supports_info = soup.findAll('div', class_ = 'RewardSupporterItem_container__1UTDZ')\n",
    "\n",
    "        for i in supports_info:\n",
    "            supports.append(i.text.split('\\xa0'))\n",
    "        #     데이터 전처리 필요함\n",
    "\n",
    "        webdriver.back()\n",
    "        time.sleep(0.5)\n",
    "        webdriver.back()\n",
    "\n",
    "    \n",
    "    data = supports\n",
    "    df = pd.DataFrame(data)\n",
    "    \n",
    "    return df.to_csv(category+'_tiemseires_df')\n",
    "\n",
    "    \n"
   ]
  }
 ],
 "metadata": {
  "colab": {
   "collapsed_sections": [],
   "name": "crawling_final.ipynb",
   "provenance": []
  },
  "kernelspec": {
   "display_name": "Python 3",
   "language": "python",
   "name": "python3"
  },
  "language_info": {
   "codemirror_mode": {
    "name": "ipython",
    "version": 3
   },
   "file_extension": ".py",
   "mimetype": "text/x-python",
   "name": "python",
   "nbconvert_exporter": "python",
   "pygments_lexer": "ipython3",
   "version": "3.8.3"
  }
 },
 "nbformat": 4,
 "nbformat_minor": 1
}
