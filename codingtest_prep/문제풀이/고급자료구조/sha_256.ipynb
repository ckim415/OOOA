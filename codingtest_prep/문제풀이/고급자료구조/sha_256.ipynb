{
  "nbformat": 4,
  "nbformat_minor": 0,
  "metadata": {
    "colab": {
      "name": "sha-256.ipynb",
      "provenance": [],
      "authorship_tag": "ABX9TyP3DjRe3NGYc331U1tvowRh",
      "include_colab_link": true
    },
    "kernelspec": {
      "name": "python3",
      "display_name": "Python 3"
    },
    "language_info": {
      "name": "python"
    }
  },
  "cells": [
    {
      "cell_type": "markdown",
      "metadata": {
        "id": "view-in-github",
        "colab_type": "text"
      },
      "source": [
        "<a href=\"https://colab.research.google.com/github/ckim415/OOOA/blob/%EB%B6%84%EA%B8%B0%EC%A0%90-(-%EA%B8%B0%EC%A1%B4-%EC%BD%94%EB%93%9C%EC%97%90%EC%84%9C-%EC%83%88%EB%A1%9C-%EC%8B%9C%EC%9E%91)/codingtest_prep/%EB%AC%B8%EC%A0%9C%ED%92%80%EC%9D%B4/%EA%B3%A0%EA%B8%89%EC%9E%90%EB%A3%8C%EA%B5%AC%EC%A1%B0/sha_256.ipynb\" target=\"_parent\"><img src=\"https://colab.research.google.com/assets/colab-badge.svg\" alt=\"Open In Colab\"/></a>"
      ]
    },
    {
      "cell_type": "code",
      "metadata": {
        "id": "JeqAOikvDc3X"
      },
      "source": [
        "import hashlib"
      ],
      "execution_count": 1,
      "outputs": []
    },
    {
      "cell_type": "code",
      "metadata": {
        "colab": {
          "base_uri": "https://localhost:8080/"
        },
        "id": "yF5ieUcaDgv6",
        "outputId": "a4fee192-a9d7-4194-b5a8-3d566e9a3cdb"
      },
      "source": [
        "data = input()\n",
        "encode = data.encode()\n",
        "result = hashlib.sha256(encode).hexdigest()\n",
        "print(result)"
      ],
      "execution_count": 7,
      "outputs": [
        {
          "output_type": "stream",
          "text": [
            "Baekjoon\n",
            "9944e1862efbb2a4e2486392dc6701896416b251eccdecb8332deb7f4cf2a857\n"
          ],
          "name": "stdout"
        }
      ]
    }
  ]
}