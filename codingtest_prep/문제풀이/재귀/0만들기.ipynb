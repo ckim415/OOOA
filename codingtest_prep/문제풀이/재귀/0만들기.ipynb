{
  "nbformat": 4,
  "nbformat_minor": 0,
  "metadata": {
    "colab": {
      "name": "0만들기.ipynb",
      "provenance": [],
      "authorship_tag": "ABX9TyMi8bje/+vmeFsYIUwbKQ9t",
      "include_colab_link": true
    },
    "kernelspec": {
      "name": "python3",
      "display_name": "Python 3"
    },
    "language_info": {
      "name": "python"
    }
  },
  "cells": [
    {
      "cell_type": "markdown",
      "metadata": {
        "id": "view-in-github",
        "colab_type": "text"
      },
      "source": [
        "<a href=\"https://colab.research.google.com/github/ckim415/OOOA/blob/%EB%B6%84%EA%B8%B0%EC%A0%90-(-%EA%B8%B0%EC%A1%B4-%EC%BD%94%EB%93%9C%EC%97%90%EC%84%9C-%EC%83%88%EB%A1%9C-%EC%8B%9C%EC%9E%91)/codingtest_prep/%EB%AC%B8%EC%A0%9C%ED%92%80%EC%9D%B4/%EC%9E%AC%EA%B7%80/0%EB%A7%8C%EB%93%A4%EA%B8%B0.ipynb\" target=\"_parent\"><img src=\"https://colab.research.google.com/assets/colab-badge.svg\" alt=\"Open In Colab\"/></a>"
      ]
    },
    {
      "cell_type": "markdown",
      "metadata": {
        "id": "bz88e92JeV8f"
      },
      "source": [
        "# 0만들기\n",
        "- 백준 : 7490\n"
      ]
    },
    {
      "cell_type": "code",
      "metadata": {
        "id": "5ya8AL4mjeId"
      },
      "source": [
        "import copy"
      ],
      "execution_count": null,
      "outputs": []
    },
    {
      "cell_type": "code",
      "metadata": {
        "id": "GlXwwdzadyNw"
      },
      "source": [
        "def operators(array, n):\n",
        "  if len(array) == n:\n",
        "    operators_list.append(copy.deepcopy(array))\n",
        "    print('return')\n",
        "    return\n",
        "\n",
        "  array.append(' ')\n",
        "  print('wh_append', array)\n",
        "  operators(array, n)\n",
        "  print('wh', array)\n",
        "  array.pop()\n",
        "  print('wh_pop', array)\n",
        "\n",
        "  print('*'*20)\n",
        "  \n",
        "\n",
        "  array.append('+')\n",
        "  print('+_append', array)\n",
        "  operators(array, n)\n",
        "  print('+', array)\n",
        "  array.pop()\n",
        "  print('+_pop', array)\n",
        " \n",
        "  print('*'*20)\n",
        "  \n",
        "\n",
        "  array.append('-')\n",
        "  print('-_append', array)\n",
        "  operators(array, n)\n",
        "  print('-', array)\n",
        "  array.pop()\n",
        "  print('-_pop', array)\n",
        "  print('*'*20)\n",
        "  "
      ],
      "execution_count": null,
      "outputs": []
    },
    {
      "cell_type": "code",
      "metadata": {
        "colab": {
          "base_uri": "https://localhost:8080/"
        },
        "id": "iDmGj3TUj-w3",
        "outputId": "d4c1fcdf-578b-4400-a4e4-cfec68f9ee8f"
      },
      "source": [
        "operators_list = []\n",
        "operators([], 2)"
      ],
      "execution_count": null,
      "outputs": [
        {
          "output_type": "stream",
          "text": [
            "wh_append [' ']\n",
            "wh_append [' ', ' ']\n",
            "return\n",
            "wh [' ', ' ']\n",
            "wh_pop [' ']\n",
            "********************\n",
            "+_append [' ', '+']\n",
            "return\n",
            "+ [' ', '+']\n",
            "+_pop [' ']\n",
            "********************\n",
            "-_append [' ', '-']\n",
            "return\n",
            "- [' ', '-']\n",
            "-_pop [' ']\n",
            "********************\n",
            "wh [' ']\n",
            "wh_pop []\n",
            "********************\n",
            "+_append ['+']\n",
            "wh_append ['+', ' ']\n",
            "return\n",
            "wh ['+', ' ']\n",
            "wh_pop ['+']\n",
            "********************\n",
            "+_append ['+', '+']\n",
            "return\n",
            "+ ['+', '+']\n",
            "+_pop ['+']\n",
            "********************\n",
            "-_append ['+', '-']\n",
            "return\n",
            "- ['+', '-']\n",
            "-_pop ['+']\n",
            "********************\n",
            "+ ['+']\n",
            "+_pop []\n",
            "********************\n",
            "-_append ['-']\n",
            "wh_append ['-', ' ']\n",
            "return\n",
            "wh ['-', ' ']\n",
            "wh_pop ['-']\n",
            "********************\n",
            "+_append ['-', '+']\n",
            "return\n",
            "+ ['-', '+']\n",
            "+_pop ['-']\n",
            "********************\n",
            "-_append ['-', '-']\n",
            "return\n",
            "- ['-', '-']\n",
            "-_pop ['-']\n",
            "********************\n",
            "- ['-']\n",
            "-_pop []\n",
            "********************\n"
          ],
          "name": "stdout"
        }
      ]
    },
    {
      "cell_type": "code",
      "metadata": {
        "colab": {
          "base_uri": "https://localhost:8080/"
        },
        "id": "LUojHKLRkZJJ",
        "outputId": "922e0a33-35d4-4601-bfaa-75557bb825e5"
      },
      "source": [
        "operators_list"
      ],
      "execution_count": null,
      "outputs": [
        {
          "output_type": "execute_result",
          "data": {
            "text/plain": [
              "[[' ', ' '],\n",
              " [' ', '+'],\n",
              " [' ', '-'],\n",
              " ['+', ' '],\n",
              " ['+', '+'],\n",
              " ['+', '-'],\n",
              " ['-', ' '],\n",
              " ['-', '+'],\n",
              " ['-', '-']]"
            ]
          },
          "metadata": {
            "tags": []
          },
          "execution_count": 33
        }
      ]
    },
    {
      "cell_type": "code",
      "metadata": {
        "colab": {
          "base_uri": "https://localhost:8080/"
        },
        "id": "QgS8k3L8pUQ5",
        "outputId": "2f0751a9-0b1d-478b-dee9-82eeaf293312"
      },
      "source": [
        "test_case = int(input())\n",
        "for turn in range(test_case):\n",
        "  n = int(input())\n",
        "  numbers = [i for i in range(1,n+1)]\n",
        "\n",
        "  for operators in operators_list:\n",
        "    string = ''\n",
        "    for i in range(n-1):\n",
        "      string += str(numbers[i]) + operators[i]\n",
        "    string += str(numbers[-1])\n",
        "    if eval(string.replace(' ','')) == 0:\n",
        "      print(string)"
      ],
      "execution_count": null,
      "outputs": [
        {
          "output_type": "stream",
          "text": [
            "1\n",
            "3\n",
            "1+2-3\n"
          ],
          "name": "stdout"
        }
      ]
    },
    {
      "cell_type": "markdown",
      "metadata": {
        "id": "rnp47TXbrCzC"
      },
      "source": [
        "# import copy\n",
        " - shallow copy: original list changes\n",
        " - deepcopy : orginal list that copy from does not change"
      ]
    }
  ]
}