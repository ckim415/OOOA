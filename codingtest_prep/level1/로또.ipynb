{
  "nbformat": 4,
  "nbformat_minor": 0,
  "metadata": {
    "colab": {
      "name": "로또.ipynb",
      "provenance": [],
      "collapsed_sections": [],
      "toc_visible": true,
      "authorship_tag": "ABX9TyPqlXzht/KwGqEPlU8En60f",
      "include_colab_link": true
    },
    "kernelspec": {
      "name": "python3",
      "display_name": "Python 3"
    },
    "language_info": {
      "name": "python"
    }
  },
  "cells": [
    {
      "cell_type": "markdown",
      "metadata": {
        "id": "view-in-github",
        "colab_type": "text"
      },
      "source": [
        "<a href=\"https://colab.research.google.com/github/ckim415/OOOA/blob/%EB%B6%84%EA%B8%B0%EC%A0%90-(-%EA%B8%B0%EC%A1%B4-%EC%BD%94%EB%93%9C%EC%97%90%EC%84%9C-%EC%83%88%EB%A1%9C-%EC%8B%9C%EC%9E%91)/codingtest_prep/level1/%EB%A1%9C%EB%98%90.ipynb\" target=\"_parent\"><img src=\"https://colab.research.google.com/assets/colab-badge.svg\" alt=\"Open In Colab\"/></a>"
      ]
    },
    {
      "cell_type": "markdown",
      "metadata": {
        "id": "3RYiQuq5XFeM"
      },
      "source": [
        "##문제 설명\n",
        "로또 6/45(이하 '로또'로 표기)는 1부터 45까지의 숫자 중 6개를 찍어서 맞히는 대표적인 복권입니다. 아래는 로또의 순위를 정하는 방식입니다. 1\n",
        "\n",
        "순위\t당첨 내용\n",
        "- 1\t6개 번호가 모두 일치\n",
        "- 2\t5개 번호가 일치\n",
        "- 3\t4개 번호가 일치\n",
        "- 4\t3개 번호가 일치\n",
        "- 5\t2개 번호가 일치\n",
        "- 6(낙첨)\t그 외\n",
        "\n",
        "로또를 구매한 민우는 당첨 번호 발표일을 학수고대하고 있었습니다. 하지만, 민우의 동생이 로또에 낙서를 하여, 일부 번호를 알아볼 수 없게 되었습니다. 당첨 번호 발표 후, 민우는 자신이 구매했던 로또로 당첨이 가능했던 최고 순위와 최저 순위를 알아보고 싶어 졌습니다.\n",
        "알아볼 수 없는 번호를 0으로 표기하기로 하고, 민우가 구매한 로또 번호 6개가 44, 1, 0, 0, 31 25라고 가정해보겠습니다. 당첨 번호 6개가 31, 10, 45, 1, 6, 19라면, 당첨 가능한 최고 순위와 최저 순위의 한 예는 아래와 같습니다.\n",
        "\n",
        "당첨 번호\t31\t10\t45\t1\t6\t19\t결과\n",
        "\n",
        "최고 순위 번호\t31\t0→10\t44\t1\t0→6\t25\t4개 번호 일치, 3등\n",
        "\n",
        "최저 순위 번호\t31\t0→11\t44\t1\t0→7\t25\t2개 번호 일치, 5등\n",
        "\n",
        "- 순서와 상관없이, 구매한 로또에 당첨 번호와 일치하는 번호가 있으면 맞힌 걸로 인정됩니다.\n",
        "- 알아볼 수 없는 두 개의 번호를 각각 10, 6이라고 가정하면 3등에 당첨될 수 있습니다.\n",
        "- 3등을 만드는 다른 방법들도 존재합니다. 하지만, 2등 이상으로 만드는 것은 불가능합니다.\n",
        "- 알아볼 수 없는 두 개의 번호를 각각 11, 7이라고 가정하면 5등에 당첨될 수 있습니다.\n",
        "- 5등을 만드는 다른 방법들도 존재합니다. 하지만, 6등(낙첨)으로 만드는 것은 불가능합니다.\n",
        "- 민우가 구매한 로또 번호를 담은 배열 lottos, 당첨 번호를 담은 배열 win_nums가 매개변수로 주어집니다. 이때, 당첨 가능한 최고 순위와 최저 순위를 차례대로 배열에 담아서 return 하도록 solution 함수를 완성해주세요.\n",
        "\n",
        "##제한사항\n",
        "- lottos는 길이 6인 정수 배열입니다.\n",
        "- lottos의 모든 원소는 0 이상 45 이하인 정수입니다.\n",
        "  - 0은 알아볼 수 없는 숫자를 의미합니다.\n",
        "  - 0을 제외한 다른 숫자들은 lottos에 2개 이상 담겨있지 않습니다.\n",
        "  - lottos의 원소들은 정렬되어 있지 않을 수도 있습니다.\n",
        "- win_nums은 길이 6인 정수 배열입니다.\n",
        "- win_nums의 모든 원소는 1 이상 45 이하인 정수입니다.\n",
        "  - win_nums에는 같은 숫자가 2개 이상 담겨있지 않습니다.\n",
        "  - win_nums의 원소들은 정렬되어 있지 않을 수도 있습니다."
      ]
    },
    {
      "cell_type": "markdown",
      "metadata": {
        "id": "GSaVqE1aXnh_"
      },
      "source": [
        "## 내가 생각한 로직\n",
        "- 이미 일치한 숫자가 몇개인지 파악\n",
        "- 0이 몇개 인지 파악\n",
        "- 최고 = 이미 + 0개의 갯수\n",
        "- 최소 = 이미\n",
        "- return 최소, 최고"
      ]
    },
    {
      "cell_type": "markdown",
      "metadata": {
        "id": "vQziBtk2qnoK"
      },
      "source": [
        "### 시도1 - 통과"
      ]
    },
    {
      "cell_type": "code",
      "metadata": {
        "id": "pPlNRPv2XqFy"
      },
      "source": [
        "lottos = [44, 1, 0, 0, 31, 25]\n",
        "win_nums = [31, 10, 45, 1, 6, 19]"
      ],
      "execution_count": 1,
      "outputs": []
    },
    {
      "cell_type": "code",
      "metadata": {
        "id": "StC3t72GYIb3"
      },
      "source": [
        "def solution(lottos, win_nums):\n",
        "  rank = {\n",
        "      6:1,\n",
        "      5:2,\n",
        "      4:3,\n",
        "      3:4,\n",
        "      2:5,\n",
        "      1:6,\n",
        "      0:6\n",
        "  }\n",
        "  match = 0\n",
        "  for i in lottos:\n",
        "    if i in win_nums:\n",
        "      match +=1\n",
        "\n",
        "  zeros = [i for i in lottos if i==0]   #zeros = lottos.count(0)\n",
        "  return [rank[match+len(zeros)], rank[match]] #return [rank[match+zeros], rank[match]]"
      ],
      "execution_count": 4,
      "outputs": []
    },
    {
      "cell_type": "code",
      "metadata": {
        "colab": {
          "base_uri": "https://localhost:8080/"
        },
        "id": "v8mx1F9ZqgUY",
        "outputId": "19a11c2b-b139-4e04-a9bc-d262c1d09434"
      },
      "source": [
        "solution(lottos, win_nums)"
      ],
      "execution_count": 3,
      "outputs": [
        {
          "output_type": "execute_result",
          "data": {
            "text/plain": [
              "[3, 5]"
            ]
          },
          "metadata": {
            "tags": []
          },
          "execution_count": 3
        }
      ]
    },
    {
      "cell_type": "markdown",
      "metadata": {
        "id": "DGIrJwaFqDVf"
      },
      "source": [
        "#### 정확성\n",
        "- 테스트 1 〉\t통과 (0.01ms, 10.3MB)\n",
        "- 테스트 2 〉\t통과 (0.01ms, 10.2MB)\n",
        "- 테스트 3 〉\t통과 (0.01ms, 10.2MB)\n",
        "- 테스트 4 〉\t통과 (0.01ms, 10.2MB)\n",
        "- 테스트 5 〉\t통과 (0.01ms, 10.2MB)\n",
        "- 테스트 6 〉\t통과 (0.01ms, 10.2MB)\n",
        "- 테스트 7 〉\t통과 (0.01ms, 10.2MB)\n",
        "- 테스트 8 〉\t통과 (0.01ms, 10.2MB)\n",
        "- 테스트 9 〉\t통과 (0.01ms, 10.2MB)\n",
        "- 테스트 10 〉\t통과 (0.01ms, 10MB)\n",
        "- 테스트 11 〉\t통과 (0.01ms, 10.2MB)\n",
        "- 테스트 12 〉\t통과 (0.01ms, 10.3MB)\n",
        "- 테스트 13 〉\t통과 (0.01ms, 10.3MB)\n",
        "- 테스트 14 〉\t통과 (0.01ms, 10.2MB)\n",
        "- 테스트 15 〉\t통과 (0.01ms, 10.2MB)"
      ]
    },
    {
      "cell_type": "markdown",
      "metadata": {
        "id": "jkZoAaUurYce"
      },
      "source": [
        "### 시도2\n",
        "내거랑 다른 사람의 풀이랑 합쳐서\n"
      ]
    },
    {
      "cell_type": "markdown",
      "metadata": {
        "id": "Hj36o5-fqrfC"
      },
      "source": [
        "#### 다른사람의 풀이\n",
        "\n",
        "\n",
        "```\n",
        "def solution(lottos, win_nums):\n",
        "\n",
        "    rank=[6,6,5,4,3,2,1]    #리스트의 인덱스를 이용한 방법\n",
        "\n",
        "    cnt_0 = lottos.count(0)  \n",
        "    ans = 0\n",
        "    for x in win_nums:\n",
        "        if x in lottos:\n",
        "            ans += 1\n",
        "    return rank[cnt_0 + ans],rank[ans]\n",
        "```\n",
        "\n"
      ]
    },
    {
      "cell_type": "code",
      "metadata": {
        "id": "t6I4ae3urs36"
      },
      "source": [
        "def solution(lottos, win_nums):\n",
        "  rank = {\n",
        "      6:1,\n",
        "      5:2,\n",
        "      4:3,\n",
        "      3:4,\n",
        "      2:5,\n",
        "      1:6,\n",
        "      0:6\n",
        "  }\n",
        "  match = 0\n",
        "  for i in lottos:\n",
        "    if i in win_nums:\n",
        "      match +=1\n",
        "\n",
        "  zeros = lottos.count(0)\n",
        "  return [rank[match+zeros], rank[match]]"
      ],
      "execution_count": 5,
      "outputs": []
    },
    {
      "cell_type": "markdown",
      "metadata": {
        "id": "Hykqko-1r__q"
      },
      "source": [
        "#### 정확성\n",
        "- 테스트 1 〉\t통과 (0.00ms, 10.2MB)\n",
        "- 테스트 2 〉\t통과 (0.01ms, 10.2MB)\n",
        "- 테스트 3 〉\t통과 (0.00ms, 10.2MB)\n",
        "- 테스트 4 〉\t통과 (0.01ms, 10.2MB)\n",
        "- 테스트 5 〉\t통과 (0.00ms, 10.1MB)\n",
        "- 테스트 6 〉\t통과 (0.00ms, 10.2MB)\n",
        "- 테스트 7 〉\t통과 (0.01ms, 10.2MB)\n",
        "- 테스트 8 〉\t통과 (0.01ms, 10.1MB)\n",
        "- 테스트 9 〉\t통과 (0.01ms, 10.2MB)\n",
        "- 테스트 10 〉\t통과 (0.01ms, 10.3MB)\n",
        "- 테스트 11 〉\t통과 (0.01ms, 10MB)\n",
        "- 테스트 12 〉\t통과 (0.01ms, 10.3MB)\n",
        "- 테스트 13 〉\t통과 (0.01ms, 10.2MB)\n",
        "- 테스트 14 〉\t통과 (0.01ms, 10.2MB)\n",
        "- 테스트 15 〉\t통과 (0.00ms, 10.2MB)"
      ]
    }
  ]
}