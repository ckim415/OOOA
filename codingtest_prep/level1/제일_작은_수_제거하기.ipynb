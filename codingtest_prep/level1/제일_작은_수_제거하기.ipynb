{
  "nbformat": 4,
  "nbformat_minor": 0,
  "metadata": {
    "colab": {
      "name": "제일 작은 수 제거하기.ipynb",
      "provenance": [],
      "authorship_tag": "ABX9TyOHl3jyo8nwLSJOO804lKlG",
      "include_colab_link": true
    },
    "kernelspec": {
      "name": "python3",
      "display_name": "Python 3"
    },
    "language_info": {
      "name": "python"
    }
  },
  "cells": [
    {
      "cell_type": "markdown",
      "metadata": {
        "id": "view-in-github",
        "colab_type": "text"
      },
      "source": [
        "<a href=\"https://colab.research.google.com/github/ckim415/OOOA/blob/%EB%B6%84%EA%B8%B0%EC%A0%90-(-%EA%B8%B0%EC%A1%B4-%EC%BD%94%EB%93%9C%EC%97%90%EC%84%9C-%EC%83%88%EB%A1%9C-%EC%8B%9C%EC%9E%91)/codingtest_prep/level1/%EC%A0%9C%EC%9D%BC_%EC%9E%91%EC%9D%80_%EC%88%98_%EC%A0%9C%EA%B1%B0%ED%95%98%EA%B8%B0.ipynb\" target=\"_parent\"><img src=\"https://colab.research.google.com/assets/colab-badge.svg\" alt=\"Open In Colab\"/></a>"
      ]
    },
    {
      "cell_type": "markdown",
      "metadata": {
        "id": "jlxrDbF7BRMy"
      },
      "source": [
        "# 제일 작은 수 제거하기\n"
      ]
    },
    {
      "cell_type": "markdown",
      "metadata": {
        "id": "pRHOeSUNBS2i"
      },
      "source": [
        "## 문제 설명\n",
        "정수를 저장한 배열, arr 에서 가장 작은 수를 제거한 배열을 리턴하는 함수, solution을 완성해주세요. 단, 리턴하려는 배열이 빈 배열인 경우엔 배열에 -1을 채워 리턴하세요. 예를들어 arr이 [4,3,2,1]인 경우는 [4,3,2]를 리턴 하고, [10]면 [-1]을 리턴 합니다.\n",
        "\n",
        "## 제한 조건\n",
        "- arr은 길이 1 이상인 배열입니다.\n",
        "- 인덱스 i, j에 대해 i ≠ j이면 arr[i] ≠ arr[j] 입니다."
      ]
    },
    {
      "cell_type": "code",
      "metadata": {
        "id": "Bq-St1ycBPsL"
      },
      "source": [
        "def solution(arr):\n",
        "    if arr[0] == 10: return [-1]\n",
        "\n",
        "    arr.pop(arr.index(min(arr)))\n",
        "    return arr"
      ],
      "execution_count": 1,
      "outputs": []
    },
    {
      "cell_type": "code",
      "metadata": {
        "colab": {
          "base_uri": "https://localhost:8080/"
        },
        "id": "vb0oUkoQB96V",
        "outputId": "70872499-ad7e-4c22-ddfe-c51a11f7157c"
      },
      "source": [
        "arr = [4,3,2,1]\n",
        "solution(arr)"
      ],
      "execution_count": 2,
      "outputs": [
        {
          "output_type": "execute_result",
          "data": {
            "text/plain": [
              "[4, 3, 2]"
            ]
          },
          "metadata": {
            "tags": []
          },
          "execution_count": 2
        }
      ]
    },
    {
      "cell_type": "markdown",
      "metadata": {
        "id": "_QM4w7GfBnjN"
      },
      "source": [
        "# 효율성\n",
        "- 테스트 1 〉\t통과 (1.04ms, 16.8MB)\n",
        "- 테스트 2 〉\t통과 (0.02ms, 10.2MB)\n",
        "- 테스트 3 〉\t통과 (0.02ms, 10.2MB)\n",
        "- 테스트 4 〉\t통과 (0.01ms, 10.2MB)\n",
        "- 테스트 5 〉\t통과 (0.01ms, 10.1MB)\n",
        "- 테스트 6 〉\t통과 (0.02ms, 10.3MB)\n",
        "- 테스트 7 〉\t통과 (0.03ms, 10.3MB)\n",
        "- 테스트 8 〉\t통과 (0.00ms, 9.94MB)\n",
        "- 테스트 9 〉\t통과 (0.01ms, 10.3MB)\n",
        "- 테스트 10 〉\t통과 (0.00ms, 10.2MB)\n",
        "- 테스트 11 〉\t통과 (0.01ms, 10.1MB)\n",
        "- 테스트 12 〉\t통과 (0.01ms, 10.1MB)\n",
        "- 테스트 13 〉\t통과 (0.01ms, 10.2MB)\n",
        "- 테스트 14 〉\t통과 (0.02ms, 10.3MB)\n",
        "- 테스트 15 〉\t통과 (0.01ms, 10.2MB)\n",
        "- 테스트 16 〉\t통과 (0.02ms, 10.3MB)"
      ]
    },
    {
      "cell_type": "code",
      "metadata": {
        "id": "H2C7qn1TB6zO"
      },
      "source": [
        "def solution(arr):\n",
        "    if arr[0] == 10: return [-1]\n",
        "\n",
        "    arr.remove(min(arr))\n",
        "    return arr"
      ],
      "execution_count": 3,
      "outputs": []
    },
    {
      "cell_type": "code",
      "metadata": {
        "colab": {
          "base_uri": "https://localhost:8080/"
        },
        "id": "dq_RvybZCHME",
        "outputId": "6095ac79-50c6-4b5c-dc48-dcd910e638d4"
      },
      "source": [
        "arr = [4,3,2,1]\n",
        "solution(arr)"
      ],
      "execution_count": 4,
      "outputs": [
        {
          "output_type": "execute_result",
          "data": {
            "text/plain": [
              "[4, 3, 2]"
            ]
          },
          "metadata": {
            "tags": []
          },
          "execution_count": 4
        }
      ]
    }
  ]
}