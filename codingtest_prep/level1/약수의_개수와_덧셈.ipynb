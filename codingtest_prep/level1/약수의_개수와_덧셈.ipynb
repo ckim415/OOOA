{
  "nbformat": 4,
  "nbformat_minor": 0,
  "metadata": {
    "colab": {
      "name": "약수의 개수와 덧셈.ipynb",
      "provenance": [],
      "authorship_tag": "ABX9TyNif/5DxDnrIz/NwEFlikU3",
      "include_colab_link": true
    },
    "kernelspec": {
      "name": "python3",
      "display_name": "Python 3"
    },
    "language_info": {
      "name": "python"
    }
  },
  "cells": [
    {
      "cell_type": "markdown",
      "metadata": {
        "id": "view-in-github",
        "colab_type": "text"
      },
      "source": [
        "<a href=\"https://colab.research.google.com/github/ckim415/OOOA/blob/%EB%B6%84%EA%B8%B0%EC%A0%90-(-%EA%B8%B0%EC%A1%B4-%EC%BD%94%EB%93%9C%EC%97%90%EC%84%9C-%EC%83%88%EB%A1%9C-%EC%8B%9C%EC%9E%91)/codingtest_prep/level1/%EC%95%BD%EC%88%98%EC%9D%98_%EA%B0%9C%EC%88%98%EC%99%80_%EB%8D%A7%EC%85%88.ipynb\" target=\"_parent\"><img src=\"https://colab.research.google.com/assets/colab-badge.svg\" alt=\"Open In Colab\"/></a>"
      ]
    },
    {
      "cell_type": "markdown",
      "metadata": {
        "id": "TUx7Yic_JXkn"
      },
      "source": [
        "# 약수의 개수와 덧셈"
      ]
    },
    {
      "cell_type": "markdown",
      "metadata": {
        "id": "vbLsZzgRJbdZ"
      },
      "source": [
        "## 문제설명\n",
        "- 두 정수 left와 right가 매개변수로 주어집니다. left부터 right까지의 모든 수들 중에서, 약수의 개수가 짝수인 수는 더하고, 약수의 개수가 홀수인 수는 뺀 수를 return 하도록 solution 함수를 완성해주세요.\n",
        "\n",
        "## 제한사항\n",
        "- 1 ≤ left ≤ right ≤ 1,000"
      ]
    },
    {
      "cell_type": "code",
      "metadata": {
        "id": "d4352zCKJUWL"
      },
      "source": [
        "#약수의 갯수가 짝수 인지 아닌지\n",
        "n * n = number인지 확인    \n",
        "  - yes : 홀수 0\n",
        "  - no : 짝수 1"
      ],
      "execution_count": null,
      "outputs": []
    },
    {
      "cell_type": "code",
      "metadata": {
        "id": "Z7BBb9C5MPoC"
      },
      "source": [
        "left = 13\n",
        "right = 17"
      ],
      "execution_count": 7,
      "outputs": []
    },
    {
      "cell_type": "code",
      "metadata": {
        "colab": {
          "base_uri": "https://localhost:8080/"
        },
        "id": "mws5eJspKBNj",
        "outputId": "16f0d272-1a25-4f33-dbcb-8ca268186166"
      },
      "source": [
        "answer = 0\n",
        "for n in range(left, right+1):\n",
        "  if int(n**0.5) == n**0.5:\n",
        "    answer -= n\n",
        "\n",
        "  else:\n",
        "    answer += n\n",
        "print(answer)\n",
        "\n"
      ],
      "execution_count": 70,
      "outputs": [
        {
          "output_type": "stream",
          "text": [
            "43\n"
          ],
          "name": "stdout"
        }
      ]
    },
    {
      "cell_type": "markdown",
      "metadata": {
        "id": "d0gBgxTUZ-65"
      },
      "source": [
        "## 성능\n",
        "- 테스트 1 〉\t통과 (0.62ms, 10.2MB)\n",
        "- 테스트 2 〉\t통과 (1.14ms, 10.3MB)\n",
        "- 테스트 3 〉\t통과 (0.69ms, 10.2MB)\n",
        "- 테스트 4 〉\t통과 (0.05ms, 10.2MB)\n",
        "- 테스트 5 〉\t통과 (0.54ms, 10.3MB)\n",
        "- 테스트 6 〉\t통과 (0.07ms, 10.2MB)\n",
        "- 테스트 7 〉\t통과 (0.05ms, 10.2MB)"
      ]
    },
    {
      "cell_type": "markdown",
      "metadata": {
        "id": "_iw_qUJQZ07v"
      },
      "source": [
        ""
      ]
    },
    {
      "cell_type": "code",
      "metadata": {
        "id": "Vc90aVbrYK7l"
      },
      "source": [
        "count =0\n",
        "answer = []\n",
        "for n in range(left, right+1):\n",
        "  for i in range(1,n+1):\n",
        "    if n%i == 0:\n",
        "      count += 1\n",
        "\n",
        "  if count % 2 == 0:\n",
        "    answer.append('+'+ str(n))\n",
        "  else:\n",
        "    answer.append('-' + str(n))\n",
        "\n",
        "  count = 0\n"
      ],
      "execution_count": 67,
      "outputs": []
    },
    {
      "cell_type": "markdown",
      "metadata": {
        "id": "d6JzfmnuZu1G"
      },
      "source": [
        "## 성능\n",
        "- 테스트 1 〉\t통과 (23.35ms, 10.4MB)\n",
        "- 테스트 2 〉\t통과 (4.15ms, 10.3MB)\n",
        "- 테스트 3 〉\t통과 (4.74ms, 10.3MB)\n",
        "- 테스트 4 〉\t통과 (2.25ms, 10.1MB)\n",
        "- 테스트 5 〉\t통과 (31.89ms, 10.3MB)\n",
        "- 테스트 6 〉\t통과 (1.62ms, 10.2MB)\n",
        "- 테스트 7 〉\t통과 (0.82ms, 10.2MB)"
      ]
    }
  ]
}