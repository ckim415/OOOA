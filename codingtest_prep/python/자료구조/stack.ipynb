{
  "nbformat": 4,
  "nbformat_minor": 0,
  "metadata": {
    "colab": {
      "name": "stack.ipynb",
      "provenance": [],
      "collapsed_sections": [],
      "authorship_tag": "ABX9TyOY/UGuTV5CK9xCiYe62IIM",
      "include_colab_link": true
    },
    "kernelspec": {
      "name": "python3",
      "display_name": "Python 3"
    },
    "language_info": {
      "name": "python"
    }
  },
  "cells": [
    {
      "cell_type": "markdown",
      "metadata": {
        "id": "view-in-github",
        "colab_type": "text"
      },
      "source": [
        "<a href=\"https://colab.research.google.com/github/ckim415/OOOA/blob/%EB%B6%84%EA%B8%B0%EC%A0%90-(-%EA%B8%B0%EC%A1%B4-%EC%BD%94%EB%93%9C%EC%97%90%EC%84%9C-%EC%83%88%EB%A1%9C-%EC%8B%9C%EC%9E%91)/codingtest_prep/python/%EC%9E%90%EB%A3%8C%EA%B5%AC%EC%A1%B0/stack.ipynb\" target=\"_parent\"><img src=\"https://colab.research.google.com/assets/colab-badge.svg\" alt=\"Open In Colab\"/></a>"
      ]
    },
    {
      "cell_type": "markdown",
      "metadata": {
        "id": "T3f11nu2X6gQ"
      },
      "source": [
        "# 파이썬 리스트 기능에서 제공하는 메서드로 스택 사용해보기\n",
        " - push : append()\n",
        " - pop : pop()"
      ]
    },
    {
      "cell_type": "code",
      "metadata": {
        "colab": {
          "base_uri": "https://localhost:8080/"
        },
        "id": "8OtKoLtDX21q",
        "outputId": "b8764088-2138-4f6e-d213-8c0e3e77db4a"
      },
      "source": [
        "data_stack = []\n",
        "data_stack.append(1)\n",
        "data_stack.append(2)\n",
        "data_stack"
      ],
      "execution_count": 1,
      "outputs": [
        {
          "output_type": "execute_result",
          "data": {
            "text/plain": [
              "[1, 2]"
            ]
          },
          "metadata": {
            "tags": []
          },
          "execution_count": 1
        }
      ]
    },
    {
      "cell_type": "code",
      "metadata": {
        "colab": {
          "base_uri": "https://localhost:8080/"
        },
        "id": "mjUltgAVYQ0c",
        "outputId": "2b5745a8-8692-4355-9857-0431775342b0"
      },
      "source": [
        "data_stack.pop()"
      ],
      "execution_count": 2,
      "outputs": [
        {
          "output_type": "execute_result",
          "data": {
            "text/plain": [
              "2"
            ]
          },
          "metadata": {
            "tags": []
          },
          "execution_count": 2
        }
      ]
    },
    {
      "cell_type": "code",
      "metadata": {
        "colab": {
          "base_uri": "https://localhost:8080/"
        },
        "id": "5tL3pzOxYTOg",
        "outputId": "c5753f2f-98bb-4010-c115-40f81b8bb8ec"
      },
      "source": [
        "data_stack"
      ],
      "execution_count": 3,
      "outputs": [
        {
          "output_type": "execute_result",
          "data": {
            "text/plain": [
              "[1]"
            ]
          },
          "metadata": {
            "tags": []
          },
          "execution_count": 3
        }
      ]
    },
    {
      "cell_type": "markdown",
      "metadata": {
        "id": "h5mcIHoVYdf7"
      },
      "source": [
        "# 프로그래밍 연습"
      ]
    },
    {
      "cell_type": "code",
      "metadata": {
        "id": "6SUVKWRZYfoF"
      },
      "source": [
        "stack_list = list()\n",
        "\n",
        "def push(data):\n",
        "  stack_list.append(data)\n",
        "\n",
        "def pop():\n",
        "  data = stack_list[-1]\n",
        "  del stack_list[-1]\n",
        "  return data\n"
      ],
      "execution_count": 8,
      "outputs": []
    },
    {
      "cell_type": "code",
      "metadata": {
        "id": "iyJPUUDDZAZg"
      },
      "source": [
        "for index in range(10):\n",
        "  push(index)"
      ],
      "execution_count": 9,
      "outputs": []
    },
    {
      "cell_type": "code",
      "metadata": {
        "colab": {
          "base_uri": "https://localhost:8080/"
        },
        "id": "XQa2BdPAZGry",
        "outputId": "45e4ffdc-2ac1-4d31-9576-4414e7b33db9"
      },
      "source": [
        "pop()"
      ],
      "execution_count": 10,
      "outputs": [
        {
          "output_type": "execute_result",
          "data": {
            "text/plain": [
              "9"
            ]
          },
          "metadata": {
            "tags": []
          },
          "execution_count": 10
        }
      ]
    }
  ]
}