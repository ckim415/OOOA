{
  "nbformat": 4,
  "nbformat_minor": 0,
  "metadata": {
    "colab": {
      "name": "algorithm.ipynb",
      "provenance": [],
      "authorship_tag": "ABX9TyMf3AEgkBP0TzePFMUXffmp",
      "include_colab_link": true
    },
    "kernelspec": {
      "name": "python3",
      "display_name": "Python 3"
    },
    "language_info": {
      "name": "python"
    }
  },
  "cells": [
    {
      "cell_type": "markdown",
      "metadata": {
        "id": "view-in-github",
        "colab_type": "text"
      },
      "source": [
        "<a href=\"https://colab.research.google.com/github/ckim415/OOOA/blob/%EB%B6%84%EA%B8%B0%EC%A0%90-(-%EA%B8%B0%EC%A1%B4-%EC%BD%94%EB%93%9C%EC%97%90%EC%84%9C-%EC%83%88%EB%A1%9C-%EC%8B%9C%EC%9E%91)/codingtest_prep/python/%EC%9E%90%EB%A3%8C%EA%B5%AC%EC%A1%B0/algorithm.ipynb\" target=\"_parent\"><img src=\"https://colab.research.google.com/assets/colab-badge.svg\" alt=\"Open In Colab\"/></a>"
      ]
    },
    {
      "cell_type": "markdown",
      "metadata": {
        "id": "QnIDT-uwOz7l"
      },
      "source": [
        "#예시\n",
        "- 1 부터 n 까지의 합을 구하는 알고리즘"
      ]
    },
    {
      "cell_type": "code",
      "metadata": {
        "id": "NLAJ5XHEOrC9"
      },
      "source": [
        "#1\n",
        "def sum_all(n):\n",
        "  total = 0\n",
        "  for i in range(1, n+1):\n",
        "    total += i\n",
        "  return total"
      ],
      "execution_count": 1,
      "outputs": []
    },
    {
      "cell_type": "code",
      "metadata": {
        "colab": {
          "base_uri": "https://localhost:8080/"
        },
        "id": "An5l9N01PKU6",
        "outputId": "5ea61015-3e30-48ba-8888-e86e3a398019"
      },
      "source": [
        "sum_all(5)"
      ],
      "execution_count": 2,
      "outputs": [
        {
          "output_type": "execute_result",
          "data": {
            "text/plain": [
              "15"
            ]
          },
          "metadata": {
            "tags": []
          },
          "execution_count": 2
        }
      ]
    },
    {
      "cell_type": "code",
      "metadata": {
        "id": "aMIeHfWLPWZZ"
      },
      "source": [
        "#2\n",
        "def sum_all2(n):\n",
        "  return int(n*(n+1)/2)"
      ],
      "execution_count": 6,
      "outputs": []
    },
    {
      "cell_type": "code",
      "metadata": {
        "colab": {
          "base_uri": "https://localhost:8080/"
        },
        "id": "BH_ZH-Y5PZuz",
        "outputId": "4f453b4b-9553-4749-c1e1-113c7e0a7b78"
      },
      "source": [
        "sum_all2(5)"
      ],
      "execution_count": 7,
      "outputs": [
        {
          "output_type": "execute_result",
          "data": {
            "text/plain": [
              "15"
            ]
          },
          "metadata": {
            "tags": []
          },
          "execution_count": 7
        }
      ]
    },
    {
      "cell_type": "markdown",
      "metadata": {
        "id": "Jt-kGVSxPtrX"
      },
      "source": [
        "## 시간복잡도\n",
        "- sum_all() : O(n)\n",
        "- sum_all2() : O(1)\n"
      ]
    },
    {
      "cell_type": "code",
      "metadata": {
        "id": "z8BG5dy2P36X"
      },
      "source": [
        ""
      ],
      "execution_count": null,
      "outputs": []
    }
  ]
}