{
  "nbformat": 4,
  "nbformat_minor": 0,
  "metadata": {
    "colab": {
      "name": "recomendation_system_flask.ipynb",
      "provenance": [],
      "authorship_tag": "ABX9TyM/rFgKScwObJ+lXK4euH9K",
      "include_colab_link": true
    },
    "kernelspec": {
      "name": "python3",
      "display_name": "Python 3"
    },
    "language_info": {
      "name": "python"
    }
  },
  "cells": [
    {
      "cell_type": "markdown",
      "metadata": {
        "id": "view-in-github",
        "colab_type": "text"
      },
      "source": [
        "<a href=\"https://colab.research.google.com/github/ckim415/OOOA/blob/main/recomendation_system_flask.ipynb\" target=\"_parent\"><img src=\"https://colab.research.google.com/assets/colab-badge.svg\" alt=\"Open In Colab\"/></a>"
      ]
    },
    {
      "cell_type": "code",
      "metadata": {
        "colab": {
          "base_uri": "https://localhost:8080/"
        },
        "id": "Qdh_uD8kE5kI",
        "outputId": "ace37014-3d8b-4277-ba7b-fb082a770fb8"
      },
      "source": [
        "# 구글드라이브 연동\n",
        "from google.colab import drive\n",
        "drive.mount('/gdrive', force_remount=True)\n",
        "\n",
        "# 구글 드라이브 파일 확인\n",
        "!ls '/gdrive/My Drive/프로젝트2'\n",
        "\n",
        "# 반복되는 드라이브 경로 변수화\n",
        "drive_path = '/gdrive/My Drive/프로젝트2/'"
      ],
      "execution_count": 1,
      "outputs": [
        {
          "output_type": "stream",
          "text": [
            "Mounted at /gdrive\n",
            " 6144_link.csv\t\t       타이틀전처리.ipynb\n",
            " archive.zip\t\t       kobert.csv\n",
            " base_20000.txt\t\t       kogpt2.csv\n",
            "'추천시스템 by 타이틀.ipynb'   kogpt2.csv.txt\n",
            " cate.csv\t\t       kogpt2_try.ipynb\n",
            " cate_keyword.csv\t       kogpt2_wadiz.ipynb\n",
            " concat_df.csv\t\t       recomendation_system_flask.ipynb\n",
            " crawling_final.ipynb\t       text_process.h5\n",
            " df_added.csv\t\t       title.txt\n",
            " df_nouns_add.csv\t       tokenizer.pickle\n",
            " df_pos.csv\t\t       try_kobert.ipynb\n",
            " df_reco_system.csv\t       Untitled0.ipynb\n",
            " edu_link_df\t\t       Untitled1.ipynb\n",
            " game_df.csv\t\t       Untitled2.ipynb\n",
            " home.csv\t\t       wadizlauncher.tgz\n",
            "'프로젝트 데이터 분석.ipynb'\n"
          ],
          "name": "stdout"
        }
      ]
    },
    {
      "cell_type": "code",
      "metadata": {
        "colab": {
          "base_uri": "https://localhost:8080/"
        },
        "id": "U3WTLsPcFSVO",
        "outputId": "33752c4b-300e-4aa5-8c56-1861923f9a22"
      },
      "source": [
        "!pip install konlpy wordcloud"
      ],
      "execution_count": 2,
      "outputs": [
        {
          "output_type": "stream",
          "text": [
            "Collecting konlpy\n",
            "\u001b[?25l  Downloading https://files.pythonhosted.org/packages/85/0e/f385566fec837c0b83f216b2da65db9997b35dd675e107752005b7d392b1/konlpy-0.5.2-py2.py3-none-any.whl (19.4MB)\n",
            "\u001b[K     |████████████████████████████████| 19.4MB 1.5MB/s \n",
            "\u001b[?25hRequirement already satisfied: wordcloud in /usr/local/lib/python3.7/dist-packages (1.5.0)\n",
            "Collecting colorama\n",
            "  Downloading https://files.pythonhosted.org/packages/44/98/5b86278fbbf250d239ae0ecb724f8572af1c91f4a11edf4d36a206189440/colorama-0.4.4-py2.py3-none-any.whl\n",
            "Collecting beautifulsoup4==4.6.0\n",
            "\u001b[?25l  Downloading https://files.pythonhosted.org/packages/9e/d4/10f46e5cfac773e22707237bfcd51bbffeaf0a576b0a847ec7ab15bd7ace/beautifulsoup4-4.6.0-py3-none-any.whl (86kB)\n",
            "\u001b[K     |████████████████████████████████| 92kB 8.2MB/s \n",
            "\u001b[?25hRequirement already satisfied: numpy>=1.6 in /usr/local/lib/python3.7/dist-packages (from konlpy) (1.19.5)\n",
            "Requirement already satisfied: tweepy>=3.7.0 in /usr/local/lib/python3.7/dist-packages (from konlpy) (3.10.0)\n",
            "Collecting JPype1>=0.7.0\n",
            "\u001b[?25l  Downloading https://files.pythonhosted.org/packages/cd/a5/9781e2ef4ca92d09912c4794642c1653aea7607f473e156cf4d423a881a1/JPype1-1.2.1-cp37-cp37m-manylinux2010_x86_64.whl (457kB)\n",
            "\u001b[K     |████████████████████████████████| 460kB 25.6MB/s \n",
            "\u001b[?25hRequirement already satisfied: lxml>=4.1.0 in /usr/local/lib/python3.7/dist-packages (from konlpy) (4.2.6)\n",
            "Requirement already satisfied: pillow in /usr/local/lib/python3.7/dist-packages (from wordcloud) (7.1.2)\n",
            "Requirement already satisfied: requests-oauthlib>=0.7.0 in /usr/local/lib/python3.7/dist-packages (from tweepy>=3.7.0->konlpy) (1.3.0)\n",
            "Requirement already satisfied: requests[socks]>=2.11.1 in /usr/local/lib/python3.7/dist-packages (from tweepy>=3.7.0->konlpy) (2.23.0)\n",
            "Requirement already satisfied: six>=1.10.0 in /usr/local/lib/python3.7/dist-packages (from tweepy>=3.7.0->konlpy) (1.15.0)\n",
            "Requirement already satisfied: typing-extensions; python_version < \"3.8\" in /usr/local/lib/python3.7/dist-packages (from JPype1>=0.7.0->konlpy) (3.7.4.3)\n",
            "Requirement already satisfied: oauthlib>=3.0.0 in /usr/local/lib/python3.7/dist-packages (from requests-oauthlib>=0.7.0->tweepy>=3.7.0->konlpy) (3.1.0)\n",
            "Requirement already satisfied: urllib3!=1.25.0,!=1.25.1,<1.26,>=1.21.1 in /usr/local/lib/python3.7/dist-packages (from requests[socks]>=2.11.1->tweepy>=3.7.0->konlpy) (1.24.3)\n",
            "Requirement already satisfied: idna<3,>=2.5 in /usr/local/lib/python3.7/dist-packages (from requests[socks]>=2.11.1->tweepy>=3.7.0->konlpy) (2.10)\n",
            "Requirement already satisfied: certifi>=2017.4.17 in /usr/local/lib/python3.7/dist-packages (from requests[socks]>=2.11.1->tweepy>=3.7.0->konlpy) (2020.12.5)\n",
            "Requirement already satisfied: chardet<4,>=3.0.2 in /usr/local/lib/python3.7/dist-packages (from requests[socks]>=2.11.1->tweepy>=3.7.0->konlpy) (3.0.4)\n",
            "Requirement already satisfied: PySocks!=1.5.7,>=1.5.6; extra == \"socks\" in /usr/local/lib/python3.7/dist-packages (from requests[socks]>=2.11.1->tweepy>=3.7.0->konlpy) (1.7.1)\n",
            "Installing collected packages: colorama, beautifulsoup4, JPype1, konlpy\n",
            "  Found existing installation: beautifulsoup4 4.6.3\n",
            "    Uninstalling beautifulsoup4-4.6.3:\n",
            "      Successfully uninstalled beautifulsoup4-4.6.3\n",
            "Successfully installed JPype1-1.2.1 beautifulsoup4-4.6.0 colorama-0.4.4 konlpy-0.5.2\n"
          ],
          "name": "stdout"
        }
      ]
    },
    {
      "cell_type": "code",
      "metadata": {
        "colab": {
          "base_uri": "https://localhost:8080/"
        },
        "id": "8j0dQS0yNzA_",
        "outputId": "c67111f1-6c8c-4f09-df80-6e2aa1874621"
      },
      "source": [
        "!pip install krwordrank"
      ],
      "execution_count": 3,
      "outputs": [
        {
          "output_type": "stream",
          "text": [
            "Collecting krwordrank\n",
            "  Downloading https://files.pythonhosted.org/packages/6f/c8/7946b49dabd25a2fd8c258030bbfb21330f4ff1dca29a5eedb50e6882ed5/krwordrank-1.0.3-py3-none-any.whl\n",
            "Requirement already satisfied: scipy>=1.4.1 in /usr/local/lib/python3.7/dist-packages (from krwordrank) (1.4.1)\n",
            "Requirement already satisfied: scikit-learn>=0.22.1 in /usr/local/lib/python3.7/dist-packages (from krwordrank) (0.22.2.post1)\n",
            "Requirement already satisfied: numpy>=1.18.4 in /usr/local/lib/python3.7/dist-packages (from krwordrank) (1.19.5)\n",
            "Requirement already satisfied: joblib>=0.11 in /usr/local/lib/python3.7/dist-packages (from scikit-learn>=0.22.1->krwordrank) (1.0.1)\n",
            "Installing collected packages: krwordrank\n",
            "Successfully installed krwordrank-1.0.3\n"
          ],
          "name": "stdout"
        }
      ]
    },
    {
      "cell_type": "code",
      "metadata": {
        "colab": {
          "base_uri": "https://localhost:8080/"
        },
        "id": "0Qb_1Kh5N_99",
        "outputId": "c70a524b-e444-4da1-898b-d001504f4f91"
      },
      "source": [
        "!pip install flask-ngrok"
      ],
      "execution_count": 8,
      "outputs": [
        {
          "output_type": "stream",
          "text": [
            "Collecting flask-ngrok\n",
            "  Downloading https://files.pythonhosted.org/packages/af/6c/f54cb686ad1129e27d125d182f90f52b32f284e6c8df58c1bae54fa1adbc/flask_ngrok-0.0.25-py3-none-any.whl\n",
            "Requirement already satisfied: requests in /usr/local/lib/python3.7/dist-packages (from flask-ngrok) (2.23.0)\n",
            "Requirement already satisfied: Flask>=0.8 in /usr/local/lib/python3.7/dist-packages (from flask-ngrok) (1.1.2)\n",
            "Requirement already satisfied: chardet<4,>=3.0.2 in /usr/local/lib/python3.7/dist-packages (from requests->flask-ngrok) (3.0.4)\n",
            "Requirement already satisfied: idna<3,>=2.5 in /usr/local/lib/python3.7/dist-packages (from requests->flask-ngrok) (2.10)\n",
            "Requirement already satisfied: urllib3!=1.25.0,!=1.25.1,<1.26,>=1.21.1 in /usr/local/lib/python3.7/dist-packages (from requests->flask-ngrok) (1.24.3)\n",
            "Requirement already satisfied: certifi>=2017.4.17 in /usr/local/lib/python3.7/dist-packages (from requests->flask-ngrok) (2020.12.5)\n",
            "Requirement already satisfied: itsdangerous>=0.24 in /usr/local/lib/python3.7/dist-packages (from Flask>=0.8->flask-ngrok) (2.0.0)\n",
            "Requirement already satisfied: Jinja2>=2.10.1 in /usr/local/lib/python3.7/dist-packages (from Flask>=0.8->flask-ngrok) (2.11.3)\n",
            "Requirement already satisfied: Werkzeug>=0.15 in /usr/local/lib/python3.7/dist-packages (from Flask>=0.8->flask-ngrok) (2.0.0)\n",
            "Requirement already satisfied: click>=5.1 in /usr/local/lib/python3.7/dist-packages (from Flask>=0.8->flask-ngrok) (8.0.0)\n",
            "Requirement already satisfied: MarkupSafe>=0.23 in /usr/local/lib/python3.7/dist-packages (from Jinja2>=2.10.1->Flask>=0.8->flask-ngrok) (2.0.0)\n",
            "Installing collected packages: flask-ngrok\n",
            "Successfully installed flask-ngrok-0.0.25\n"
          ],
          "name": "stdout"
        }
      ]
    },
    {
      "cell_type": "code",
      "metadata": {
        "colab": {
          "base_uri": "https://localhost:8080/"
        },
        "id": "udbV1CRUs6HD",
        "outputId": "09a92819-7694-49db-f54f-136f82a92fee"
      },
      "source": [
        "!pip install emoji"
      ],
      "execution_count": 7,
      "outputs": [
        {
          "output_type": "stream",
          "text": [
            "Collecting emoji\n",
            "\u001b[?25l  Downloading https://files.pythonhosted.org/packages/24/fa/b3368f41b95a286f8d300e323449ab4e86b85334c2e0b477e94422b8ed0f/emoji-1.2.0-py3-none-any.whl (131kB)\n",
            "\r\u001b[K     |██▌                             | 10kB 14.6MB/s eta 0:00:01\r\u001b[K     |█████                           | 20kB 19.9MB/s eta 0:00:01\r\u001b[K     |███████▌                        | 30kB 18.4MB/s eta 0:00:01\r\u001b[K     |██████████                      | 40kB 15.9MB/s eta 0:00:01\r\u001b[K     |████████████▌                   | 51kB 9.1MB/s eta 0:00:01\r\u001b[K     |███████████████                 | 61kB 8.5MB/s eta 0:00:01\r\u001b[K     |█████████████████▌              | 71kB 9.6MB/s eta 0:00:01\r\u001b[K     |████████████████████            | 81kB 9.9MB/s eta 0:00:01\r\u001b[K     |██████████████████████▌         | 92kB 10.1MB/s eta 0:00:01\r\u001b[K     |█████████████████████████       | 102kB 8.4MB/s eta 0:00:01\r\u001b[K     |███████████████████████████▌    | 112kB 8.4MB/s eta 0:00:01\r\u001b[K     |██████████████████████████████  | 122kB 8.4MB/s eta 0:00:01\r\u001b[K     |████████████████████████████████| 133kB 8.4MB/s \n",
            "\u001b[?25hInstalling collected packages: emoji\n",
            "Successfully installed emoji-1.2.0\n"
          ],
          "name": "stdout"
        }
      ]
    },
    {
      "cell_type": "markdown",
      "metadata": {
        "id": "dbAKHgF3r2vs"
      },
      "source": [
        "# 추천 시스템 "
      ]
    },
    {
      "cell_type": "code",
      "metadata": {
        "id": "Tl76MGwrFBD_"
      },
      "source": [
        "import pandas as pd\n",
        "import numpy as np\n",
        "import re\n",
        "from string import punctuation\n",
        "from konlpy.tag import Kkma, Hannanum, Komoran, Mecab, Okt\n",
        "# from krwordrank.word import KRWordRank\n",
        "# from krwordrank.hangle import normalize\n",
        "from sklearn.feature_extraction.text import CountVectorizer\n",
        "from sklearn.metrics.pairwise import cosine_similarity"
      ],
      "execution_count": 5,
      "outputs": []
    },
    {
      "cell_type": "code",
      "metadata": {
        "id": "H3gkZkW1sZVV"
      },
      "source": [
        "df = pd.read_csv(drive_path + 'concat_df.csv')"
      ],
      "execution_count": 6,
      "outputs": []
    },
    {
      "cell_type": "code",
      "metadata": {
        "colab": {
          "base_uri": "https://localhost:8080/"
        },
        "id": "gvED9JdSsled",
        "outputId": "31aea4c3-bd33-476a-9af0-3de4bebfadf4"
      },
      "source": [
        "df['title'][50:100]"
      ],
      "execution_count": 46,
      "outputs": [
        {
          "output_type": "execute_result",
          "data": {
            "text/plain": [
              "50         3400%앵콜⭐2 in 1 천연향수&여성/남성청결제, 위생·향기\n",
              "51               쏘헤어가 만든 또 하나의 명작! 탈모방지 스칼프 샴푸\n",
              "52    [리뉴얼 앵콜/평점종결] 바쁜아침 하나로-고순도 이데베논 #깨죽크림2.0\n",
              "53         앵콜ㅣ주름 걱정 그만! 비밀은 동백나무꽃추출물? 7초간의 머무름\n",
              "54     [2731%앵콜]완벽한 결과 톤의 비밀, 보르피린앰플395,000ppm\n",
              "55      \"피부장벽개선\" 임상입증!! 피부고민 더 이상 손대지 말고 찌르세요!\n",
              "56                 [1억신화/평점4.9앵콜] 미친발색 글리터 섀도우\n",
              "57        [혁신 트렌디 핸드겔] 에탄올이 들어가 있는데 보습감과 쿨링감도?\n",
              "58    1억 달성 꿀광템| 후기가 인증하는 439%흡수율! 닥터EP의 마지막앵콜\n",
              "59                  아직도 흔들어 써?! 1타 3피 젤리로 뿌려!!\n",
              "60    [후원] 어른도 탐내는 유아용크림, <현's크림>. 아빠가 만드니 다르다\n",
              "61       [앵콜] 냉각기능 더해 모공까지 닫아주는 냉온갈바닉 발키리 아이스킨\n",
              "62                 모든 화학물질로부터 자유로운 청결티슈 'ZERO'\n",
              "63                     24시간 올데이 트러블 케어, 닥터스팟패치\n",
              "64            정말 믿을만한 줄기세포 배양액 화장품을 기다려왔던 당신에게\n",
              "65                 오가닉박스와 함께하는 안전한 화장품을 위한 캠페인\n",
              "66         탈모 관리의 시작, 특허성분과 해초 추출물 첨가된 <캘프샴푸S>\n",
              "67     [1억신화/2차 앵콜 아이크림] 단하루,1캡슐 사용만으로 달라지는 피부\n",
              "68        백화점 화장품, 내용물만 살 수 없을까? 30초 각질케어 필링토너\n",
              "69         다시어터를 구원하다! : 세상 맛있는 신개념 다이어트&쾌변 카페\n",
              "70        마스크 착용 중? 피부 관리 중! 마스크 안에 붙이는 이너마스크팩\n",
              "71                고단한 일상에 잠깐의 힐링, BHINH 테라피 샴푸\n",
              "72     [꽃잎의 아름다움이 피부로 스르륵~] 내일은 더 아름다워지는 블러썸앰플\n",
              "73         성분은 하나, 효과는 강력! 먹지 마세요 제주가 키운 브로콜리.\n",
              "74              화장품 흡수율이 1%밖에 안된다고? 8배는 높아질 걸?\n",
              "75                              시간의 정석 [ 피부편 ]\n",
              "76    펩타이드 듬뿍~주름개선과 함께 영양보습을 원한다면, 바이탈펩 탄력크림!!\n",
              "77    [손톱에여름여름] 진짜 매니큐어로 만들어 편안한 착.붙.핏 [네일스티커]\n",
              "78             T존 부위 유분기 박멸 하루종일 보송하게 내얼굴을 지키자\n",
              "79                  명품 향기를 그대로 선사하는 \"향기의미학\" 향수\n",
              "80      5초 완벽 커버! 대왕 퍼프로 헤어고민 즉각 해결 <에템 헤어시크릿>\n",
              "81           [초순수 수소 이온수 화장품] 907 하이드로젠 엣센 크림.\n",
              "82                               전문가의 탈모솔루션 제안\n",
              "83    [7029%앵콜] 모공청소와 모공수렴을 확실하게! 니들리 데일리 토너패드\n",
              "84     [피부 유난러도 OK] 초민감시대에도 세상 편안한 올데이 마일드 선크림\n",
              "85                                비엘클리닉 화이트닝크림\n",
              "86      <임상 완료> 쌀뜨물처럼 뽀얀데 투명하기까지한 피부, 2주면 완성돼요\n",
              "87     피부농사꾼이 직접 재배한 골드 히비스커스로 경험하는 '콜라겐 스킨케어'\n",
              "88     30년 미용경력 디자이너가 만든 헹굴필요 없는 비에티 힐링 트리트먼트 \n",
              "89    [큐티셀 수애보] 세정?보습?향기?난 하나로 해결해! 내 손은 소중하니까\n",
              "90           [하루 3,300원] 언제 어디서나, 탄력 업 플러스 마스크\n",
              "91      [보습미스트] 끈적임 No! 어디서나 뿌리는 앰플미스트, Dr.라이트\n",
              "92    누적 펀딩 3142%! 향기로 나를 표현하는 가장 완벽한 방법, 쉬폰향수\n",
              "93                       [바나나 치아미백겔] 효과100% 보장\n",
              "94          피부과, 관리실에서만 받던 산소-관리를 나는 집에서 한다.! \n",
              "95     [4.7앵콜] 낮과 밤, 피부컨디션이 달라도 고민 끝! 올인원 스킨케어\n",
              "96      45초 세안 한 번으로 각질, 모공, 피지, 노폐물, 보습까지 싹쓸이\n",
              "97    [와디즈 1위 선크림] 탁월한 무기자차로 업그레이드 #피부야타지마 선크림\n",
              "98    입 안에서 착- 녹이고 잠들면? 콜라겐 수분팡팡! 딥콜라겐도 명품이 있다\n",
              "99          [9,900원 앵콜펀딩] 보습덩어리 피부에너지를 담은 로즈세럼\n",
              "Name: title, dtype: object"
            ]
          },
          "metadata": {
            "tags": []
          },
          "execution_count": 46
        }
      ]
    },
    {
      "cell_type": "code",
      "metadata": {
        "id": "B9e1e5Z7YTXx"
      },
      "source": [
        "#함수화\n",
        "def clean(text):\n",
        "  pattern2 = re.compile(r\"\\d+.?,?\\d+[ㄱ-ㅎ가-힣]+\") # 숫자 ., remove ^\n",
        "  pattern1 = re.compile(r'\\d+%') # 숫자% ^\n",
        "  pattern3 = re.compile(r'\\d+[a-zA-Zㄱ-ㅎ가-힣]+') #숫자 + 문자\n",
        "  pattern4 = re.compile(r'[0-9]') #숫자 제거\n",
        "  pattern5 = re.compile(r'[{}]'.format(re.escape(punctuation))) #punc 제거\n",
        "  pattern6 = re.compile(r'[a-zA-Z]') #영어 제거\n",
        "  pattern7 = re.compile(r'[^ㄱ-ㅎ가-힣_]')\n",
        "  pattern8 = re.compile(r'\\s{2,5}') #띄어쓰기 2개 이상 하나로\n",
        "\n",
        "  text = pattern2.sub('', str(text))\n",
        "  text = pattern1.sub('', text)\n",
        "  text = pattern4.sub('', text)\n",
        "  text = pattern3.sub('', text)\n",
        "  text = pattern5.sub(' ', text)\n",
        "  text = pattern6.sub('', text)\n",
        "  text = pattern7.sub(' ', text)\n",
        "  text = pattern8.sub(' ', text)\n",
        "  return text.strip()"
      ],
      "execution_count": 7,
      "outputs": []
    },
    {
      "cell_type": "code",
      "metadata": {
        "colab": {
          "base_uri": "https://localhost:8080/"
        },
        "id": "uT70Ky7eYiDb",
        "outputId": "e2609db4-881c-4750-c934-daa28678b0c0"
      },
      "source": [
        "df['title_clean'] = df['title'].apply(clean)\n",
        "df['title_clean'][50:100]"
      ],
      "execution_count": 8,
      "outputs": [
        {
          "output_type": "execute_result",
          "data": {
            "text/plain": [
              "50                   앵콜 천연향수 여성 남성청결제 위생 향기\n",
              "51             쏘헤어가 만든 또 하나의 명작 탈모방지 스칼프 샴푸\n",
              "52       리뉴얼 앵콜 평점종결 바쁜아침 하나로 고순도 이데베논 깨죽크림\n",
              "53         앵콜 주름 걱정 그만 비밀은 동백나무꽃추출물 초간의 머무름\n",
              "54                   앵콜 완벽한 결과 톤의 비밀 보르피린앰플\n",
              "55        피부장벽개선 임상입증 피부고민 더 이상 손대지 말고 찌르세요\n",
              "56                      억신화 평점 미친발색 글리터 섀도우\n",
              "57        혁신 트렌디 핸드겔 에탄올이 들어가 있는데 보습감과 쿨링감도\n",
              "58          억 달성 꿀광템 후기가 인증하는 흡수율 닥터의 마지막앵콜\n",
              "59                     아직도 흔들어 써 타 피 젤리로 뿌려\n",
              "60        후원 어른도 탐내는 유아용크림 현 크림 아빠가 만드니 다르다\n",
              "61      앵콜 냉각기능 더해 모공까지 닫아주는 냉온갈바닉 발키리 아이스킨\n",
              "62                     모든 화학물질로부터 자유로운 청결티슈\n",
              "63                        올데이 트러블 케어 닥터스팟패치\n",
              "64         정말 믿을만한 줄기세포 배양액 화장품을 기다려왔던 당신에게\n",
              "65              오가닉박스와 함께하는 안전한 화장품을 위한 캠페인\n",
              "66          탈모 관리의 시작 특허성분과 해초 추출물 첨가된 캘프샴푸\n",
              "67       억신화 차 앵콜 아이크림 단하루 캡슐 사용만으로 달라지는 피부\n",
              "68           백화점 화장품 내용물만 살 수 없을까 각질케어 필링토너\n",
              "69         다시어터를 구원하다 세상 맛있는 신개념 다이어트 쾌변 카페\n",
              "70       마스크 착용 중 피부 관리 중 마스크 안에 붙이는 이너마스크팩\n",
              "71                    고단한 일상에 잠깐의 힐링 테라피 샴푸\n",
              "72     꽃잎의 아름다움이 피부로 스르륵 내일은 더 아름다워지는 블러썸앰플\n",
              "73         성분은 하나 효과는 강력 먹지 마세요 제주가 키운 브로콜리\n",
              "74                화장품 흡수율이 밖에 안된다고 배는 높아질 걸\n",
              "75                               시간의 정석 피부편\n",
              "76    펩타이드 듬뿍 주름개선과 함께 영양보습을 원한다면 바이탈펩 탄력크림\n",
              "77     손톱에여름여름 진짜 매니큐어로 만들어 편안한 착 붙 핏 네일스티커\n",
              "78           존 부위 유분기 박멸 하루종일 보송하게 내얼굴을 지키자\n",
              "79                 명품 향기를 그대로 선사하는 향기의미학 향수\n",
              "80       초 완벽 커버 대왕 퍼프로 헤어고민 즉각 해결 에템 헤어시크릿\n",
              "81               초순수 수소 이온수 화장품 하이드로젠 엣센 크림\n",
              "82                            전문가의 탈모솔루션 제안\n",
              "83         앵콜 모공청소와 모공수렴을 확실하게 니들리 데일리 토너패드\n",
              "84       피부 유난러도 초민감시대에도 세상 편안한 올데이 마일드 선크림\n",
              "85                             비엘클리닉 화이트닝크림\n",
              "86       임상 완료 쌀뜨물처럼 뽀얀데 투명하기까지한 피부 주면 완성돼요\n",
              "87    피부농사꾼이 직접 재배한 골드 히비스커스로 경험하는 콜라겐 스킨케어\n",
              "88       미용경력 디자이너가 만든 헹굴필요 없는 비에티 힐링 트리트먼트\n",
              "89    큐티셀 수애보 세정 보습 향기 난 하나로 해결해 내 손은 소중하니까\n",
              "90                  하루 언제 어디서나 탄력 업 플러스 마스크\n",
              "91             보습미스트 끈적임 어디서나 뿌리는 앰플미스트 라이트\n",
              "92         누적 펀딩 향기로 나를 표현하는 가장 완벽한 방법 쉬폰향수\n",
              "93                          바나나 치아미백겔 효과 보장\n",
              "94           피부과 관리실에서만 받던 산소 관리를 나는 집에서 한다\n",
              "95            낮과 밤 피부컨디션이 달라도 고민 끝 올인원 스킨케어\n",
              "96           세안 한 번으로 각질 모공 피지 노폐물 보습까지 싹쓸이\n",
              "97     와디즈 위 선크림 탁월한 무기자차로 업그레이드 피부야타지마 선크림\n",
              "98    입 안에서 착 녹이고 잠들면 콜라겐 수분팡팡 딥콜라겐도 명품이 있다\n",
              "99                앵콜펀딩 보습덩어리 피부에너지를 담은 로즈세럼\n",
              "Name: title_clean, dtype: object"
            ]
          },
          "metadata": {
            "tags": []
          },
          "execution_count": 8
        }
      ]
    },
    {
      "cell_type": "code",
      "metadata": {
        "id": "82hiFOpdZSCe"
      },
      "source": [
        "def noun(sentence):\n",
        "  kkma = Kkma()\n",
        "  nouns = kkma.nouns(sentence)\n",
        "\n",
        "  return nouns\n",
        "\n",
        "df['nouns'] = df['title_clean'].apply(noun)"
      ],
      "execution_count": 9,
      "outputs": []
    },
    {
      "cell_type": "code",
      "metadata": {
        "colab": {
          "base_uri": "https://localhost:8080/"
        },
        "id": "vfkdtkDuZWGw",
        "outputId": "ee882f99-9969-48b3-dc73-3e9965fa4bf3"
      },
      "source": [
        "df['nouns'][50:100]"
      ],
      "execution_count": 10,
      "outputs": [
        {
          "output_type": "execute_result",
          "data": {
            "text/plain": [
              "50    [앵, 앵콜, 콜, 천연, 천연향수, 향수, 여성, 남성, 남성청결제, 청결제, 위...\n",
              "51                 [쏘헤어, 하나, 명작, 탈모, 탈모방지, 방지, 스칼프, 샴푸]\n",
              "52    [리, 리뉴얼, 뉴, 얼, 앵, 앵콜, 콜, 평점, 평점종결, 종결, 아침, 하나,...\n",
              "53    [앵, 앵콜, 콜, 주름, 걱정, 비밀, 동백나무, 동백나무꽃추출물, 꽃, 추출물,...\n",
              "54      [앵, 앵콜, 콜, 완벽, 결과, 톤, 비밀, 보, 보르피린앰플, 르, 피, 린앰플]\n",
              "55     [피부, 피부장벽개선, 장벽, 개선, 임상, 임상입증, 입증, 피부고민, 고민, 이상]\n",
              "56                              [억, 억신화, 신화, 평점, 발색, 섀]\n",
              "57    [혁신, 트렌, 트렌디, 디, 핸드, 핸드겔, 겔, 에탄올, 있는데, 보습, 보습감...\n",
              "58    [억, 달, 달성, 성, 꿀, 꿀광템, 광, 템, 후, 후기가, 기가, 인증, 흡수...\n",
              "59                                              [피, 젤리]\n",
              "60                              [후원, 어른, 유아, 크림, 현, 아빠]\n",
              "61    [앵, 앵콜, 콜, 냉각, 냉각기능, 기능, 모공, 냉온, 바, 바닉, 닉, 발키리...\n",
              "62                 [모든, 화학, 화학물질, 물질, 자유, 청결, 청결티슈, 티슈]\n",
              "63              [올, 올데이, 데이, 트러블, 케어, 닥터, 닥터스팟패, 스팟, 패]\n",
              "64                         [줄기, 줄기세포, 세포, 배양액, 화장품, 당신]\n",
              "65                                [오가닉박스, 안전, 화장품, 캠페인]\n",
              "66    [탈모, 관리, 시작, 특허, 특허성분, 성분, 해초, 추출물, 첨가, 프, 프샴푸...\n",
              "67    [억, 억신화, 신화, 차, 앵, 앵콜, 콜, 아이, 아이크림, 크림, 단하, 캡슐...\n",
              "68       [백화점, 화장품, 내용물, 수, 각질, 각질케어, 케어, 필링, 필링토너, 토너]\n",
              "69              [시어터, 구원, 세상, 신, 신개념, 개념, 다이어트, 쾌변, 카페]\n",
              "70               [마스크, 착용, 중, 피부, 관리, 안, 이너, 이너마스크팩, 팩]\n",
              "71                         [일상, 잠깐, 힐링, 테라, 테라피, 피, 샴푸]\n",
              "72                               [꽃잎, 아름다움, 피부, 내일, 앰플]\n",
              "73                   [성분, 하나, 효과, 강력, 먹지, 마세, 제주, 브로콜리]\n",
              "74                               [화장품, 흡수율, 밖, 배, 질, 걸]\n",
              "75                                 [시간, 정석, 피부, 피부편, 편]\n",
              "76    [펩타이드, 주름, 주름개선, 개선, 영양, 영양보습, 보습, 바이탈, 바이탈펩, ...\n",
              "77            [손톱, 여름, 여름여름, 매니큐어, 편안, 핏, 일, 일스티커, 스티커]\n",
              "78         [존, 부위, 유, 유분기, 분기, 박멸, 하루, 하루종일, 종일, 내, 얼굴]\n",
              "79                                 [명품, 향기, 선사, 미학, 향수]\n",
              "80     [초, 완벽, 커버, 대왕, 퍼프, 고민, 해결, 템, 헤어, 헤어시크릿, 시크, 릿]\n",
              "81            [순수, 수소, 이온수, 화장품, 하이드로, 하이드로젠, 젠, 엣, 크림]\n",
              "82                            [전문가, 탈모, 탈모솔루션, 솔루션, 제안]\n",
              "83    [앵, 앵콜, 콜, 모공, 모공청소, 청소, 모공수렴, 수렴, 니들, 데일리, 토너...\n",
              "84    [피부, 유난, 유난러, 러, 초민, 초민감시대, 감시대, 세상, 편안, 올, 올데...\n",
              "85                 [비엘, 비엘클리닉, 클리닉, 화이트, 화이트닝크림, 닝, 크림]\n",
              "86                            [임상, 완료, 쌀뜨물, 투명, 피부, 주면]\n",
              "87    [피부, 피부농사꾼, 농사꾼, 재배, 골드, 히비스커스, 경험, 콜라겐, 스킨, 스...\n",
              "88      [미용, 미용경력, 경력, 디자이너, 필요, 비, 티, 힐, 힐링, 링, 트리트먼트]\n",
              "89    [큐, 큐티셀, 티, 셀, 수애, 수애보, 보, 세정, 보습, 향기, 난, 하나, ...\n",
              "90                            [하루, 어디, 탄력, 업, 플러스, 마스크]\n",
              "91     [보습, 보습미스트, 미스트, 끈, 끈적임, 적임, 어디, 앰플, 앰플미스트, 라이트]\n",
              "92         [누적, 펀, 펀딩, 딩, 향기, 표현, 완벽, 방법, 쉬폰, 쉬폰향수, 향수]\n",
              "93                      [바나나, 치아, 치아미백겔, 미백, 겔, 효과, 보장]\n",
              "94                                [피부과, 관리실, 산소, 관리, 집]\n",
              "95     [낮, 밤, 피부, 피부컨디션, 컨디션, 고민, 끝, 올인원, 스킨, 스킨케어, 케어]\n",
              "96                    [세안, 번, 각질, 모공, 피지, 노폐물, 보습, 싹쓸이]\n",
              "97    [와디, 와디즈, 즈, 위, 선, 선크림, 크림, 무, 무기자차로, 기자, 차로, ...\n",
              "98                         [입, 안, 콜라겐, 수분, 딥, 딥콜라겐, 명품]\n",
              "99    [앵, 앵콜펀딩, 콜, 펀, 딩, 보습, 보습덩어리, 덩어리, 피부, 피부에너지, ...\n",
              "Name: nouns, dtype: object"
            ]
          },
          "metadata": {
            "tags": []
          },
          "execution_count": 10
        }
      ]
    },
    {
      "cell_type": "code",
      "metadata": {
        "id": "A7dGikFKVJ2b"
      },
      "source": [
        "df.to_csv(drive_path + 'reco_df.csv')"
      ],
      "execution_count": 11,
      "outputs": []
    },
    {
      "cell_type": "markdown",
      "metadata": {
        "id": "2h_cv_qRgS6B"
      },
      "source": [
        "## 린넨셔츠 비교1\n",
        "- case1"
      ]
    },
    {
      "cell_type": "code",
      "metadata": {
        "colab": {
          "base_uri": "https://localhost:8080/",
          "height": 227
        },
        "id": "LpvsZYgAidwE",
        "outputId": "44d113af-5a70-48f8-bd21-3ec065719a20"
      },
      "source": [
        "def find_title(df, noun, top_n=10):\n",
        "  noun = '린넨셔츠'\n",
        "  df['in_nouns_literal'] = df['nouns'].apply(lambda x: True if noun in x else False)\n",
        "  df['in_nouns_literal'].value_counts()\n",
        "  title_index = df[df['in_nouns_literal'] == True].index.values\n",
        "  new_df = df.iloc[title_index][['categories','title','funding_amounts','likes']]\n",
        "\n",
        "  new_df = new_df[new_df['categories']==new_df['categories'].value_counts().index[0] ]\n",
        "\n",
        "  C = new_df['funding_amounts'].mean()\n",
        "  m = new_df['likes'].quantile(0.6)\n",
        "  C, m\n",
        "\n",
        "  def weighted_funding_average(record):\n",
        "    v = record['likes']\n",
        "    R = record['funding_amounts']\n",
        "    return ( (v/(v+m)) * R ) + ((m/(v+m)) * C)\n",
        "\n",
        "  new_df['weighted_funding'] = new_df.apply(weighted_funding_average, axis=1)\n",
        "  new_df['weighted_funding'] = new_df['weighted_funding'].apply(lambda x: round(x,2))\n",
        "  return new_df.sort_values('weighted_funding', ascending=False)[:top_n]"
      ],
      "execution_count": 96,
      "outputs": [
        {
          "output_type": "execute_result",
          "data": {
            "text/html": [
              "<div>\n",
              "<style scoped>\n",
              "    .dataframe tbody tr th:only-of-type {\n",
              "        vertical-align: middle;\n",
              "    }\n",
              "\n",
              "    .dataframe tbody tr th {\n",
              "        vertical-align: top;\n",
              "    }\n",
              "\n",
              "    .dataframe thead th {\n",
              "        text-align: right;\n",
              "    }\n",
              "</style>\n",
              "<table border=\"1\" class=\"dataframe\">\n",
              "  <thead>\n",
              "    <tr style=\"text-align: right;\">\n",
              "      <th></th>\n",
              "      <th>categories</th>\n",
              "      <th>title</th>\n",
              "      <th>funding_amounts</th>\n",
              "      <th>likes</th>\n",
              "      <th>weighted_funding</th>\n",
              "    </tr>\n",
              "  </thead>\n",
              "  <tbody>\n",
              "    <tr>\n",
              "      <th>13941</th>\n",
              "      <td>패션·잡화</td>\n",
              "      <td>검증된 21번째 펀딩ㅣ여름의 품격, 입을수록 부드러운 벨지움 린넨셔츠</td>\n",
              "      <td>15287000</td>\n",
              "      <td>120</td>\n",
              "      <td>11931063.61</td>\n",
              "    </tr>\n",
              "    <tr>\n",
              "      <th>14426</th>\n",
              "      <td>패션·잡화</td>\n",
              "      <td>정직한 가격, 최상급 소재의 린넨셔츠</td>\n",
              "      <td>10883000</td>\n",
              "      <td>60</td>\n",
              "      <td>8507562.25</td>\n",
              "    </tr>\n",
              "    <tr>\n",
              "      <th>14044</th>\n",
              "      <td>패션·잡화</td>\n",
              "      <td>덥고 땀나는 여름에 탁월한 선택 냄새제거 린넨셔츠</td>\n",
              "      <td>7071000</td>\n",
              "      <td>108</td>\n",
              "      <td>6889763.41</td>\n",
              "    </tr>\n",
              "    <tr>\n",
              "      <th>17040</th>\n",
              "      <td>패션·잡화</td>\n",
              "      <td>[셔츠의정석 4탄] 린넨셔츠는 왜 여름에만? 4계절 입는 오픈카라 셔츠!</td>\n",
              "      <td>1253000</td>\n",
              "      <td>11</td>\n",
              "      <td>5952085.82</td>\n",
              "    </tr>\n",
              "    <tr>\n",
              "      <th>17594</th>\n",
              "      <td>패션·잡화</td>\n",
              "      <td>골라입는 즐거움, 6개의 사이즈 8개 색상으로 무장한 #린넨셔츠</td>\n",
              "      <td>1887300</td>\n",
              "      <td>34</td>\n",
              "      <td>5165606.06</td>\n",
              "    </tr>\n",
              "    <tr>\n",
              "      <th>16457</th>\n",
              "      <td>패션·잡화</td>\n",
              "      <td>[앵콜] 한여름을 책임질 환경 친화적 린넨셔츠를 2만원 초반대에 입자!!</td>\n",
              "      <td>3412000</td>\n",
              "      <td>76</td>\n",
              "      <td>5022108.33</td>\n",
              "    </tr>\n",
              "  </tbody>\n",
              "</table>\n",
              "</div>"
            ],
            "text/plain": [
              "      categories  ... weighted_funding\n",
              "13941      패션·잡화  ...      11931063.61\n",
              "14426      패션·잡화  ...       8507562.25\n",
              "14044      패션·잡화  ...       6889763.41\n",
              "17040      패션·잡화  ...       5952085.82\n",
              "17594      패션·잡화  ...       5165606.06\n",
              "16457      패션·잡화  ...       5022108.33\n",
              "\n",
              "[6 rows x 5 columns]"
            ]
          },
          "metadata": {
            "tags": []
          },
          "execution_count": 96
        }
      ]
    },
    {
      "cell_type": "markdown",
      "metadata": {
        "id": "JrlZp8fwmd4s"
      },
      "source": [
        "## 결과\n",
        "- 1번이 반복되지 않고 깔끔하게 나온다."
      ]
    },
    {
      "cell_type": "code",
      "metadata": {
        "id": "r4JhqUx-mUbk"
      },
      "source": [
        ""
      ],
      "execution_count": null,
      "outputs": []
    },
    {
      "cell_type": "markdown",
      "metadata": {
        "id": "7inCOmLCge2v"
      },
      "source": [
        "## 린넨셔츠 비교2"
      ]
    },
    {
      "cell_type": "code",
      "metadata": {
        "colab": {
          "base_uri": "https://localhost:8080/"
        },
        "id": "BfkwqREDhwvI",
        "outputId": "0d8898b5-8951-43de-d68d-97e107bed6c1"
      },
      "source": [
        "df['nouns_literal'] = df['nouns'].apply( lambda x : (' ').join(x))\n",
        "#형변환 \n",
        "df['nouns_literal'] = df['nouns_literal'].astype('str')\n",
        "df['nouns_literal']"
      ],
      "execution_count": 66,
      "outputs": [
        {
          "output_type": "execute_result",
          "data": {
            "text/plain": [
              "0                       와디 와디즈 즈 최초 딸 엄마 주름 주름개선 개선 만능 크림\n",
              "1        앵 앵콜 콜 하루 수분 수분증가 증가 임상 임상검증 검증 완료 바 바닉마스크 닉 마스크\n",
              "2                             유명 피부과 공급 시크 시크릿 릿 포뮬러 프로그램\n",
              "3                    두피 관리 핵심 유 유분량 분량 균형 솔 모닝 나이트 밸런스 샴푸\n",
              "4                                  컨디셔너 필요 샴푸 하나 두피 모발 건강\n",
              "                               ...                       \n",
              "21475                         히트 히트패드 패드 출근길 핸들 전기 핫 핫팩 팩\n",
              "21476       무선 에어 에어펌프 펌프 자동차 오토바이 오토바이공기압 공기압 자전거 튜브 축구공\n",
              "21477                       나 반응 반응형 형 웹 웹페이지 페이지 제작 실크로드\n",
              "21478                        웨어 웨어러 러 공기 공기청정기 청정기 전동 마스크\n",
              "21479                                                  시계\n",
              "Name: nouns_literal, Length: 21480, dtype: object"
            ]
          },
          "metadata": {
            "tags": []
          },
          "execution_count": 66
        }
      ]
    },
    {
      "cell_type": "code",
      "metadata": {
        "id": "koWsY_Wwh-2V"
      },
      "source": [
        "count_vect = CountVectorizer(min_df=0, ngram_range=(1,2))           \n",
        "nouns_mat = count_vect.fit_transform( df['nouns_literal'] )\n",
        "nouns_mat.shape\n",
        "\n",
        "# 코사인 유사도 계산계산\n",
        "nouns_sim = cosine_similarity(nouns_mat, nouns_mat)\n",
        "\n",
        "# 유사도가 높은 순으로 정리된 genre_sim 객체의 비교 행 위치 인덱스 값\n",
        "nouns_sim_sorted_ind = nouns_sim.argsort()[:, ::-1]\n",
        "nouns_sim_sorted_ind[:1]\n"
      ],
      "execution_count": null,
      "outputs": []
    },
    {
      "cell_type": "code",
      "metadata": {
        "id": "lppUpzk7GCaK"
      },
      "source": [
        "\n",
        "def find_sim_title(df, sorted_ind, noun, top_n=10):\n",
        "  df['in_nouns_literal'] = df['nouns'].apply(lambda x: True if noun in x else False)\n",
        "  title_index = df[df['in_nouns_literal'] == True].index.values\n",
        "  sim_indexs = sorted_ind[title_index, :(top_n)]\n",
        "  sim_indexs = sim_indexs.reshape(-1)\n",
        "  new_df = df.iloc[sim_indexs]\n",
        "  new_df = new_df[new_df['categories']==new_df['categories'].value_counts().index[0] ]\n",
        "\n",
        "  C = new_df['funding_amounts'].mean()\n",
        "  m = new_df['likes'].quantile(0.6)\n",
        "  C, m\n",
        "\n",
        "  def weighted_funding_average(record):\n",
        "    v = record['likes']\n",
        "    R = record['funding_amounts']\n",
        "    return ( (v/(v+m)) * R ) + ((m/(v+m)) * C)\n",
        "\n",
        "  new_df['weighted_funding'] = new_df.apply(weighted_funding_average, axis=1)\n",
        "  new_df['weighted_funding'] = new_df['weighted_funding'].apply(lambda x: round(x,2))\n",
        "\n",
        "  return new_df.sort_values('weighted_funding', ascending=False)[:top_n]"
      ],
      "execution_count": 80,
      "outputs": []
    },
    {
      "cell_type": "code",
      "metadata": {
        "colab": {
          "base_uri": "https://localhost:8080/",
          "height": 347
        },
        "id": "SRjvqc50aw4o",
        "outputId": "04493106-195b-401b-962d-748dc0b58544"
      },
      "source": [
        "sim_title = find_sim_title(df, nouns_sim_sorted_ind, '린넨셔츠')\n",
        "sim_title[['title','categories','funding_amounts','n_supporters']]"
      ],
      "execution_count": 97,
      "outputs": [
        {
          "output_type": "execute_result",
          "data": {
            "text/html": [
              "<div>\n",
              "<style scoped>\n",
              "    .dataframe tbody tr th:only-of-type {\n",
              "        vertical-align: middle;\n",
              "    }\n",
              "\n",
              "    .dataframe tbody tr th {\n",
              "        vertical-align: top;\n",
              "    }\n",
              "\n",
              "    .dataframe thead th {\n",
              "        text-align: right;\n",
              "    }\n",
              "</style>\n",
              "<table border=\"1\" class=\"dataframe\">\n",
              "  <thead>\n",
              "    <tr style=\"text-align: right;\">\n",
              "      <th></th>\n",
              "      <th>title</th>\n",
              "      <th>categories</th>\n",
              "      <th>funding_amounts</th>\n",
              "      <th>n_supporters</th>\n",
              "    </tr>\n",
              "  </thead>\n",
              "  <tbody>\n",
              "    <tr>\n",
              "      <th>13103</th>\n",
              "      <td>[벌써 22번째 펀딩] 여름의 시원한 품격, 벨지움 린넨 셔츠</td>\n",
              "      <td>패션·잡화</td>\n",
              "      <td>40461500</td>\n",
              "      <td>316</td>\n",
              "    </tr>\n",
              "    <tr>\n",
              "      <th>13103</th>\n",
              "      <td>[벌써 22번째 펀딩] 여름의 시원한 품격, 벨지움 린넨 셔츠</td>\n",
              "      <td>패션·잡화</td>\n",
              "      <td>40461500</td>\n",
              "      <td>316</td>\n",
              "    </tr>\n",
              "    <tr>\n",
              "      <th>12882</th>\n",
              "      <td>[검증된 20번째 펀딩] 여름의 품격, 프리 다잉 벨지움 린넨 셔츠</td>\n",
              "      <td>패션·잡화</td>\n",
              "      <td>33527000</td>\n",
              "      <td>242</td>\n",
              "    </tr>\n",
              "    <tr>\n",
              "      <th>13645</th>\n",
              "      <td>[앵콜] 20번째 펀딩 l 여름의 시원한 품격, 벨지움 린넨 셔츠</td>\n",
              "      <td>패션·잡화</td>\n",
              "      <td>20224100</td>\n",
              "      <td>144</td>\n",
              "    </tr>\n",
              "    <tr>\n",
              "      <th>12515</th>\n",
              "      <td>[앵콜] 여름대비 6만원으로 끝! 자외선차단, 닿는 순간 쿨한 쿨스킨점퍼</td>\n",
              "      <td>패션·잡화</td>\n",
              "      <td>17107500</td>\n",
              "      <td>214</td>\n",
              "    </tr>\n",
              "    <tr>\n",
              "      <th>13941</th>\n",
              "      <td>검증된 21번째 펀딩ㅣ여름의 품격, 입을수록 부드러운 벨지움 린넨셔츠</td>\n",
              "      <td>패션·잡화</td>\n",
              "      <td>15287000</td>\n",
              "      <td>120</td>\n",
              "    </tr>\n",
              "    <tr>\n",
              "      <th>13941</th>\n",
              "      <td>검증된 21번째 펀딩ㅣ여름의 품격, 입을수록 부드러운 벨지움 린넨셔츠</td>\n",
              "      <td>패션·잡화</td>\n",
              "      <td>15287000</td>\n",
              "      <td>120</td>\n",
              "    </tr>\n",
              "    <tr>\n",
              "      <th>13941</th>\n",
              "      <td>검증된 21번째 펀딩ㅣ여름의 품격, 입을수록 부드러운 벨지움 린넨셔츠</td>\n",
              "      <td>패션·잡화</td>\n",
              "      <td>15287000</td>\n",
              "      <td>120</td>\n",
              "    </tr>\n",
              "    <tr>\n",
              "      <th>13941</th>\n",
              "      <td>검증된 21번째 펀딩ㅣ여름의 품격, 입을수록 부드러운 벨지움 린넨셔츠</td>\n",
              "      <td>패션·잡화</td>\n",
              "      <td>15287000</td>\n",
              "      <td>120</td>\n",
              "    </tr>\n",
              "    <tr>\n",
              "      <th>13941</th>\n",
              "      <td>검증된 21번째 펀딩ㅣ여름의 품격, 입을수록 부드러운 벨지움 린넨셔츠</td>\n",
              "      <td>패션·잡화</td>\n",
              "      <td>15287000</td>\n",
              "      <td>120</td>\n",
              "    </tr>\n",
              "  </tbody>\n",
              "</table>\n",
              "</div>"
            ],
            "text/plain": [
              "                                          title  ... n_supporters\n",
              "13103        [벌써 22번째 펀딩] 여름의 시원한 품격, 벨지움 린넨 셔츠  ...          316\n",
              "13103        [벌써 22번째 펀딩] 여름의 시원한 품격, 벨지움 린넨 셔츠  ...          316\n",
              "12882     [검증된 20번째 펀딩] 여름의 품격, 프리 다잉 벨지움 린넨 셔츠  ...          242\n",
              "13645      [앵콜] 20번째 펀딩 l 여름의 시원한 품격, 벨지움 린넨 셔츠  ...          144\n",
              "12515  [앵콜] 여름대비 6만원으로 끝! 자외선차단, 닿는 순간 쿨한 쿨스킨점퍼  ...          214\n",
              "13941    검증된 21번째 펀딩ㅣ여름의 품격, 입을수록 부드러운 벨지움 린넨셔츠  ...          120\n",
              "13941    검증된 21번째 펀딩ㅣ여름의 품격, 입을수록 부드러운 벨지움 린넨셔츠  ...          120\n",
              "13941    검증된 21번째 펀딩ㅣ여름의 품격, 입을수록 부드러운 벨지움 린넨셔츠  ...          120\n",
              "13941    검증된 21번째 펀딩ㅣ여름의 품격, 입을수록 부드러운 벨지움 린넨셔츠  ...          120\n",
              "13941    검증된 21번째 펀딩ㅣ여름의 품격, 입을수록 부드러운 벨지움 린넨셔츠  ...          120\n",
              "\n",
              "[10 rows x 4 columns]"
            ]
          },
          "metadata": {
            "tags": []
          },
          "execution_count": 97
        }
      ]
    },
    {
      "cell_type": "markdown",
      "metadata": {
        "id": "b7WXkGKJrxh6"
      },
      "source": [
        "# flask"
      ]
    },
    {
      "cell_type": "code",
      "metadata": {
        "colab": {
          "base_uri": "https://localhost:8080/"
        },
        "id": "U_QpLivaNgy1",
        "outputId": "37a84b77-b194-4654-cf8a-e8293def1f73"
      },
      "source": [
        "\n",
        "from flask import Flask,request, url_for, render_template\n",
        "import numpy as np\n",
        "import random\n",
        "import datetime\n",
        "from krwordrank.word import KRWordRank\n",
        "from krwordrank.hangle import normalize\n",
        "from konlpy.tag import Kkma, Hannanum, Komoran, Mecab, Okt\n",
        "import re\n",
        "from string import punctuation\n",
        "from tensorflow.keras.models import load_model\n",
        "from keras.preprocessing.text import Tokenizer\n",
        "from tensorflow.keras.preprocessing.sequence import pad_sequences\n",
        "from flask_ngrok import run_with_ngrok\n",
        "import tensorflow as tf\n",
        "import pickle\n",
        "\n",
        "app = Flask(__name__)\n",
        "run_with_ngrok(app)  # 코랩일 경우 필요함.\n",
        "\n",
        "\n",
        "model = load_model(drive_path + 'text_process.h5')\n",
        "# loading\n",
        "with open(drive_path + 'tokenizer.pickle', 'rb') as handle:\n",
        "    tokenizer = pickle.load(handle)\n",
        "\n",
        "\n",
        "@app.route(\"/\", methods=['GET', 'POST'])\n",
        "def index():\n",
        "    if request.method == 'GET':\n",
        "      return render_template('index.html')\n",
        "    if request.method == 'POST':\n",
        "\n",
        "      # 파라미터를 전달 받습니다. 입력 데이터로 받은 값이 X_data에 담김. \n",
        "      X_data = str(request.form['X_data'])\n",
        "      \n",
        "      # 단어 전처리 과정을 거쳐야겠지? // 안해도됨\n",
        "      # X_data = keyword(X_data)\n",
        "      # X_data = noun(X_data)\n",
        "\n",
        "      token = Tokenizer()\n",
        "\n",
        "      # 문자열 정수 인덱스 리스트 출력\n",
        "      \n",
        "      # sequence의 길이를 20으로 통일. 제일 긴 단어 갯수가 20이라서.\n",
        "      sequences = token.texts_to_sequences(X_data)\n",
        "      padding_length = 10\n",
        "      x_padded = pad_sequences(sequences, padding_length)\n",
        "\n",
        "      prediction_value = format(model.predict(x_padded)[0][0]*100, \".2f\")\n",
        "      print('------>', prediction_value)\n",
        "\n",
        "      return render_template('index.html', prediction_value= prediction_value)\n",
        "if __name__ == '__main__':    \n",
        "  app.run()"
      ],
      "execution_count": 17,
      "outputs": [
        {
          "output_type": "stream",
          "text": [
            " * Serving Flask app \"__main__\" (lazy loading)\n",
            " * Environment: production\n",
            "\u001b[31m   WARNING: This is a development server. Do not use it in a production deployment.\u001b[0m\n",
            "\u001b[2m   Use a production WSGI server instead.\u001b[0m\n",
            " * Debug mode: off\n"
          ],
          "name": "stdout"
        },
        {
          "output_type": "stream",
          "text": [
            " * Running on http://127.0.0.1:5000/ (Press CTRL+C to quit)\n"
          ],
          "name": "stderr"
        },
        {
          "output_type": "stream",
          "text": [
            " * Running on http://714dab335108.ngrok.io\n",
            " * Traffic stats available on http://127.0.0.1:4040\n"
          ],
          "name": "stdout"
        },
        {
          "output_type": "stream",
          "text": [
            "[2021-05-21 14:10:52,581] ERROR in app: Exception on / [GET]\n",
            "Traceback (most recent call last):\n",
            "  File \"/usr/local/lib/python3.7/dist-packages/flask/app.py\", line 2447, in wsgi_app\n",
            "    response = self.full_dispatch_request()\n",
            "  File \"/usr/local/lib/python3.7/dist-packages/flask/app.py\", line 1952, in full_dispatch_request\n",
            "    rv = self.handle_user_exception(e)\n",
            "  File \"/usr/local/lib/python3.7/dist-packages/flask/app.py\", line 1821, in handle_user_exception\n",
            "    reraise(exc_type, exc_value, tb)\n",
            "  File \"/usr/local/lib/python3.7/dist-packages/flask/_compat.py\", line 39, in reraise\n",
            "    raise value\n",
            "  File \"/usr/local/lib/python3.7/dist-packages/flask/app.py\", line 1950, in full_dispatch_request\n",
            "    rv = self.dispatch_request()\n",
            "  File \"/usr/local/lib/python3.7/dist-packages/flask/app.py\", line 1936, in dispatch_request\n",
            "    return self.view_functions[rule.endpoint](**req.view_args)\n",
            "  File \"<ipython-input-17-edca2af70c6b>\", line 31, in index\n",
            "    return render_template('index.html')\n",
            "  File \"/usr/local/lib/python3.7/dist-packages/flask/templating.py\", line 138, in render_template\n",
            "    ctx.app.jinja_env.get_or_select_template(template_name_or_list),\n",
            "  File \"/usr/local/lib/python3.7/dist-packages/jinja2/environment.py\", line 930, in get_or_select_template\n",
            "    return self.get_template(template_name_or_list, parent, globals)\n",
            "  File \"/usr/local/lib/python3.7/dist-packages/jinja2/environment.py\", line 883, in get_template\n",
            "    return self._load_template(name, self.make_globals(globals))\n",
            "  File \"/usr/local/lib/python3.7/dist-packages/jinja2/environment.py\", line 857, in _load_template\n",
            "    template = self.loader.load(self, name, globals)\n",
            "  File \"/usr/local/lib/python3.7/dist-packages/jinja2/loaders.py\", line 115, in load\n",
            "    source, filename, uptodate = self.get_source(environment, name)\n",
            "  File \"/usr/local/lib/python3.7/dist-packages/flask/templating.py\", line 60, in get_source\n",
            "    return self._get_source_fast(environment, template)\n",
            "  File \"/usr/local/lib/python3.7/dist-packages/flask/templating.py\", line 89, in _get_source_fast\n",
            "    raise TemplateNotFound(template)\n",
            "jinja2.exceptions.TemplateNotFound: index.html\n",
            "127.0.0.1 - - [21/May/2021 14:10:52] \"GET / HTTP/1.1\" 500 -\n",
            "127.0.0.1 - - [21/May/2021 14:10:52] \"GET /favicon.ico HTTP/1.1\" 404 -\n"
          ],
          "name": "stderr"
        }
      ]
    }
  ]
}